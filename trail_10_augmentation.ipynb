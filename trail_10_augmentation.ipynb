{
  "nbformat": 4,
  "nbformat_minor": 0,
  "metadata": {
    "colab": {
      "name": "trail_10_augmentation.ipynb",
      "version": "0.3.2",
      "provenance": [],
      "collapsed_sections": [
        "eHnoL6b4P2uw",
        "ywFnbu3eP5nW",
        "3GrsWQAAdftZ"
      ]
    },
    "kernelspec": {
      "name": "python3",
      "display_name": "Python 3"
    },
    "accelerator": "GPU"
  },
  "cells": [
    {
      "cell_type": "markdown",
      "metadata": {
        "id": "3Haq2PI9sBZ4",
        "colab_type": "text"
      },
      "source": [
        "implementation:\n",
        "\n",
        "*   https://www.kaggle.com/daisukelab/cnn-2d-basic-solution-powered-by-fast-ai\n",
        "*   https://www.kaggle.com/mhiro2/simple-2d-cnn-classifier-with-pytorch"
      ]
    },
    {
      "cell_type": "markdown",
      "metadata": {
        "id": "eHnoL6b4P2uw",
        "colab_type": "text"
      },
      "source": [
        "### Downloading dataset"
      ]
    },
    {
      "cell_type": "code",
      "metadata": {
        "id": "Z4fj8QJuPXUJ",
        "colab_type": "code",
        "outputId": "f16417d9-db68-4978-cb70-88e2f54a9042",
        "colab": {
          "base_uri": "https://localhost:8080/",
          "height": 224
        }
      },
      "source": [
        "!wget --header=\"Host: storage.googleapis.com\" --header=\"User-Agent: Mozilla/5.0 (Windows NT 6.1) AppleWebKit/537.36 (KHTML, like Gecko) Chrome/74.0.3729.131 Safari/537.36\" --header=\"Accept: text/html,application/xhtml+xml,application/xml;q=0.9,image/webp,image/apng,*/*;q=0.8,application/signed-exchange;v=b3\" --header=\"Accept-Language: en-US,en;q=0.9\" --header=\"Referer: https://www.kaggle.com/\" \"https://storage.googleapis.com/kaggle-competitions-data/kaggle/10700/371136/sample_submission.csv?GoogleAccessId=web-data@kaggle-161607.iam.gserviceaccount.com&Expires=1557838167&Signature=MIzEcS1L3DIuogUv42vVpG8nkgbUAKG%2F0JjhqwoGd%2B6%2FgM1xqKYdcwu%2Bxcs39PNnbSAj5QNu5NHD5uwCqkaH5yM30eGVIoC0uXybB5p4IqpAhrnOWN33sJ8QATG8SYFGe73B%2Bv%2Bseow2TmJ7OWp9EBX%2BwYW3vQHVXZkaeMoo7epIldBSoBr%2FdG%2FwHdSsyy%2FeXm8LU7BOEq6A1jBCdtejriZdioSYsPVUn1W9jwjgrYQo4KykapKtrYwG4ztysgB9GrqPpv0RIi%2FHSXypZo%2FqUeknTUyy2CdZsmmfb3TjRFuAiDNfX5kzuhcsqwpbHieVdjnW%2Fwu%2BnUdFCp6m6YWlPA%3D%3D\" -O \"sample_submission.csv\" -c"
      ],
      "execution_count": 0,
      "outputs": [
        {
          "output_type": "stream",
          "text": [
            "--2019-05-13 12:39:57--  https://storage.googleapis.com/kaggle-competitions-data/kaggle/10700/371136/sample_submission.csv?GoogleAccessId=web-data@kaggle-161607.iam.gserviceaccount.com&Expires=1557838167&Signature=MIzEcS1L3DIuogUv42vVpG8nkgbUAKG%2F0JjhqwoGd%2B6%2FgM1xqKYdcwu%2Bxcs39PNnbSAj5QNu5NHD5uwCqkaH5yM30eGVIoC0uXybB5p4IqpAhrnOWN33sJ8QATG8SYFGe73B%2Bv%2Bseow2TmJ7OWp9EBX%2BwYW3vQHVXZkaeMoo7epIldBSoBr%2FdG%2FwHdSsyy%2FeXm8LU7BOEq6A1jBCdtejriZdioSYsPVUn1W9jwjgrYQo4KykapKtrYwG4ztysgB9GrqPpv0RIi%2FHSXypZo%2FqUeknTUyy2CdZsmmfb3TjRFuAiDNfX5kzuhcsqwpbHieVdjnW%2Fwu%2BnUdFCp6m6YWlPA%3D%3D\n",
            "Resolving storage.googleapis.com (storage.googleapis.com)... 172.217.212.128, 2607:f8b0:4001:c11::80\n",
            "Connecting to storage.googleapis.com (storage.googleapis.com)|172.217.212.128|:443... connected.\n",
            "HTTP request sent, awaiting response... 200 OK\n",
            "Length: 194835 (190K) [text/csv]\n",
            "Saving to: ‘sample_submission.csv’\n",
            "\n",
            "\rsample_submission.c   0%[                    ]       0  --.-KB/s               \rsample_submission.c 100%[===================>] 190.27K  --.-KB/s    in 0.002s  \n",
            "\n",
            "2019-05-13 12:39:58 (108 MB/s) - ‘sample_submission.csv’ saved [194835/194835]\n",
            "\n"
          ],
          "name": "stdout"
        }
      ]
    },
    {
      "cell_type": "code",
      "metadata": {
        "id": "t0mlUkNgPm3a",
        "colab_type": "code",
        "outputId": "b6abcec7-a3d8-4793-ba34-0998651f255e",
        "colab": {
          "base_uri": "https://localhost:8080/",
          "height": 224
        }
      },
      "source": [
        "!wget --header=\"Host: storage.googleapis.com\" --header=\"User-Agent: Mozilla/5.0 (Windows NT 6.1) AppleWebKit/537.36 (KHTML, like Gecko) Chrome/74.0.3729.131 Safari/537.36\" --header=\"Accept: text/html,application/xhtml+xml,application/xml;q=0.9,image/webp,image/apng,*/*;q=0.8,application/signed-exchange;v=b3\" --header=\"Accept-Language: en-US,en;q=0.9\" --header=\"Referer: https://www.kaggle.com/\" \"https://storage.googleapis.com/kaggle-competitions-data/kaggle/10700/371136/train_curated.csv?GoogleAccessId=web-data@kaggle-161607.iam.gserviceaccount.com&Expires=1557838179&Signature=NTKEVQouLiWV9DqV1TRCfqzo4Llvj18R7R0epMmR2n%2F18ghJrfBOOBxE%2FyeIcWlD21sSgNI1FZ%2F4Chh3xdQYhunL8XqAJdKYke50w9PiV4GxeJjSppJyqrzOAXUkjMcHp5GrJG5I%2FQT6e%2FRjC4WgQ5Q3F73XhxpfF7kgy%2B%2FH5epJuia1mzjfqutt8TeXHWtxfJrW%2FGrBQsMrd%2Ba%2FMbcgn9f8B4RkBvUtmQ%2B7wuoqD25F68UBe2%2Br6yz%2B12KPT1zHdY%2FwaUoL7IF5Je5rEbmeKyPWMOi32P4S1F82zIi8Lp%2Bwyqp1CVQqiXCCahYkHxfgnMVHJZmOloLmsgg397Bm%2FA%3D%3D\" -O \"train_curated.csv\" -c"
      ],
      "execution_count": 0,
      "outputs": [
        {
          "output_type": "stream",
          "text": [
            "--2019-05-13 12:40:00--  https://storage.googleapis.com/kaggle-competitions-data/kaggle/10700/371136/train_curated.csv?GoogleAccessId=web-data@kaggle-161607.iam.gserviceaccount.com&Expires=1557838179&Signature=NTKEVQouLiWV9DqV1TRCfqzo4Llvj18R7R0epMmR2n%2F18ghJrfBOOBxE%2FyeIcWlD21sSgNI1FZ%2F4Chh3xdQYhunL8XqAJdKYke50w9PiV4GxeJjSppJyqrzOAXUkjMcHp5GrJG5I%2FQT6e%2FRjC4WgQ5Q3F73XhxpfF7kgy%2B%2FH5epJuia1mzjfqutt8TeXHWtxfJrW%2FGrBQsMrd%2Ba%2FMbcgn9f8B4RkBvUtmQ%2B7wuoqD25F68UBe2%2Br6yz%2B12KPT1zHdY%2FwaUoL7IF5Je5rEbmeKyPWMOi32P4S1F82zIi8Lp%2Bwyqp1CVQqiXCCahYkHxfgnMVHJZmOloLmsgg397Bm%2FA%3D%3D\n",
            "Resolving storage.googleapis.com (storage.googleapis.com)... 172.217.212.128, 2607:f8b0:4001:c03::80\n",
            "Connecting to storage.googleapis.com (storage.googleapis.com)|172.217.212.128|:443... connected.\n",
            "HTTP request sent, awaiting response... 200 OK\n",
            "Length: 143137 (140K) [text/csv]\n",
            "Saving to: ‘train_curated.csv’\n",
            "\n",
            "\rtrain_curated.csv     0%[                    ]       0  --.-KB/s               \rtrain_curated.csv   100%[===================>] 139.78K  --.-KB/s    in 0.001s  \n",
            "\n",
            "2019-05-13 12:40:00 (127 MB/s) - ‘train_curated.csv’ saved [143137/143137]\n",
            "\n"
          ],
          "name": "stdout"
        }
      ]
    },
    {
      "cell_type": "code",
      "metadata": {
        "id": "RTXMdoKhPqb9",
        "colab_type": "code",
        "outputId": "76fc0acf-9902-4dd9-cfe7-28fac8b40981",
        "colab": {
          "base_uri": "https://localhost:8080/",
          "height": 224
        }
      },
      "source": [
        "!wget --header=\"Host: storage.googleapis.com\" --header=\"User-Agent: Mozilla/5.0 (Windows NT 6.1) AppleWebKit/537.36 (KHTML, like Gecko) Chrome/74.0.3729.131 Safari/537.36\" --header=\"Accept: text/html,application/xhtml+xml,application/xml;q=0.9,image/webp,image/apng,*/*;q=0.8,application/signed-exchange;v=b3\" --header=\"Accept-Language: en-US,en;q=0.9\" --header=\"Referer: https://www.kaggle.com/\" \"https://storage.googleapis.com/kaggle-competitions-data/kaggle/10700/371136/train_noisy.csv?GoogleAccessId=web-data@kaggle-161607.iam.gserviceaccount.com&Expires=1557838190&Signature=KvC%2FRXp2k6LrlPOcVtvyFDyOYMV2jJN7cLP35sjEdBHzgSZ4GAoZn3m1Oj%2BamVpz39bA%2FeKrvfkEBCoSy%2Bt2o2kJEitQ5mLeJwi7bwiN3y0mwycFWO6rDoW7SpvoHe%2F1%2BPcpAA31vfd0Itc3H1Tgh7zdt7MU6HwtA0oqZO0a7AZMTP64qmHGKDyStPPR6uI9XsPPgLIT5GsA3%2FMDa%2FQpXVe25i7jHmocmYkvXKt5TeovWLiifnHZMFolCNap0DTSq0bceGLaEZ%2BDPGbPRKLAGtc4dTXhwkomD3J79k3lz1%2BKSa13pJ5aLJSi5uIiPUGMkQSPoRweQB7RvJO3vDGcBw%3D%3D\" -O \"train_noisy.csv\" -c"
      ],
      "execution_count": 0,
      "outputs": [
        {
          "output_type": "stream",
          "text": [
            "--2019-05-13 12:40:03--  https://storage.googleapis.com/kaggle-competitions-data/kaggle/10700/371136/train_noisy.csv?GoogleAccessId=web-data@kaggle-161607.iam.gserviceaccount.com&Expires=1557838190&Signature=KvC%2FRXp2k6LrlPOcVtvyFDyOYMV2jJN7cLP35sjEdBHzgSZ4GAoZn3m1Oj%2BamVpz39bA%2FeKrvfkEBCoSy%2Bt2o2kJEitQ5mLeJwi7bwiN3y0mwycFWO6rDoW7SpvoHe%2F1%2BPcpAA31vfd0Itc3H1Tgh7zdt7MU6HwtA0oqZO0a7AZMTP64qmHGKDyStPPR6uI9XsPPgLIT5GsA3%2FMDa%2FQpXVe25i7jHmocmYkvXKt5TeovWLiifnHZMFolCNap0DTSq0bceGLaEZ%2BDPGbPRKLAGtc4dTXhwkomD3J79k3lz1%2BKSa13pJ5aLJSi5uIiPUGMkQSPoRweQB7RvJO3vDGcBw%3D%3D\n",
            "Resolving storage.googleapis.com (storage.googleapis.com)... 172.217.212.128, 2607:f8b0:4001:c03::80\n",
            "Connecting to storage.googleapis.com (storage.googleapis.com)|172.217.212.128|:443... connected.\n",
            "HTTP request sent, awaiting response... 200 OK\n",
            "Length: 584806 (571K) [text/csv]\n",
            "Saving to: ‘train_noisy.csv’\n",
            "\n",
            "\rtrain_noisy.csv       0%[                    ]       0  --.-KB/s               \rtrain_noisy.csv     100%[===================>] 571.10K  --.-KB/s    in 0.005s  \n",
            "\n",
            "2019-05-13 12:40:03 (120 MB/s) - ‘train_noisy.csv’ saved [584806/584806]\n",
            "\n"
          ],
          "name": "stdout"
        }
      ]
    },
    {
      "cell_type": "code",
      "metadata": {
        "id": "I75LDMVcPs52",
        "colab_type": "code",
        "outputId": "459bee60-7d3c-443a-e84a-88af349db1d7",
        "colab": {
          "base_uri": "https://localhost:8080/",
          "height": 224
        }
      },
      "source": [
        "!wget --header=\"Host: storage.googleapis.com\" --header=\"User-Agent: Mozilla/5.0 (Windows NT 6.1) AppleWebKit/537.36 (KHTML, like Gecko) Chrome/74.0.3729.131 Safari/537.36\" --header=\"Accept: text/html,application/xhtml+xml,application/xml;q=0.9,image/webp,image/apng,*/*;q=0.8,application/signed-exchange;v=b3\" --header=\"Accept-Language: en-US,en;q=0.9\" --header=\"Referer: https://www.kaggle.com/\" \"https://storage.googleapis.com/kaggle-competitions-data/kaggle/10700/371136/test.zip?GoogleAccessId=web-data@kaggle-161607.iam.gserviceaccount.com&Expires=1557838202&Signature=LrJ5DBITMPNEATLqU%2Fsmo0%2BxQUa%2FcNDuix8iYhHKb8QpAIdBm1xyc4btf2SRlOrU1DdI9bFuZodE59A1EYhu4EtNY2a61MiKjvsQEJwnMnDwChlIVSMPVkvnNnRgJOsyOFxXYnsFtLtfSrMvmlUdOaoy9S1IAXlUOVIvL2tSuBPXy1%2B9LtfyKAj1SCpRF3zOUG54Ku0JeeendbCPDTJn2pcS2Ff%2Fgpk%2BulxQDItQHe782njoohESv3x1FmwYi8oxe2P%2F9SZg1LBh5YHa2rTlSFm9m5CrqA5Qs7vDT%2BnxTuKHo2MvYfFSBrTnVRKzdu1TIyyc%2BjUhum4OxSnWVlTisg%3D%3D\" -O \"test.zip\" -c"
      ],
      "execution_count": 0,
      "outputs": [
        {
          "output_type": "stream",
          "text": [
            "--2019-05-13 12:40:05--  https://storage.googleapis.com/kaggle-competitions-data/kaggle/10700/371136/test.zip?GoogleAccessId=web-data@kaggle-161607.iam.gserviceaccount.com&Expires=1557838202&Signature=LrJ5DBITMPNEATLqU%2Fsmo0%2BxQUa%2FcNDuix8iYhHKb8QpAIdBm1xyc4btf2SRlOrU1DdI9bFuZodE59A1EYhu4EtNY2a61MiKjvsQEJwnMnDwChlIVSMPVkvnNnRgJOsyOFxXYnsFtLtfSrMvmlUdOaoy9S1IAXlUOVIvL2tSuBPXy1%2B9LtfyKAj1SCpRF3zOUG54Ku0JeeendbCPDTJn2pcS2Ff%2Fgpk%2BulxQDItQHe782njoohESv3x1FmwYi8oxe2P%2F9SZg1LBh5YHa2rTlSFm9m5CrqA5Qs7vDT%2BnxTuKHo2MvYfFSBrTnVRKzdu1TIyyc%2BjUhum4OxSnWVlTisg%3D%3D\n",
            "Resolving storage.googleapis.com (storage.googleapis.com)... 74.125.124.128, 2607:f8b0:4001:c07::80\n",
            "Connecting to storage.googleapis.com (storage.googleapis.com)|74.125.124.128|:443... connected.\n",
            "HTTP request sent, awaiting response... 200 OK\n",
            "Length: 698756070 (666M) [application/zip]\n",
            "Saving to: ‘test.zip’\n",
            "\n",
            "test.zip            100%[===================>] 666.38M   122MB/s    in 5.5s    \n",
            "\n",
            "2019-05-13 12:40:11 (122 MB/s) - ‘test.zip’ saved [698756070/698756070]\n",
            "\n"
          ],
          "name": "stdout"
        }
      ]
    },
    {
      "cell_type": "code",
      "metadata": {
        "id": "doLUxbxlPyes",
        "colab_type": "code",
        "outputId": "08ca7501-a16f-4540-89c0-69cddd7dda2a",
        "colab": {
          "base_uri": "https://localhost:8080/",
          "height": 224
        }
      },
      "source": [
        "!wget --header=\"Host: storage.googleapis.com\" --header=\"User-Agent: Mozilla/5.0 (Windows NT 6.1) AppleWebKit/537.36 (KHTML, like Gecko) Chrome/74.0.3729.131 Safari/537.36\" --header=\"Accept: text/html,application/xhtml+xml,application/xml;q=0.9,image/webp,image/apng,*/*;q=0.8,application/signed-exchange;v=b3\" --header=\"Accept-Language: en-US,en;q=0.9\" --header=\"Referer: https://www.kaggle.com/\" \"https://storage.googleapis.com/kaggle-competitions-data/kaggle/10700/371136/train_curated.zip?GoogleAccessId=web-data@kaggle-161607.iam.gserviceaccount.com&Expires=1557838236&Signature=WFaCAuPlSqPhLfYykFnGOS4Ok92xbcHQmYdO9%2Bsv4WRMzcbnWXIR6p6i8Ow%2BX6t%2FSRWsACKVLIAtXqEjS7f13Iy3sWaw5g38aAWFxjndPl0tP35KQ69OppbNcXbtW49VmyCDNunPUfN48EuULZKg1aaB2SPTTLLKpnLJcBfCUUckd21PcczhgFq11RRDNlqBOSFWv1OrPk2Wz%2BisgOOyGzq3vj6fqBE6ZFVwMovY3gyjq7jzqIzSgcBdhMFlAPDYBCPWfqriB%2BjNF8GSBij1I9w3%2BrvkSHJoKKMKNiGp9HQIxJBzWXt3qUIboqhoGQKv%2FQaIJLhOjYTIf2xrYQ3maA%3D%3D\" -O \"train_curated.zip\" -c"
      ],
      "execution_count": 0,
      "outputs": [
        {
          "output_type": "stream",
          "text": [
            "--2019-05-13 12:40:13--  https://storage.googleapis.com/kaggle-competitions-data/kaggle/10700/371136/train_curated.zip?GoogleAccessId=web-data@kaggle-161607.iam.gserviceaccount.com&Expires=1557838236&Signature=WFaCAuPlSqPhLfYykFnGOS4Ok92xbcHQmYdO9%2Bsv4WRMzcbnWXIR6p6i8Ow%2BX6t%2FSRWsACKVLIAtXqEjS7f13Iy3sWaw5g38aAWFxjndPl0tP35KQ69OppbNcXbtW49VmyCDNunPUfN48EuULZKg1aaB2SPTTLLKpnLJcBfCUUckd21PcczhgFq11RRDNlqBOSFWv1OrPk2Wz%2BisgOOyGzq3vj6fqBE6ZFVwMovY3gyjq7jzqIzSgcBdhMFlAPDYBCPWfqriB%2BjNF8GSBij1I9w3%2BrvkSHJoKKMKNiGp9HQIxJBzWXt3qUIboqhoGQKv%2FQaIJLhOjYTIf2xrYQ3maA%3D%3D\n",
            "Resolving storage.googleapis.com (storage.googleapis.com)... 108.177.111.128, 2607:f8b0:4001:c03::80\n",
            "Connecting to storage.googleapis.com (storage.googleapis.com)|108.177.111.128|:443... connected.\n",
            "HTTP request sent, awaiting response... 200 OK\n",
            "Length: 2406491583 (2.2G) [application/zip]\n",
            "Saving to: ‘train_curated.zip’\n",
            "\n",
            "train_curated.zip   100%[===================>]   2.24G   128MB/s    in 16s     \n",
            "\n",
            "2019-05-13 12:40:29 (142 MB/s) - ‘train_curated.zip’ saved [2406491583/2406491583]\n",
            "\n"
          ],
          "name": "stdout"
        }
      ]
    },
    {
      "cell_type": "code",
      "metadata": {
        "id": "5aNnA16iPy_T",
        "colab_type": "code",
        "outputId": "1e88f4cf-8d75-4718-d662-8e408b876254",
        "colab": {
          "base_uri": "https://localhost:8080/",
          "height": 224
        }
      },
      "source": [
        "!wget --header=\"Host: storage.googleapis.com\" --header=\"User-Agent: Mozilla/5.0 (Windows NT 6.1) AppleWebKit/537.36 (KHTML, like Gecko) Chrome/74.0.3729.131 Safari/537.36\" --header=\"Accept: text/html,application/xhtml+xml,application/xml;q=0.9,image/webp,image/apng,*/*;q=0.8,application/signed-exchange;v=b3\" --header=\"Accept-Language: en-US,en;q=0.9\" --header=\"Referer: https://www.kaggle.com/\" \"https://storage.googleapis.com/kaggle-competitions-data/kaggle/10700/371136/train_noisy.zip?GoogleAccessId=web-data@kaggle-161607.iam.gserviceaccount.com&Expires=1557838250&Signature=YEEpWjFrGSJ8gvjok6TRz0%2FVHRME2o30YX1vb%2Bsor2w2a5qUlZr%2FVnU7A4T3wicTwZrJwWPbPtjh4XTQ3qjIyakKaI0d19HtNr9BXNNkvXROmbw16lNqWTRfO01%2BOhc%2FSpdp6rc6NTEhcSDh5QABAA33fys9nwg2aDdv%2BNLcnmrhgScpbXLdIZhhmOa2Nws9p25YMhVLWsHLta0VGgzqLmjGSMnCxgjDmGzq2dXEX84sCAa0yHHq5gM13GYzMd44Xd2f7PmOQKnIjCAgt8fdtQSIMFkFgWUxiMBy66zP0tqd0w7LMn6u2Dtbdh7qr7R2a2liqkvGiogQDD09LgOZ8A%3D%3D\" -O \"train_noisy.zip\" -c"
      ],
      "execution_count": 0,
      "outputs": [
        {
          "output_type": "stream",
          "text": [
            "--2019-05-13 12:40:31--  https://storage.googleapis.com/kaggle-competitions-data/kaggle/10700/371136/train_noisy.zip?GoogleAccessId=web-data@kaggle-161607.iam.gserviceaccount.com&Expires=1557838250&Signature=YEEpWjFrGSJ8gvjok6TRz0%2FVHRME2o30YX1vb%2Bsor2w2a5qUlZr%2FVnU7A4T3wicTwZrJwWPbPtjh4XTQ3qjIyakKaI0d19HtNr9BXNNkvXROmbw16lNqWTRfO01%2BOhc%2FSpdp6rc6NTEhcSDh5QABAA33fys9nwg2aDdv%2BNLcnmrhgScpbXLdIZhhmOa2Nws9p25YMhVLWsHLta0VGgzqLmjGSMnCxgjDmGzq2dXEX84sCAa0yHHq5gM13GYzMd44Xd2f7PmOQKnIjCAgt8fdtQSIMFkFgWUxiMBy66zP0tqd0w7LMn6u2Dtbdh7qr7R2a2liqkvGiogQDD09LgOZ8A%3D%3D\n",
            "Resolving storage.googleapis.com (storage.googleapis.com)... 172.217.212.128, 2607:f8b0:4001:c03::80\n",
            "Connecting to storage.googleapis.com (storage.googleapis.com)|172.217.212.128|:443... connected.\n",
            "HTTP request sent, awaiting response... 200 OK\n",
            "Length: 21504922116 (20G) [application/zip]\n",
            "Saving to: ‘train_noisy.zip’\n",
            "\n",
            "train_noisy.zip     100%[===================>]  20.03G   143MB/s    in 2m 35s  \n",
            "\n",
            "2019-05-13 12:43:07 (132 MB/s) - ‘train_noisy.zip’ saved [21504922116/21504922116]\n",
            "\n"
          ],
          "name": "stdout"
        }
      ]
    },
    {
      "cell_type": "markdown",
      "metadata": {
        "id": "_fJaLfzGynqy",
        "colab_type": "text"
      },
      "source": [
        "***Preprocessed data***"
      ]
    },
    {
      "cell_type": "code",
      "metadata": {
        "id": "6bZWNGSWypWV",
        "colab_type": "code",
        "outputId": "f735aaa6-e3fc-4b8a-84cf-15cb62c0a690",
        "colab": {
          "base_uri": "https://localhost:8080/",
          "height": 224
        }
      },
      "source": [
        "!wget --header=\"Host: storage.googleapis.com\" --header=\"User-Agent: Mozilla/5.0 (Windows NT 6.1) AppleWebKit/537.36 (KHTML, like Gecko) Chrome/74.0.3729.131 Safari/537.36\" --header=\"Accept: text/html,application/xhtml+xml,application/xml;q=0.9,image/webp,image/apng,*/*;q=0.8,application/signed-exchange;v=b3\" --header=\"Accept-Language: en-US,en;q=0.9\" --header=\"Referer: https://www.kaggle.com/\" \"https://storage.googleapis.com/kaggle-datasets/164278/379726/fat2019_prep_mels1.zip?GoogleAccessId=web-data@kaggle-161607.iam.gserviceaccount.com&Expires=1557838149&Signature=DvpGKn5On8bg%2BdsrHS3YF0es3qVaXzA8BkLhpi1xAiYoJzJZ7oF6qvVn%2BEGt1NS%2BvP0vn%2FJt35sxl6AyxxkJT0Jpuea2oEyaACL8%2BC1dBMEarSg%2FLp7hA%2FhZvAx4If7%2FYa69118IIh%2B89xsHeDB9xh2Zfear38udfqJTXtuK7vrvm6dXGlhXfd0SUAOkjNt7OmNzOT7NX1brN9U832LvMjSksKDXjC%2BLvct712HBgOY7JIHeyu7uWJMHLk4avq8tKe33d%2BrO5Jsla%2FLRa6LVyKj4BnTP65h9dzLGcyqhIwGabKjBiEDnSd7go3jaaxVc8iXUr0OyjatiJ8q7%2Bat9jA%3D%3D\" -O \"fat2019_prep_mels1.zip\" -c"
      ],
      "execution_count": 0,
      "outputs": [
        {
          "output_type": "stream",
          "text": [
            "--2019-05-13 12:43:12--  https://storage.googleapis.com/kaggle-datasets/164278/379726/fat2019_prep_mels1.zip?GoogleAccessId=web-data@kaggle-161607.iam.gserviceaccount.com&Expires=1557838149&Signature=DvpGKn5On8bg%2BdsrHS3YF0es3qVaXzA8BkLhpi1xAiYoJzJZ7oF6qvVn%2BEGt1NS%2BvP0vn%2FJt35sxl6AyxxkJT0Jpuea2oEyaACL8%2BC1dBMEarSg%2FLp7hA%2FhZvAx4If7%2FYa69118IIh%2B89xsHeDB9xh2Zfear38udfqJTXtuK7vrvm6dXGlhXfd0SUAOkjNt7OmNzOT7NX1brN9U832LvMjSksKDXjC%2BLvct712HBgOY7JIHeyu7uWJMHLk4avq8tKe33d%2BrO5Jsla%2FLRa6LVyKj4BnTP65h9dzLGcyqhIwGabKjBiEDnSd7go3jaaxVc8iXUr0OyjatiJ8q7%2Bat9jA%3D%3D\n",
            "Resolving storage.googleapis.com (storage.googleapis.com)... 172.217.212.128, 2607:f8b0:4001:c1b::80\n",
            "Connecting to storage.googleapis.com (storage.googleapis.com)|172.217.212.128|:443... connected.\n",
            "HTTP request sent, awaiting response... 200 OK\n",
            "Length: 2865032102 (2.7G) [application/zip]\n",
            "Saving to: ‘fat2019_prep_mels1.zip’\n",
            "\n",
            "fat2019_prep_mels1. 100%[===================>]   2.67G  89.7MB/s    in 29s     \n",
            "\n",
            "2019-05-13 12:43:41 (92.7 MB/s) - ‘fat2019_prep_mels1.zip’ saved [2865032102/2865032102]\n",
            "\n"
          ],
          "name": "stdout"
        }
      ]
    },
    {
      "cell_type": "markdown",
      "metadata": {
        "id": "ywFnbu3eP5nW",
        "colab_type": "text"
      },
      "source": [
        "### Exploring dataset"
      ]
    },
    {
      "cell_type": "code",
      "metadata": {
        "id": "Su0tOhnVcACC",
        "colab_type": "code",
        "outputId": "64de59c7-aa6e-4c09-fe08-fd722f7e58f9",
        "colab": {
          "base_uri": "https://localhost:8080/",
          "height": 34
        }
      },
      "source": [
        "!mkdir test\n",
        "!mkdir train_curated\n",
        "!mkdir train_noisy\n",
        "!mkdir data"
      ],
      "execution_count": 0,
      "outputs": [
        {
          "output_type": "stream",
          "text": [
            "mkdir: cannot create directory ‘data’: File exists\n"
          ],
          "name": "stdout"
        }
      ]
    },
    {
      "cell_type": "code",
      "metadata": {
        "id": "pokwjdG2zCjs",
        "colab_type": "code",
        "colab": {}
      },
      "source": [
        "!unzip -qq fat2019_prep_mels1.zip -d data"
      ],
      "execution_count": 0,
      "outputs": []
    },
    {
      "cell_type": "code",
      "metadata": {
        "id": "Wo1Wq71PP43o",
        "colab_type": "code",
        "colab": {}
      },
      "source": [
        "!unzip -qq test.zip -d test"
      ],
      "execution_count": 0,
      "outputs": []
    },
    {
      "cell_type": "code",
      "metadata": {
        "id": "nLZZ6nuWQMqB",
        "colab_type": "code",
        "colab": {}
      },
      "source": [
        "!unzip -qq train_curated.zip -d train_curated"
      ],
      "execution_count": 0,
      "outputs": []
    },
    {
      "cell_type": "code",
      "metadata": {
        "id": "JpYGeV7mQMkG",
        "colab_type": "code",
        "colab": {}
      },
      "source": [
        "!unzip -qq train_noisy.zip -d train_noisy"
      ],
      "execution_count": 0,
      "outputs": []
    },
    {
      "cell_type": "markdown",
      "metadata": {
        "id": "bK-JmCd_QMWx",
        "colab_type": "text"
      },
      "source": [
        "To apply deep learning technique, we first have to come up with a way to provide effective converse from audio data to any other form which will make it effective for deep learning technique for multilabeling"
      ]
    },
    {
      "cell_type": "markdown",
      "metadata": {
        "id": "8l5HQ4X5SmxC",
        "colab_type": "text"
      },
      "source": [
        "Audio conversion to 2D\n",
        "Almost copyed from my repository: https://github.com/daisukelab/ml-sound-classifier\n",
        "\n",
        "Handle sampling rate 44.1kHz as is, no information loss.\n",
        "Size of each file will be 128 x L, L is audio seconds x 128; [128, 256] if sound is 2s long.\n",
        "Convert to Mel-spectrogram, not MFCC. We are handling general sound rather than human voice. https://en.wikipedia.org/wiki/Spectrogram"
      ]
    },
    {
      "cell_type": "code",
      "metadata": {
        "id": "1PZG8p-dchS2",
        "colab_type": "code",
        "colab": {}
      },
      "source": [
        "!mv -t data test train_curated train_noisy"
      ],
      "execution_count": 0,
      "outputs": []
    },
    {
      "cell_type": "code",
      "metadata": {
        "id": "PhPW_sIidU0p",
        "colab_type": "code",
        "colab": {}
      },
      "source": [
        "!mv sample_submission.csv train_curated.csv train_noisy.csv data"
      ],
      "execution_count": 0,
      "outputs": []
    },
    {
      "cell_type": "code",
      "metadata": {
        "id": "IFndQ6_MhLb7",
        "colab_type": "code",
        "outputId": "eb9eaee2-324d-4f6d-81d4-309069f5bded",
        "colab": {
          "base_uri": "https://localhost:8080/",
          "height": 85
        }
      },
      "source": [
        "!ls data"
      ],
      "execution_count": 0,
      "outputs": [
        {
          "output_type": "stream",
          "text": [
            "mels_test.pkl\t\t    sample_submission.csv  train_noisy\n",
            "mels_train_curated.pkl\t    test\t\t   train_noisy.csv\n",
            "mels_train_noisy.pkl\t    train_curated\t   trn_noisy_best50s.csv\n",
            "mels_trn_noisy_best50s.pkl  train_curated.csv\n"
          ],
          "name": "stdout"
        }
      ]
    },
    {
      "cell_type": "markdown",
      "metadata": {
        "id": "-oTCWqn31MKk",
        "colab_type": "text"
      },
      "source": [
        "## Testing different dL techniques"
      ]
    },
    {
      "cell_type": "markdown",
      "metadata": {
        "id": "Ti-PQPO2uNQC",
        "colab_type": "text"
      },
      "source": [
        "### 2. Pytorch"
      ]
    },
    {
      "cell_type": "markdown",
      "metadata": {
        "id": "ODeTKQbJwFuJ",
        "colab_type": "text"
      },
      "source": [
        "***Simple changes, significant improvement in lb***\n",
        "\n",
        "Now with different convolution architecture"
      ]
    },
    {
      "cell_type": "markdown",
      "metadata": {
        "id": "cjeG9zO3dKU6",
        "colab_type": "text"
      },
      "source": [
        "***Original***"
      ]
    },
    {
      "cell_type": "code",
      "metadata": {
        "id": "WcCNIj42060g",
        "colab_type": "code",
        "colab": {}
      },
      "source": [
        "import gc\n",
        "import os\n",
        "import pickle\n",
        "import random\n",
        "import time\n",
        "from collections import Counter, defaultdict\n",
        "from functools import partial\n",
        "from pathlib import Path\n",
        "from psutil import cpu_count\n",
        "\n",
        "import librosa\n",
        "import numpy as np\n",
        "import pandas as pd\n",
        "from PIL import Image\n",
        "from sklearn.model_selection import train_test_split\n",
        "#from skmultilearn.model_selection import iterative_train_test_split\n",
        "\n",
        "import torch\n",
        "import torch.nn as nn\n",
        "import torch.nn.functional as F\n",
        "from torchvision import datasets, models, transforms\n",
        "\n",
        "from fastprogress import master_bar, progress_bar\n",
        "from torch.optim import Adam\n",
        "from torch.optim.lr_scheduler import CosineAnnealingLR\n",
        "from torch.utils.data import Dataset, DataLoader\n",
        "from torchvision.transforms import transforms"
      ],
      "execution_count": 0,
      "outputs": []
    },
    {
      "cell_type": "code",
      "metadata": {
        "id": "O3lWLSN7xAUy",
        "colab_type": "code",
        "colab": {}
      },
      "source": [
        "def seed_everything(seed):\n",
        "    random.seed(seed)\n",
        "    os.environ['PYTHONHASHSEED'] = str(seed)\n",
        "    np.random.seed(seed)\n",
        "    torch.manual_seed(seed)\n",
        "    torch.cuda.manual_seed(seed)\n",
        "    torch.backends.cudnn.deterministic = True\n",
        "\n",
        "SEED = 520\n",
        "seed_everything(SEED)"
      ],
      "execution_count": 0,
      "outputs": []
    },
    {
      "cell_type": "code",
      "metadata": {
        "id": "nE_bwTu3xCHH",
        "colab_type": "code",
        "colab": {}
      },
      "source": [
        "N_JOBS = cpu_count()\n",
        "os.environ['MKL_NUM_THREADS'] = str(N_JOBS)\n",
        "os.environ['OMP_NUM_THREADS'] = str(N_JOBS)\n",
        "DataLoader = partial(DataLoader, num_workers=N_JOBS)"
      ],
      "execution_count": 0,
      "outputs": []
    },
    {
      "cell_type": "code",
      "metadata": {
        "id": "_jhnnjifxCD1",
        "colab_type": "code",
        "colab": {}
      },
      "source": [
        "# from official code https://colab.research.google.com/drive/1AgPdhSp7ttY18O3fEoHOQKlt_3HJDLi8#scrollTo=cRCaCIb9oguU\n",
        "def _one_sample_positive_class_precisions(scores, truth):\n",
        "    \"\"\"Calculate precisions for each true class for a single sample.\n",
        "\n",
        "    Args:\n",
        "      scores: np.array of (num_classes,) giving the individual classifier scores.\n",
        "      truth: np.array of (num_classes,) bools indicating which classes are true.\n",
        "\n",
        "    Returns:\n",
        "      pos_class_indices: np.array of indices of the true classes for this sample.\n",
        "      pos_class_precisions: np.array of precisions corresponding to each of those\n",
        "        classes.\n",
        "    \"\"\"\n",
        "    num_classes = scores.shape[0]\n",
        "    pos_class_indices = np.flatnonzero(truth > 0)\n",
        "    # Only calculate precisions if there are some true classes.\n",
        "    if not len(pos_class_indices):\n",
        "        return pos_class_indices, np.zeros(0)\n",
        "    # Retrieval list of classes for this sample.\n",
        "    retrieved_classes = np.argsort(scores)[::-1]\n",
        "    # class_rankings[top_scoring_class_index] == 0 etc.\n",
        "    class_rankings = np.zeros(num_classes, dtype=np.int)\n",
        "    class_rankings[retrieved_classes] = range(num_classes)\n",
        "    # Which of these is a true label?\n",
        "    retrieved_class_true = np.zeros(num_classes, dtype=np.bool)\n",
        "    retrieved_class_true[class_rankings[pos_class_indices]] = True\n",
        "    # Num hits for every truncated retrieval list.\n",
        "    retrieved_cumulative_hits = np.cumsum(retrieved_class_true)\n",
        "    # Precision of retrieval list truncated at each hit, in order of pos_labels.\n",
        "    precision_at_hits = (\n",
        "            retrieved_cumulative_hits[class_rankings[pos_class_indices]] /\n",
        "            (1 + class_rankings[pos_class_indices].astype(np.float)))\n",
        "    return pos_class_indices, precision_at_hits\n",
        "\n",
        "\n",
        "def calculate_per_class_lwlrap(truth, scores):\n",
        "    \"\"\"Calculate label-weighted label-ranking average precision.\n",
        "\n",
        "    Arguments:\n",
        "      truth: np.array of (num_samples, num_classes) giving boolean ground-truth\n",
        "        of presence of that class in that sample.\n",
        "      scores: np.array of (num_samples, num_classes) giving the classifier-under-\n",
        "        test's real-valued score for each class for each sample.\n",
        "\n",
        "    Returns:\n",
        "      per_class_lwlrap: np.array of (num_classes,) giving the lwlrap for each\n",
        "        class.\n",
        "      weight_per_class: np.array of (num_classes,) giving the prior of each\n",
        "        class within the truth labels.  Then the overall unbalanced lwlrap is\n",
        "        simply np.sum(per_class_lwlrap * weight_per_class)\n",
        "    \"\"\"\n",
        "    assert truth.shape == scores.shape\n",
        "    num_samples, num_classes = scores.shape\n",
        "    # Space to store a distinct precision value for each class on each sample.\n",
        "    # Only the classes that are true for each sample will be filled in.\n",
        "    precisions_for_samples_by_classes = np.zeros((num_samples, num_classes))\n",
        "    for sample_num in range(num_samples):\n",
        "        pos_class_indices, precision_at_hits = (\n",
        "            _one_sample_positive_class_precisions(scores[sample_num, :],\n",
        "                                                  truth[sample_num, :]))\n",
        "        precisions_for_samples_by_classes[sample_num, pos_class_indices] = (\n",
        "            precision_at_hits)\n",
        "    labels_per_class = np.sum(truth > 0, axis=0)\n",
        "    weight_per_class = labels_per_class / float(np.sum(labels_per_class))\n",
        "    # Form average of each column, i.e. all the precisions assigned to labels in\n",
        "    # a particular class.\n",
        "    per_class_lwlrap = (np.sum(precisions_for_samples_by_classes, axis=0) /\n",
        "                        np.maximum(1, labels_per_class))\n",
        "    # overall_lwlrap = simple average of all the actual per-class, per-sample precisions\n",
        "    #                = np.sum(precisions_for_samples_by_classes) / np.sum(precisions_for_samples_by_classes > 0)\n",
        "    #           also = weighted mean of per-class lwlraps, weighted by class label prior across samples\n",
        "    #                = np.sum(per_class_lwlrap * weight_per_class)\n",
        "    return per_class_lwlrap, weight_per_class"
      ],
      "execution_count": 0,
      "outputs": []
    },
    {
      "cell_type": "code",
      "metadata": {
        "id": "UthfHLBOxCA_",
        "colab_type": "code",
        "colab": {}
      },
      "source": [
        "dataset_dir = Path('data')\n",
        "preprocessed_dir = Path('data')"
      ],
      "execution_count": 0,
      "outputs": []
    },
    {
      "cell_type": "code",
      "metadata": {
        "id": "n3gdnVV-xB-X",
        "colab_type": "code",
        "colab": {}
      },
      "source": [
        "csvs = {\n",
        "    'train_curated': dataset_dir / 'train_curated.csv',\n",
        "    #'train_noisy': dataset_dir / 'train_noisy.csv',\n",
        "    'train_noisy': preprocessed_dir / 'trn_noisy_best50s.csv',\n",
        "    'sample_submission': dataset_dir / 'sample_submission.csv',\n",
        "}\n",
        "\n",
        "dataset = {\n",
        "    'train_curated': dataset_dir / 'train_curated',\n",
        "    'train_noisy': dataset_dir / 'train_noisy',\n",
        "    'test': dataset_dir / 'test',\n",
        "}\n",
        "\n",
        "mels = {\n",
        "    'train_curated': preprocessed_dir / 'mels_train_curated.pkl',\n",
        "    'train_noisy': preprocessed_dir / 'mels_trn_noisy_best50s.pkl',\n",
        "    'test': preprocessed_dir / 'mels_test.pkl',  # NOTE: this data doesn't work at 2nd stage\n",
        "}"
      ],
      "execution_count": 0,
      "outputs": []
    },
    {
      "cell_type": "code",
      "metadata": {
        "id": "JK4Xhj0IxB7S",
        "colab_type": "code",
        "outputId": "acc6423d-2e9c-41d1-f182-c834daf179db",
        "colab": {
          "base_uri": "https://localhost:8080/",
          "height": 204
        }
      },
      "source": [
        "train_curated = pd.read_csv(csvs['train_curated'])\n",
        "train_noisy = pd.read_csv(csvs['train_noisy'])\n",
        "train_df = pd.concat([train_curated, train_noisy], sort=True, ignore_index=True)\n",
        "train_df.head()"
      ],
      "execution_count": 0,
      "outputs": [
        {
          "output_type": "execute_result",
          "data": {
            "text/html": [
              "<div>\n",
              "<style scoped>\n",
              "    .dataframe tbody tr th:only-of-type {\n",
              "        vertical-align: middle;\n",
              "    }\n",
              "\n",
              "    .dataframe tbody tr th {\n",
              "        vertical-align: top;\n",
              "    }\n",
              "\n",
              "    .dataframe thead th {\n",
              "        text-align: right;\n",
              "    }\n",
              "</style>\n",
              "<table border=\"1\" class=\"dataframe\">\n",
              "  <thead>\n",
              "    <tr style=\"text-align: right;\">\n",
              "      <th></th>\n",
              "      <th>fname</th>\n",
              "      <th>labels</th>\n",
              "      <th>singled</th>\n",
              "    </tr>\n",
              "  </thead>\n",
              "  <tbody>\n",
              "    <tr>\n",
              "      <th>0</th>\n",
              "      <td>0006ae4e.wav</td>\n",
              "      <td>Bark</td>\n",
              "      <td>NaN</td>\n",
              "    </tr>\n",
              "    <tr>\n",
              "      <th>1</th>\n",
              "      <td>0019ef41.wav</td>\n",
              "      <td>Raindrop</td>\n",
              "      <td>NaN</td>\n",
              "    </tr>\n",
              "    <tr>\n",
              "      <th>2</th>\n",
              "      <td>001ec0ad.wav</td>\n",
              "      <td>Finger_snapping</td>\n",
              "      <td>NaN</td>\n",
              "    </tr>\n",
              "    <tr>\n",
              "      <th>3</th>\n",
              "      <td>0026c7cb.wav</td>\n",
              "      <td>Run</td>\n",
              "      <td>NaN</td>\n",
              "    </tr>\n",
              "    <tr>\n",
              "      <th>4</th>\n",
              "      <td>0026f116.wav</td>\n",
              "      <td>Finger_snapping</td>\n",
              "      <td>NaN</td>\n",
              "    </tr>\n",
              "  </tbody>\n",
              "</table>\n",
              "</div>"
            ],
            "text/plain": [
              "          fname           labels singled\n",
              "0  0006ae4e.wav             Bark     NaN\n",
              "1  0019ef41.wav         Raindrop     NaN\n",
              "2  001ec0ad.wav  Finger_snapping     NaN\n",
              "3  0026c7cb.wav              Run     NaN\n",
              "4  0026f116.wav  Finger_snapping     NaN"
            ]
          },
          "metadata": {
            "tags": []
          },
          "execution_count": 7
        }
      ]
    },
    {
      "cell_type": "code",
      "metadata": {
        "id": "ySDLo2fTxB4x",
        "colab_type": "code",
        "outputId": "7973138a-d302-4552-c54b-7837f79de85a",
        "colab": {
          "base_uri": "https://localhost:8080/",
          "height": 253
        }
      },
      "source": [
        "test_df = pd.read_csv(csvs['sample_submission'])\n",
        "test_df.head()"
      ],
      "execution_count": 0,
      "outputs": [
        {
          "output_type": "execute_result",
          "data": {
            "text/html": [
              "<div>\n",
              "<style scoped>\n",
              "    .dataframe tbody tr th:only-of-type {\n",
              "        vertical-align: middle;\n",
              "    }\n",
              "\n",
              "    .dataframe tbody tr th {\n",
              "        vertical-align: top;\n",
              "    }\n",
              "\n",
              "    .dataframe thead th {\n",
              "        text-align: right;\n",
              "    }\n",
              "</style>\n",
              "<table border=\"1\" class=\"dataframe\">\n",
              "  <thead>\n",
              "    <tr style=\"text-align: right;\">\n",
              "      <th></th>\n",
              "      <th>fname</th>\n",
              "      <th>Accelerating_and_revving_and_vroom</th>\n",
              "      <th>Accordion</th>\n",
              "      <th>Acoustic_guitar</th>\n",
              "      <th>Applause</th>\n",
              "      <th>Bark</th>\n",
              "      <th>Bass_drum</th>\n",
              "      <th>Bass_guitar</th>\n",
              "      <th>Bathtub_(filling_or_washing)</th>\n",
              "      <th>Bicycle_bell</th>\n",
              "      <th>...</th>\n",
              "      <th>Toilet_flush</th>\n",
              "      <th>Traffic_noise_and_roadway_noise</th>\n",
              "      <th>Trickle_and_dribble</th>\n",
              "      <th>Walk_and_footsteps</th>\n",
              "      <th>Water_tap_and_faucet</th>\n",
              "      <th>Waves_and_surf</th>\n",
              "      <th>Whispering</th>\n",
              "      <th>Writing</th>\n",
              "      <th>Yell</th>\n",
              "      <th>Zipper_(clothing)</th>\n",
              "    </tr>\n",
              "  </thead>\n",
              "  <tbody>\n",
              "    <tr>\n",
              "      <th>0</th>\n",
              "      <td>000ccb97.wav</td>\n",
              "      <td>0</td>\n",
              "      <td>0</td>\n",
              "      <td>0</td>\n",
              "      <td>0</td>\n",
              "      <td>0</td>\n",
              "      <td>0</td>\n",
              "      <td>0</td>\n",
              "      <td>0</td>\n",
              "      <td>0</td>\n",
              "      <td>...</td>\n",
              "      <td>0</td>\n",
              "      <td>0</td>\n",
              "      <td>0</td>\n",
              "      <td>0</td>\n",
              "      <td>0</td>\n",
              "      <td>0</td>\n",
              "      <td>0</td>\n",
              "      <td>0</td>\n",
              "      <td>0</td>\n",
              "      <td>0</td>\n",
              "    </tr>\n",
              "    <tr>\n",
              "      <th>1</th>\n",
              "      <td>0012633b.wav</td>\n",
              "      <td>0</td>\n",
              "      <td>0</td>\n",
              "      <td>0</td>\n",
              "      <td>0</td>\n",
              "      <td>0</td>\n",
              "      <td>0</td>\n",
              "      <td>0</td>\n",
              "      <td>0</td>\n",
              "      <td>0</td>\n",
              "      <td>...</td>\n",
              "      <td>0</td>\n",
              "      <td>0</td>\n",
              "      <td>0</td>\n",
              "      <td>0</td>\n",
              "      <td>0</td>\n",
              "      <td>0</td>\n",
              "      <td>0</td>\n",
              "      <td>0</td>\n",
              "      <td>0</td>\n",
              "      <td>0</td>\n",
              "    </tr>\n",
              "    <tr>\n",
              "      <th>2</th>\n",
              "      <td>001ed5f1.wav</td>\n",
              "      <td>0</td>\n",
              "      <td>0</td>\n",
              "      <td>0</td>\n",
              "      <td>0</td>\n",
              "      <td>0</td>\n",
              "      <td>0</td>\n",
              "      <td>0</td>\n",
              "      <td>0</td>\n",
              "      <td>0</td>\n",
              "      <td>...</td>\n",
              "      <td>0</td>\n",
              "      <td>0</td>\n",
              "      <td>0</td>\n",
              "      <td>0</td>\n",
              "      <td>0</td>\n",
              "      <td>0</td>\n",
              "      <td>0</td>\n",
              "      <td>0</td>\n",
              "      <td>0</td>\n",
              "      <td>0</td>\n",
              "    </tr>\n",
              "    <tr>\n",
              "      <th>3</th>\n",
              "      <td>00294be0.wav</td>\n",
              "      <td>0</td>\n",
              "      <td>0</td>\n",
              "      <td>0</td>\n",
              "      <td>0</td>\n",
              "      <td>0</td>\n",
              "      <td>0</td>\n",
              "      <td>0</td>\n",
              "      <td>0</td>\n",
              "      <td>0</td>\n",
              "      <td>...</td>\n",
              "      <td>0</td>\n",
              "      <td>0</td>\n",
              "      <td>0</td>\n",
              "      <td>0</td>\n",
              "      <td>0</td>\n",
              "      <td>0</td>\n",
              "      <td>0</td>\n",
              "      <td>0</td>\n",
              "      <td>0</td>\n",
              "      <td>0</td>\n",
              "    </tr>\n",
              "    <tr>\n",
              "      <th>4</th>\n",
              "      <td>003fde7a.wav</td>\n",
              "      <td>0</td>\n",
              "      <td>0</td>\n",
              "      <td>0</td>\n",
              "      <td>0</td>\n",
              "      <td>0</td>\n",
              "      <td>0</td>\n",
              "      <td>0</td>\n",
              "      <td>0</td>\n",
              "      <td>0</td>\n",
              "      <td>...</td>\n",
              "      <td>0</td>\n",
              "      <td>0</td>\n",
              "      <td>0</td>\n",
              "      <td>0</td>\n",
              "      <td>0</td>\n",
              "      <td>0</td>\n",
              "      <td>0</td>\n",
              "      <td>0</td>\n",
              "      <td>0</td>\n",
              "      <td>0</td>\n",
              "    </tr>\n",
              "  </tbody>\n",
              "</table>\n",
              "<p>5 rows × 81 columns</p>\n",
              "</div>"
            ],
            "text/plain": [
              "          fname  Accelerating_and_revving_and_vroom  Accordion  \\\n",
              "0  000ccb97.wav                                   0          0   \n",
              "1  0012633b.wav                                   0          0   \n",
              "2  001ed5f1.wav                                   0          0   \n",
              "3  00294be0.wav                                   0          0   \n",
              "4  003fde7a.wav                                   0          0   \n",
              "\n",
              "   Acoustic_guitar  Applause  Bark  Bass_drum  Bass_guitar  \\\n",
              "0                0         0     0          0            0   \n",
              "1                0         0     0          0            0   \n",
              "2                0         0     0          0            0   \n",
              "3                0         0     0          0            0   \n",
              "4                0         0     0          0            0   \n",
              "\n",
              "   Bathtub_(filling_or_washing)  Bicycle_bell  ...  Toilet_flush  \\\n",
              "0                             0             0  ...             0   \n",
              "1                             0             0  ...             0   \n",
              "2                             0             0  ...             0   \n",
              "3                             0             0  ...             0   \n",
              "4                             0             0  ...             0   \n",
              "\n",
              "   Traffic_noise_and_roadway_noise  Trickle_and_dribble  Walk_and_footsteps  \\\n",
              "0                                0                    0                   0   \n",
              "1                                0                    0                   0   \n",
              "2                                0                    0                   0   \n",
              "3                                0                    0                   0   \n",
              "4                                0                    0                   0   \n",
              "\n",
              "   Water_tap_and_faucet  Waves_and_surf  Whispering  Writing  Yell  \\\n",
              "0                     0               0           0        0     0   \n",
              "1                     0               0           0        0     0   \n",
              "2                     0               0           0        0     0   \n",
              "3                     0               0           0        0     0   \n",
              "4                     0               0           0        0     0   \n",
              "\n",
              "   Zipper_(clothing)  \n",
              "0                  0  \n",
              "1                  0  \n",
              "2                  0  \n",
              "3                  0  \n",
              "4                  0  \n",
              "\n",
              "[5 rows x 81 columns]"
            ]
          },
          "metadata": {
            "tags": []
          },
          "execution_count": 8
        }
      ]
    },
    {
      "cell_type": "code",
      "metadata": {
        "id": "JK8cx8TbxTKI",
        "colab_type": "code",
        "outputId": "cc07a3b5-8e0a-4d86-8cf7-c0fa22eaeb67",
        "colab": {
          "base_uri": "https://localhost:8080/",
          "height": 1377
        }
      },
      "source": [
        "labels = test_df.columns[1:].tolist()\n",
        "labels"
      ],
      "execution_count": 0,
      "outputs": [
        {
          "output_type": "execute_result",
          "data": {
            "text/plain": [
              "['Accelerating_and_revving_and_vroom',\n",
              " 'Accordion',\n",
              " 'Acoustic_guitar',\n",
              " 'Applause',\n",
              " 'Bark',\n",
              " 'Bass_drum',\n",
              " 'Bass_guitar',\n",
              " 'Bathtub_(filling_or_washing)',\n",
              " 'Bicycle_bell',\n",
              " 'Burping_and_eructation',\n",
              " 'Bus',\n",
              " 'Buzz',\n",
              " 'Car_passing_by',\n",
              " 'Cheering',\n",
              " 'Chewing_and_mastication',\n",
              " 'Child_speech_and_kid_speaking',\n",
              " 'Chink_and_clink',\n",
              " 'Chirp_and_tweet',\n",
              " 'Church_bell',\n",
              " 'Clapping',\n",
              " 'Computer_keyboard',\n",
              " 'Crackle',\n",
              " 'Cricket',\n",
              " 'Crowd',\n",
              " 'Cupboard_open_or_close',\n",
              " 'Cutlery_and_silverware',\n",
              " 'Dishes_and_pots_and_pans',\n",
              " 'Drawer_open_or_close',\n",
              " 'Drip',\n",
              " 'Electric_guitar',\n",
              " 'Fart',\n",
              " 'Female_singing',\n",
              " 'Female_speech_and_woman_speaking',\n",
              " 'Fill_(with_liquid)',\n",
              " 'Finger_snapping',\n",
              " 'Frying_(food)',\n",
              " 'Gasp',\n",
              " 'Glockenspiel',\n",
              " 'Gong',\n",
              " 'Gurgling',\n",
              " 'Harmonica',\n",
              " 'Hi-hat',\n",
              " 'Hiss',\n",
              " 'Keys_jangling',\n",
              " 'Knock',\n",
              " 'Male_singing',\n",
              " 'Male_speech_and_man_speaking',\n",
              " 'Marimba_and_xylophone',\n",
              " 'Mechanical_fan',\n",
              " 'Meow',\n",
              " 'Microwave_oven',\n",
              " 'Motorcycle',\n",
              " 'Printer',\n",
              " 'Purr',\n",
              " 'Race_car_and_auto_racing',\n",
              " 'Raindrop',\n",
              " 'Run',\n",
              " 'Scissors',\n",
              " 'Screaming',\n",
              " 'Shatter',\n",
              " 'Sigh',\n",
              " 'Sink_(filling_or_washing)',\n",
              " 'Skateboard',\n",
              " 'Slam',\n",
              " 'Sneeze',\n",
              " 'Squeak',\n",
              " 'Stream',\n",
              " 'Strum',\n",
              " 'Tap',\n",
              " 'Tick-tock',\n",
              " 'Toilet_flush',\n",
              " 'Traffic_noise_and_roadway_noise',\n",
              " 'Trickle_and_dribble',\n",
              " 'Walk_and_footsteps',\n",
              " 'Water_tap_and_faucet',\n",
              " 'Waves_and_surf',\n",
              " 'Whispering',\n",
              " 'Writing',\n",
              " 'Yell',\n",
              " 'Zipper_(clothing)']"
            ]
          },
          "metadata": {
            "tags": []
          },
          "execution_count": 9
        }
      ]
    },
    {
      "cell_type": "code",
      "metadata": {
        "id": "qb4t9AiIxTG-",
        "colab_type": "code",
        "outputId": "f8b7de7a-d8a3-4b83-f9d1-d941af3f424c",
        "colab": {
          "base_uri": "https://localhost:8080/",
          "height": 34
        }
      },
      "source": [
        "num_classes = len(labels)\n",
        "num_classes"
      ],
      "execution_count": 0,
      "outputs": [
        {
          "output_type": "execute_result",
          "data": {
            "text/plain": [
              "80"
            ]
          },
          "metadata": {
            "tags": []
          },
          "execution_count": 10
        }
      ]
    },
    {
      "cell_type": "code",
      "metadata": {
        "id": "Q9s5PMk_xTEM",
        "colab_type": "code",
        "outputId": "558a355d-36a7-4f2b-c6fe-efffc1ad19d9",
        "colab": {
          "base_uri": "https://localhost:8080/",
          "height": 34
        }
      },
      "source": [
        "y_train = np.zeros((len(train_df), num_classes)).astype(int)\n",
        "for i, row in enumerate(train_df['labels'].str.split(',')):\n",
        "    for label in row:\n",
        "        idx = labels.index(label)\n",
        "        y_train[i, idx] = 1\n",
        "\n",
        "y_train.shape"
      ],
      "execution_count": 0,
      "outputs": [
        {
          "output_type": "execute_result",
          "data": {
            "text/plain": [
              "(8970, 80)"
            ]
          },
          "metadata": {
            "tags": []
          },
          "execution_count": 11
        }
      ]
    },
    {
      "cell_type": "code",
      "metadata": {
        "id": "0Dc941ZJxS_4",
        "colab_type": "code",
        "outputId": "e14342c7-c10d-4f48-8eaa-1a2cc25c72d9",
        "colab": {
          "base_uri": "https://localhost:8080/",
          "height": 34
        }
      },
      "source": [
        "with open(mels['train_curated'], 'rb') as curated, open(mels['train_noisy'], 'rb') as noisy:\n",
        "    x_train = pickle.load(curated)\n",
        "    x_train.extend(pickle.load(noisy))\n",
        "\n",
        "with open(mels['test'], 'rb') as test:\n",
        "    x_test = pickle.load(test)\n",
        "    \n",
        "len(x_train), len(x_test)"
      ],
      "execution_count": 0,
      "outputs": [
        {
          "output_type": "execute_result",
          "data": {
            "text/plain": [
              "(8970, 1120)"
            ]
          },
          "metadata": {
            "tags": []
          },
          "execution_count": 12
        }
      ]
    },
    {
      "cell_type": "code",
      "metadata": {
        "id": "UTeWkxxveAyp",
        "colab_type": "code",
        "colab": {}
      },
      "source": [
        "#data augmentation to be applied\n",
        "\n",
        "old_im = Image.fromarray(x_train[0], mode='RGB')        \n",
        "old_size = old_im.size\n",
        "\n",
        "desired_size=448\n",
        "\n",
        "ratio = float(desired_size)/max(old_size)\n",
        "\n",
        "new_size = (448, 448)\n",
        "\n",
        "im = old_im.resize(new_size, Image.ANTIALIAS)\n",
        "\n",
        "new_im = Image.new(\"RGB\", (desired_size, desired_size))\n",
        "\n",
        "new_im.paste(im, ((desired_size-new_size[0])//2,\n",
        "                    (desired_size-new_size[1])//2))\n",
        "new_im.show()"
      ],
      "execution_count": 0,
      "outputs": []
    },
    {
      "cell_type": "code",
      "metadata": {
        "id": "w_s03oyidDhi",
        "colab_type": "code",
        "colab": {}
      },
      "source": [
        "class FATTrainDataset(Dataset):\n",
        "    def __init__(self, mels, labels, transforms):\n",
        "        super().__init__()\n",
        "        self.mels = mels\n",
        "        self.labels = labels\n",
        "        self.transforms = transforms\n",
        "        \n",
        "    def __len__(self):\n",
        "        return len(self.mels)\n",
        "    \n",
        "    def __getitem__(self, idx):\n",
        "        # crop 1sec\n",
        "        old_im = Image.fromarray(self.mels[idx], mode='RGB')\n",
        "        desired_size = max(old_im.size)\n",
        "        new_size = (desired_size, desired_size)\n",
        "        im = old_im.resize(new_size, Image.ANTIALIAS)\n",
        "        image = Image.new(\"RGB\", (desired_size, desired_size))\n",
        "        image.paste(im, ((desired_size-new_size[0])//2,\n",
        "                            (desired_size-new_size[1])//2))\n",
        "        image = self.transforms(image).div_(255)\n",
        "        \n",
        "        label = self.labels[idx]\n",
        "        label = torch.from_numpy(label).float()\n",
        "        \n",
        "        return image, label"
      ],
      "execution_count": 0,
      "outputs": []
    },
    {
      "cell_type": "code",
      "metadata": {
        "id": "AV-lO0_yfHfW",
        "colab_type": "code",
        "colab": {}
      },
      "source": [
        "#testing dataset for results:\n",
        "transforms_dict = {\n",
        "    'train': transforms.Compose([\n",
        "        transforms.RandomCrop(128),\n",
        "        transforms.RandomHorizontalFlip(0.5),\n",
        "        transforms.ToTensor(),\n",
        "    ]),\n",
        "    'test': transforms.Compose([\n",
        "        transforms.RandomHorizontalFlip(0.5),\n",
        "        transforms.ToTensor(),\n",
        "    ]),\n",
        "}"
      ],
      "execution_count": 0,
      "outputs": []
    },
    {
      "cell_type": "code",
      "metadata": {
        "colab_type": "code",
        "id": "UI_RKT7QfgXF",
        "colab": {}
      },
      "source": [
        "train_transforms = transforms_dict['train']\n",
        "\n",
        "batch_size = 128\n",
        "\n",
        "test_batch_size = 256"
      ],
      "execution_count": 0,
      "outputs": []
    },
    {
      "cell_type": "code",
      "metadata": {
        "colab_type": "code",
        "id": "HC5i7DF2fgXJ",
        "colab": {}
      },
      "source": [
        "num_classes = y_train.shape[1]\n",
        "\n",
        "x_trn, x_val, y_trn, y_val = train_test_split(x_train, y_train, test_size=0.2, random_state=SEED)\n",
        "\n",
        "train_dataset = FATTrainDataset(x_trn, y_trn, train_transforms)\n",
        "valid_dataset = FATTrainDataset(x_val, y_val, train_transforms)\n",
        "\n",
        "train_loader = DataLoader(train_dataset, batch_size=batch_size, shuffle=True)\n",
        "valid_loader = DataLoader(valid_dataset, batch_size=test_batch_size, shuffle=False)"
      ],
      "execution_count": 0,
      "outputs": []
    },
    {
      "cell_type": "code",
      "metadata": {
        "colab_type": "code",
        "outputId": "efb71bff-eda9-47ea-e6f4-202c7ae7bad8",
        "id": "LnFJkivvfgXL",
        "colab": {
          "base_uri": "https://localhost:8080/",
          "height": 34
        }
      },
      "source": [
        "len(train_dataset), len(valid_dataset)"
      ],
      "execution_count": 0,
      "outputs": [
        {
          "output_type": "execute_result",
          "data": {
            "text/plain": [
              "(7176, 1794)"
            ]
          },
          "metadata": {
            "tags": []
          },
          "execution_count": 17
        }
      ]
    },
    {
      "cell_type": "code",
      "metadata": {
        "colab_type": "code",
        "outputId": "75b8ef6e-95d2-4cb6-8fa1-10eb6542548f",
        "id": "DVm6KzeZfgXQ",
        "colab": {
          "base_uri": "https://localhost:8080/",
          "height": 493
        }
      },
      "source": [
        "train_dataset[0]"
      ],
      "execution_count": 0,
      "outputs": [
        {
          "output_type": "execute_result",
          "data": {
            "text/plain": [
              "(tensor([[[0.0018, 0.0018, 0.0017,  ..., 0.0018, 0.0016, 0.0020],\n",
              "          [0.0017, 0.0019, 0.0019,  ..., 0.0019, 0.0018, 0.0020],\n",
              "          [0.0017, 0.0018, 0.0020,  ..., 0.0018, 0.0018, 0.0019],\n",
              "          ...,\n",
              "          [0.0007, 0.0008, 0.0007,  ..., 0.0007, 0.0008, 0.0007],\n",
              "          [0.0006, 0.0007, 0.0007,  ..., 0.0008, 0.0008, 0.0007],\n",
              "          [0.0007, 0.0007, 0.0008,  ..., 0.0008, 0.0008, 0.0008]],\n",
              " \n",
              "         [[0.0018, 0.0018, 0.0017,  ..., 0.0018, 0.0016, 0.0020],\n",
              "          [0.0017, 0.0019, 0.0019,  ..., 0.0019, 0.0018, 0.0020],\n",
              "          [0.0017, 0.0018, 0.0020,  ..., 0.0018, 0.0018, 0.0019],\n",
              "          ...,\n",
              "          [0.0007, 0.0008, 0.0007,  ..., 0.0007, 0.0008, 0.0007],\n",
              "          [0.0006, 0.0007, 0.0007,  ..., 0.0008, 0.0008, 0.0007],\n",
              "          [0.0007, 0.0007, 0.0008,  ..., 0.0008, 0.0008, 0.0008]],\n",
              " \n",
              "         [[0.0018, 0.0018, 0.0017,  ..., 0.0018, 0.0016, 0.0020],\n",
              "          [0.0017, 0.0019, 0.0019,  ..., 0.0019, 0.0018, 0.0020],\n",
              "          [0.0017, 0.0018, 0.0020,  ..., 0.0018, 0.0018, 0.0019],\n",
              "          ...,\n",
              "          [0.0007, 0.0008, 0.0007,  ..., 0.0007, 0.0008, 0.0007],\n",
              "          [0.0006, 0.0007, 0.0007,  ..., 0.0008, 0.0008, 0.0007],\n",
              "          [0.0007, 0.0007, 0.0008,  ..., 0.0008, 0.0008, 0.0008]]]),\n",
              " tensor([0., 0., 0., 0., 0., 0., 0., 0., 0., 0., 0., 0., 0., 0., 0., 0., 0., 0.,\n",
              "         0., 0., 1., 0., 0., 0., 0., 0., 0., 0., 0., 0., 0., 0., 0., 0., 0., 0.,\n",
              "         0., 0., 0., 0., 0., 0., 0., 0., 0., 0., 0., 0., 0., 0., 0., 0., 0., 0.,\n",
              "         0., 0., 0., 0., 0., 0., 0., 0., 0., 0., 0., 0., 0., 0., 0., 0., 0., 0.,\n",
              "         0., 0., 0., 0., 0., 0., 0., 0.]))"
            ]
          },
          "metadata": {
            "tags": []
          },
          "execution_count": 18
        }
      ]
    },
    {
      "cell_type": "code",
      "metadata": {
        "colab_type": "code",
        "outputId": "e7614944-9407-4a8e-c4a1-c360dc21933b",
        "id": "JWnlMr59fgXV",
        "colab": {
          "base_uri": "https://localhost:8080/",
          "height": 850
        }
      },
      "source": [
        "train_dataset.mels[0]"
      ],
      "execution_count": 0,
      "outputs": [
        {
          "output_type": "execute_result",
          "data": {
            "text/plain": [
              "array([[[145, 145, 145],\n",
              "        [140, 140, 140],\n",
              "        [127, 127, 127],\n",
              "        ...,\n",
              "        [ 93,  93,  93],\n",
              "        [122, 122, 122],\n",
              "        [121, 121, 121]],\n",
              "\n",
              "       [[126, 126, 126],\n",
              "        [138, 138, 138],\n",
              "        [126, 126, 126],\n",
              "        ...,\n",
              "        [101, 101, 101],\n",
              "        [115, 115, 115],\n",
              "        [104, 104, 104]],\n",
              "\n",
              "       [[139, 139, 139],\n",
              "        [134, 134, 134],\n",
              "        [125, 125, 125],\n",
              "        ...,\n",
              "        [ 91,  91,  91],\n",
              "        [110, 110, 110],\n",
              "        [111, 111, 111]],\n",
              "\n",
              "       ...,\n",
              "\n",
              "       [[ 34,  34,  34],\n",
              "        [ 32,  32,  32],\n",
              "        [ 37,  37,  37],\n",
              "        ...,\n",
              "        [ 35,  35,  35],\n",
              "        [ 36,  36,  36],\n",
              "        [ 34,  34,  34]],\n",
              "\n",
              "       [[ 34,  34,  34],\n",
              "        [ 31,  31,  31],\n",
              "        [ 32,  32,  32],\n",
              "        ...,\n",
              "        [ 30,  30,  30],\n",
              "        [ 31,  31,  31],\n",
              "        [ 32,  32,  32]],\n",
              "\n",
              "       [[ 20,  20,  20],\n",
              "        [ 27,  27,  27],\n",
              "        [ 25,  25,  25],\n",
              "        ...,\n",
              "        [ 17,  17,  17],\n",
              "        [ 21,  21,  21],\n",
              "        [ 30,  30,  30]]], dtype=uint8)"
            ]
          },
          "metadata": {
            "tags": []
          },
          "execution_count": 19
        }
      ]
    },
    {
      "cell_type": "code",
      "metadata": {
        "colab_type": "code",
        "outputId": "f06c0aa7-ae14-4ee5-c64f-f318a2e893fe",
        "id": "P_tbFS1WfgXZ",
        "colab": {
          "base_uri": "https://localhost:8080/",
          "height": 34
        }
      },
      "source": [
        "train_dataset.mels[2].shape"
      ],
      "execution_count": 0,
      "outputs": [
        {
          "output_type": "execute_result",
          "data": {
            "text/plain": [
              "(128, 954, 3)"
            ]
          },
          "metadata": {
            "tags": []
          },
          "execution_count": 20
        }
      ]
    },
    {
      "cell_type": "code",
      "metadata": {
        "colab_type": "code",
        "outputId": "d78c00b3-5d89-4257-aff1-2034551baed8",
        "id": "W7ichSMTfgXg",
        "colab": {
          "base_uri": "https://localhost:8080/",
          "height": 114
        }
      },
      "source": [
        "import matplotlib.pyplot as plt\n",
        "\n",
        "plt.imshow(train_dataset.mels[2])"
      ],
      "execution_count": 0,
      "outputs": [
        {
          "output_type": "execute_result",
          "data": {
            "text/plain": [
              "<matplotlib.image.AxesImage at 0x7febbb3a01d0>"
            ]
          },
          "metadata": {
            "tags": []
          },
          "execution_count": 21
        },
        {
          "output_type": "display_data",
          "data": {
            "image/png": "[encoded data removed]",
            "text/plain": [
              "<Figure size 432x288 with 1 Axes>"
            ]
          },
          "metadata": {
            "tags": []
          }
        }
      ]
    },
    {
      "cell_type": "code",
      "metadata": {
        "colab_type": "code",
        "outputId": "ed51a339-4a92-453a-aaed-1e9c3e7ed0ec",
        "id": "vXcfiBewfgXl",
        "colab": {
          "base_uri": "https://localhost:8080/",
          "height": 85
        }
      },
      "source": [
        "train_dataset.labels[2]"
      ],
      "execution_count": 0,
      "outputs": [
        {
          "output_type": "execute_result",
          "data": {
            "text/plain": [
              "array([0, 0, 0, 0, 0, 0, 0, 0, 0, 0, 0, 0, 0, 0, 0, 0, 0, 0, 0, 0, 0, 0,\n",
              "       0, 0, 0, 0, 0, 0, 0, 0, 0, 0, 0, 0, 0, 0, 0, 0, 0, 0, 0, 0, 0, 0,\n",
              "       0, 0, 0, 0, 0, 0, 0, 0, 0, 0, 0, 0, 0, 0, 0, 0, 0, 0, 0, 0, 1, 0,\n",
              "       0, 0, 0, 0, 0, 0, 0, 0, 0, 0, 0, 0, 0, 0])"
            ]
          },
          "metadata": {
            "tags": []
          },
          "execution_count": 22
        }
      ]
    },
    {
      "cell_type": "code",
      "metadata": {
        "colab_type": "code",
        "id": "v2mr3Q_6fgXp",
        "colab": {}
      },
      "source": [
        "mb_example = next(iter(train_loader))"
      ],
      "execution_count": 0,
      "outputs": []
    },
    {
      "cell_type": "code",
      "metadata": {
        "colab_type": "code",
        "outputId": "21b8d2f6-8263-4c2d-e476-41f12e977455",
        "id": "G_rKhgVBfgXu",
        "colab": {
          "base_uri": "https://localhost:8080/",
          "height": 34
        }
      },
      "source": [
        "mb_example[0].size(), mb_example[1].size()"
      ],
      "execution_count": 0,
      "outputs": [
        {
          "output_type": "execute_result",
          "data": {
            "text/plain": [
              "(torch.Size([128, 3, 128, 128]), torch.Size([128, 80]))"
            ]
          },
          "metadata": {
            "tags": []
          },
          "execution_count": 24
        }
      ]
    },
    {
      "cell_type": "code",
      "metadata": {
        "colab_type": "code",
        "outputId": "804c6c52-5ace-4535-d4aa-20588ba33291",
        "id": "LGzcBrv-fgXz",
        "colab": {
          "base_uri": "https://localhost:8080/",
          "height": 124
        }
      },
      "source": [
        "fig = plt.figure()\n",
        "for i in range(0,4):\n",
        "    sub_plot = fig.add_subplot(1,4,i+1)\n",
        "    sub_plot.axis('Off')\n",
        "    plt.imshow(mb_example[0][i,0].numpy())"
      ],
      "execution_count": 0,
      "outputs": [
        {
          "output_type": "display_data",
          "data": {
            "image/png": "[encoded data removed]",
            "text/plain": [
              "<Figure size 432x288 with 4 Axes>"
            ]
          },
          "metadata": {
            "tags": []
          }
        }
      ]
    },
    {
      "cell_type": "code",
      "metadata": {
        "id": "PNM6N9X_dF24",
        "colab_type": "code",
        "colab": {}
      },
      "source": [
        "class FATTestDataset(Dataset):\n",
        "    def __init__(self, fnames, mels, transforms, tta=5):\n",
        "        super().__init__()\n",
        "        self.fnames = fnames\n",
        "        self.mels = mels\n",
        "        self.transforms = transforms\n",
        "        self.tta = tta\n",
        "        \n",
        "    def __len__(self):\n",
        "        return len(self.fnames) * self.tta\n",
        "    \n",
        "    def __getitem__(self, idx):\n",
        "        new_idx = idx % len(self.fnames)\n",
        "        \n",
        "        image = Image.fromarray(self.mels[new_idx], mode='RGB')\n",
        "        time_dim, base_dim = image.size\n",
        "        crop = random.randint(0, time_dim - base_dim)\n",
        "        image = image.crop([crop, 0, crop + base_dim, base_dim])\n",
        "        image = self.transforms(image).div_(255)\n",
        "\n",
        "        fname = self.fnames[new_idx]\n",
        "        \n",
        "        return image, fname"
      ],
      "execution_count": 0,
      "outputs": []
    },
    {
      "cell_type": "code",
      "metadata": {
        "id": "6fmASw-4dIdu",
        "colab_type": "code",
        "colab": {}
      },
      "source": [
        "transforms_dict = {\n",
        "    'train': transforms.Compose([\n",
        "        transforms.RandomHorizontalFlip(0.5),\n",
        "        transforms.ToTensor(),\n",
        "    ]),\n",
        "    'test': transforms.Compose([\n",
        "        transforms.RandomHorizontalFlip(0.5),\n",
        "        transforms.ToTensor(),\n",
        "    ]),\n",
        "}"
      ],
      "execution_count": 0,
      "outputs": []
    },
    {
      "cell_type": "code",
      "metadata": {
        "id": "NpvM6BA-dSBM",
        "colab_type": "code",
        "colab": {}
      },
      "source": [
        "class ConvBlock(nn.Module):\n",
        "    def __init__(self, in_channels, out_channels):\n",
        "        super().__init__()\n",
        "        \n",
        "        self.conv1 = nn.Sequential(\n",
        "            nn.Conv2d(in_channels, out_channels, 3, 1, 1),\n",
        "            nn.BatchNorm2d(out_channels),\n",
        "            nn.ReLU(),\n",
        "        )\n",
        "        self.conv2 = nn.Sequential(\n",
        "            nn.Conv2d(out_channels, out_channels, 3, 1, 1),\n",
        "            nn.BatchNorm2d(out_channels),\n",
        "            nn.ReLU(),\n",
        "        )\n",
        "\n",
        "        self._init_weights()\n",
        "        \n",
        "    def _init_weights(self):\n",
        "        for m in self.modules():\n",
        "            if isinstance(m, nn.Conv2d):\n",
        "                nn.init.kaiming_normal_(m.weight)\n",
        "                if m.bias is not None:\n",
        "                    nn.init.zeros_(m.bias)\n",
        "            elif isinstance(m, nn.BatchNorm2d):\n",
        "                nn.init.constant_(m.weight, 1)\n",
        "                nn.init.zeros_(m.bias)\n",
        "        \n",
        "    def forward(self, x):\n",
        "        x = self.conv1(x)\n",
        "        x = self.conv2(x)\n",
        "        x = F.avg_pool2d(x, 2)\n",
        "        return x"
      ],
      "execution_count": 0,
      "outputs": []
    },
    {
      "cell_type": "code",
      "metadata": {
        "id": "-e_JqCpfdR9C",
        "colab_type": "code",
        "colab": {}
      },
      "source": [
        "class Classifier(nn.Module):\n",
        "    def __init__(self, num_classes):\n",
        "        super().__init__()\n",
        "        \n",
        "        self.conv = nn.Sequential(\n",
        "            ConvBlock(in_channels=3, out_channels=64),\n",
        "            ConvBlock(in_channels=64, out_channels=128),\n",
        "            ConvBlock(in_channels=128, out_channels=256),\n",
        "            ConvBlock(in_channels=256, out_channels=512),\n",
        "        )\n",
        "        \n",
        "        self.fc = nn.Sequential(\n",
        "            nn.Dropout(0.2),\n",
        "            nn.Linear(512, 128),\n",
        "            nn.PReLU(),\n",
        "            nn.BatchNorm1d(128),\n",
        "            nn.Dropout(0.1),\n",
        "            nn.Linear(128, num_classes),\n",
        "        )\n",
        "\n",
        "    def forward(self, x):\n",
        "        x = self.conv(x)\n",
        "        x = torch.mean(x, dim=3)\n",
        "        x, _ = torch.max(x, dim=2)\n",
        "        x = self.fc(x)\n",
        "        return x"
      ],
      "execution_count": 0,
      "outputs": []
    },
    {
      "cell_type": "code",
      "metadata": {
        "id": "dFbhsmSHdR2Z",
        "colab_type": "code",
        "outputId": "66aad3a4-a003-4783-b12d-a8e835c63889",
        "colab": {
          "base_uri": "https://localhost:8080/",
          "height": 1037
        }
      },
      "source": [
        "Classifier(num_classes=num_classes)"
      ],
      "execution_count": 0,
      "outputs": [
        {
          "output_type": "execute_result",
          "data": {
            "text/plain": [
              "Classifier(\n",
              "  (conv): Sequential(\n",
              "    (0): ConvBlock(\n",
              "      (conv1): Sequential(\n",
              "        (0): Conv2d(3, 64, kernel_size=(3, 3), stride=(1, 1), padding=(1, 1))\n",
              "        (1): BatchNorm2d(64, eps=1e-05, momentum=0.1, affine=True, track_running_stats=True)\n",
              "        (2): ReLU()\n",
              "      )\n",
              "      (conv2): Sequential(\n",
              "        (0): Conv2d(64, 64, kernel_size=(3, 3), stride=(1, 1), padding=(1, 1))\n",
              "        (1): BatchNorm2d(64, eps=1e-05, momentum=0.1, affine=True, track_running_stats=True)\n",
              "        (2): ReLU()\n",
              "      )\n",
              "    )\n",
              "    (1): ConvBlock(\n",
              "      (conv1): Sequential(\n",
              "        (0): Conv2d(64, 128, kernel_size=(3, 3), stride=(1, 1), padding=(1, 1))\n",
              "        (1): BatchNorm2d(128, eps=1e-05, momentum=0.1, affine=True, track_running_stats=True)\n",
              "        (2): ReLU()\n",
              "      )\n",
              "      (conv2): Sequential(\n",
              "        (0): Conv2d(128, 128, kernel_size=(3, 3), stride=(1, 1), padding=(1, 1))\n",
              "        (1): BatchNorm2d(128, eps=1e-05, momentum=0.1, affine=True, track_running_stats=True)\n",
              "        (2): ReLU()\n",
              "      )\n",
              "    )\n",
              "    (2): ConvBlock(\n",
              "      (conv1): Sequential(\n",
              "        (0): Conv2d(128, 256, kernel_size=(3, 3), stride=(1, 1), padding=(1, 1))\n",
              "        (1): BatchNorm2d(256, eps=1e-05, momentum=0.1, affine=True, track_running_stats=True)\n",
              "        (2): ReLU()\n",
              "      )\n",
              "      (conv2): Sequential(\n",
              "        (0): Conv2d(256, 256, kernel_size=(3, 3), stride=(1, 1), padding=(1, 1))\n",
              "        (1): BatchNorm2d(256, eps=1e-05, momentum=0.1, affine=True, track_running_stats=True)\n",
              "        (2): ReLU()\n",
              "      )\n",
              "    )\n",
              "    (3): ConvBlock(\n",
              "      (conv1): Sequential(\n",
              "        (0): Conv2d(256, 512, kernel_size=(3, 3), stride=(1, 1), padding=(1, 1))\n",
              "        (1): BatchNorm2d(512, eps=1e-05, momentum=0.1, affine=True, track_running_stats=True)\n",
              "        (2): ReLU()\n",
              "      )\n",
              "      (conv2): Sequential(\n",
              "        (0): Conv2d(512, 512, kernel_size=(3, 3), stride=(1, 1), padding=(1, 1))\n",
              "        (1): BatchNorm2d(512, eps=1e-05, momentum=0.1, affine=True, track_running_stats=True)\n",
              "        (2): ReLU()\n",
              "      )\n",
              "    )\n",
              "  )\n",
              "  (fc): Sequential(\n",
              "    (0): Dropout(p=0.2)\n",
              "    (1): Linear(in_features=512, out_features=128, bias=True)\n",
              "    (2): PReLU(num_parameters=1)\n",
              "    (3): BatchNorm1d(128, eps=1e-05, momentum=0.1, affine=True, track_running_stats=True)\n",
              "    (4): Dropout(p=0.1)\n",
              "    (5): Linear(in_features=128, out_features=80, bias=True)\n",
              "  )\n",
              ")"
            ]
          },
          "metadata": {
            "tags": []
          },
          "execution_count": 29
        }
      ]
    },
    {
      "cell_type": "code",
      "metadata": {
        "id": "KRa1FcYydRqC",
        "colab_type": "code",
        "colab": {}
      },
      "source": [
        "def train_model(x_train, y_train, train_transforms):\n",
        "    num_epochs = 118\n",
        "    batch_size = 128\n",
        "    test_batch_size = 256\n",
        "    lr = 1e-3\n",
        "    eta_min = 1e-5\n",
        "    t_max = 5\n",
        "    \n",
        "    num_classes = y_train.shape[1]\n",
        "\n",
        "    x_trn, x_val, y_trn, y_val = train_test_split(x_train, y_train, test_size=0.2, random_state=SEED)\n",
        "    \n",
        "    train_dataset = FATTrainDataset(x_trn, y_trn, train_transforms)\n",
        "    valid_dataset = FATTrainDataset(x_val, y_val, train_transforms)\n",
        "\n",
        "    train_loader = DataLoader(train_dataset, batch_size=batch_size, shuffle=True)\n",
        "    valid_loader = DataLoader(valid_dataset, batch_size=test_batch_size, shuffle=False)\n",
        "\n",
        "    model = Classifier(num_classes=num_classes).cuda()\n",
        "    criterion = nn.BCEWithLogitsLoss().cuda()\n",
        "    optimizer = Adam(params=model.parameters(), lr=lr, amsgrad=False)\n",
        "    scheduler = CosineAnnealingLR(optimizer, T_max=t_max, eta_min=eta_min)\n",
        "\n",
        "    best_epoch = -1\n",
        "    best_lwlrap = 0.\n",
        "    mb = master_bar(range(num_epochs))\n",
        "\n",
        "    for epoch in mb:\n",
        "        start_time = time.time()\n",
        "        model.train()\n",
        "        avg_loss = 0.\n",
        "\n",
        "        for x_batch, y_batch in train_loader:\n",
        "            preds = model(x_batch.cuda())\n",
        "            loss = criterion(preds, y_batch.cuda())\n",
        "\n",
        "            optimizer.zero_grad()\n",
        "            loss.backward()\n",
        "            optimizer.step()\n",
        "\n",
        "            avg_loss += loss.item() / len(train_loader)\n",
        "\n",
        "        model.eval()\n",
        "        valid_preds = np.zeros((len(x_val), num_classes))\n",
        "        avg_val_loss = 0.\n",
        "\n",
        "        for i, (x_batch, y_batch) in enumerate(valid_loader):\n",
        "            preds = model(x_batch.cuda()).detach()\n",
        "            loss = criterion(preds, y_batch.cuda())\n",
        "\n",
        "            preds = torch.sigmoid(preds)\n",
        "            valid_preds[i * test_batch_size: (i+1) * test_batch_size] = preds.cpu().numpy()\n",
        "\n",
        "            avg_val_loss += loss.item() / len(valid_loader)\n",
        "            \n",
        "        score, weight = calculate_per_class_lwlrap(y_val, valid_preds)\n",
        "        lwlrap = (score * weight).sum()\n",
        "        \n",
        "        scheduler.step()\n",
        "\n",
        "        if (epoch + 1) % 1 == 0:\n",
        "            elapsed = time.time() - start_time\n",
        "            mb.write(f'Epoch {epoch+1} - avg_train_loss: {avg_loss:.4f}  avg_val_loss: {avg_val_loss:.4f}  val_lwlrap: {lwlrap:.6f}  time: {elapsed:.0f}s')\n",
        "    \n",
        "        if lwlrap > best_lwlrap:\n",
        "            best_epoch = epoch + 1\n",
        "            best_lwlrap = lwlrap\n",
        "            torch.save(model.state_dict(), 'weight_best.pt')\n",
        "            \n",
        "    return {\n",
        "        'best_epoch': best_epoch,\n",
        "        'best_lwlrap': best_lwlrap,\n",
        "    }"
      ],
      "execution_count": 0,
      "outputs": []
    },
    {
      "cell_type": "code",
      "metadata": {
        "id": "ey6hdbHzdRim",
        "colab_type": "code",
        "outputId": "7d837227-e044-4382-e6f6-49b66f75702a",
        "colab": {
          "base_uri": "https://localhost:8080/",
          "height": 2731
        }
      },
      "source": [
        "result = train_model(x_train, y_train, transforms_dict['train'])"
      ],
      "execution_count": 31,
      "outputs": [
        {
          "output_type": "display_data",
          "data": {
            "text/html": [
              "Epoch 1 - avg_train_loss: 0.6371  avg_val_loss: 0.4975  val_lwlrap: 0.064111  time: 100s<p>Epoch 2 - avg_train_loss: 0.3250  avg_val_loss: 0.1750  val_lwlrap: 0.068286  time: 101s<p>Epoch 3 - avg_train_loss: 0.1321  avg_val_loss: 0.1008  val_lwlrap: 0.074638  time: 100s<p>Epoch 4 - avg_train_loss: 0.0952  avg_val_loss: 0.0879  val_lwlrap: 0.080691  time: 99s<p>Epoch 5 - avg_train_loss: 0.0880  avg_val_loss: 0.0844  val_lwlrap: 0.079089  time: 100s<p>Epoch 6 - avg_train_loss: 0.0867  avg_val_loss: 0.0844  val_lwlrap: 0.080843  time: 100s<p>Epoch 7 - avg_train_loss: 0.0851  avg_val_loss: 0.0816  val_lwlrap: 0.080093  time: 100s<p>Epoch 8 - avg_train_loss: 0.0807  avg_val_loss: 0.0765  val_lwlrap: 0.083039  time: 101s<p>Epoch 9 - avg_train_loss: 0.0756  avg_val_loss: 0.0725  val_lwlrap: 0.075920  time: 98s<p>Epoch 10 - avg_train_loss: 0.0728  avg_val_loss: 0.0710  val_lwlrap: 0.080420  time: 99s<p>Epoch 11 - avg_train_loss: 0.0716  avg_val_loss: 0.0702  val_lwlrap: 0.081396  time: 102s<p>Epoch 12 - avg_train_loss: 0.0711  avg_val_loss: 0.0703  val_lwlrap: 0.077355  time: 99s<p>Epoch 13 - avg_train_loss: 0.0704  avg_val_loss: 0.0726  val_lwlrap: 0.065485  time: 98s<p>Epoch 14 - avg_train_loss: 0.0701  avg_val_loss: 0.0705  val_lwlrap: 0.095989  time: 99s<p>Epoch 15 - avg_train_loss: 0.0699  avg_val_loss: 0.0678  val_lwlrap: 0.109920  time: 100s<p>Epoch 16 - avg_train_loss: 0.0697  avg_val_loss: 0.0671  val_lwlrap: 0.131054  time: 100s<p>Epoch 17 - avg_train_loss: 0.0698  avg_val_loss: 0.0678  val_lwlrap: 0.133197  time: 100s<p>Epoch 18 - avg_train_loss: 0.0696  avg_val_loss: 0.0776  val_lwlrap: 0.099635  time: 101s<p>Epoch 19 - avg_train_loss: 0.0697  avg_val_loss: 0.0748  val_lwlrap: 0.095458  time: 100s<p>Epoch 20 - avg_train_loss: 0.0695  avg_val_loss: 0.0731  val_lwlrap: 0.081179  time: 102s<p>Epoch 21 - avg_train_loss: 0.0690  avg_val_loss: 0.3134  val_lwlrap: 0.065259  time: 100s<p>Epoch 22 - avg_train_loss: 0.0684  avg_val_loss: 0.0716  val_lwlrap: 0.097070  time: 99s<p>Epoch 23 - avg_train_loss: 0.0674  avg_val_loss: 0.1151  val_lwlrap: 0.068273  time: 100s<p>Epoch 24 - avg_train_loss: 0.0663  avg_val_loss: 0.1058  val_lwlrap: 0.072251  time: 102s<p>Epoch 25 - avg_train_loss: 0.0659  avg_val_loss: 0.0697  val_lwlrap: 0.132510  time: 99s<p>Epoch 26 - avg_train_loss: 0.0657  avg_val_loss: 0.0636  val_lwlrap: 0.210276  time: 99s<p>Epoch 27 - avg_train_loss: 0.0654  avg_val_loss: 0.0763  val_lwlrap: 0.088133  time: 100s<p>Epoch 28 - avg_train_loss: 0.0655  avg_val_loss: 0.0715  val_lwlrap: 0.102682  time: 101s<p>Epoch 29 - avg_train_loss: 0.0654  avg_val_loss: 0.1490  val_lwlrap: 0.068160  time: 100s<p>Epoch 30 - avg_train_loss: 0.0652  avg_val_loss: 0.2449  val_lwlrap: 0.067744  time: 102s<p>Epoch 31 - avg_train_loss: 0.0650  avg_val_loss: 0.2007  val_lwlrap: 0.065556  time: 99s<p>Epoch 32 - avg_train_loss: 0.0638  avg_val_loss: 0.0804  val_lwlrap: 0.081944  time: 101s<p>Epoch 33 - avg_train_loss: 0.0630  avg_val_loss: 0.0817  val_lwlrap: 0.088274  time: 100s<p>Epoch 34 - avg_train_loss: 0.0619  avg_val_loss: 0.1121  val_lwlrap: 0.068588  time: 99s<p>Epoch 35 - avg_train_loss: 0.0617  avg_val_loss: 0.0679  val_lwlrap: 0.192431  time: 100s<p>Epoch 36 - avg_train_loss: 0.0613  avg_val_loss: 0.0588  val_lwlrap: 0.281526  time: 101s<p>Epoch 37 - avg_train_loss: 0.0613  avg_val_loss: 0.0685  val_lwlrap: 0.172129  time: 100s<p>Epoch 38 - avg_train_loss: 0.0616  avg_val_loss: 0.0769  val_lwlrap: 0.108332  time: 99s<p>Epoch 39 - avg_train_loss: 0.0614  avg_val_loss: 0.1210  val_lwlrap: 0.086621  time: 100s<p>Epoch 40 - avg_train_loss: 0.0616  avg_val_loss: 0.1928  val_lwlrap: 0.073059  time: 102s<p>Epoch 41 - avg_train_loss: 0.0615  avg_val_loss: 0.2299  val_lwlrap: 0.060863  time: 100s<p>Epoch 42 - avg_train_loss: 0.0605  avg_val_loss: 0.1738  val_lwlrap: 0.066920  time: 99s<p>Epoch 43 - avg_train_loss: 0.0599  avg_val_loss: 0.2155  val_lwlrap: 0.072217  time: 101s<p>Epoch 44 - avg_train_loss: 0.0592  avg_val_loss: 0.0943  val_lwlrap: 0.095652  time: 101s<p>Epoch 45 - avg_train_loss: 0.0585  avg_val_loss: 0.0710  val_lwlrap: 0.206114  time: 99s<p>Epoch 46 - avg_train_loss: 0.0582  avg_val_loss: 0.0571  val_lwlrap: 0.315567  time: 101s<p>Epoch 47 - avg_train_loss: 0.0582  avg_val_loss: 0.0649  val_lwlrap: 0.206959  time: 100s<p>Epoch 48 - avg_train_loss: 0.0583  avg_val_loss: 0.0717  val_lwlrap: 0.158496  time: 101s<p>Epoch 49 - avg_train_loss: 0.0584  avg_val_loss: 0.0974  val_lwlrap: 0.077068  time: 102s<p>Epoch 50 - avg_train_loss: 0.0587  avg_val_loss: 0.0801  val_lwlrap: 0.099462  time: 99s<p>Epoch 51 - avg_train_loss: 0.0584  avg_val_loss: 0.0955  val_lwlrap: 0.078036  time: 100s<p>Epoch 52 - avg_train_loss: 0.0578  avg_val_loss: 0.0994  val_lwlrap: 0.067443  time: 101s<p>Epoch 53 - avg_train_loss: 0.0570  avg_val_loss: 0.1443  val_lwlrap: 0.071861  time: 99s<p>Epoch 54 - avg_train_loss: 0.0566  avg_val_loss: 0.0835  val_lwlrap: 0.088970  time: 100s<p>Epoch 55 - avg_train_loss: 0.0553  avg_val_loss: 0.0648  val_lwlrap: 0.252866  time: 100s<p>Epoch 56 - avg_train_loss: 0.0553  avg_val_loss: 0.0532  val_lwlrap: 0.358044  time: 100s<p>Epoch 57 - avg_train_loss: 0.0554  avg_val_loss: 0.0568  val_lwlrap: 0.313918  time: 100s<p>Epoch 58 - avg_train_loss: 0.0558  avg_val_loss: 0.0969  val_lwlrap: 0.077522  time: 100s<p>Epoch 59 - avg_train_loss: 0.0561  avg_val_loss: 0.1109  val_lwlrap: 0.074184  time: 101s<p>Epoch 60 - avg_train_loss: 0.0566  avg_val_loss: 0.1045  val_lwlrap: 0.083209  time: 101s<p>Epoch 61 - avg_train_loss: 0.0565  avg_val_loss: 0.5587  val_lwlrap: 0.078457  time: 103s<p>Epoch 62 - avg_train_loss: 0.0562  avg_val_loss: 0.5305  val_lwlrap: 0.075557  time: 99s<p>Epoch 63 - avg_train_loss: 0.0555  avg_val_loss: 0.1257  val_lwlrap: 0.089051  time: 99s<p>Epoch 64 - avg_train_loss: 0.0544  avg_val_loss: 0.0879  val_lwlrap: 0.153664  time: 101s<p>Epoch 65 - avg_train_loss: 0.0537  avg_val_loss: 0.0559  val_lwlrap: 0.325889  time: 99s<p>Epoch 66 - avg_train_loss: 0.0538  avg_val_loss: 0.0517  val_lwlrap: 0.381150  time: 100s<p>Epoch 67 - avg_train_loss: 0.0532  avg_val_loss: 0.0575  val_lwlrap: 0.291496  time: 100s<p>Epoch 68 - avg_train_loss: 0.0540  avg_val_loss: 0.0646  val_lwlrap: 0.236318  time: 100s<p>Epoch 69 - avg_train_loss: 0.0545  avg_val_loss: 0.1245  val_lwlrap: 0.117732  time: 100s<p>Epoch 70 - avg_train_loss: 0.0551  avg_val_loss: 0.1015  val_lwlrap: 0.066564  time: 101s<p>Epoch 71 - avg_train_loss: 0.0555  avg_val_loss: 0.1201  val_lwlrap: 0.073295  time: 100s<p>Epoch 72 - avg_train_loss: 0.0546  avg_val_loss: 0.0894  val_lwlrap: 0.089799  time: 100s<p>Epoch 73 - avg_train_loss: 0.0538  avg_val_loss: 0.2945  val_lwlrap: 0.077924  time: 100s<p>Epoch 74 - avg_train_loss: 0.0525  avg_val_loss: 0.0757  val_lwlrap: 0.162233  time: 100s<p>Epoch 75 - avg_train_loss: 0.0518  avg_val_loss: 0.0538  val_lwlrap: 0.332652  time: 99s<p>Epoch 76 - avg_train_loss: 0.0517  avg_val_loss: 0.0512  val_lwlrap: 0.408187  time: 99s<p>Epoch 77 - avg_train_loss: 0.0516  avg_val_loss: 0.0593  val_lwlrap: 0.300020  time: 102s<p>Epoch 78 - avg_train_loss: 0.0528  avg_val_loss: 0.1249  val_lwlrap: 0.124417  time: 101s<p>Epoch 79 - avg_train_loss: 0.0531  avg_val_loss: 0.0879  val_lwlrap: 0.125891  time: 99s<p>Epoch 80 - avg_train_loss: 0.0538  avg_val_loss: 0.0922  val_lwlrap: 0.104587  time: 99s<p>Epoch 81 - avg_train_loss: 0.0538  avg_val_loss: 0.0914  val_lwlrap: 0.113185  time: 101s<p>Epoch 82 - avg_train_loss: 0.0533  avg_val_loss: 0.1124  val_lwlrap: 0.085933  time: 98s<p>Epoch 83 - avg_train_loss: 0.0525  avg_val_loss: 0.1184  val_lwlrap: 0.102691  time: 100s<p>Epoch 84 - avg_train_loss: 0.0515  avg_val_loss: 0.0651  val_lwlrap: 0.249301  time: 100s<p>Epoch 85 - avg_train_loss: 0.0509  avg_val_loss: 0.0601  val_lwlrap: 0.310340  time: 100s<p>Epoch 86 - avg_train_loss: 0.0507  avg_val_loss: 0.0499  val_lwlrap: 0.417582  time: 101s<p>Epoch 87 - avg_train_loss: 0.0507  avg_val_loss: 0.0530  val_lwlrap: 0.378196  time: 100s<p>Epoch 88 - avg_train_loss: 0.0511  avg_val_loss: 0.1288  val_lwlrap: 0.125865  time: 100s<p>Epoch 89 - avg_train_loss: 0.0521  avg_val_loss: 0.1127  val_lwlrap: 0.120589  time: 102s<p>Epoch 90 - avg_train_loss: 0.0523  avg_val_loss: 0.1802  val_lwlrap: 0.066114  time: 99s<p>Epoch 91 - avg_train_loss: 0.0525  avg_val_loss: 0.0985  val_lwlrap: 0.067661  time: 99s<p>Epoch 92 - avg_train_loss: 0.0525  avg_val_loss: 0.0837  val_lwlrap: 0.110891  time: 101s<p>Epoch 93 - avg_train_loss: 0.0509  avg_val_loss: 0.6270  val_lwlrap: 0.092359  time: 101s<p>Epoch 94 - avg_train_loss: 0.0505  avg_val_loss: 0.1186  val_lwlrap: 0.161935  time: 99s<p>Epoch 95 - avg_train_loss: 0.0497  avg_val_loss: 0.0629  val_lwlrap: 0.308053  time: 100s<p>Epoch 96 - avg_train_loss: 0.0493  avg_val_loss: 0.0480  val_lwlrap: 0.430207  time: 100s<p>Epoch 97 - avg_train_loss: 0.0499  avg_val_loss: 0.0625  val_lwlrap: 0.275080  time: 102s<p>Epoch 98 - avg_train_loss: 0.0498  avg_val_loss: 0.1007  val_lwlrap: 0.162791  time: 102s<p>Epoch 99 - avg_train_loss: 0.0511  avg_val_loss: 0.1143  val_lwlrap: 0.103548  time: 100s<p>Epoch 100 - avg_train_loss: 0.0511  avg_val_loss: 0.0802  val_lwlrap: 0.074578  time: 99s<p>Epoch 101 - avg_train_loss: 0.0519  avg_val_loss: 0.4883  val_lwlrap: 0.089672  time: 101s<p>Epoch 102 - avg_train_loss: 0.0512  avg_val_loss: 0.0903  val_lwlrap: 0.156272  time: 100s<p>Epoch 103 - avg_train_loss: 0.0505  avg_val_loss: 0.1506  val_lwlrap: 0.074697  time: 99s<p>Epoch 104 - avg_train_loss: 0.0492  avg_val_loss: 0.0627  val_lwlrap: 0.233908  time: 100s<p>Epoch 105 - avg_train_loss: 0.0490  avg_val_loss: 0.0561  val_lwlrap: 0.339854  time: 101s<p>Epoch 106 - avg_train_loss: 0.0487  avg_val_loss: 0.0477  val_lwlrap: 0.430621  time: 99s<p>Epoch 107 - avg_train_loss: 0.0484  avg_val_loss: 0.0514  val_lwlrap: 0.380855  time: 101s<p>Epoch 108 - avg_train_loss: 0.0488  avg_val_loss: 0.1029  val_lwlrap: 0.190448  time: 101s<p>Epoch 109 - avg_train_loss: 0.0491  avg_val_loss: 0.0813  val_lwlrap: 0.170707  time: 101s<p>Epoch 110 - avg_train_loss: 0.0501  avg_val_loss: 0.1044  val_lwlrap: 0.101448  time: 100s<p>Epoch 111 - avg_train_loss: 0.0526  avg_val_loss: 0.0886  val_lwlrap: 0.142853  time: 102s<p>Epoch 112 - avg_train_loss: 0.0502  avg_val_loss: 0.1009  val_lwlrap: 0.119702  time: 99s<p>Epoch 113 - avg_train_loss: 0.0493  avg_val_loss: 0.1510  val_lwlrap: 0.081803  time: 101s<p>Epoch 114 - avg_train_loss: 0.0490  avg_val_loss: 0.0931  val_lwlrap: 0.201744  time: 102s<p>Epoch 115 - avg_train_loss: 0.0481  avg_val_loss: 0.0511  val_lwlrap: 0.403633  time: 100s<p>Epoch 116 - avg_train_loss: 0.0478  avg_val_loss: 0.0481  val_lwlrap: 0.437329  time: 100s<p>Epoch 117 - avg_train_loss: 0.0479  avg_val_loss: 0.0639  val_lwlrap: 0.235501  time: 103s<p>Epoch 118 - avg_train_loss: 0.0478  avg_val_loss: 0.0689  val_lwlrap: 0.222224  time: 100s"
            ],
            "text/plain": [
              "<IPython.core.display.HTML object>"
            ]
          },
          "metadata": {
            "tags": []
          }
        }
      ]
    },
    {
      "cell_type": "code",
      "metadata": {
        "id": "5eatWK78dRRh",
        "colab_type": "code",
        "colab": {
          "base_uri": "https://localhost:8080/",
          "height": 34
        },
        "outputId": "8dc56676-6455-4586-9fe6-94749b18b7f5"
      },
      "source": [
        "result"
      ],
      "execution_count": 32,
      "outputs": [
        {
          "output_type": "execute_result",
          "data": {
            "text/plain": [
              "{'best_epoch': 116, 'best_lwlrap': 0.43732918205452326}"
            ]
          },
          "metadata": {
            "tags": []
          },
          "execution_count": 32
        }
      ]
    },
    {
      "cell_type": "markdown",
      "metadata": {
        "id": "3GrsWQAAdftZ",
        "colab_type": "text"
      },
      "source": [
        "### trials"
      ]
    },
    {
      "cell_type": "markdown",
      "metadata": {
        "id": "L4QeSDI_M-lF",
        "colab_type": "text"
      },
      "source": [
        "***Data augmentation to apply***"
      ]
    },
    {
      "cell_type": "code",
      "metadata": {
        "id": "PDgnY7xmxbAw",
        "colab_type": "code",
        "colab": {}
      },
      "source": [
        "class FATTrainDataset(Dataset):\n",
        "    def __init__(self, mels, labels, transforms):\n",
        "        super().__init__()\n",
        "        self.mels = mels\n",
        "        self.labels = labels\n",
        "        self.transforms = transforms\n",
        "        \n",
        "    def __len__(self):\n",
        "        return len(self.mels)\n",
        "    \n",
        "    def __getitem__(self, idx):\n",
        "        # crop 1sec\n",
        "        image = Image.fromarray(self.mels[idx], mode='RGB')        \n",
        "        time_dim, base_dim = image.size\n",
        "        crop = random.randint(0, time_dim - base_dim)\n",
        "        image = image.crop([crop, 0, crop + base_dim, base_dim])\n",
        "        image = self.transforms(image).div_(255)\n",
        "        \n",
        "        label = self.labels[idx]\n",
        "        label = torch.from_numpy(label).float()\n",
        "        \n",
        "        return image, label"
      ],
      "execution_count": 0,
      "outputs": []
    },
    {
      "cell_type": "code",
      "metadata": {
        "id": "QXY5NQZTRlex",
        "colab_type": "code",
        "colab": {}
      },
      "source": [
        "transforms_dict = {\n",
        "    'train': transforms.Compose([\n",
        "        transforms.RandomHorizontalFlip(0.5),\n",
        "        transforms.ToTensor(),\n",
        "    ]),\n",
        "    'test': transforms.Compose([\n",
        "        transforms.RandomHorizontalFlip(0.5),\n",
        "        transforms.ToTensor(),\n",
        "    ]),\n",
        "}"
      ],
      "execution_count": 0,
      "outputs": []
    },
    {
      "cell_type": "code",
      "metadata": {
        "id": "Bka5v-hwRuoX",
        "colab_type": "code",
        "colab": {}
      },
      "source": [
        "train_transforms = transforms_dict['train']\n",
        "\n",
        "batch_size = 128\n",
        "\n",
        "test_batch_size = 256"
      ],
      "execution_count": 0,
      "outputs": []
    },
    {
      "cell_type": "code",
      "metadata": {
        "id": "un5t03qkROPB",
        "colab_type": "code",
        "colab": {}
      },
      "source": [
        "num_classes = y_train.shape[1]\n",
        "\n",
        "x_trn, x_val, y_trn, y_val = train_test_split(x_train, y_train, test_size=0.2, random_state=SEED)\n",
        "\n",
        "train_dataset = FATTrainDataset(x_trn, y_trn, train_transforms)\n",
        "valid_dataset = FATTrainDataset(x_val, y_val, train_transforms)\n",
        "\n",
        "train_loader = DataLoader(train_dataset, batch_size=batch_size, shuffle=True)\n",
        "valid_loader = DataLoader(valid_dataset, batch_size=test_batch_size, shuffle=False)"
      ],
      "execution_count": 0,
      "outputs": []
    },
    {
      "cell_type": "code",
      "metadata": {
        "id": "X_MZM3WPRgiH",
        "colab_type": "code",
        "outputId": "f39ff15f-73ab-4e7d-cc69-aaba1fa3d34b",
        "colab": {
          "base_uri": "https://localhost:8080/",
          "height": 34
        }
      },
      "source": [
        "len(train_dataset), len(valid_dataset)"
      ],
      "execution_count": 0,
      "outputs": [
        {
          "output_type": "execute_result",
          "data": {
            "text/plain": [
              "(7176, 1794)"
            ]
          },
          "metadata": {
            "tags": []
          },
          "execution_count": 23
        }
      ]
    },
    {
      "cell_type": "code",
      "metadata": {
        "id": "WLTTjRohSAIN",
        "colab_type": "code",
        "outputId": "5b3f56fa-1002-41cc-9e2c-837daffbb3ef",
        "colab": {
          "base_uri": "https://localhost:8080/",
          "height": 493
        }
      },
      "source": [
        "train_dataset[0]"
      ],
      "execution_count": 0,
      "outputs": [
        {
          "output_type": "execute_result",
          "data": {
            "text/plain": [
              "(tensor([[[0.0018, 0.0016, 0.0017,  ..., 0.0020, 0.0020, 0.0022],\n",
              "          [0.0018, 0.0017, 0.0017,  ..., 0.0020, 0.0019, 0.0021],\n",
              "          [0.0016, 0.0016, 0.0016,  ..., 0.0020, 0.0019, 0.0021],\n",
              "          ...,\n",
              "          [0.0006, 0.0006, 0.0006,  ..., 0.0006, 0.0006, 0.0005],\n",
              "          [0.0005, 0.0005, 0.0005,  ..., 0.0005, 0.0005, 0.0005],\n",
              "          [0.0004, 0.0004, 0.0004,  ..., 0.0003, 0.0004, 0.0004]],\n",
              " \n",
              "         [[0.0018, 0.0016, 0.0017,  ..., 0.0020, 0.0020, 0.0022],\n",
              "          [0.0018, 0.0017, 0.0017,  ..., 0.0020, 0.0019, 0.0021],\n",
              "          [0.0016, 0.0016, 0.0016,  ..., 0.0020, 0.0019, 0.0021],\n",
              "          ...,\n",
              "          [0.0006, 0.0006, 0.0006,  ..., 0.0006, 0.0006, 0.0005],\n",
              "          [0.0005, 0.0005, 0.0005,  ..., 0.0005, 0.0005, 0.0005],\n",
              "          [0.0004, 0.0004, 0.0004,  ..., 0.0003, 0.0004, 0.0004]],\n",
              " \n",
              "         [[0.0018, 0.0016, 0.0017,  ..., 0.0020, 0.0020, 0.0022],\n",
              "          [0.0018, 0.0017, 0.0017,  ..., 0.0020, 0.0019, 0.0021],\n",
              "          [0.0016, 0.0016, 0.0016,  ..., 0.0020, 0.0019, 0.0021],\n",
              "          ...,\n",
              "          [0.0006, 0.0006, 0.0006,  ..., 0.0006, 0.0006, 0.0005],\n",
              "          [0.0005, 0.0005, 0.0005,  ..., 0.0005, 0.0005, 0.0005],\n",
              "          [0.0004, 0.0004, 0.0004,  ..., 0.0003, 0.0004, 0.0004]]]),\n",
              " tensor([0., 0., 0., 0., 0., 0., 0., 0., 0., 0., 0., 0., 0., 0., 0., 0., 0., 0.,\n",
              "         0., 0., 1., 0., 0., 0., 0., 0., 0., 0., 0., 0., 0., 0., 0., 0., 0., 0.,\n",
              "         0., 0., 0., 0., 0., 0., 0., 0., 0., 0., 0., 0., 0., 0., 0., 0., 0., 0.,\n",
              "         0., 0., 0., 0., 0., 0., 0., 0., 0., 0., 0., 0., 0., 0., 0., 0., 0., 0.,\n",
              "         0., 0., 0., 0., 0., 0., 0., 0.]))"
            ]
          },
          "metadata": {
            "tags": []
          },
          "execution_count": 24
        }
      ]
    },
    {
      "cell_type": "code",
      "metadata": {
        "id": "VazaK1fvSKFn",
        "colab_type": "code",
        "outputId": "a0884811-dd4a-4061-c94c-911d14d77a50",
        "colab": {
          "base_uri": "https://localhost:8080/",
          "height": 850
        }
      },
      "source": [
        "train_dataset.mels[0]"
      ],
      "execution_count": 0,
      "outputs": [
        {
          "output_type": "execute_result",
          "data": {
            "text/plain": [
              "array([[[145, 145, 145],\n",
              "        [140, 140, 140],\n",
              "        [127, 127, 127],\n",
              "        ...,\n",
              "        [ 93,  93,  93],\n",
              "        [122, 122, 122],\n",
              "        [121, 121, 121]],\n",
              "\n",
              "       [[126, 126, 126],\n",
              "        [138, 138, 138],\n",
              "        [126, 126, 126],\n",
              "        ...,\n",
              "        [101, 101, 101],\n",
              "        [115, 115, 115],\n",
              "        [104, 104, 104]],\n",
              "\n",
              "       [[139, 139, 139],\n",
              "        [134, 134, 134],\n",
              "        [125, 125, 125],\n",
              "        ...,\n",
              "        [ 91,  91,  91],\n",
              "        [110, 110, 110],\n",
              "        [111, 111, 111]],\n",
              "\n",
              "       ...,\n",
              "\n",
              "       [[ 34,  34,  34],\n",
              "        [ 32,  32,  32],\n",
              "        [ 37,  37,  37],\n",
              "        ...,\n",
              "        [ 35,  35,  35],\n",
              "        [ 36,  36,  36],\n",
              "        [ 34,  34,  34]],\n",
              "\n",
              "       [[ 34,  34,  34],\n",
              "        [ 31,  31,  31],\n",
              "        [ 32,  32,  32],\n",
              "        ...,\n",
              "        [ 30,  30,  30],\n",
              "        [ 31,  31,  31],\n",
              "        [ 32,  32,  32]],\n",
              "\n",
              "       [[ 20,  20,  20],\n",
              "        [ 27,  27,  27],\n",
              "        [ 25,  25,  25],\n",
              "        ...,\n",
              "        [ 17,  17,  17],\n",
              "        [ 21,  21,  21],\n",
              "        [ 30,  30,  30]]], dtype=uint8)"
            ]
          },
          "metadata": {
            "tags": []
          },
          "execution_count": 28
        }
      ]
    },
    {
      "cell_type": "code",
      "metadata": {
        "id": "VSPSwIuPSPiB",
        "colab_type": "code",
        "outputId": "f2d9d490-e6d3-4fd0-f074-d46105825b04",
        "colab": {
          "base_uri": "https://localhost:8080/",
          "height": 34
        }
      },
      "source": [
        "train_dataset.mels[2].shape"
      ],
      "execution_count": 0,
      "outputs": [
        {
          "output_type": "execute_result",
          "data": {
            "text/plain": [
              "(128, 954, 3)"
            ]
          },
          "metadata": {
            "tags": []
          },
          "execution_count": 32
        }
      ]
    },
    {
      "cell_type": "code",
      "metadata": {
        "id": "gzO1y6IqSppC",
        "colab_type": "code",
        "outputId": "0e46e0e6-7cc4-4daf-c7cd-da3d66045a0e",
        "colab": {
          "base_uri": "https://localhost:8080/",
          "height": 114
        }
      },
      "source": [
        "import matplotlib.pyplot as plt\n",
        "\n",
        "plt.imshow(train_dataset.mels[2])"
      ],
      "execution_count": 0,
      "outputs": [
        {
          "output_type": "execute_result",
          "data": {
            "text/plain": [
              "<matplotlib.image.AxesImage at 0x7f6888f79f98>"
            ]
          },
          "metadata": {
            "tags": []
          },
          "execution_count": 34
        },
        {
          "output_type": "display_data",
          "data": {
            "image/png": "[encoded data removed]",
            "text/plain": [
              "<Figure size 432x288 with 1 Axes>"
            ]
          },
          "metadata": {
            "tags": []
          }
        }
      ]
    },
    {
      "cell_type": "code",
      "metadata": {
        "id": "xw1Rwvz4TFvB",
        "colab_type": "code",
        "outputId": "a55583bd-e785-4537-bb4a-ce1d0d3cea97",
        "colab": {
          "base_uri": "https://localhost:8080/",
          "height": 85
        }
      },
      "source": [
        "train_dataset.labels[2]"
      ],
      "execution_count": 0,
      "outputs": [
        {
          "output_type": "execute_result",
          "data": {
            "text/plain": [
              "array([0, 0, 0, 0, 0, 0, 0, 0, 0, 0, 0, 0, 0, 0, 0, 0, 0, 0, 0, 0, 0, 0,\n",
              "       0, 0, 0, 0, 0, 0, 0, 0, 0, 0, 0, 0, 0, 0, 0, 0, 0, 0, 0, 0, 0, 0,\n",
              "       0, 0, 0, 0, 0, 0, 0, 0, 0, 0, 0, 0, 0, 0, 0, 0, 0, 0, 0, 0, 1, 0,\n",
              "       0, 0, 0, 0, 0, 0, 0, 0, 0, 0, 0, 0, 0, 0])"
            ]
          },
          "metadata": {
            "tags": []
          },
          "execution_count": 35
        }
      ]
    },
    {
      "cell_type": "code",
      "metadata": {
        "id": "XMWGyq9RTJVq",
        "colab_type": "code",
        "colab": {}
      },
      "source": [
        "mb_example = next(iter(train_loader))"
      ],
      "execution_count": 0,
      "outputs": []
    },
    {
      "cell_type": "code",
      "metadata": {
        "id": "psdqochkTSFc",
        "colab_type": "code",
        "outputId": "13530755-36f5-4222-adb1-d068f8640c54",
        "colab": {
          "base_uri": "https://localhost:8080/",
          "height": 34
        }
      },
      "source": [
        "mb_example[0].size(), mb_example[1].size()"
      ],
      "execution_count": 0,
      "outputs": [
        {
          "output_type": "execute_result",
          "data": {
            "text/plain": [
              "(torch.Size([128, 3, 128, 128]), torch.Size([128, 80]))"
            ]
          },
          "metadata": {
            "tags": []
          },
          "execution_count": 41
        }
      ]
    },
    {
      "cell_type": "code",
      "metadata": {
        "id": "8XWKWwc3TUz1",
        "colab_type": "code",
        "outputId": "6fa6c8b1-cac5-486c-f18b-7dde2d839850",
        "colab": {
          "base_uri": "https://localhost:8080/",
          "height": 124
        }
      },
      "source": [
        "fig = plt.figure()\n",
        "for i in range(0,4):\n",
        "    sub_plot = fig.add_subplot(1,4,i+1)\n",
        "    sub_plot.axis('Off')\n",
        "    plt.imshow(mb_example[0][i,0].numpy())"
      ],
      "execution_count": 0,
      "outputs": [
        {
          "output_type": "display_data",
          "data": {
            "image/png": "[encoded data removed]",
            "text/plain": [
              "<Figure size 432x288 with 4 Axes>"
            ]
          },
          "metadata": {
            "tags": []
          }
        }
      ]
    },
    {
      "cell_type": "code",
      "metadata": {
        "id": "x34JCsoBTnyp",
        "colab_type": "code",
        "outputId": "e084288f-a6ce-41f9-8c8a-e4b0a675049e",
        "colab": {
          "base_uri": "https://localhost:8080/",
          "height": 34
        }
      },
      "source": [
        "len(x_train)"
      ],
      "execution_count": 0,
      "outputs": [
        {
          "output_type": "execute_result",
          "data": {
            "text/plain": [
              "8970"
            ]
          },
          "metadata": {
            "tags": []
          },
          "execution_count": 45
        }
      ]
    },
    {
      "cell_type": "code",
      "metadata": {
        "id": "DuQSNJunVOL8",
        "colab_type": "code",
        "outputId": "39152317-170e-4c5f-e545-1415db4578c7",
        "colab": {
          "base_uri": "https://localhost:8080/",
          "height": 164
        }
      },
      "source": [
        "image = Image.fromarray(x_train[0], mode='RGB')        \n",
        "plt.imshow(image)"
      ],
      "execution_count": 0,
      "outputs": [
        {
          "output_type": "execute_result",
          "data": {
            "text/plain": [
              "<matplotlib.image.AxesImage at 0x7f6884ae4668>"
            ]
          },
          "metadata": {
            "tags": []
          },
          "execution_count": 58
        },
        {
          "output_type": "display_data",
          "data": {
            "image/png": "[encoded data removed]",
            "text/plain": [
              "<Figure size 432x288 with 1 Axes>"
            ]
          },
          "metadata": {
            "tags": []
          }
        }
      ]
    },
    {
      "cell_type": "code",
      "metadata": {
        "id": "X-PjLxEdVl7x",
        "colab_type": "code",
        "outputId": "00099c3d-25c9-4411-8977-1768c6a91359",
        "colab": {
          "base_uri": "https://localhost:8080/",
          "height": 34
        }
      },
      "source": [
        "x_train[0].shape"
      ],
      "execution_count": 0,
      "outputs": [
        {
          "output_type": "execute_result",
          "data": {
            "text/plain": [
              "(128, 448, 3)"
            ]
          },
          "metadata": {
            "tags": []
          },
          "execution_count": 59
        }
      ]
    },
    {
      "cell_type": "code",
      "metadata": {
        "id": "Uq3VvSAZXHD2",
        "colab_type": "code",
        "colab": {}
      },
      "source": [
        "old_im = Image.fromarray(x_train[0], mode='RGB')        \n",
        "old_size = old_im.size"
      ],
      "execution_count": 0,
      "outputs": []
    },
    {
      "cell_type": "code",
      "metadata": {
        "id": "5LfDPw54XKyx",
        "colab_type": "code",
        "outputId": "651f84a6-57c9-428d-87d3-995e06458b24",
        "colab": {
          "base_uri": "https://localhost:8080/",
          "height": 34
        }
      },
      "source": [
        "old_size"
      ],
      "execution_count": 0,
      "outputs": [
        {
          "output_type": "execute_result",
          "data": {
            "text/plain": [
              "(448, 128)"
            ]
          },
          "metadata": {
            "tags": []
          },
          "execution_count": 57
        }
      ]
    },
    {
      "cell_type": "code",
      "metadata": {
        "id": "sGyhFwObZklG",
        "colab_type": "code",
        "colab": {}
      },
      "source": [
        "old_im = Image.fromarray(x_train[0], mode='RGB') \n",
        "desired_size = max(old_im.size)"
      ],
      "execution_count": 0,
      "outputs": []
    },
    {
      "cell_type": "code",
      "metadata": {
        "id": "IMnB4tjtZsDc",
        "colab_type": "code",
        "outputId": "ae4df089-cc36-4751-b3df-33c6388cc503",
        "colab": {
          "base_uri": "https://localhost:8080/",
          "height": 34
        }
      },
      "source": [
        "new_size = (desired_size, desired_size)\n",
        "new_size"
      ],
      "execution_count": 0,
      "outputs": [
        {
          "output_type": "execute_result",
          "data": {
            "text/plain": [
              "(448, 448)"
            ]
          },
          "metadata": {
            "tags": []
          },
          "execution_count": 74
        }
      ]
    },
    {
      "cell_type": "code",
      "metadata": {
        "id": "_jGtttA-W-LI",
        "colab_type": "code",
        "colab": {}
      },
      "source": [
        "#data augmentation to be applied\n",
        "\n",
        "old_im = Image.fromarray(x_train[0], mode='RGB')        \n",
        "old_size = old_im.size\n",
        "\n",
        "desired_size=448\n",
        "\n",
        "ratio = float(desired_size)/max(old_size)\n",
        "\n",
        "new_size = (448, 448)\n",
        "\n",
        "im = old_im.resize(new_size, Image.ANTIALIAS)\n",
        "\n",
        "new_im = Image.new(\"RGB\", (desired_size, desired_size))\n",
        "\n",
        "new_im.paste(im, ((desired_size-new_size[0])//2,\n",
        "                    (desired_size-new_size[1])//2))\n",
        "new_im.show()"
      ],
      "execution_count": 0,
      "outputs": []
    },
    {
      "cell_type": "code",
      "metadata": {
        "id": "ooEiujA4YKkx",
        "colab_type": "code",
        "outputId": "712a76c3-f988-4cd4-934e-c206ba506167",
        "colab": {
          "base_uri": "https://localhost:8080/",
          "height": 286
        }
      },
      "source": [
        "plt.imshow(new_im)"
      ],
      "execution_count": 0,
      "outputs": [
        {
          "output_type": "execute_result",
          "data": {
            "text/plain": [
              "<matplotlib.image.AxesImage at 0x7f6884a12470>"
            ]
          },
          "metadata": {
            "tags": []
          },
          "execution_count": 69
        },
        {
          "output_type": "display_data",
          "data": {
            "image/png": "[encoded data removed]",
            "text/plain": [
              "<Figure size 432x288 with 1 Axes>"
            ]
          },
          "metadata": {
            "tags": []
          }
        }
      ]
    },
    {
      "cell_type": "code",
      "metadata": {
        "id": "eM2bQKeKX-QQ",
        "colab_type": "code",
        "outputId": "be8b7305-bd05-48c3-ae2e-1d4088a031c8",
        "colab": {
          "base_uri": "https://localhost:8080/",
          "height": 34
        }
      },
      "source": [
        "np.array(new_im).shape"
      ],
      "execution_count": 0,
      "outputs": [
        {
          "output_type": "execute_result",
          "data": {
            "text/plain": [
              "(448, 448, 3)"
            ]
          },
          "metadata": {
            "tags": []
          },
          "execution_count": 75
        }
      ]
    },
    {
      "cell_type": "code",
      "metadata": {
        "id": "lwljpAPfVnPo",
        "colab_type": "code",
        "outputId": "a984ed5e-1c18-4395-9f55-b3e1cb02dfa5",
        "colab": {
          "base_uri": "https://localhost:8080/",
          "height": 286
        }
      },
      "source": [
        "image = Image.fromarray(x_train[0], mode='RGB')     \n",
        "time_dim, base_dim = image.size\n",
        "crop = random.randint(0, time_dim - base_dim)\n",
        "image = image.crop([crop, 0, crop + base_dim, base_dim])\n",
        "plt.imshow(image)"
      ],
      "execution_count": 0,
      "outputs": [
        {
          "output_type": "execute_result",
          "data": {
            "text/plain": [
              "<matplotlib.image.AxesImage at 0x7f6884ba8be0>"
            ]
          },
          "metadata": {
            "tags": []
          },
          "execution_count": 51
        },
        {
          "output_type": "display_data",
          "data": {
            "image/png": "[encoded data removed]",
            "text/plain": [
              "<Figure size 432x288 with 1 Axes>"
            ]
          },
          "metadata": {
            "tags": []
          }
        }
      ]
    },
    {
      "cell_type": "code",
      "metadata": {
        "id": "r7TzL0E_V0bz",
        "colab_type": "code",
        "outputId": "0a7316e9-a3b6-473d-f0f9-ecdd7a393790",
        "colab": {
          "base_uri": "https://localhost:8080/",
          "height": 34
        }
      },
      "source": [
        "np.array(image).shape"
      ],
      "execution_count": 0,
      "outputs": [
        {
          "output_type": "execute_result",
          "data": {
            "text/plain": [
              "(128, 128, 3)"
            ]
          },
          "metadata": {
            "tags": []
          },
          "execution_count": 52
        }
      ]
    },
    {
      "cell_type": "code",
      "metadata": {
        "id": "sCsZUdOvWn99",
        "colab_type": "code",
        "colab": {}
      },
      "source": [
        "import Image\n",
        "\n",
        "old_im = Image.fromarray(x_train[0], mode='RGB')        \n",
        "old_size = old_im.size\n",
        "\n",
        "new_size = (800, 800)\n",
        "new_im = Image.new(\"RGB\", new_size)   ## luckily, this is already black!\n",
        "new_im.paste(old_im, ((new_size[0]-old_size[0])/2,\n",
        "                      (new_size[1]-old_size[1])/2))\n",
        "\n",
        "new_im.show()\n",
        "# new_im.save('someimage.jpg'"
      ],
      "execution_count": 0,
      "outputs": []
    },
    {
      "cell_type": "code",
      "metadata": {
        "id": "xzk4AtZRVEBY",
        "colab_type": "code",
        "colab": {}
      },
      "source": [
        "image = Image.fromarray(self.mels[idx], mode='RGB')        \n",
        "time_dim, base_dim = image.size\n",
        "crop = random.randint(0, time_dim - base_dim)\n",
        "image = image.crop([crop, 0, crop + base_dim, base_dim])\n",
        "image = self.transforms(image).div_(255)"
      ],
      "execution_count": 0,
      "outputs": []
    },
    {
      "cell_type": "code",
      "metadata": {
        "id": "TUzFIqazxa3n",
        "colab_type": "code",
        "colab": {}
      },
      "source": [
        "class FATTestDataset(Dataset):\n",
        "    def __init__(self, fnames, mels, transforms, tta=5):\n",
        "        super().__init__()\n",
        "        self.fnames = fnames\n",
        "        self.mels = mels\n",
        "        self.transforms = transforms\n",
        "        self.tta = tta\n",
        "        \n",
        "    def __len__(self):\n",
        "        return len(self.fnames) * self.tta\n",
        "    \n",
        "    def __getitem__(self, idx):\n",
        "        new_idx = idx % len(self.fnames)\n",
        "        \n",
        "        image = Image.fromarray(self.mels[new_idx], mode='RGB')\n",
        "        time_dim, base_dim = image.size\n",
        "        crop = random.randint(0, time_dim - base_dim)\n",
        "        image = image.crop([crop, 0, crop + base_dim, base_dim])\n",
        "        image = self.transforms(image).div_(255)\n",
        "\n",
        "        fname = self.fnames[new_idx]\n",
        "        \n",
        "        return image, fname"
      ],
      "execution_count": 0,
      "outputs": []
    },
    {
      "cell_type": "code",
      "metadata": {
        "id": "OlYwSC7oxaw_",
        "colab_type": "code",
        "colab": {}
      },
      "source": [
        "transforms_dict = {\n",
        "    'train': transforms.Compose([\n",
        "        transforms.RandomHorizontalFlip(0.5),\n",
        "        transforms.ToTensor(),\n",
        "    ]),\n",
        "    'test': transforms.Compose([\n",
        "        transforms.RandomHorizontalFlip(0.5),\n",
        "        transforms.ToTensor(),\n",
        "    ]),\n",
        "}"
      ],
      "execution_count": 0,
      "outputs": []
    },
    {
      "cell_type": "markdown",
      "metadata": {
        "id": "IfPqd69JM36W",
        "colab_type": "text"
      },
      "source": [
        "***Changes: lr finder***"
      ]
    },
    {
      "cell_type": "code",
      "metadata": {
        "id": "GCmy4ugkM1yc",
        "colab_type": "code",
        "colab": {}
      },
      "source": [
        "model = model_ft\n",
        "criterion = nn.BCEWithLogitsLoss().cuda()\n",
        "optimizer = Adam(params=model.parameters(), lr=lr, amsgrad=False)\n",
        "scheduler = CosineAnnealingLR(optimizer, T_max=t_max, eta_min=eta_min)\n"
      ],
      "execution_count": 0,
      "outputs": []
    },
    {
      "cell_type": "code",
      "metadata": {
        "id": "W9lQ9pXH1h5T",
        "colab_type": "code",
        "outputId": "a610eabd-a682-4cf2-d119-28d5dfbf78b7",
        "colab": {
          "base_uri": "https://localhost:8080/",
          "height": 170
        }
      },
      "source": [
        "#pretrained models:\n",
        "!pip install pretrainedmodels"
      ],
      "execution_count": 0,
      "outputs": [
        {
          "output_type": "stream",
          "text": [
            "Requirement already satisfied: pretrainedmodels in /usr/local/lib/python3.6/dist-packages (0.7.4)\n",
            "Requirement already satisfied: torch in /usr/local/lib/python3.6/dist-packages (from pretrainedmodels) (1.1.0)\n",
            "Requirement already satisfied: munch in /usr/local/lib/python3.6/dist-packages (from pretrainedmodels) (2.3.2)\n",
            "Requirement already satisfied: torchvision in /usr/local/lib/python3.6/dist-packages (from pretrainedmodels) (0.2.2.post3)\n",
            "Requirement already satisfied: tqdm in /usr/local/lib/python3.6/dist-packages (from pretrainedmodels) (4.28.1)\n",
            "Requirement already satisfied: numpy in /usr/local/lib/python3.6/dist-packages (from torch->pretrainedmodels) (1.16.3)\n",
            "Requirement already satisfied: six in /usr/local/lib/python3.6/dist-packages (from munch->pretrainedmodels) (1.12.0)\n",
            "Requirement already satisfied: pillow>=4.1.1 in /usr/local/lib/python3.6/dist-packages (from torchvision->pretrainedmodels) (4.3.0)\n",
            "Requirement already satisfied: olefile in /usr/local/lib/python3.6/dist-packages (from pillow>=4.1.1->torchvision->pretrainedmodels) (0.46)\n"
          ],
          "name": "stdout"
        }
      ]
    },
    {
      "cell_type": "code",
      "metadata": {
        "id": "wygwRmh61nwJ",
        "colab_type": "code",
        "outputId": "3fb49afe-29da-42bd-9271-972d834a67fd",
        "colab": {
          "base_uri": "https://localhost:8080/",
          "height": 54
        }
      },
      "source": [
        "import pretrainedmodels\n",
        "print(pretrainedmodels.model_names)"
      ],
      "execution_count": 0,
      "outputs": [
        {
          "output_type": "stream",
          "text": [
            "['fbresnet152', 'bninception', 'resnext101_32x4d', 'resnext101_64x4d', 'inceptionv4', 'inceptionresnetv2', 'alexnet', 'densenet121', 'densenet169', 'densenet201', 'densenet161', 'resnet18', 'resnet34', 'resnet50', 'resnet101', 'resnet152', 'inceptionv3', 'squeezenet1_0', 'squeezenet1_1', 'vgg11', 'vgg11_bn', 'vgg13', 'vgg13_bn', 'vgg16', 'vgg16_bn', 'vgg19_bn', 'vgg19', 'nasnetamobile', 'nasnetalarge', 'dpn68', 'dpn68b', 'dpn92', 'dpn98', 'dpn131', 'dpn107', 'xception', 'senet154', 'se_resnet50', 'se_resnet101', 'se_resnet152', 'se_resnext50_32x4d', 'se_resnext101_32x4d', 'cafferesnet101', 'pnasnet5large', 'polynet']\n"
          ],
          "name": "stdout"
        }
      ]
    },
    {
      "cell_type": "code",
      "metadata": {
        "id": "I-umZzHM1qkP",
        "colab_type": "code",
        "outputId": "dc7050e8-d6d5-46d0-c538-5b4a88ee9682",
        "colab": {
          "base_uri": "https://localhost:8080/",
          "height": 51
        }
      },
      "source": [
        "# to load a pretrained models\n",
        "model_name = 'resnet50' # could be fbresnet152 or inceptionresnetv2\n",
        "model_ft = pretrainedmodels.__dict__[model_name](num_classes=1000)\n",
        "#model.eval()"
      ],
      "execution_count": 0,
      "outputs": [
        {
          "output_type": "stream",
          "text": [
            "Downloading: \"https://download.pytorch.org/models/resnet50-19c8e357.pth\" to /root/.cache/torch/checkpoints/resnet50-19c8e357.pth\n",
            "100%|██████████| 102502400/102502400 [00:01<00:00, 76512125.93it/s]\n"
          ],
          "name": "stderr"
        }
      ]
    },
    {
      "cell_type": "code",
      "metadata": {
        "id": "bXnKbF-J-fPE",
        "colab_type": "code",
        "outputId": "cf5be39e-c976-4b62-f7d5-3a14bdcf65ed",
        "colab": {
          "base_uri": "https://localhost:8080/",
          "height": 3026
        }
      },
      "source": [
        "model_ft"
      ],
      "execution_count": 0,
      "outputs": [
        {
          "output_type": "execute_result",
          "data": {
            "text/plain": [
              "ResNet(\n",
              "  (conv1): Conv2d(3, 64, kernel_size=(7, 7), stride=(2, 2), padding=(3, 3), bias=False)\n",
              "  (bn1): BatchNorm2d(64, eps=1e-05, momentum=0.1, affine=True, track_running_stats=True)\n",
              "  (relu): ReLU(inplace)\n",
              "  (maxpool): MaxPool2d(kernel_size=3, stride=2, padding=1, dilation=1, ceil_mode=False)\n",
              "  (layer1): Sequential(\n",
              "    (0): Bottleneck(\n",
              "      (conv1): Conv2d(64, 64, kernel_size=(1, 1), stride=(1, 1), bias=False)\n",
              "      (bn1): BatchNorm2d(64, eps=1e-05, momentum=0.1, affine=True, track_running_stats=True)\n",
              "      (conv2): Conv2d(64, 64, kernel_size=(3, 3), stride=(1, 1), padding=(1, 1), bias=False)\n",
              "      (bn2): BatchNorm2d(64, eps=1e-05, momentum=0.1, affine=True, track_running_stats=True)\n",
              "      (conv3): Conv2d(64, 256, kernel_size=(1, 1), stride=(1, 1), bias=False)\n",
              "      (bn3): BatchNorm2d(256, eps=1e-05, momentum=0.1, affine=True, track_running_stats=True)\n",
              "      (relu): ReLU(inplace)\n",
              "      (downsample): Sequential(\n",
              "        (0): Conv2d(64, 256, kernel_size=(1, 1), stride=(1, 1), bias=False)\n",
              "        (1): BatchNorm2d(256, eps=1e-05, momentum=0.1, affine=True, track_running_stats=True)\n",
              "      )\n",
              "    )\n",
              "    (1): Bottleneck(\n",
              "      (conv1): Conv2d(256, 64, kernel_size=(1, 1), stride=(1, 1), bias=False)\n",
              "      (bn1): BatchNorm2d(64, eps=1e-05, momentum=0.1, affine=True, track_running_stats=True)\n",
              "      (conv2): Conv2d(64, 64, kernel_size=(3, 3), stride=(1, 1), padding=(1, 1), bias=False)\n",
              "      (bn2): BatchNorm2d(64, eps=1e-05, momentum=0.1, affine=True, track_running_stats=True)\n",
              "      (conv3): Conv2d(64, 256, kernel_size=(1, 1), stride=(1, 1), bias=False)\n",
              "      (bn3): BatchNorm2d(256, eps=1e-05, momentum=0.1, affine=True, track_running_stats=True)\n",
              "      (relu): ReLU(inplace)\n",
              "    )\n",
              "    (2): Bottleneck(\n",
              "      (conv1): Conv2d(256, 64, kernel_size=(1, 1), stride=(1, 1), bias=False)\n",
              "      (bn1): BatchNorm2d(64, eps=1e-05, momentum=0.1, affine=True, track_running_stats=True)\n",
              "      (conv2): Conv2d(64, 64, kernel_size=(3, 3), stride=(1, 1), padding=(1, 1), bias=False)\n",
              "      (bn2): BatchNorm2d(64, eps=1e-05, momentum=0.1, affine=True, track_running_stats=True)\n",
              "      (conv3): Conv2d(64, 256, kernel_size=(1, 1), stride=(1, 1), bias=False)\n",
              "      (bn3): BatchNorm2d(256, eps=1e-05, momentum=0.1, affine=True, track_running_stats=True)\n",
              "      (relu): ReLU(inplace)\n",
              "    )\n",
              "  )\n",
              "  (layer2): Sequential(\n",
              "    (0): Bottleneck(\n",
              "      (conv1): Conv2d(256, 128, kernel_size=(1, 1), stride=(1, 1), bias=False)\n",
              "      (bn1): BatchNorm2d(128, eps=1e-05, momentum=0.1, affine=True, track_running_stats=True)\n",
              "      (conv2): Conv2d(128, 128, kernel_size=(3, 3), stride=(2, 2), padding=(1, 1), bias=False)\n",
              "      (bn2): BatchNorm2d(128, eps=1e-05, momentum=0.1, affine=True, track_running_stats=True)\n",
              "      (conv3): Conv2d(128, 512, kernel_size=(1, 1), stride=(1, 1), bias=False)\n",
              "      (bn3): BatchNorm2d(512, eps=1e-05, momentum=0.1, affine=True, track_running_stats=True)\n",
              "      (relu): ReLU(inplace)\n",
              "      (downsample): Sequential(\n",
              "        (0): Conv2d(256, 512, kernel_size=(1, 1), stride=(2, 2), bias=False)\n",
              "        (1): BatchNorm2d(512, eps=1e-05, momentum=0.1, affine=True, track_running_stats=True)\n",
              "      )\n",
              "    )\n",
              "    (1): Bottleneck(\n",
              "      (conv1): Conv2d(512, 128, kernel_size=(1, 1), stride=(1, 1), bias=False)\n",
              "      (bn1): BatchNorm2d(128, eps=1e-05, momentum=0.1, affine=True, track_running_stats=True)\n",
              "      (conv2): Conv2d(128, 128, kernel_size=(3, 3), stride=(1, 1), padding=(1, 1), bias=False)\n",
              "      (bn2): BatchNorm2d(128, eps=1e-05, momentum=0.1, affine=True, track_running_stats=True)\n",
              "      (conv3): Conv2d(128, 512, kernel_size=(1, 1), stride=(1, 1), bias=False)\n",
              "      (bn3): BatchNorm2d(512, eps=1e-05, momentum=0.1, affine=True, track_running_stats=True)\n",
              "      (relu): ReLU(inplace)\n",
              "    )\n",
              "    (2): Bottleneck(\n",
              "      (conv1): Conv2d(512, 128, kernel_size=(1, 1), stride=(1, 1), bias=False)\n",
              "      (bn1): BatchNorm2d(128, eps=1e-05, momentum=0.1, affine=True, track_running_stats=True)\n",
              "      (conv2): Conv2d(128, 128, kernel_size=(3, 3), stride=(1, 1), padding=(1, 1), bias=False)\n",
              "      (bn2): BatchNorm2d(128, eps=1e-05, momentum=0.1, affine=True, track_running_stats=True)\n",
              "      (conv3): Conv2d(128, 512, kernel_size=(1, 1), stride=(1, 1), bias=False)\n",
              "      (bn3): BatchNorm2d(512, eps=1e-05, momentum=0.1, affine=True, track_running_stats=True)\n",
              "      (relu): ReLU(inplace)\n",
              "    )\n",
              "    (3): Bottleneck(\n",
              "      (conv1): Conv2d(512, 128, kernel_size=(1, 1), stride=(1, 1), bias=False)\n",
              "      (bn1): BatchNorm2d(128, eps=1e-05, momentum=0.1, affine=True, track_running_stats=True)\n",
              "      (conv2): Conv2d(128, 128, kernel_size=(3, 3), stride=(1, 1), padding=(1, 1), bias=False)\n",
              "      (bn2): BatchNorm2d(128, eps=1e-05, momentum=0.1, affine=True, track_running_stats=True)\n",
              "      (conv3): Conv2d(128, 512, kernel_size=(1, 1), stride=(1, 1), bias=False)\n",
              "      (bn3): BatchNorm2d(512, eps=1e-05, momentum=0.1, affine=True, track_running_stats=True)\n",
              "      (relu): ReLU(inplace)\n",
              "    )\n",
              "  )\n",
              "  (layer3): Sequential(\n",
              "    (0): Bottleneck(\n",
              "      (conv1): Conv2d(512, 256, kernel_size=(1, 1), stride=(1, 1), bias=False)\n",
              "      (bn1): BatchNorm2d(256, eps=1e-05, momentum=0.1, affine=True, track_running_stats=True)\n",
              "      (conv2): Conv2d(256, 256, kernel_size=(3, 3), stride=(2, 2), padding=(1, 1), bias=False)\n",
              "      (bn2): BatchNorm2d(256, eps=1e-05, momentum=0.1, affine=True, track_running_stats=True)\n",
              "      (conv3): Conv2d(256, 1024, kernel_size=(1, 1), stride=(1, 1), bias=False)\n",
              "      (bn3): BatchNorm2d(1024, eps=1e-05, momentum=0.1, affine=True, track_running_stats=True)\n",
              "      (relu): ReLU(inplace)\n",
              "      (downsample): Sequential(\n",
              "        (0): Conv2d(512, 1024, kernel_size=(1, 1), stride=(2, 2), bias=False)\n",
              "        (1): BatchNorm2d(1024, eps=1e-05, momentum=0.1, affine=True, track_running_stats=True)\n",
              "      )\n",
              "    )\n",
              "    (1): Bottleneck(\n",
              "      (conv1): Conv2d(1024, 256, kernel_size=(1, 1), stride=(1, 1), bias=False)\n",
              "      (bn1): BatchNorm2d(256, eps=1e-05, momentum=0.1, affine=True, track_running_stats=True)\n",
              "      (conv2): Conv2d(256, 256, kernel_size=(3, 3), stride=(1, 1), padding=(1, 1), bias=False)\n",
              "      (bn2): BatchNorm2d(256, eps=1e-05, momentum=0.1, affine=True, track_running_stats=True)\n",
              "      (conv3): Conv2d(256, 1024, kernel_size=(1, 1), stride=(1, 1), bias=False)\n",
              "      (bn3): BatchNorm2d(1024, eps=1e-05, momentum=0.1, affine=True, track_running_stats=True)\n",
              "      (relu): ReLU(inplace)\n",
              "    )\n",
              "    (2): Bottleneck(\n",
              "      (conv1): Conv2d(1024, 256, kernel_size=(1, 1), stride=(1, 1), bias=False)\n",
              "      (bn1): BatchNorm2d(256, eps=1e-05, momentum=0.1, affine=True, track_running_stats=True)\n",
              "      (conv2): Conv2d(256, 256, kernel_size=(3, 3), stride=(1, 1), padding=(1, 1), bias=False)\n",
              "      (bn2): BatchNorm2d(256, eps=1e-05, momentum=0.1, affine=True, track_running_stats=True)\n",
              "      (conv3): Conv2d(256, 1024, kernel_size=(1, 1), stride=(1, 1), bias=False)\n",
              "      (bn3): BatchNorm2d(1024, eps=1e-05, momentum=0.1, affine=True, track_running_stats=True)\n",
              "      (relu): ReLU(inplace)\n",
              "    )\n",
              "    (3): Bottleneck(\n",
              "      (conv1): Conv2d(1024, 256, kernel_size=(1, 1), stride=(1, 1), bias=False)\n",
              "      (bn1): BatchNorm2d(256, eps=1e-05, momentum=0.1, affine=True, track_running_stats=True)\n",
              "      (conv2): Conv2d(256, 256, kernel_size=(3, 3), stride=(1, 1), padding=(1, 1), bias=False)\n",
              "      (bn2): BatchNorm2d(256, eps=1e-05, momentum=0.1, affine=True, track_running_stats=True)\n",
              "      (conv3): Conv2d(256, 1024, kernel_size=(1, 1), stride=(1, 1), bias=False)\n",
              "      (bn3): BatchNorm2d(1024, eps=1e-05, momentum=0.1, affine=True, track_running_stats=True)\n",
              "      (relu): ReLU(inplace)\n",
              "    )\n",
              "    (4): Bottleneck(\n",
              "      (conv1): Conv2d(1024, 256, kernel_size=(1, 1), stride=(1, 1), bias=False)\n",
              "      (bn1): BatchNorm2d(256, eps=1e-05, momentum=0.1, affine=True, track_running_stats=True)\n",
              "      (conv2): Conv2d(256, 256, kernel_size=(3, 3), stride=(1, 1), padding=(1, 1), bias=False)\n",
              "      (bn2): BatchNorm2d(256, eps=1e-05, momentum=0.1, affine=True, track_running_stats=True)\n",
              "      (conv3): Conv2d(256, 1024, kernel_size=(1, 1), stride=(1, 1), bias=False)\n",
              "      (bn3): BatchNorm2d(1024, eps=1e-05, momentum=0.1, affine=True, track_running_stats=True)\n",
              "      (relu): ReLU(inplace)\n",
              "    )\n",
              "    (5): Bottleneck(\n",
              "      (conv1): Conv2d(1024, 256, kernel_size=(1, 1), stride=(1, 1), bias=False)\n",
              "      (bn1): BatchNorm2d(256, eps=1e-05, momentum=0.1, affine=True, track_running_stats=True)\n",
              "      (conv2): Conv2d(256, 256, kernel_size=(3, 3), stride=(1, 1), padding=(1, 1), bias=False)\n",
              "      (bn2): BatchNorm2d(256, eps=1e-05, momentum=0.1, affine=True, track_running_stats=True)\n",
              "      (conv3): Conv2d(256, 1024, kernel_size=(1, 1), stride=(1, 1), bias=False)\n",
              "      (bn3): BatchNorm2d(1024, eps=1e-05, momentum=0.1, affine=True, track_running_stats=True)\n",
              "      (relu): ReLU(inplace)\n",
              "    )\n",
              "  )\n",
              "  (layer4): Sequential(\n",
              "    (0): Bottleneck(\n",
              "      (conv1): Conv2d(1024, 512, kernel_size=(1, 1), stride=(1, 1), bias=False)\n",
              "      (bn1): BatchNorm2d(512, eps=1e-05, momentum=0.1, affine=True, track_running_stats=True)\n",
              "      (conv2): Conv2d(512, 512, kernel_size=(3, 3), stride=(2, 2), padding=(1, 1), bias=False)\n",
              "      (bn2): BatchNorm2d(512, eps=1e-05, momentum=0.1, affine=True, track_running_stats=True)\n",
              "      (conv3): Conv2d(512, 2048, kernel_size=(1, 1), stride=(1, 1), bias=False)\n",
              "      (bn3): BatchNorm2d(2048, eps=1e-05, momentum=0.1, affine=True, track_running_stats=True)\n",
              "      (relu): ReLU(inplace)\n",
              "      (downsample): Sequential(\n",
              "        (0): Conv2d(1024, 2048, kernel_size=(1, 1), stride=(2, 2), bias=False)\n",
              "        (1): BatchNorm2d(2048, eps=1e-05, momentum=0.1, affine=True, track_running_stats=True)\n",
              "      )\n",
              "    )\n",
              "    (1): Bottleneck(\n",
              "      (conv1): Conv2d(2048, 512, kernel_size=(1, 1), stride=(1, 1), bias=False)\n",
              "      (bn1): BatchNorm2d(512, eps=1e-05, momentum=0.1, affine=True, track_running_stats=True)\n",
              "      (conv2): Conv2d(512, 512, kernel_size=(3, 3), stride=(1, 1), padding=(1, 1), bias=False)\n",
              "      (bn2): BatchNorm2d(512, eps=1e-05, momentum=0.1, affine=True, track_running_stats=True)\n",
              "      (conv3): Conv2d(512, 2048, kernel_size=(1, 1), stride=(1, 1), bias=False)\n",
              "      (bn3): BatchNorm2d(2048, eps=1e-05, momentum=0.1, affine=True, track_running_stats=True)\n",
              "      (relu): ReLU(inplace)\n",
              "    )\n",
              "    (2): Bottleneck(\n",
              "      (conv1): Conv2d(2048, 512, kernel_size=(1, 1), stride=(1, 1), bias=False)\n",
              "      (bn1): BatchNorm2d(512, eps=1e-05, momentum=0.1, affine=True, track_running_stats=True)\n",
              "      (conv2): Conv2d(512, 512, kernel_size=(3, 3), stride=(1, 1), padding=(1, 1), bias=False)\n",
              "      (bn2): BatchNorm2d(512, eps=1e-05, momentum=0.1, affine=True, track_running_stats=True)\n",
              "      (conv3): Conv2d(512, 2048, kernel_size=(1, 1), stride=(1, 1), bias=False)\n",
              "      (bn3): BatchNorm2d(2048, eps=1e-05, momentum=0.1, affine=True, track_running_stats=True)\n",
              "      (relu): ReLU(inplace)\n",
              "    )\n",
              "  )\n",
              "  (avgpool): AdaptiveAvgPool2d(output_size=(1, 1))\n",
              "  (fc): None\n",
              "  (last_linear): Linear(in_features=2048, out_features=1000, bias=True)\n",
              ")"
            ]
          },
          "metadata": {
            "tags": []
          },
          "execution_count": 18
        }
      ]
    },
    {
      "cell_type": "code",
      "metadata": {
        "id": "CpA9R-jA-wM_",
        "colab_type": "code",
        "colab": {}
      },
      "source": [
        "device = torch.device(\"cuda:0\" if torch.cuda.is_available() else \"cpu\")\n",
        "\n",
        "num_ftrs = model_ft.last_linear.in_features\n",
        "model_ft.last_linear = nn.Linear(num_ftrs, 80)\n",
        "\n",
        "model_ft = model_ft.to(device)"
      ],
      "execution_count": 0,
      "outputs": []
    },
    {
      "cell_type": "code",
      "metadata": {
        "id": "v7oC-SOdEqLg",
        "colab_type": "code",
        "colab": {}
      },
      "source": [
        "device = torch.device(\"cuda:0\" if torch.cuda.is_available() else \"cpu\")\n",
        "\n",
        "num_ftrs = model_ft.last_linear.in_features\n",
        "\n",
        "model_ft.last_linear = nn.Sequential(\n",
        "    nn.Dropout(p=0.5),\n",
        "    nn.Linear(in_features=num_ftrs, out_features=1024, bias=True),\n",
        "    nn.ReLU(),\n",
        "    nn.Dropout(p=0.5),\n",
        "    nn.Linear(in_features=1024, out_features=512, bias=True),\n",
        "    nn.ReLU(),\n",
        "    nn.Linear(in_features=512, out_features=80, bias=True)\n",
        ")"
      ],
      "execution_count": 0,
      "outputs": []
    },
    {
      "cell_type": "code",
      "metadata": {
        "id": "EiI2wZ3SGBJB",
        "colab_type": "code",
        "colab": {}
      },
      "source": [
        "model_ft = model_ft.to(device)"
      ],
      "execution_count": 0,
      "outputs": []
    },
    {
      "cell_type": "code",
      "metadata": {
        "id": "VgPz2pJyAKxp",
        "colab_type": "code",
        "outputId": "c3fb47f8-b599-41be-c895-e3d9bc1fdaec",
        "colab": {
          "base_uri": "https://localhost:8080/",
          "height": 54
        }
      },
      "source": [
        "import torchvision.models as models\n",
        "\n",
        "device = torch.device(\"cuda:0\" if torch.cuda.is_available() else \"cpu\")\n",
        "\n",
        "model_ft = models.resnet50()\n",
        "num_ftrs = model_ft.fc.in_features\n",
        "model_ft.fc = nn.Linear(num_ftrs, 80)\n",
        "\n",
        "model_ft = model_ft.to(device)\n",
        "\"\"\"\n",
        "criterion = nn.CrossEntropyLoss()\n",
        "\n",
        "# Observe that all parameters are being optimized\n",
        "optimizer_ft = optim.SGD(model_ft.parameters(), lr=0.001, momentum=0.9)\n",
        "\n",
        "# Decay LR by a factor of 0.1 every 7 epochs\n",
        "exp_lr_scheduler = lr_scheduler.StepLR(optimizer_ft, step_size=7, gamma=0.1)\n",
        "\"\"\""
      ],
      "execution_count": 0,
      "outputs": [
        {
          "output_type": "execute_result",
          "data": {
            "text/plain": [
              "'\\ncriterion = nn.CrossEntropyLoss()\\n\\n# Observe that all parameters are being optimized\\noptimizer_ft = optim.SGD(model_ft.parameters(), lr=0.001, momentum=0.9)\\n\\n# Decay LR by a factor of 0.1 every 7 epochs\\nexp_lr_scheduler = lr_scheduler.StepLR(optimizer_ft, step_size=7, gamma=0.1)\\n'"
            ]
          },
          "metadata": {
            "tags": []
          },
          "execution_count": 16
        }
      ]
    },
    {
      "cell_type": "code",
      "metadata": {
        "id": "DtzlvwtgK7Oy",
        "colab_type": "code",
        "outputId": "3e25a959-49a9-45bd-b9ca-3425cc20cb8b",
        "colab": {
          "base_uri": "https://localhost:8080/",
          "height": 170
        }
      },
      "source": [
        "model_ft.classifier"
      ],
      "execution_count": 0,
      "outputs": [
        {
          "output_type": "execute_result",
          "data": {
            "text/plain": [
              "Sequential(\n",
              "  (0): Dropout(p=0.5)\n",
              "  (1): Linear(in_features=9216, out_features=4096, bias=True)\n",
              "  (2): ReLU(inplace)\n",
              "  (3): Dropout(p=0.5)\n",
              "  (4): Linear(in_features=4096, out_features=4096, bias=True)\n",
              "  (5): ReLU(inplace)\n",
              "  (6): Linear(in_features=4096, out_features=1000, bias=True)\n",
              ")"
            ]
          },
          "metadata": {
            "tags": []
          },
          "execution_count": 31
        }
      ]
    },
    {
      "cell_type": "code",
      "metadata": {
        "id": "Fy1pGvd8MbSn",
        "colab_type": "code",
        "colab": {}
      },
      "source": [
        "# as defined in the link:\n",
        "#https://towardsdatascience.com/transfer-learning-with-convolutional-neural-networks-in-pytorch-dd09190245ce\n",
        "import torch.nn as nn\n",
        "# Add on classifier\n",
        "model.classifier[6] = nn.Sequential(\n",
        "                      nn.Linear(n_inputs, 256), \n",
        "                      nn.ReLU(), \n",
        "                      nn.Dropout(0.4),\n",
        "                      nn.Linear(256, n_classes),                   \n",
        "                      nn.LogSoftmax(dim=1))"
      ],
      "execution_count": 0,
      "outputs": []
    },
    {
      "cell_type": "code",
      "metadata": {
        "id": "0OtydueIxiiP",
        "colab_type": "code",
        "colab": {}
      },
      "source": [
        "class ConvBlock(nn.Module):\n",
        "    def __init__(self, in_channels, out_channels):\n",
        "        super().__init__()\n",
        "        \n",
        "        self.conv1 = nn.Sequential(\n",
        "            nn.Conv2d(in_channels, out_channels, 3, 1, 1),\n",
        "            nn.BatchNorm2d(out_channels),\n",
        "            nn.ReLU(),\n",
        "        )\n",
        "        self.conv2 = nn.Sequential(\n",
        "            nn.Conv2d(out_channels, out_channels, 3, 1, 1),\n",
        "            nn.BatchNorm2d(out_channels),\n",
        "            nn.ReLU(),\n",
        "        )\n",
        "\n",
        "        self._init_weights()\n",
        "        \n",
        "    def _init_weights(self):\n",
        "        for m in self.modules():\n",
        "            if isinstance(m, nn.Conv2d):\n",
        "                nn.init.kaiming_normal_(m.weight)\n",
        "                if m.bias is not None:\n",
        "                    nn.init.zeros_(m.bias)\n",
        "            elif isinstance(m, nn.BatchNorm2d):\n",
        "                nn.init.constant_(m.weight, 1)\n",
        "                nn.init.zeros_(m.bias)\n",
        "        \n",
        "    def forward(self, x):\n",
        "        x = self.conv1(x)\n",
        "        x = self.conv2(x)\n",
        "        x = F.avg_pool2d(x, 2)\n",
        "        return x"
      ],
      "execution_count": 0,
      "outputs": []
    },
    {
      "cell_type": "code",
      "metadata": {
        "id": "rUSz8mScyVsr",
        "colab_type": "code",
        "colab": {}
      },
      "source": [
        "class Classifier(nn.Module):\n",
        "    def __init__(self, num_classes):\n",
        "        super().__init__()\n",
        "        \n",
        "        self.conv = nn.Sequential(\n",
        "            ConvBlock(in_channels=3, out_channels=64),\n",
        "            ConvBlock(in_channels=64, out_channels=128),\n",
        "            ConvBlock(in_channels=128, out_channels=256),\n",
        "            ConvBlock(in_channels=256, out_channels=512),\n",
        "        )\n",
        "        \n",
        "        self.fc = nn.Sequential(\n",
        "            nn.Dropout(0.2),\n",
        "            nn.Linear(511, 128),\n",
        "            nn.PReLU(),\n",
        "            nn.BatchNorm1d(128),\n",
        "            nn.Dropout(0.1),\n",
        "            nn.Linear(127, num_classes),\n",
        "        )\n",
        "\n",
        "    def forward(self, x):\n",
        "        x = self.conv(x)\n",
        "        x = torch.mean(x, dim=3)\n",
        "        x, _ = torch.max(x, dim=2)\n",
        "        x = self.fc(x)\n",
        "        return x"
      ],
      "execution_count": 0,
      "outputs": []
    },
    {
      "cell_type": "code",
      "metadata": {
        "id": "36nVtMd4xidL",
        "colab_type": "code",
        "outputId": "66d2f716-c45c-4b94-bf6c-b3057883adad",
        "colab": {
          "base_uri": "https://localhost:8080/",
          "height": 1037
        }
      },
      "source": [
        "Classifier(num_classes=num_classes)"
      ],
      "execution_count": 0,
      "outputs": [
        {
          "output_type": "execute_result",
          "data": {
            "text/plain": [
              "Classifier(\n",
              "  (conv): Sequential(\n",
              "    (0): ConvBlock(\n",
              "      (conv1): Sequential(\n",
              "        (0): Conv2d(3, 64, kernel_size=(3, 3), stride=(1, 1), padding=(1, 1))\n",
              "        (1): BatchNorm2d(64, eps=1e-05, momentum=0.1, affine=True, track_running_stats=True)\n",
              "        (2): ReLU()\n",
              "      )\n",
              "      (conv2): Sequential(\n",
              "        (0): Conv2d(64, 64, kernel_size=(3, 3), stride=(1, 1), padding=(1, 1))\n",
              "        (1): BatchNorm2d(64, eps=1e-05, momentum=0.1, affine=True, track_running_stats=True)\n",
              "        (2): ReLU()\n",
              "      )\n",
              "    )\n",
              "    (1): ConvBlock(\n",
              "      (conv1): Sequential(\n",
              "        (0): Conv2d(64, 128, kernel_size=(3, 3), stride=(1, 1), padding=(1, 1))\n",
              "        (1): BatchNorm2d(128, eps=1e-05, momentum=0.1, affine=True, track_running_stats=True)\n",
              "        (2): ReLU()\n",
              "      )\n",
              "      (conv2): Sequential(\n",
              "        (0): Conv2d(128, 128, kernel_size=(3, 3), stride=(1, 1), padding=(1, 1))\n",
              "        (1): BatchNorm2d(128, eps=1e-05, momentum=0.1, affine=True, track_running_stats=True)\n",
              "        (2): ReLU()\n",
              "      )\n",
              "    )\n",
              "    (2): ConvBlock(\n",
              "      (conv1): Sequential(\n",
              "        (0): Conv2d(128, 256, kernel_size=(3, 3), stride=(1, 1), padding=(1, 1))\n",
              "        (1): BatchNorm2d(256, eps=1e-05, momentum=0.1, affine=True, track_running_stats=True)\n",
              "        (2): ReLU()\n",
              "      )\n",
              "      (conv2): Sequential(\n",
              "        (0): Conv2d(256, 256, kernel_size=(3, 3), stride=(1, 1), padding=(1, 1))\n",
              "        (1): BatchNorm2d(256, eps=1e-05, momentum=0.1, affine=True, track_running_stats=True)\n",
              "        (2): ReLU()\n",
              "      )\n",
              "    )\n",
              "    (3): ConvBlock(\n",
              "      (conv1): Sequential(\n",
              "        (0): Conv2d(256, 512, kernel_size=(3, 3), stride=(1, 1), padding=(1, 1))\n",
              "        (1): BatchNorm2d(512, eps=1e-05, momentum=0.1, affine=True, track_running_stats=True)\n",
              "        (2): ReLU()\n",
              "      )\n",
              "      (conv2): Sequential(\n",
              "        (0): Conv2d(512, 512, kernel_size=(3, 3), stride=(1, 1), padding=(1, 1))\n",
              "        (1): BatchNorm2d(512, eps=1e-05, momentum=0.1, affine=True, track_running_stats=True)\n",
              "        (2): ReLU()\n",
              "      )\n",
              "    )\n",
              "  )\n",
              "  (fc): Sequential(\n",
              "    (0): Dropout(p=0.2)\n",
              "    (1): Linear(in_features=511, out_features=128, bias=True)\n",
              "    (2): PReLU(num_parameters=1)\n",
              "    (3): BatchNorm1d(128, eps=1e-05, momentum=0.1, affine=True, track_running_stats=True)\n",
              "    (4): Dropout(p=0.1)\n",
              "    (5): Linear(in_features=127, out_features=80, bias=True)\n",
              "  )\n",
              ")"
            ]
          },
          "metadata": {
            "tags": []
          },
          "execution_count": 34
        }
      ]
    },
    {
      "cell_type": "code",
      "metadata": {
        "id": "DeyzYJM7xk9b",
        "colab_type": "code",
        "colab": {}
      },
      "source": [
        "def train_model(x_train, y_train, train_transforms):\n",
        "    num_epochs = 118\n",
        "    batch_size = 128\n",
        "    test_batch_size = 256\n",
        "    lr = 1e-3\n",
        "    eta_min = 1e-5\n",
        "    t_max = 5\n",
        "    \n",
        "    num_classes = y_train.shape[1]\n",
        "\n",
        "    x_trn, x_val, y_trn, y_val = train_test_split(x_train, y_train, test_size=0.2, random_state=SEED)\n",
        "    \n",
        "    train_dataset = FATTrainDataset(x_trn, y_trn, train_transforms)\n",
        "    valid_dataset = FATTrainDataset(x_val, y_val, train_transforms)\n",
        "\n",
        "    train_loader = DataLoader(train_dataset, batch_size=batch_size, shuffle=True)\n",
        "    valid_loader = DataLoader(valid_dataset, batch_size=test_batch_size, shuffle=False)\n",
        "\n",
        "    #model = Classifier(num_classes=num_classes).cuda()\n",
        "    model = model_ft\n",
        "    criterion = nn.BCEWithLogitsLoss().cuda()\n",
        "    optimizer = Adam(params=model.parameters(), lr=lr, amsgrad=False)\n",
        "    scheduler = CosineAnnealingLR(optimizer, T_max=t_max, eta_min=eta_min)\n",
        "\n",
        "    best_epoch = -1\n",
        "    best_lwlrap = 0.\n",
        "    mb = master_bar(range(num_epochs))\n",
        "\n",
        "    for epoch in mb:\n",
        "        start_time = time.time()\n",
        "        model.train()\n",
        "        avg_loss = 0.\n",
        "\n",
        "        for x_batch, y_batch in train_loader:\n",
        "            preds = model(x_batch.cuda())\n",
        "            loss = criterion(preds, y_batch.cuda())\n",
        "\n",
        "            optimizer.zero_grad()\n",
        "            loss.backward()\n",
        "            optimizer.step()\n",
        "\n",
        "            avg_loss += loss.item() / len(train_loader)\n",
        "\n",
        "        model.eval()\n",
        "        valid_preds = np.zeros((len(x_val), num_classes))\n",
        "        avg_val_loss = 0.\n",
        "\n",
        "        for i, (x_batch, y_batch) in enumerate(valid_loader):\n",
        "            preds = model(x_batch.cuda()).detach()\n",
        "            loss = criterion(preds, y_batch.cuda())\n",
        "\n",
        "            preds = torch.sigmoid(preds)\n",
        "            valid_preds[i * test_batch_size: (i+1) * test_batch_size] = preds.cpu().numpy()\n",
        "\n",
        "            avg_val_loss += loss.item() / len(valid_loader)\n",
        "            \n",
        "        score, weight = calculate_per_class_lwlrap(y_val, valid_preds)\n",
        "        lwlrap = (score * weight).sum()\n",
        "        \n",
        "        scheduler.step()\n",
        "\n",
        "        if (epoch + 1) % 1 == 0:\n",
        "            elapsed = time.time() - start_time\n",
        "            mb.write(f'Epoch {epoch+1} - avg_train_loss: {avg_loss:.4f}  avg_val_loss: {avg_val_loss:.4f}  val_lwlrap: {lwlrap:.6f}  time: {elapsed:.0f}s')\n",
        "    \n",
        "        if lwlrap > best_lwlrap:\n",
        "            best_epoch = epoch + 1\n",
        "            best_lwlrap = lwlrap\n",
        "            torch.save(model.state_dict(), 'weight_best.pt')\n",
        "            \n",
        "    return {\n",
        "        'best_epoch': best_epoch,\n",
        "        'best_lwlrap': best_lwlrap,\n",
        "    }"
      ],
      "execution_count": 0,
      "outputs": []
    },
    {
      "cell_type": "code",
      "metadata": {
        "id": "qmVih93Dxk5x",
        "colab_type": "code",
        "outputId": "4bcf50d6-f8de-43e7-ec12-5a6769d894fa",
        "colab": {
          "base_uri": "https://localhost:8080/",
          "height": 2731
        }
      },
      "source": [
        "result = train_model(x_train, y_train, transforms_dict['train'])"
      ],
      "execution_count": 0,
      "outputs": [
        {
          "output_type": "display_data",
          "data": {
            "text/html": [
              "Epoch 1 - avg_train_loss: 0.0844  avg_val_loss: 0.0777  val_lwlrap: 0.072361  time: 30s<p>Epoch 2 - avg_train_loss: 0.0571  avg_val_loss: 0.0676  val_lwlrap: 0.208796  time: 31s<p>Epoch 3 - avg_train_loss: 0.0508  avg_val_loss: 0.0551  val_lwlrap: 0.331200  time: 32s<p>Epoch 4 - avg_train_loss: 0.0455  avg_val_loss: 0.0467  val_lwlrap: 0.450517  time: 31s<p>Epoch 5 - avg_train_loss: 0.0407  avg_val_loss: 0.0421  val_lwlrap: 0.542514  time: 31s<p>Epoch 6 - avg_train_loss: 0.0383  avg_val_loss: 0.0399  val_lwlrap: 0.547051  time: 31s<p>Epoch 7 - avg_train_loss: 0.0383  avg_val_loss: 0.0386  val_lwlrap: 0.566963  time: 31s<p>Epoch 8 - avg_train_loss: 0.0400  avg_val_loss: 0.0545  val_lwlrap: 0.460935  time: 31s<p>Epoch 9 - avg_train_loss: 0.0425  avg_val_loss: 0.0540  val_lwlrap: 0.419954  time: 31s<p>Epoch 10 - avg_train_loss: 0.0413  avg_val_loss: 0.0596  val_lwlrap: 0.382847  time: 31s<p>Epoch 11 - avg_train_loss: 0.0401  avg_val_loss: 0.0460  val_lwlrap: 0.463923  time: 31s<p>Epoch 12 - avg_train_loss: 0.0373  avg_val_loss: 0.0484  val_lwlrap: 0.452592  time: 31s<p>Epoch 13 - avg_train_loss: 0.0331  avg_val_loss: 0.0397  val_lwlrap: 0.551225  time: 31s<p>Epoch 14 - avg_train_loss: 0.0285  avg_val_loss: 0.0365  val_lwlrap: 0.597900  time: 31s<p>Epoch 15 - avg_train_loss: 0.0242  avg_val_loss: 0.0353  val_lwlrap: 0.647194  time: 31s<p>Epoch 16 - avg_train_loss: 0.0235  avg_val_loss: 0.0338  val_lwlrap: 0.645864  time: 31s<p>Epoch 17 - avg_train_loss: 0.0232  avg_val_loss: 0.0336  val_lwlrap: 0.653105  time: 31s<p>Epoch 18 - avg_train_loss: 0.0248  avg_val_loss: 0.0361  val_lwlrap: 0.633349  time: 31s<p>Epoch 19 - avg_train_loss: 0.0294  avg_val_loss: 0.0518  val_lwlrap: 0.494140  time: 31s<p>Epoch 20 - avg_train_loss: 0.0313  avg_val_loss: 0.0520  val_lwlrap: 0.462907  time: 31s<p>Epoch 21 - avg_train_loss: 0.0333  avg_val_loss: 0.0492  val_lwlrap: 0.493817  time: 31s<p>Epoch 22 - avg_train_loss: 0.0304  avg_val_loss: 0.0491  val_lwlrap: 0.524404  time: 31s<p>Epoch 23 - avg_train_loss: 0.0257  avg_val_loss: 0.0471  val_lwlrap: 0.548191  time: 31s<p>Epoch 24 - avg_train_loss: 0.0208  avg_val_loss: 0.0364  val_lwlrap: 0.627762  time: 31s<p>Epoch 25 - avg_train_loss: 0.0177  avg_val_loss: 0.0319  val_lwlrap: 0.662653  time: 31s<p>Epoch 26 - avg_train_loss: 0.0169  avg_val_loss: 0.0357  val_lwlrap: 0.670324  time: 31s<p>Epoch 27 - avg_train_loss: 0.0170  avg_val_loss: 0.0323  val_lwlrap: 0.661864  time: 31s<p>Epoch 28 - avg_train_loss: 0.0179  avg_val_loss: 0.0422  val_lwlrap: 0.634712  time: 31s<p>Epoch 29 - avg_train_loss: 0.0214  avg_val_loss: 0.0486  val_lwlrap: 0.563868  time: 31s<p>Epoch 30 - avg_train_loss: 0.0250  avg_val_loss: 0.0572  val_lwlrap: 0.482820  time: 31s<p>Epoch 31 - avg_train_loss: 0.0266  avg_val_loss: 0.0536  val_lwlrap: 0.458431  time: 31s<p>Epoch 32 - avg_train_loss: 0.0231  avg_val_loss: 0.0462  val_lwlrap: 0.511219  time: 31s<p>Epoch 33 - avg_train_loss: 0.0185  avg_val_loss: 0.0443  val_lwlrap: 0.577191  time: 31s<p>Epoch 34 - avg_train_loss: 0.0147  avg_val_loss: 0.0377  val_lwlrap: 0.655428  time: 31s<p>Epoch 35 - avg_train_loss: 0.0120  avg_val_loss: 0.0334  val_lwlrap: 0.670917  time: 31s<p>Epoch 36 - avg_train_loss: 0.0114  avg_val_loss: 0.0369  val_lwlrap: 0.669908  time: 31s<p>Epoch 37 - avg_train_loss: 0.0114  avg_val_loss: 0.0356  val_lwlrap: 0.672139  time: 31s<p>Epoch 38 - avg_train_loss: 0.0124  avg_val_loss: 0.0366  val_lwlrap: 0.665375  time: 31s<p>Epoch 39 - avg_train_loss: 0.0154  avg_val_loss: 0.0427  val_lwlrap: 0.627906  time: 31s<p>Epoch 40 - avg_train_loss: 0.0184  avg_val_loss: 0.0757  val_lwlrap: 0.461539  time: 31s<p>Epoch 41 - avg_train_loss: 0.0224  avg_val_loss: 0.0749  val_lwlrap: 0.408005  time: 31s<p>Epoch 42 - avg_train_loss: 0.0211  avg_val_loss: 0.0521  val_lwlrap: 0.536782  time: 31s<p>Epoch 43 - avg_train_loss: 0.0155  avg_val_loss: 0.0540  val_lwlrap: 0.580872  time: 31s<p>Epoch 44 - avg_train_loss: 0.0113  avg_val_loss: 0.0384  val_lwlrap: 0.664496  time: 31s<p>Epoch 45 - avg_train_loss: 0.0092  avg_val_loss: 0.0362  val_lwlrap: 0.673319  time: 31s<p>Epoch 46 - avg_train_loss: 0.0083  avg_val_loss: 0.0373  val_lwlrap: 0.673718  time: 31s<p>Epoch 47 - avg_train_loss: 0.0086  avg_val_loss: 0.0388  val_lwlrap: 0.675611  time: 31s<p>Epoch 48 - avg_train_loss: 0.0092  avg_val_loss: 0.0372  val_lwlrap: 0.675935  time: 31s<p>Epoch 49 - avg_train_loss: 0.0109  avg_val_loss: 0.0448  val_lwlrap: 0.626012  time: 31s<p>Epoch 50 - avg_train_loss: 0.0128  avg_val_loss: 0.0634  val_lwlrap: 0.583261  time: 31s<p>Epoch 51 - avg_train_loss: 0.0161  avg_val_loss: 0.0577  val_lwlrap: 0.531450  time: 31s<p>Epoch 52 - avg_train_loss: 0.0163  avg_val_loss: 0.0614  val_lwlrap: 0.536233  time: 31s<p>Epoch 53 - avg_train_loss: 0.0117  avg_val_loss: 0.0435  val_lwlrap: 0.631952  time: 31s<p>Epoch 54 - avg_train_loss: 0.0082  avg_val_loss: 0.0385  val_lwlrap: 0.658191  time: 31s<p>Epoch 55 - avg_train_loss: 0.0067  avg_val_loss: 0.0385  val_lwlrap: 0.668686  time: 31s<p>Epoch 56 - avg_train_loss: 0.0059  avg_val_loss: 0.0419  val_lwlrap: 0.669366  time: 31s<p>Epoch 57 - avg_train_loss: 0.0059  avg_val_loss: 0.0404  val_lwlrap: 0.666689  time: 31s<p>Epoch 58 - avg_train_loss: 0.0070  avg_val_loss: 0.0403  val_lwlrap: 0.649256  time: 31s<p>Epoch 59 - avg_train_loss: 0.0083  avg_val_loss: 0.0465  val_lwlrap: 0.604240  time: 31s<p>Epoch 60 - avg_train_loss: 0.0114  avg_val_loss: 0.0457  val_lwlrap: 0.616149  time: 31s<p>Epoch 61 - avg_train_loss: 0.0130  avg_val_loss: 0.0584  val_lwlrap: 0.523048  time: 31s<p>Epoch 62 - avg_train_loss: 0.0135  avg_val_loss: 0.0623  val_lwlrap: 0.510656  time: 31s<p>Epoch 63 - avg_train_loss: 0.0127  avg_val_loss: 0.0580  val_lwlrap: 0.564075  time: 31s<p>Epoch 64 - avg_train_loss: 0.0074  avg_val_loss: 0.0453  val_lwlrap: 0.657781  time: 31s<p>Epoch 65 - avg_train_loss: 0.0058  avg_val_loss: 0.0432  val_lwlrap: 0.660941  time: 31s<p>Epoch 66 - avg_train_loss: 0.0052  avg_val_loss: 0.0404  val_lwlrap: 0.664814  time: 31s<p>Epoch 67 - avg_train_loss: 0.0051  avg_val_loss: 0.0420  val_lwlrap: 0.665154  time: 31s<p>Epoch 68 - avg_train_loss: 0.0058  avg_val_loss: 0.0453  val_lwlrap: 0.646779  time: 31s<p>Epoch 69 - avg_train_loss: 0.0071  avg_val_loss: 0.0484  val_lwlrap: 0.638990  time: 31s<p>Epoch 70 - avg_train_loss: 0.0093  avg_val_loss: 0.1100  val_lwlrap: 0.360592  time: 31s<p>Epoch 71 - avg_train_loss: 0.0148  avg_val_loss: 0.0629  val_lwlrap: 0.486958  time: 31s<p>Epoch 72 - avg_train_loss: 0.0125  avg_val_loss: 0.0661  val_lwlrap: 0.592429  time: 31s<p>Epoch 73 - avg_train_loss: 0.0077  avg_val_loss: 0.0492  val_lwlrap: 0.649956  time: 31s<p>Epoch 74 - avg_train_loss: 0.0064  avg_val_loss: 0.0411  val_lwlrap: 0.656656  time: 31s<p>Epoch 75 - avg_train_loss: 0.0052  avg_val_loss: 0.0505  val_lwlrap: 0.661275  time: 31s<p>Epoch 76 - avg_train_loss: 0.0040  avg_val_loss: 0.0466  val_lwlrap: 0.668331  time: 31s<p>Epoch 77 - avg_train_loss: 0.0042  avg_val_loss: 0.0463  val_lwlrap: 0.672767  time: 31s<p>Epoch 78 - avg_train_loss: 0.0044  avg_val_loss: 0.0481  val_lwlrap: 0.653747  time: 31s<p>Epoch 79 - avg_train_loss: 0.0057  avg_val_loss: 0.0522  val_lwlrap: 0.623136  time: 31s<p>Epoch 80 - avg_train_loss: 0.0069  avg_val_loss: 0.0568  val_lwlrap: 0.588349  time: 31s<p>Epoch 81 - avg_train_loss: 0.0113  avg_val_loss: 0.0671  val_lwlrap: 0.546184  time: 31s<p>Epoch 82 - avg_train_loss: 0.0108  avg_val_loss: 0.0517  val_lwlrap: 0.612771  time: 31s<p>Epoch 83 - avg_train_loss: 0.0080  avg_val_loss: 0.0509  val_lwlrap: 0.603087  time: 31s<p>Epoch 84 - avg_train_loss: 0.0056  avg_val_loss: 0.0532  val_lwlrap: 0.628949  time: 31s<p>Epoch 85 - avg_train_loss: 0.0040  avg_val_loss: 0.0453  val_lwlrap: 0.655332  time: 31s<p>Epoch 86 - avg_train_loss: 0.0033  avg_val_loss: 0.0472  val_lwlrap: 0.662130  time: 31s<p>Epoch 87 - avg_train_loss: 0.0035  avg_val_loss: 0.0445  val_lwlrap: 0.661775  time: 31s<p>Epoch 88 - avg_train_loss: 0.0040  avg_val_loss: 0.0471  val_lwlrap: 0.654625  time: 31s<p>Epoch 89 - avg_train_loss: 0.0046  avg_val_loss: 0.0486  val_lwlrap: 0.636639  time: 31s<p>Epoch 90 - avg_train_loss: 0.0070  avg_val_loss: 0.0711  val_lwlrap: 0.502852  time: 31s<p>Epoch 91 - avg_train_loss: 0.0083  avg_val_loss: 0.0705  val_lwlrap: 0.558755  time: 31s<p>Epoch 92 - avg_train_loss: 0.0105  avg_val_loss: 0.0966  val_lwlrap: 0.475189  time: 31s<p>Epoch 93 - avg_train_loss: 0.0066  avg_val_loss: 0.0453  val_lwlrap: 0.642662  time: 31s<p>Epoch 94 - avg_train_loss: 0.0042  avg_val_loss: 0.0448  val_lwlrap: 0.660998  time: 31s<p>Epoch 95 - avg_train_loss: 0.0031  avg_val_loss: 0.0465  val_lwlrap: 0.662431  time: 31s<p>Epoch 96 - avg_train_loss: 0.0027  avg_val_loss: 0.0528  val_lwlrap: 0.656988  time: 31s<p>Epoch 97 - avg_train_loss: 0.0027  avg_val_loss: 0.0494  val_lwlrap: 0.650839  time: 31s<p>Epoch 98 - avg_train_loss: 0.0036  avg_val_loss: 0.0508  val_lwlrap: 0.648650  time: 31s<p>Epoch 99 - avg_train_loss: 0.0044  avg_val_loss: 0.0498  val_lwlrap: 0.647699  time: 31s<p>Epoch 100 - avg_train_loss: 0.0049  avg_val_loss: 0.0624  val_lwlrap: 0.599676  time: 31s<p>Epoch 101 - avg_train_loss: 0.0077  avg_val_loss: 0.0610  val_lwlrap: 0.521651  time: 31s<p>Epoch 102 - avg_train_loss: 0.0097  avg_val_loss: 0.0620  val_lwlrap: 0.598990  time: 31s<p>Epoch 103 - avg_train_loss: 0.0076  avg_val_loss: 0.0453  val_lwlrap: 0.640225  time: 31s<p>Epoch 104 - avg_train_loss: 0.0047  avg_val_loss: 0.0534  val_lwlrap: 0.658112  time: 31s<p>Epoch 105 - avg_train_loss: 0.0027  avg_val_loss: 0.0452  val_lwlrap: 0.650904  time: 31s<p>Epoch 106 - avg_train_loss: 0.0026  avg_val_loss: 0.0582  val_lwlrap: 0.658641  time: 31s<p>Epoch 107 - avg_train_loss: 0.0027  avg_val_loss: 0.0502  val_lwlrap: 0.657339  time: 31s<p>Epoch 108 - avg_train_loss: 0.0033  avg_val_loss: 0.0463  val_lwlrap: 0.655026  time: 31s<p>Epoch 109 - avg_train_loss: 0.0053  avg_val_loss: 0.0530  val_lwlrap: 0.618193  time: 31s<p>Epoch 110 - avg_train_loss: 0.0068  avg_val_loss: 0.0606  val_lwlrap: 0.604508  time: 31s<p>Epoch 111 - avg_train_loss: 0.0091  avg_val_loss: 0.0690  val_lwlrap: 0.528850  time: 31s<p>Epoch 112 - avg_train_loss: 0.0075  avg_val_loss: 0.0608  val_lwlrap: 0.599428  time: 31s<p>Epoch 113 - avg_train_loss: 0.0071  avg_val_loss: 0.0751  val_lwlrap: 0.554684  time: 31s<p>Epoch 114 - avg_train_loss: 0.0046  avg_val_loss: 0.0479  val_lwlrap: 0.644763  time: 31s<p>Epoch 115 - avg_train_loss: 0.0026  avg_val_loss: 0.0490  val_lwlrap: 0.646721  time: 31s<p>Epoch 116 - avg_train_loss: 0.0024  avg_val_loss: 0.0560  val_lwlrap: 0.652971  time: 31s<p>Epoch 117 - avg_train_loss: 0.0025  avg_val_loss: 0.0543  val_lwlrap: 0.656347  time: 31s<p>Epoch 118 - avg_train_loss: 0.0032  avg_val_loss: 0.0500  val_lwlrap: 0.641390  time: 31s"
            ],
            "text/plain": [
              "<IPython.core.display.HTML object>"
            ]
          },
          "metadata": {
            "tags": []
          }
        }
      ]
    },
    {
      "cell_type": "code",
      "metadata": {
        "id": "9yVDzyb-xk1m",
        "colab_type": "code",
        "outputId": "b66fb463-bac9-4b27-9e35-abd4bfe98115",
        "colab": {
          "base_uri": "https://localhost:8080/",
          "height": 34
        }
      },
      "source": [
        "result"
      ],
      "execution_count": 0,
      "outputs": [
        {
          "output_type": "execute_result",
          "data": {
            "text/plain": [
              "{'best_epoch': 48, 'best_lwlrap': 0.6759354819044524}"
            ]
          },
          "metadata": {
            "tags": []
          },
          "execution_count": 22
        }
      ]
    },
    {
      "cell_type": "code",
      "metadata": {
        "id": "g215CpOVytIC",
        "colab_type": "code",
        "colab": {}
      },
      "source": [
        "def predict_model(test_fnames, x_test, test_transforms, num_classes, *, tta=5):\n",
        "    batch_size = 256\n",
        "\n",
        "    test_dataset = FATTestDataset(test_fnames, x_test, test_transforms, tta=tta)\n",
        "    test_loader = DataLoader(test_dataset, batch_size=batch_size, shuffle=False)\n",
        "\n",
        "    model = model_ft\n",
        "    model.load_state_dict(torch.load('weight_best.pt'))\n",
        "    model.cuda()\n",
        "    model.eval()\n",
        "\n",
        "    all_outputs, all_fnames = [], []\n",
        "\n",
        "    pb = progress_bar(test_loader)\n",
        "    for images, fnames in pb:\n",
        "        preds = torch.sigmoid(model(images.cuda()).detach())\n",
        "        all_outputs.append(preds.cpu().numpy())\n",
        "        all_fnames.extend(fnames)\n",
        "\n",
        "    test_preds = pd.DataFrame(data=np.concatenate(all_outputs),\n",
        "                              index=all_fnames,\n",
        "                              columns=map(str, range(num_classes)))\n",
        "    test_preds = test_preds.groupby(level=0).mean()\n",
        "\n",
        "    return test_preds"
      ],
      "execution_count": 0,
      "outputs": []
    },
    {
      "cell_type": "code",
      "metadata": {
        "id": "UOwIX8CeyyBY",
        "colab_type": "code",
        "outputId": "ee4ce50a-a75d-4ff0-ff32-ef6b2e9653a0",
        "colab": {
          "base_uri": "https://localhost:8080/",
          "height": 37
        }
      },
      "source": [
        "test_preds = predict_model(test_df['fname'], x_test, transforms_dict['test'], num_classes, tta=35)"
      ],
      "execution_count": 0,
      "outputs": [
        {
          "output_type": "display_data",
          "data": {
            "text/html": [
              "\n",
              "    <div>\n",
              "        <style>\n",
              "            /* Turns off some styling */\n",
              "            progress {\n",
              "                /* gets rid of default border in Firefox and Opera. */\n",
              "                border: none;\n",
              "                /* Needs to be in here for Safari polyfill so background images work as expected. */\n",
              "                background-size: auto;\n",
              "            }\n",
              "            .progress-bar-interrupted, .progress-bar-interrupted::-webkit-progress-bar {\n",
              "                background: #F44336;\n",
              "            }\n",
              "        </style>\n",
              "      <progress value='154' class='' max='154', style='width:300px; height:20px; vertical-align: middle;'></progress>\n",
              "      100.00% [154/154 00:29<00:00]\n",
              "    </div>\n",
              "    "
            ],
            "text/plain": [
              "<IPython.core.display.HTML object>"
            ]
          },
          "metadata": {
            "tags": []
          }
        }
      ]
    },
    {
      "cell_type": "code",
      "metadata": {
        "id": "SK7pYQk_yt3r",
        "colab_type": "code",
        "outputId": "7f85c22e-6a42-42b1-b74c-6b1ab4cb55b5",
        "colab": {
          "base_uri": "https://localhost:8080/",
          "height": 338
        }
      },
      "source": [
        "test_df[labels] = test_preds.values\n",
        "test_df.to_csv('submission.csv', index=False)\n",
        "test_df.head()"
      ],
      "execution_count": 0,
      "outputs": [
        {
          "output_type": "execute_result",
          "data": {
            "text/html": [
              "<div>\n",
              "<style scoped>\n",
              "    .dataframe tbody tr th:only-of-type {\n",
              "        vertical-align: middle;\n",
              "    }\n",
              "\n",
              "    .dataframe tbody tr th {\n",
              "        vertical-align: top;\n",
              "    }\n",
              "\n",
              "    .dataframe thead th {\n",
              "        text-align: right;\n",
              "    }\n",
              "</style>\n",
              "<table border=\"1\" class=\"dataframe\">\n",
              "  <thead>\n",
              "    <tr style=\"text-align: right;\">\n",
              "      <th></th>\n",
              "      <th>fname</th>\n",
              "      <th>Accelerating_and_revving_and_vroom</th>\n",
              "      <th>Accordion</th>\n",
              "      <th>Acoustic_guitar</th>\n",
              "      <th>Applause</th>\n",
              "      <th>Bark</th>\n",
              "      <th>Bass_drum</th>\n",
              "      <th>Bass_guitar</th>\n",
              "      <th>Bathtub_(filling_or_washing)</th>\n",
              "      <th>Bicycle_bell</th>\n",
              "      <th>...</th>\n",
              "      <th>Toilet_flush</th>\n",
              "      <th>Traffic_noise_and_roadway_noise</th>\n",
              "      <th>Trickle_and_dribble</th>\n",
              "      <th>Walk_and_footsteps</th>\n",
              "      <th>Water_tap_and_faucet</th>\n",
              "      <th>Waves_and_surf</th>\n",
              "      <th>Whispering</th>\n",
              "      <th>Writing</th>\n",
              "      <th>Yell</th>\n",
              "      <th>Zipper_(clothing)</th>\n",
              "    </tr>\n",
              "  </thead>\n",
              "  <tbody>\n",
              "    <tr>\n",
              "      <th>0</th>\n",
              "      <td>000ccb97.wav</td>\n",
              "      <td>0.000007</td>\n",
              "      <td>0.000009</td>\n",
              "      <td>0.000045</td>\n",
              "      <td>1.584234e-05</td>\n",
              "      <td>0.000352</td>\n",
              "      <td>0.000040</td>\n",
              "      <td>0.000015</td>\n",
              "      <td>0.000130</td>\n",
              "      <td>0.000927</td>\n",
              "      <td>...</td>\n",
              "      <td>0.000689</td>\n",
              "      <td>0.000007</td>\n",
              "      <td>0.000008</td>\n",
              "      <td>0.000008</td>\n",
              "      <td>0.000043</td>\n",
              "      <td>0.000043</td>\n",
              "      <td>0.000458</td>\n",
              "      <td>0.000705</td>\n",
              "      <td>0.000090</td>\n",
              "      <td>0.000061</td>\n",
              "    </tr>\n",
              "    <tr>\n",
              "      <th>1</th>\n",
              "      <td>0012633b.wav</td>\n",
              "      <td>0.082847</td>\n",
              "      <td>0.000584</td>\n",
              "      <td>0.003630</td>\n",
              "      <td>1.087815e-03</td>\n",
              "      <td>0.001571</td>\n",
              "      <td>0.005430</td>\n",
              "      <td>0.140845</td>\n",
              "      <td>0.001371</td>\n",
              "      <td>0.001923</td>\n",
              "      <td>...</td>\n",
              "      <td>0.001521</td>\n",
              "      <td>0.001608</td>\n",
              "      <td>0.000160</td>\n",
              "      <td>0.005726</td>\n",
              "      <td>0.001537</td>\n",
              "      <td>0.001419</td>\n",
              "      <td>0.001856</td>\n",
              "      <td>0.000958</td>\n",
              "      <td>0.000784</td>\n",
              "      <td>0.082173</td>\n",
              "    </tr>\n",
              "    <tr>\n",
              "      <th>2</th>\n",
              "      <td>001ed5f1.wav</td>\n",
              "      <td>0.000240</td>\n",
              "      <td>0.000428</td>\n",
              "      <td>0.000595</td>\n",
              "      <td>1.763233e-04</td>\n",
              "      <td>0.000574</td>\n",
              "      <td>0.277661</td>\n",
              "      <td>0.005605</td>\n",
              "      <td>0.000321</td>\n",
              "      <td>0.000531</td>\n",
              "      <td>...</td>\n",
              "      <td>0.000022</td>\n",
              "      <td>0.000102</td>\n",
              "      <td>0.000007</td>\n",
              "      <td>0.011886</td>\n",
              "      <td>0.000039</td>\n",
              "      <td>0.000081</td>\n",
              "      <td>0.000255</td>\n",
              "      <td>0.001535</td>\n",
              "      <td>0.000039</td>\n",
              "      <td>0.003875</td>\n",
              "    </tr>\n",
              "    <tr>\n",
              "      <th>3</th>\n",
              "      <td>00294be0.wav</td>\n",
              "      <td>0.000125</td>\n",
              "      <td>0.000013</td>\n",
              "      <td>0.000014</td>\n",
              "      <td>9.920437e-07</td>\n",
              "      <td>0.000361</td>\n",
              "      <td>0.000002</td>\n",
              "      <td>0.000018</td>\n",
              "      <td>0.000232</td>\n",
              "      <td>0.000017</td>\n",
              "      <td>...</td>\n",
              "      <td>0.000003</td>\n",
              "      <td>0.000007</td>\n",
              "      <td>0.004157</td>\n",
              "      <td>0.000023</td>\n",
              "      <td>0.000025</td>\n",
              "      <td>0.000029</td>\n",
              "      <td>0.000112</td>\n",
              "      <td>0.000010</td>\n",
              "      <td>0.000012</td>\n",
              "      <td>0.002671</td>\n",
              "    </tr>\n",
              "    <tr>\n",
              "      <th>4</th>\n",
              "      <td>003fde7a.wav</td>\n",
              "      <td>0.000042</td>\n",
              "      <td>0.000843</td>\n",
              "      <td>0.000045</td>\n",
              "      <td>1.307459e-05</td>\n",
              "      <td>0.000155</td>\n",
              "      <td>0.000031</td>\n",
              "      <td>0.000021</td>\n",
              "      <td>0.000007</td>\n",
              "      <td>0.964869</td>\n",
              "      <td>...</td>\n",
              "      <td>0.000023</td>\n",
              "      <td>0.000023</td>\n",
              "      <td>0.000007</td>\n",
              "      <td>0.000034</td>\n",
              "      <td>0.000005</td>\n",
              "      <td>0.000147</td>\n",
              "      <td>0.000173</td>\n",
              "      <td>0.000023</td>\n",
              "      <td>0.000115</td>\n",
              "      <td>0.000209</td>\n",
              "    </tr>\n",
              "  </tbody>\n",
              "</table>\n",
              "<p>5 rows × 81 columns</p>\n",
              "</div>"
            ],
            "text/plain": [
              "          fname  Accelerating_and_revving_and_vroom  Accordion  \\\n",
              "0  000ccb97.wav                            0.000007   0.000009   \n",
              "1  0012633b.wav                            0.082847   0.000584   \n",
              "2  001ed5f1.wav                            0.000240   0.000428   \n",
              "3  00294be0.wav                            0.000125   0.000013   \n",
              "4  003fde7a.wav                            0.000042   0.000843   \n",
              "\n",
              "   Acoustic_guitar      Applause      Bark  Bass_drum  Bass_guitar  \\\n",
              "0         0.000045  1.584234e-05  0.000352   0.000040     0.000015   \n",
              "1         0.003630  1.087815e-03  0.001571   0.005430     0.140845   \n",
              "2         0.000595  1.763233e-04  0.000574   0.277661     0.005605   \n",
              "3         0.000014  9.920437e-07  0.000361   0.000002     0.000018   \n",
              "4         0.000045  1.307459e-05  0.000155   0.000031     0.000021   \n",
              "\n",
              "   Bathtub_(filling_or_washing)  Bicycle_bell  ...  Toilet_flush  \\\n",
              "0                      0.000130      0.000927  ...      0.000689   \n",
              "1                      0.001371      0.001923  ...      0.001521   \n",
              "2                      0.000321      0.000531  ...      0.000022   \n",
              "3                      0.000232      0.000017  ...      0.000003   \n",
              "4                      0.000007      0.964869  ...      0.000023   \n",
              "\n",
              "   Traffic_noise_and_roadway_noise  Trickle_and_dribble  Walk_and_footsteps  \\\n",
              "0                         0.000007             0.000008            0.000008   \n",
              "1                         0.001608             0.000160            0.005726   \n",
              "2                         0.000102             0.000007            0.011886   \n",
              "3                         0.000007             0.004157            0.000023   \n",
              "4                         0.000023             0.000007            0.000034   \n",
              "\n",
              "   Water_tap_and_faucet  Waves_and_surf  Whispering   Writing      Yell  \\\n",
              "0              0.000043        0.000043    0.000458  0.000705  0.000090   \n",
              "1              0.001537        0.001419    0.001856  0.000958  0.000784   \n",
              "2              0.000039        0.000081    0.000255  0.001535  0.000039   \n",
              "3              0.000025        0.000029    0.000112  0.000010  0.000012   \n",
              "4              0.000005        0.000147    0.000173  0.000023  0.000115   \n",
              "\n",
              "   Zipper_(clothing)  \n",
              "0           0.000061  \n",
              "1           0.082173  \n",
              "2           0.003875  \n",
              "3           0.002671  \n",
              "4           0.000209  \n",
              "\n",
              "[5 rows x 81 columns]"
            ]
          },
          "metadata": {
            "tags": []
          },
          "execution_count": 26
        }
      ]
    },
    {
      "cell_type": "code",
      "metadata": {
        "id": "RkZp04mwNia9",
        "colab_type": "code",
        "colab": {}
      },
      "source": [
        ""
      ],
      "execution_count": 0,
      "outputs": []
    }
  ]
}