{
  "nbformat": 4,
  "nbformat_minor": 0,
  "metadata": {
    "colab": {
      "name": "trail_10_augmentation.ipynb",
      "version": "0.3.2",
      "provenance": [],
      "collapsed_sections": [
        "eHnoL6b4P2uw",
        "ywFnbu3eP5nW",
        "Ti-PQPO2uNQC",
        "O5P3LRRfB9Kd",
        "3GrsWQAAdftZ",
        "4S7isI9efo1z",
        "V1K6xYZSAIDF",
        "pZQBID-xxKkf"
      ]
    },
    "kernelspec": {
      "name": "python3",
      "display_name": "Python 3"
    },
    "accelerator": "GPU"
  },
  "cells": [
    {
      "cell_type": "markdown",
      "metadata": {
        "id": "3Haq2PI9sBZ4",
        "colab_type": "text"
      },
      "source": [
        "implementation:\n",
        "\n",
        "*   https://www.kaggle.com/daisukelab/cnn-2d-basic-solution-powered-by-fast-ai\n",
        "*   https://www.kaggle.com/mhiro2/simple-2d-cnn-classifier-with-pytorch"
      ]
    },
    {
      "cell_type": "markdown",
      "metadata": {
        "id": "eHnoL6b4P2uw",
        "colab_type": "text"
      },
      "source": [
        "### Downloading dataset"
      ]
    },
    {
      "cell_type": "code",
      "metadata": {
        "id": "Z4fj8QJuPXUJ",
        "colab_type": "code",
        "colab": {}
      },
      "source": [
        "!wget --header=\"Host: storage.googleapis.com\" --header=\"User-Agent: Mozilla/5.0 (Windows NT 6.1) AppleWebKit/537.36 (KHTML, like Gecko) Chrome/74.0.3729.157 Safari/537.36\" --header=\"Accept: text/html,application/xhtml+xml,application/xml;q=0.9,image/webp,image/apng,*/*;q=0.8,application/signed-exchange;v=b3\" --header=\"Accept-Language: en-US,en;q=0.9\" --header=\"Referer: https://www.kaggle.com/\" \"https://storage.googleapis.com/kaggle-competitions-data/kaggle/10700/371136/sample_submission.csv?GoogleAccessId=web-data@kaggle-161607.iam.gserviceaccount.com&Expires=1558799884&Signature=F%2Fad1sy%2BW8St76%2B8f3hMaIuYEpIiHa1VBPcFmcbPgITtIiSu4ZDmh65EuaDJn0pD1%2FdgfCzPRhXvpREZ9KYbCHqLCN%2FBI0SrL15waLFHyIKJoBy6oR6GqmWpUj4nj8vPHE1AnkuzaTYtPU6KZWSi%2BhBv%2FR9sNkH2kChcyyjBiE8iQEO7f2isrtNXlaDEgBDy3CWMri%2FZycWwZmif3m8%2Br5DsX5EnabMRJiH2fiDidpcu4irs%2B8YPKgticTKbZT4ryN2I5I6%2BgSoNJuGLErtomCRQztt6F4Vcm1q%2BOpkAiwf5Aub8v9%2BNeHpL6ZBcbAKt1H1gKaZ3xiV2Zt8EnTMgfA%3D%3D\" -O \"sample_submission.csv\" -c"
      ],
      "execution_count": 0,
      "outputs": []
    },
    {
      "cell_type": "code",
      "metadata": {
        "id": "t0mlUkNgPm3a",
        "colab_type": "code",
        "colab": {}
      },
      "source": [
        "!wget --header=\"Host: storage.googleapis.com\" --header=\"User-Agent: Mozilla/5.0 (Windows NT 6.1) AppleWebKit/537.36 (KHTML, like Gecko) Chrome/74.0.3729.157 Safari/537.36\" --header=\"Accept: text/html,application/xhtml+xml,application/xml;q=0.9,image/webp,image/apng,*/*;q=0.8,application/signed-exchange;v=b3\" --header=\"Accept-Language: en-US,en;q=0.9\" --header=\"Referer: https://www.kaggle.com/\" \"https://storage.googleapis.com/kaggle-competitions-data/kaggle/10700/371136/train_curated.csv?GoogleAccessId=web-data@kaggle-161607.iam.gserviceaccount.com&Expires=1558799898&Signature=itj45RttdpUSnrbNk7ROVmQpBtkQKF%2Fn3vVS88UGduDi4u1KU7ZdKRt0CAfWYHDlmgc15KanVoEBELntnJDIePohCWdnFF5LEP18%2BBeJ9LuwQ3sDBJJEbRfwrAbcgbasyhGE%2Fw8qFakqsDVEHvaag0jDXUWg8Cg8thBMDERX6Enu%2FI4Obn18LvPlhkg5FhQfQsVcdXxdFKHx869eGq34TnYhlvuAKsOZo5LesF6FeAK3G80GHhVA9B78uSwEziLrhgagWXm%2Fp3wpg%2Fsnpu5TJed%2FJjLiwoguExOx%2Fcws9xWTubKrF4rgb6X5FD3bIV5b8H1rwyWg%2FU8v%2BDkDH4dxqQ%3D%3D\" -O \"train_curated.csv\" -c"
      ],
      "execution_count": 0,
      "outputs": []
    },
    {
      "cell_type": "code",
      "metadata": {
        "id": "RTXMdoKhPqb9",
        "colab_type": "code",
        "colab": {}
      },
      "source": [
        "!wget --header=\"Host: storage.googleapis.com\" --header=\"User-Agent: Mozilla/5.0 (Windows NT 6.1) AppleWebKit/537.36 (KHTML, like Gecko) Chrome/74.0.3729.157 Safari/537.36\" --header=\"Accept: text/html,application/xhtml+xml,application/xml;q=0.9,image/webp,image/apng,*/*;q=0.8,application/signed-exchange;v=b3\" --header=\"Accept-Language: en-US,en;q=0.9\" --header=\"Referer: https://www.kaggle.com/\" \"https://storage.googleapis.com/kaggle-competitions-data/kaggle/10700/371136/train_noisy.csv?GoogleAccessId=web-data@kaggle-161607.iam.gserviceaccount.com&Expires=1558799913&Signature=ZlFh6cVQTqy%2BPNv1uwmiZJLurcQnzng%2BX3lxN%2FLzGbIwm%2B5npT%2Bznr4kSV%2FGUdT3FA9qIXkX%2BkKE4nGkp4Ex8hi%2FLWF1mSr56DvCv8lrHH4d8HanHUVJH6hMIR8d40gejokfnEIF67ocNS02CZFKxRQYSetxjvJDAHNfQbsL1pdYpXMljPPr2a%2F6zjbXH%2B5VY5mIK669yTGiquXpsrLM%2Bnnas0o22ZZQGnkwL7hCWUcC7W48zSIMJUriNPWlQrjZyPJNs26O6XpibtqtQqbUg5j7SOGHQBpF7X8osQWDisnfpMe65MZbaiGtQ4nr5OAg%2FWdnrPbSIU6StrF2iSNBeg%3D%3D\" -O \"train_noisy.csv\" -c"
      ],
      "execution_count": 0,
      "outputs": []
    },
    {
      "cell_type": "code",
      "metadata": {
        "id": "I75LDMVcPs52",
        "colab_type": "code",
        "colab": {}
      },
      "source": [
        "!wget --header=\"Host: storage.googleapis.com\" --header=\"User-Agent: Mozilla/5.0 (Windows NT 6.1) AppleWebKit/537.36 (KHTML, like Gecko) Chrome/74.0.3729.157 Safari/537.36\" --header=\"Accept: text/html,application/xhtml+xml,application/xml;q=0.9,image/webp,image/apng,*/*;q=0.8,application/signed-exchange;v=b3\" --header=\"Accept-Language: en-US,en;q=0.9\" --header=\"Referer: https://www.kaggle.com/\" \"https://storage.googleapis.com/kaggle-competitions-data/kaggle/10700/371136/test.zip?GoogleAccessId=web-data@kaggle-161607.iam.gserviceaccount.com&Expires=1558799927&Signature=J0YpYkbuS5khWnMdmZ8UIj7L41o8S5%2BmANIZJKJz5HIWj8s7d9M34m%2B6Tc6E3BjhGDefza2%2FWlCj1wJKX4ECVI5S%2B%2F%2FTJGniSWaJnHt6874peKSFRsyk%2FfOSaMsuyNpPWe%2FrmrBHZ%2FVj0HaZlhXlW5%2BLXfi9p7L%2F3zs1yy1Xu%2BQ5ZrEHDn3kQ1gbN1mJ03cXG0qA%2BUCQLlq0ZTi465fp%2BaJAqWTH7qnMmej%2BHt9zCmdl1VBj0wb04YDIjiLaTP%2BdS7tmqOMczjT1a9lZJeEKgwNSdGCWueHTseu0AKWywk6svh1Q0vo4qEoA21%2F0V%2FKi6I6CMAsKaZowVd2VxRsRfQ%3D%3D\" -O \"test.zip\" -c"
      ],
      "execution_count": 0,
      "outputs": []
    },
    {
      "cell_type": "code",
      "metadata": {
        "id": "doLUxbxlPyes",
        "colab_type": "code",
        "colab": {}
      },
      "source": [
        "!wget --header=\"Host: storage.googleapis.com\" --header=\"User-Agent: Mozilla/5.0 (Windows NT 6.1) AppleWebKit/537.36 (KHTML, like Gecko) Chrome/74.0.3729.157 Safari/537.36\" --header=\"Accept: text/html,application/xhtml+xml,application/xml;q=0.9,image/webp,image/apng,*/*;q=0.8,application/signed-exchange;v=b3\" --header=\"Accept-Language: en-US,en;q=0.9\" --header=\"Referer: https://www.kaggle.com/\" \"https://storage.googleapis.com/kaggle-competitions-data/kaggle/10700/371136/train_curated.zip?GoogleAccessId=web-data@kaggle-161607.iam.gserviceaccount.com&Expires=1558799942&Signature=LVCIgYhouKvt3sMbZcmRZQz92zjnwvPzz%2BiQXHnatRXMp2bkXoBapAqSHtawEGG7m1JUG4dCDiAsG6A6jNoW8PaII7AYXsCJuIaQaMjAH%2FE6wFfy5h27xprzDwsZykE6q1Vtq3NxfjwGqqMXDCqtjy%2Fjsov4cbrCGXNzZwtHF%2BxKenJEidwX4VGchNFu57CgsjgHQU4aHAGisS0P8AEPahgjgKWs4OOQY4PGs06y9nOsZzzbWFjWf4W8X41loL%2BAmC41brArHoak0DzSsTdT33E7%2BKPDhMt4YkSx%2B8sDsEVtOkZJbARglHXOhE%2BaQC7G%2Fkm5mB8E0X03BK%2FAfo1Xtg%3D%3D\" -O \"train_curated.zip\" -c"
      ],
      "execution_count": 0,
      "outputs": []
    },
    {
      "cell_type": "code",
      "metadata": {
        "id": "5aNnA16iPy_T",
        "colab_type": "code",
        "colab": {}
      },
      "source": [
        "!wget --header=\"Host: storage.googleapis.com\" --header=\"User-Agent: Mozilla/5.0 (Windows NT 6.1) AppleWebKit/537.36 (KHTML, like Gecko) Chrome/74.0.3729.157 Safari/537.36\" --header=\"Accept: text/html,application/xhtml+xml,application/xml;q=0.9,image/webp,image/apng,*/*;q=0.8,application/signed-exchange;v=b3\" --header=\"Accept-Language: en-US,en;q=0.9\" --header=\"Referer: https://www.kaggle.com/\" \"https://storage.googleapis.com/kaggle-competitions-data/kaggle/10700/371136/train_noisy.zip?GoogleAccessId=web-data@kaggle-161607.iam.gserviceaccount.com&Expires=1558799956&Signature=jyuoEtStXkt2fo1jBOxMVWmHmM03wkEcYA4a7jXDnp4w%2FXYomsje6uDv4rbeUl2UDpNbCHAwraU4zgTH9YxUVqmYrFBf9INd9Eqyq%2B8J4R%2F8PuPbx5yNLntlqPULq2iP4kn315DTkInPpGpACUgnhVZsdcGMAaHLYI8Gk4drcECT0NghIxTtqpJ6pQ3zBvDTKmwqi%2Fe8cqMvvH3fY21IBVHmnDqmMB0Cbeoo9D3Y7HMSyQvMGCmQ97Mve%2FI%2Bhirs7Qqed1ftzcnxFwpbr6ALZExZNVt7keVjlEIdVhP1%2B14HhsCIhBSYa8FUQjCpbzoniYTJm5Pd31wxXpRYViPQ2A%3D%3D\" -O \"train_noisy.zip\" -c"
      ],
      "execution_count": 0,
      "outputs": []
    },
    {
      "cell_type": "markdown",
      "metadata": {
        "id": "_fJaLfzGynqy",
        "colab_type": "text"
      },
      "source": [
        "***Preprocessed data***"
      ]
    },
    {
      "cell_type": "code",
      "metadata": {
        "id": "6bZWNGSWypWV",
        "colab_type": "code",
        "colab": {}
      },
      "source": [
        "!wget --header=\"Host: storage.googleapis.com\" --header=\"User-Agent: Mozilla/5.0 (Windows NT 6.1) AppleWebKit/537.36 (KHTML, like Gecko) Chrome/74.0.3729.157 Safari/537.36\" --header=\"Accept: text/html,application/xhtml+xml,application/xml;q=0.9,image/webp,image/apng,*/*;q=0.8,application/signed-exchange;v=b3\" --header=\"Accept-Language: en-US,en;q=0.9\" --header=\"Referer: https://www.kaggle.com/\" \"https://storage.googleapis.com/kaggle-datasets/164278/379726/fat2019_prep_mels1.zip?GoogleAccessId=web-data@kaggle-161607.iam.gserviceaccount.com&Expires=1558799978&Signature=EAt70QU2usekkPy74aSvqhN4f7o7pxx%2BHPUY5NgZ9m%2FxEsoOpQsV7R0lJLDoc%2BQ9eenQl8BN3ZF7sHHax07TCxE6zYU1pqLxi0F%2BAshQWT2Fswsi%2B5Lrdeb%2FVCeiBrknI5upPS3kYNgaGiLWbd76vu8SRnO092Wbvo9nKCqqJjSz0fSI7%2BVHPH8xb9MbtV1bkiYCkHwnZTOXJQNffAOHzC9aXIVu5wG0wWKly7iokVU2oKJE23a8QfE%2BjhRgbC3KHeMks0uPD95WtGdHYIW8JDrnejTEHNyApGq8JPS8dM2zq0wW1xteFotawF%2FLS32msixYHCJeCDTbfClvpYgkgA%3D%3D\" -O \"fat2019_prep_mels1.zip\" -c"
      ],
      "execution_count": 0,
      "outputs": []
    },
    {
      "cell_type": "markdown",
      "metadata": {
        "id": "ywFnbu3eP5nW",
        "colab_type": "text"
      },
      "source": [
        "### Exploring dataset"
      ]
    },
    {
      "cell_type": "code",
      "metadata": {
        "id": "Su0tOhnVcACC",
        "colab_type": "code",
        "colab": {}
      },
      "source": [
        "!mkdir test\n",
        "!mkdir train_curated\n",
        "!mkdir train_noisy\n",
        "!mkdir data"
      ],
      "execution_count": 0,
      "outputs": []
    },
    {
      "cell_type": "code",
      "metadata": {
        "id": "pokwjdG2zCjs",
        "colab_type": "code",
        "colab": {}
      },
      "source": [
        "!unzip -qq fat2019_prep_mels1.zip -d data"
      ],
      "execution_count": 0,
      "outputs": []
    },
    {
      "cell_type": "code",
      "metadata": {
        "id": "Wo1Wq71PP43o",
        "colab_type": "code",
        "colab": {}
      },
      "source": [
        "!unzip -qq test.zip -d test"
      ],
      "execution_count": 0,
      "outputs": []
    },
    {
      "cell_type": "code",
      "metadata": {
        "id": "nLZZ6nuWQMqB",
        "colab_type": "code",
        "colab": {}
      },
      "source": [
        "!unzip -qq train_curated.zip -d train_curated"
      ],
      "execution_count": 0,
      "outputs": []
    },
    {
      "cell_type": "code",
      "metadata": {
        "id": "JpYGeV7mQMkG",
        "colab_type": "code",
        "colab": {}
      },
      "source": [
        "!unzip -qq train_noisy.zip -d train_noisy"
      ],
      "execution_count": 0,
      "outputs": []
    },
    {
      "cell_type": "markdown",
      "metadata": {
        "id": "bK-JmCd_QMWx",
        "colab_type": "text"
      },
      "source": [
        "To apply deep learning technique, we first have to come up with a way to provide effective converse from audio data to any other form which will make it effective for deep learning technique for multilabeling"
      ]
    },
    {
      "cell_type": "markdown",
      "metadata": {
        "id": "8l5HQ4X5SmxC",
        "colab_type": "text"
      },
      "source": [
        "Audio conversion to 2D\n",
        "Almost copyed from my repository: https://github.com/daisukelab/ml-sound-classifier\n",
        "\n",
        "Handle sampling rate 44.1kHz as is, no information loss.\n",
        "Size of each file will be 128 x L, L is audio seconds x 128; [128, 256] if sound is 2s long.\n",
        "Convert to Mel-spectrogram, not MFCC. We are handling general sound rather than human voice. https://en.wikipedia.org/wiki/Spectrogram"
      ]
    },
    {
      "cell_type": "code",
      "metadata": {
        "id": "1PZG8p-dchS2",
        "colab_type": "code",
        "colab": {}
      },
      "source": [
        "!mv -t data test train_curated train_noisy"
      ],
      "execution_count": 0,
      "outputs": []
    },
    {
      "cell_type": "code",
      "metadata": {
        "id": "PhPW_sIidU0p",
        "colab_type": "code",
        "colab": {}
      },
      "source": [
        "!mv sample_submission.csv train_curated.csv train_noisy.csv data"
      ],
      "execution_count": 0,
      "outputs": []
    },
    {
      "cell_type": "code",
      "metadata": {
        "id": "IFndQ6_MhLb7",
        "colab_type": "code",
        "colab": {}
      },
      "source": [
        "!ls data"
      ],
      "execution_count": 0,
      "outputs": []
    },
    {
      "cell_type": "markdown",
      "metadata": {
        "id": "-oTCWqn31MKk",
        "colab_type": "text"
      },
      "source": [
        "## Testing different dL techniques"
      ]
    },
    {
      "cell_type": "markdown",
      "metadata": {
        "id": "mKoAfumiEzmB",
        "colab_type": "text"
      },
      "source": [
        "### End-2-End pipeline"
      ]
    },
    {
      "cell_type": "code",
      "metadata": {
        "id": "RrDOLlznw5V_",
        "colab_type": "code",
        "colab": {}
      },
      "source": [
        "\"\"\"list:\n",
        "  apply augmentation\n",
        "  cnn architecture\n",
        "  result of model\n",
        "  .div_(255)\n",
        "  img = img / 2 + 0.5     # unnormalize\n",
        "\n",
        "  \n",
        "  \"\"\""
      ],
      "execution_count": 0,
      "outputs": []
    },
    {
      "cell_type": "code",
      "metadata": {
        "id": "tdnnHF_wLHoK",
        "colab_type": "code",
        "colab": {}
      },
      "source": [
        "torch.manual_seed(42)\n",
        "random_state = 42"
      ],
      "execution_count": 0,
      "outputs": []
    },
    {
      "cell_type": "code",
      "metadata": {
        "id": "dVMnWnBwzTTc",
        "colab_type": "code",
        "colab": {}
      },
      "source": [
        "from pathlib import Path\n",
        "from psutil import cpu_count\n",
        "import random\n",
        "import pandas as pd\n",
        "import pickle\n",
        "import numpy as np\n",
        "from PIL import Image\n",
        "import matplotlib.pyplot as plt\n",
        "import os\n",
        "import torch\n",
        "from torch.utils.data import Dataset, DataLoader\n",
        "import torchvision\n",
        "from torchvision.transforms import transforms\n",
        "from functools import partial\n",
        "from sklearn.model_selection import train_test_split"
      ],
      "execution_count": 0,
      "outputs": []
    },
    {
      "cell_type": "code",
      "metadata": {
        "colab_type": "code",
        "id": "vmit45ThyA0E",
        "colab": {}
      },
      "source": [
        "# from official code https://colab.research.google.com/drive/1AgPdhSp7ttY18O3fEoHOQKlt_3HJDLi8#scrollTo=cRCaCIb9oguU\n",
        "def _one_sample_positive_class_precisions(scores, truth):\n",
        "    \"\"\"Calculate precisions for each true class for a single sample.\n",
        "\n",
        "    Args:\n",
        "      scores: np.array of (num_classes,) giving the individual classifier scores.\n",
        "      truth: np.array of (num_classes,) bools indicating which classes are true.\n",
        "\n",
        "    Returns:\n",
        "      pos_class_indices: np.array of indices of the true classes for this sample.\n",
        "      pos_class_precisions: np.array of precisions corresponding to each of those\n",
        "        classes.\n",
        "    \"\"\"\n",
        "    num_classes = scores.shape[0]\n",
        "    pos_class_indices = np.flatnonzero(truth > 0)\n",
        "    # Only calculate precisions if there are some true classes.\n",
        "    if not len(pos_class_indices):\n",
        "        return pos_class_indices, np.zeros(0)\n",
        "    # Retrieval list of classes for this sample.\n",
        "    retrieved_classes = np.argsort(scores)[::-1]\n",
        "    # class_rankings[top_scoring_class_index] == 0 etc.\n",
        "    class_rankings = np.zeros(num_classes, dtype=np.int)\n",
        "    class_rankings[retrieved_classes] = range(num_classes)\n",
        "    # Which of these is a true label?\n",
        "    retrieved_class_true = np.zeros(num_classes, dtype=np.bool)\n",
        "    retrieved_class_true[class_rankings[pos_class_indices]] = True\n",
        "    # Num hits for every truncated retrieval list.\n",
        "    retrieved_cumulative_hits = np.cumsum(retrieved_class_true)\n",
        "    # Precision of retrieval list truncated at each hit, in order of pos_labels.\n",
        "    precision_at_hits = (\n",
        "            retrieved_cumulative_hits[class_rankings[pos_class_indices]] /\n",
        "            (1 + class_rankings[pos_class_indices].astype(np.float)))\n",
        "    return pos_class_indices, precision_at_hits\n",
        "\n",
        "\n",
        "def calculate_per_class_lwlrap(truth, scores):\n",
        "    \"\"\"Calculate label-weighted label-ranking average precision.\n",
        "\n",
        "    Arguments:\n",
        "      truth: np.array of (num_samples, num_classes) giving boolean ground-truth\n",
        "        of presence of that class in that sample.\n",
        "      scores: np.array of (num_samples, num_classes) giving the classifier-under-\n",
        "        test's real-valued score for each class for each sample.\n",
        "\n",
        "    Returns:\n",
        "      per_class_lwlrap: np.array of (num_classes,) giving the lwlrap for each\n",
        "        class.\n",
        "      weight_per_class: np.array of (num_classes,) giving the prior of each\n",
        "        class within the truth labels.  Then the overall unbalanced lwlrap is\n",
        "        simply np.sum(per_class_lwlrap * weight_per_class)\n",
        "    \"\"\"\n",
        "    assert truth.shape == scores.shape\n",
        "    num_samples, num_classes = scores.shape\n",
        "    # Space to store a distinct precision value for each class on each sample.\n",
        "    # Only the classes that are true for each sample will be filled in.\n",
        "    precisions_for_samples_by_classes = np.zeros((num_samples, num_classes))\n",
        "    for sample_num in range(num_samples):\n",
        "        pos_class_indices, precision_at_hits = (\n",
        "            _one_sample_positive_class_precisions(scores[sample_num, :],\n",
        "                                                  truth[sample_num, :]))\n",
        "        precisions_for_samples_by_classes[sample_num, pos_class_indices] = (\n",
        "            precision_at_hits)\n",
        "    labels_per_class = np.sum(truth > 0, axis=0)\n",
        "    weight_per_class = labels_per_class / float(np.sum(labels_per_class))\n",
        "    # Form average of each column, i.e. all the precisions assigned to labels in\n",
        "    # a particular class.\n",
        "    per_class_lwlrap = (np.sum(precisions_for_samples_by_classes, axis=0) /\n",
        "                        np.maximum(1, labels_per_class))\n",
        "    # overall_lwlrap = simple average of all the actual per-class, per-sample precisions\n",
        "    #                = np.sum(precisions_for_samples_by_classes) / np.sum(precisions_for_samples_by_classes > 0)\n",
        "    #           also = weighted mean of per-class lwlraps, weighted by class label prior across samples\n",
        "    #                = np.sum(per_class_lwlrap * weight_per_class)\n",
        "    return per_class_lwlrap, weight_per_class"
      ],
      "execution_count": 0,
      "outputs": []
    },
    {
      "cell_type": "code",
      "metadata": {
        "colab_type": "code",
        "id": "HJwRjrv8yA0K",
        "colab": {}
      },
      "source": [
        "dataset_dir = Path('data')\n",
        "preprocessed_dir = Path('data')"
      ],
      "execution_count": 0,
      "outputs": []
    },
    {
      "cell_type": "code",
      "metadata": {
        "colab_type": "code",
        "id": "UBUtxLEeyA0M",
        "colab": {}
      },
      "source": [
        "csvs = {\n",
        "    'train_curated': dataset_dir / 'train_curated.csv',\n",
        "    #'train_noisy': dataset_dir / 'train_noisy.csv',\n",
        "    'train_noisy': preprocessed_dir / 'trn_noisy_best50s.csv',\n",
        "    'sample_submission': dataset_dir / 'sample_submission.csv',\n",
        "}\n",
        "\n",
        "dataset = {\n",
        "    'train_curated': dataset_dir / 'train_curated',\n",
        "    'train_noisy': dataset_dir / 'train_noisy',\n",
        "    'test': dataset_dir / 'test',\n",
        "}\n",
        "\n",
        "mels = {\n",
        "    'train_curated': preprocessed_dir / 'mels_train_curated.pkl',\n",
        "    'train_noisy': preprocessed_dir / 'mels_trn_noisy_best50s.pkl',\n",
        "    'test': preprocessed_dir / 'mels_test.pkl',  # NOTE: this data doesn't work at 2nd stage\n",
        "}"
      ],
      "execution_count": 0,
      "outputs": []
    },
    {
      "cell_type": "code",
      "metadata": {
        "colab_type": "code",
        "id": "8tk1KBuHyA0O",
        "colab": {
          "base_uri": "https://localhost:8080/",
          "height": 204
        },
        "outputId": "950058f3-2ab5-4e2b-ad0e-c6bec83b2d88"
      },
      "source": [
        "train_curated = pd.read_csv(csvs['train_curated'])\n",
        "train_noisy = pd.read_csv(csvs['train_noisy'])\n",
        "train_df = pd.concat([train_curated, train_noisy], sort=True, ignore_index=True)\n",
        "train_df.head()"
      ],
      "execution_count": 5,
      "outputs": [
        {
          "output_type": "execute_result",
          "data": {
            "text/html": [
              "<div>\n",
              "<style scoped>\n",
              "    .dataframe tbody tr th:only-of-type {\n",
              "        vertical-align: middle;\n",
              "    }\n",
              "\n",
              "    .dataframe tbody tr th {\n",
              "        vertical-align: top;\n",
              "    }\n",
              "\n",
              "    .dataframe thead th {\n",
              "        text-align: right;\n",
              "    }\n",
              "</style>\n",
              "<table border=\"1\" class=\"dataframe\">\n",
              "  <thead>\n",
              "    <tr style=\"text-align: right;\">\n",
              "      <th></th>\n",
              "      <th>fname</th>\n",
              "      <th>labels</th>\n",
              "      <th>singled</th>\n",
              "    </tr>\n",
              "  </thead>\n",
              "  <tbody>\n",
              "    <tr>\n",
              "      <th>0</th>\n",
              "      <td>0006ae4e.wav</td>\n",
              "      <td>Bark</td>\n",
              "      <td>NaN</td>\n",
              "    </tr>\n",
              "    <tr>\n",
              "      <th>1</th>\n",
              "      <td>0019ef41.wav</td>\n",
              "      <td>Raindrop</td>\n",
              "      <td>NaN</td>\n",
              "    </tr>\n",
              "    <tr>\n",
              "      <th>2</th>\n",
              "      <td>001ec0ad.wav</td>\n",
              "      <td>Finger_snapping</td>\n",
              "      <td>NaN</td>\n",
              "    </tr>\n",
              "    <tr>\n",
              "      <th>3</th>\n",
              "      <td>0026c7cb.wav</td>\n",
              "      <td>Run</td>\n",
              "      <td>NaN</td>\n",
              "    </tr>\n",
              "    <tr>\n",
              "      <th>4</th>\n",
              "      <td>0026f116.wav</td>\n",
              "      <td>Finger_snapping</td>\n",
              "      <td>NaN</td>\n",
              "    </tr>\n",
              "  </tbody>\n",
              "</table>\n",
              "</div>"
            ],
            "text/plain": [
              "          fname           labels singled\n",
              "0  0006ae4e.wav             Bark     NaN\n",
              "1  0019ef41.wav         Raindrop     NaN\n",
              "2  001ec0ad.wav  Finger_snapping     NaN\n",
              "3  0026c7cb.wav              Run     NaN\n",
              "4  0026f116.wav  Finger_snapping     NaN"
            ]
          },
          "metadata": {
            "tags": []
          },
          "execution_count": 5
        }
      ]
    },
    {
      "cell_type": "code",
      "metadata": {
        "colab_type": "code",
        "id": "mY5rf36QyA0S",
        "colab": {
          "base_uri": "https://localhost:8080/",
          "height": 270
        },
        "outputId": "c9524f57-0417-4971-e1b5-53eb50b94cb4"
      },
      "source": [
        "test_df = pd.read_csv(csvs['sample_submission'])\n",
        "test_df.head()"
      ],
      "execution_count": 6,
      "outputs": [
        {
          "output_type": "execute_result",
          "data": {
            "text/html": [
              "<div>\n",
              "<style scoped>\n",
              "    .dataframe tbody tr th:only-of-type {\n",
              "        vertical-align: middle;\n",
              "    }\n",
              "\n",
              "    .dataframe tbody tr th {\n",
              "        vertical-align: top;\n",
              "    }\n",
              "\n",
              "    .dataframe thead th {\n",
              "        text-align: right;\n",
              "    }\n",
              "</style>\n",
              "<table border=\"1\" class=\"dataframe\">\n",
              "  <thead>\n",
              "    <tr style=\"text-align: right;\">\n",
              "      <th></th>\n",
              "      <th>fname</th>\n",
              "      <th>Accelerating_and_revving_and_vroom</th>\n",
              "      <th>Accordion</th>\n",
              "      <th>Acoustic_guitar</th>\n",
              "      <th>Applause</th>\n",
              "      <th>Bark</th>\n",
              "      <th>Bass_drum</th>\n",
              "      <th>Bass_guitar</th>\n",
              "      <th>Bathtub_(filling_or_washing)</th>\n",
              "      <th>Bicycle_bell</th>\n",
              "      <th>Burping_and_eructation</th>\n",
              "      <th>Bus</th>\n",
              "      <th>Buzz</th>\n",
              "      <th>Car_passing_by</th>\n",
              "      <th>Cheering</th>\n",
              "      <th>Chewing_and_mastication</th>\n",
              "      <th>Child_speech_and_kid_speaking</th>\n",
              "      <th>Chink_and_clink</th>\n",
              "      <th>Chirp_and_tweet</th>\n",
              "      <th>Church_bell</th>\n",
              "      <th>Clapping</th>\n",
              "      <th>Computer_keyboard</th>\n",
              "      <th>Crackle</th>\n",
              "      <th>Cricket</th>\n",
              "      <th>Crowd</th>\n",
              "      <th>Cupboard_open_or_close</th>\n",
              "      <th>Cutlery_and_silverware</th>\n",
              "      <th>Dishes_and_pots_and_pans</th>\n",
              "      <th>Drawer_open_or_close</th>\n",
              "      <th>Drip</th>\n",
              "      <th>Electric_guitar</th>\n",
              "      <th>Fart</th>\n",
              "      <th>Female_singing</th>\n",
              "      <th>Female_speech_and_woman_speaking</th>\n",
              "      <th>Fill_(with_liquid)</th>\n",
              "      <th>Finger_snapping</th>\n",
              "      <th>Frying_(food)</th>\n",
              "      <th>Gasp</th>\n",
              "      <th>Glockenspiel</th>\n",
              "      <th>Gong</th>\n",
              "      <th>...</th>\n",
              "      <th>Harmonica</th>\n",
              "      <th>Hi-hat</th>\n",
              "      <th>Hiss</th>\n",
              "      <th>Keys_jangling</th>\n",
              "      <th>Knock</th>\n",
              "      <th>Male_singing</th>\n",
              "      <th>Male_speech_and_man_speaking</th>\n",
              "      <th>Marimba_and_xylophone</th>\n",
              "      <th>Mechanical_fan</th>\n",
              "      <th>Meow</th>\n",
              "      <th>Microwave_oven</th>\n",
              "      <th>Motorcycle</th>\n",
              "      <th>Printer</th>\n",
              "      <th>Purr</th>\n",
              "      <th>Race_car_and_auto_racing</th>\n",
              "      <th>Raindrop</th>\n",
              "      <th>Run</th>\n",
              "      <th>Scissors</th>\n",
              "      <th>Screaming</th>\n",
              "      <th>Shatter</th>\n",
              "      <th>Sigh</th>\n",
              "      <th>Sink_(filling_or_washing)</th>\n",
              "      <th>Skateboard</th>\n",
              "      <th>Slam</th>\n",
              "      <th>Sneeze</th>\n",
              "      <th>Squeak</th>\n",
              "      <th>Stream</th>\n",
              "      <th>Strum</th>\n",
              "      <th>Tap</th>\n",
              "      <th>Tick-tock</th>\n",
              "      <th>Toilet_flush</th>\n",
              "      <th>Traffic_noise_and_roadway_noise</th>\n",
              "      <th>Trickle_and_dribble</th>\n",
              "      <th>Walk_and_footsteps</th>\n",
              "      <th>Water_tap_and_faucet</th>\n",
              "      <th>Waves_and_surf</th>\n",
              "      <th>Whispering</th>\n",
              "      <th>Writing</th>\n",
              "      <th>Yell</th>\n",
              "      <th>Zipper_(clothing)</th>\n",
              "    </tr>\n",
              "  </thead>\n",
              "  <tbody>\n",
              "    <tr>\n",
              "      <th>0</th>\n",
              "      <td>000ccb97.wav</td>\n",
              "      <td>0</td>\n",
              "      <td>0</td>\n",
              "      <td>0</td>\n",
              "      <td>0</td>\n",
              "      <td>0</td>\n",
              "      <td>0</td>\n",
              "      <td>0</td>\n",
              "      <td>0</td>\n",
              "      <td>0</td>\n",
              "      <td>0</td>\n",
              "      <td>0</td>\n",
              "      <td>0</td>\n",
              "      <td>0</td>\n",
              "      <td>0</td>\n",
              "      <td>0</td>\n",
              "      <td>0</td>\n",
              "      <td>0</td>\n",
              "      <td>0</td>\n",
              "      <td>0</td>\n",
              "      <td>0</td>\n",
              "      <td>0</td>\n",
              "      <td>0</td>\n",
              "      <td>0</td>\n",
              "      <td>0</td>\n",
              "      <td>0</td>\n",
              "      <td>0</td>\n",
              "      <td>0</td>\n",
              "      <td>0</td>\n",
              "      <td>0</td>\n",
              "      <td>0</td>\n",
              "      <td>0</td>\n",
              "      <td>0</td>\n",
              "      <td>0</td>\n",
              "      <td>0</td>\n",
              "      <td>0</td>\n",
              "      <td>0</td>\n",
              "      <td>0</td>\n",
              "      <td>0</td>\n",
              "      <td>0</td>\n",
              "      <td>...</td>\n",
              "      <td>0</td>\n",
              "      <td>0</td>\n",
              "      <td>0</td>\n",
              "      <td>0</td>\n",
              "      <td>0</td>\n",
              "      <td>0</td>\n",
              "      <td>0</td>\n",
              "      <td>0</td>\n",
              "      <td>0</td>\n",
              "      <td>0</td>\n",
              "      <td>0</td>\n",
              "      <td>0</td>\n",
              "      <td>0</td>\n",
              "      <td>0</td>\n",
              "      <td>0</td>\n",
              "      <td>0</td>\n",
              "      <td>0</td>\n",
              "      <td>0</td>\n",
              "      <td>0</td>\n",
              "      <td>0</td>\n",
              "      <td>0</td>\n",
              "      <td>0</td>\n",
              "      <td>0</td>\n",
              "      <td>0</td>\n",
              "      <td>0</td>\n",
              "      <td>0</td>\n",
              "      <td>0</td>\n",
              "      <td>0</td>\n",
              "      <td>0</td>\n",
              "      <td>0</td>\n",
              "      <td>0</td>\n",
              "      <td>0</td>\n",
              "      <td>0</td>\n",
              "      <td>0</td>\n",
              "      <td>0</td>\n",
              "      <td>0</td>\n",
              "      <td>0</td>\n",
              "      <td>0</td>\n",
              "      <td>0</td>\n",
              "      <td>0</td>\n",
              "    </tr>\n",
              "    <tr>\n",
              "      <th>1</th>\n",
              "      <td>0012633b.wav</td>\n",
              "      <td>0</td>\n",
              "      <td>0</td>\n",
              "      <td>0</td>\n",
              "      <td>0</td>\n",
              "      <td>0</td>\n",
              "      <td>0</td>\n",
              "      <td>0</td>\n",
              "      <td>0</td>\n",
              "      <td>0</td>\n",
              "      <td>0</td>\n",
              "      <td>0</td>\n",
              "      <td>0</td>\n",
              "      <td>0</td>\n",
              "      <td>0</td>\n",
              "      <td>0</td>\n",
              "      <td>0</td>\n",
              "      <td>0</td>\n",
              "      <td>0</td>\n",
              "      <td>0</td>\n",
              "      <td>0</td>\n",
              "      <td>0</td>\n",
              "      <td>0</td>\n",
              "      <td>0</td>\n",
              "      <td>0</td>\n",
              "      <td>0</td>\n",
              "      <td>0</td>\n",
              "      <td>0</td>\n",
              "      <td>0</td>\n",
              "      <td>0</td>\n",
              "      <td>0</td>\n",
              "      <td>0</td>\n",
              "      <td>0</td>\n",
              "      <td>0</td>\n",
              "      <td>0</td>\n",
              "      <td>0</td>\n",
              "      <td>0</td>\n",
              "      <td>0</td>\n",
              "      <td>0</td>\n",
              "      <td>0</td>\n",
              "      <td>...</td>\n",
              "      <td>0</td>\n",
              "      <td>0</td>\n",
              "      <td>0</td>\n",
              "      <td>0</td>\n",
              "      <td>0</td>\n",
              "      <td>0</td>\n",
              "      <td>0</td>\n",
              "      <td>0</td>\n",
              "      <td>0</td>\n",
              "      <td>0</td>\n",
              "      <td>0</td>\n",
              "      <td>0</td>\n",
              "      <td>0</td>\n",
              "      <td>0</td>\n",
              "      <td>0</td>\n",
              "      <td>0</td>\n",
              "      <td>0</td>\n",
              "      <td>0</td>\n",
              "      <td>0</td>\n",
              "      <td>0</td>\n",
              "      <td>0</td>\n",
              "      <td>0</td>\n",
              "      <td>0</td>\n",
              "      <td>0</td>\n",
              "      <td>0</td>\n",
              "      <td>0</td>\n",
              "      <td>0</td>\n",
              "      <td>0</td>\n",
              "      <td>0</td>\n",
              "      <td>0</td>\n",
              "      <td>0</td>\n",
              "      <td>0</td>\n",
              "      <td>0</td>\n",
              "      <td>0</td>\n",
              "      <td>0</td>\n",
              "      <td>0</td>\n",
              "      <td>0</td>\n",
              "      <td>0</td>\n",
              "      <td>0</td>\n",
              "      <td>0</td>\n",
              "    </tr>\n",
              "    <tr>\n",
              "      <th>2</th>\n",
              "      <td>001ed5f1.wav</td>\n",
              "      <td>0</td>\n",
              "      <td>0</td>\n",
              "      <td>0</td>\n",
              "      <td>0</td>\n",
              "      <td>0</td>\n",
              "      <td>0</td>\n",
              "      <td>0</td>\n",
              "      <td>0</td>\n",
              "      <td>0</td>\n",
              "      <td>0</td>\n",
              "      <td>0</td>\n",
              "      <td>0</td>\n",
              "      <td>0</td>\n",
              "      <td>0</td>\n",
              "      <td>0</td>\n",
              "      <td>0</td>\n",
              "      <td>0</td>\n",
              "      <td>0</td>\n",
              "      <td>0</td>\n",
              "      <td>0</td>\n",
              "      <td>0</td>\n",
              "      <td>0</td>\n",
              "      <td>0</td>\n",
              "      <td>0</td>\n",
              "      <td>0</td>\n",
              "      <td>0</td>\n",
              "      <td>0</td>\n",
              "      <td>0</td>\n",
              "      <td>0</td>\n",
              "      <td>0</td>\n",
              "      <td>0</td>\n",
              "      <td>0</td>\n",
              "      <td>0</td>\n",
              "      <td>0</td>\n",
              "      <td>0</td>\n",
              "      <td>0</td>\n",
              "      <td>0</td>\n",
              "      <td>0</td>\n",
              "      <td>0</td>\n",
              "      <td>...</td>\n",
              "      <td>0</td>\n",
              "      <td>0</td>\n",
              "      <td>0</td>\n",
              "      <td>0</td>\n",
              "      <td>0</td>\n",
              "      <td>0</td>\n",
              "      <td>0</td>\n",
              "      <td>0</td>\n",
              "      <td>0</td>\n",
              "      <td>0</td>\n",
              "      <td>0</td>\n",
              "      <td>0</td>\n",
              "      <td>0</td>\n",
              "      <td>0</td>\n",
              "      <td>0</td>\n",
              "      <td>0</td>\n",
              "      <td>0</td>\n",
              "      <td>0</td>\n",
              "      <td>0</td>\n",
              "      <td>0</td>\n",
              "      <td>0</td>\n",
              "      <td>0</td>\n",
              "      <td>0</td>\n",
              "      <td>0</td>\n",
              "      <td>0</td>\n",
              "      <td>0</td>\n",
              "      <td>0</td>\n",
              "      <td>0</td>\n",
              "      <td>0</td>\n",
              "      <td>0</td>\n",
              "      <td>0</td>\n",
              "      <td>0</td>\n",
              "      <td>0</td>\n",
              "      <td>0</td>\n",
              "      <td>0</td>\n",
              "      <td>0</td>\n",
              "      <td>0</td>\n",
              "      <td>0</td>\n",
              "      <td>0</td>\n",
              "      <td>0</td>\n",
              "    </tr>\n",
              "    <tr>\n",
              "      <th>3</th>\n",
              "      <td>00294be0.wav</td>\n",
              "      <td>0</td>\n",
              "      <td>0</td>\n",
              "      <td>0</td>\n",
              "      <td>0</td>\n",
              "      <td>0</td>\n",
              "      <td>0</td>\n",
              "      <td>0</td>\n",
              "      <td>0</td>\n",
              "      <td>0</td>\n",
              "      <td>0</td>\n",
              "      <td>0</td>\n",
              "      <td>0</td>\n",
              "      <td>0</td>\n",
              "      <td>0</td>\n",
              "      <td>0</td>\n",
              "      <td>0</td>\n",
              "      <td>0</td>\n",
              "      <td>0</td>\n",
              "      <td>0</td>\n",
              "      <td>0</td>\n",
              "      <td>0</td>\n",
              "      <td>0</td>\n",
              "      <td>0</td>\n",
              "      <td>0</td>\n",
              "      <td>0</td>\n",
              "      <td>0</td>\n",
              "      <td>0</td>\n",
              "      <td>0</td>\n",
              "      <td>0</td>\n",
              "      <td>0</td>\n",
              "      <td>0</td>\n",
              "      <td>0</td>\n",
              "      <td>0</td>\n",
              "      <td>0</td>\n",
              "      <td>0</td>\n",
              "      <td>0</td>\n",
              "      <td>0</td>\n",
              "      <td>0</td>\n",
              "      <td>0</td>\n",
              "      <td>...</td>\n",
              "      <td>0</td>\n",
              "      <td>0</td>\n",
              "      <td>0</td>\n",
              "      <td>0</td>\n",
              "      <td>0</td>\n",
              "      <td>0</td>\n",
              "      <td>0</td>\n",
              "      <td>0</td>\n",
              "      <td>0</td>\n",
              "      <td>0</td>\n",
              "      <td>0</td>\n",
              "      <td>0</td>\n",
              "      <td>0</td>\n",
              "      <td>0</td>\n",
              "      <td>0</td>\n",
              "      <td>0</td>\n",
              "      <td>0</td>\n",
              "      <td>0</td>\n",
              "      <td>0</td>\n",
              "      <td>0</td>\n",
              "      <td>0</td>\n",
              "      <td>0</td>\n",
              "      <td>0</td>\n",
              "      <td>0</td>\n",
              "      <td>0</td>\n",
              "      <td>0</td>\n",
              "      <td>0</td>\n",
              "      <td>0</td>\n",
              "      <td>0</td>\n",
              "      <td>0</td>\n",
              "      <td>0</td>\n",
              "      <td>0</td>\n",
              "      <td>0</td>\n",
              "      <td>0</td>\n",
              "      <td>0</td>\n",
              "      <td>0</td>\n",
              "      <td>0</td>\n",
              "      <td>0</td>\n",
              "      <td>0</td>\n",
              "      <td>0</td>\n",
              "    </tr>\n",
              "    <tr>\n",
              "      <th>4</th>\n",
              "      <td>003fde7a.wav</td>\n",
              "      <td>0</td>\n",
              "      <td>0</td>\n",
              "      <td>0</td>\n",
              "      <td>0</td>\n",
              "      <td>0</td>\n",
              "      <td>0</td>\n",
              "      <td>0</td>\n",
              "      <td>0</td>\n",
              "      <td>0</td>\n",
              "      <td>0</td>\n",
              "      <td>0</td>\n",
              "      <td>0</td>\n",
              "      <td>0</td>\n",
              "      <td>0</td>\n",
              "      <td>0</td>\n",
              "      <td>0</td>\n",
              "      <td>0</td>\n",
              "      <td>0</td>\n",
              "      <td>0</td>\n",
              "      <td>0</td>\n",
              "      <td>0</td>\n",
              "      <td>0</td>\n",
              "      <td>0</td>\n",
              "      <td>0</td>\n",
              "      <td>0</td>\n",
              "      <td>0</td>\n",
              "      <td>0</td>\n",
              "      <td>0</td>\n",
              "      <td>0</td>\n",
              "      <td>0</td>\n",
              "      <td>0</td>\n",
              "      <td>0</td>\n",
              "      <td>0</td>\n",
              "      <td>0</td>\n",
              "      <td>0</td>\n",
              "      <td>0</td>\n",
              "      <td>0</td>\n",
              "      <td>0</td>\n",
              "      <td>0</td>\n",
              "      <td>...</td>\n",
              "      <td>0</td>\n",
              "      <td>0</td>\n",
              "      <td>0</td>\n",
              "      <td>0</td>\n",
              "      <td>0</td>\n",
              "      <td>0</td>\n",
              "      <td>0</td>\n",
              "      <td>0</td>\n",
              "      <td>0</td>\n",
              "      <td>0</td>\n",
              "      <td>0</td>\n",
              "      <td>0</td>\n",
              "      <td>0</td>\n",
              "      <td>0</td>\n",
              "      <td>0</td>\n",
              "      <td>0</td>\n",
              "      <td>0</td>\n",
              "      <td>0</td>\n",
              "      <td>0</td>\n",
              "      <td>0</td>\n",
              "      <td>0</td>\n",
              "      <td>0</td>\n",
              "      <td>0</td>\n",
              "      <td>0</td>\n",
              "      <td>0</td>\n",
              "      <td>0</td>\n",
              "      <td>0</td>\n",
              "      <td>0</td>\n",
              "      <td>0</td>\n",
              "      <td>0</td>\n",
              "      <td>0</td>\n",
              "      <td>0</td>\n",
              "      <td>0</td>\n",
              "      <td>0</td>\n",
              "      <td>0</td>\n",
              "      <td>0</td>\n",
              "      <td>0</td>\n",
              "      <td>0</td>\n",
              "      <td>0</td>\n",
              "      <td>0</td>\n",
              "    </tr>\n",
              "  </tbody>\n",
              "</table>\n",
              "<p>5 rows × 81 columns</p>\n",
              "</div>"
            ],
            "text/plain": [
              "          fname  Accelerating_and_revving_and_vroom  ...  Yell  Zipper_(clothing)\n",
              "0  000ccb97.wav                                   0  ...     0                  0\n",
              "1  0012633b.wav                                   0  ...     0                  0\n",
              "2  001ed5f1.wav                                   0  ...     0                  0\n",
              "3  00294be0.wav                                   0  ...     0                  0\n",
              "4  003fde7a.wav                                   0  ...     0                  0\n",
              "\n",
              "[5 rows x 81 columns]"
            ]
          },
          "metadata": {
            "tags": []
          },
          "execution_count": 6
        }
      ]
    },
    {
      "cell_type": "code",
      "metadata": {
        "colab_type": "code",
        "id": "LidAwl4SyA0W",
        "colab": {
          "base_uri": "https://localhost:8080/",
          "height": 1377
        },
        "outputId": "65c28ae7-f677-4d44-996d-3befe91788a2"
      },
      "source": [
        "labels = test_df.columns[1:].tolist()\n",
        "labels"
      ],
      "execution_count": 7,
      "outputs": [
        {
          "output_type": "execute_result",
          "data": {
            "text/plain": [
              "['Accelerating_and_revving_and_vroom',\n",
              " 'Accordion',\n",
              " 'Acoustic_guitar',\n",
              " 'Applause',\n",
              " 'Bark',\n",
              " 'Bass_drum',\n",
              " 'Bass_guitar',\n",
              " 'Bathtub_(filling_or_washing)',\n",
              " 'Bicycle_bell',\n",
              " 'Burping_and_eructation',\n",
              " 'Bus',\n",
              " 'Buzz',\n",
              " 'Car_passing_by',\n",
              " 'Cheering',\n",
              " 'Chewing_and_mastication',\n",
              " 'Child_speech_and_kid_speaking',\n",
              " 'Chink_and_clink',\n",
              " 'Chirp_and_tweet',\n",
              " 'Church_bell',\n",
              " 'Clapping',\n",
              " 'Computer_keyboard',\n",
              " 'Crackle',\n",
              " 'Cricket',\n",
              " 'Crowd',\n",
              " 'Cupboard_open_or_close',\n",
              " 'Cutlery_and_silverware',\n",
              " 'Dishes_and_pots_and_pans',\n",
              " 'Drawer_open_or_close',\n",
              " 'Drip',\n",
              " 'Electric_guitar',\n",
              " 'Fart',\n",
              " 'Female_singing',\n",
              " 'Female_speech_and_woman_speaking',\n",
              " 'Fill_(with_liquid)',\n",
              " 'Finger_snapping',\n",
              " 'Frying_(food)',\n",
              " 'Gasp',\n",
              " 'Glockenspiel',\n",
              " 'Gong',\n",
              " 'Gurgling',\n",
              " 'Harmonica',\n",
              " 'Hi-hat',\n",
              " 'Hiss',\n",
              " 'Keys_jangling',\n",
              " 'Knock',\n",
              " 'Male_singing',\n",
              " 'Male_speech_and_man_speaking',\n",
              " 'Marimba_and_xylophone',\n",
              " 'Mechanical_fan',\n",
              " 'Meow',\n",
              " 'Microwave_oven',\n",
              " 'Motorcycle',\n",
              " 'Printer',\n",
              " 'Purr',\n",
              " 'Race_car_and_auto_racing',\n",
              " 'Raindrop',\n",
              " 'Run',\n",
              " 'Scissors',\n",
              " 'Screaming',\n",
              " 'Shatter',\n",
              " 'Sigh',\n",
              " 'Sink_(filling_or_washing)',\n",
              " 'Skateboard',\n",
              " 'Slam',\n",
              " 'Sneeze',\n",
              " 'Squeak',\n",
              " 'Stream',\n",
              " 'Strum',\n",
              " 'Tap',\n",
              " 'Tick-tock',\n",
              " 'Toilet_flush',\n",
              " 'Traffic_noise_and_roadway_noise',\n",
              " 'Trickle_and_dribble',\n",
              " 'Walk_and_footsteps',\n",
              " 'Water_tap_and_faucet',\n",
              " 'Waves_and_surf',\n",
              " 'Whispering',\n",
              " 'Writing',\n",
              " 'Yell',\n",
              " 'Zipper_(clothing)']"
            ]
          },
          "metadata": {
            "tags": []
          },
          "execution_count": 7
        }
      ]
    },
    {
      "cell_type": "code",
      "metadata": {
        "colab_type": "code",
        "id": "J7euOnyCyA0Y",
        "colab": {
          "base_uri": "https://localhost:8080/",
          "height": 34
        },
        "outputId": "8563b56c-71aa-42f9-a20a-3397c279dd88"
      },
      "source": [
        "num_classes = len(labels)\n",
        "num_classes"
      ],
      "execution_count": 8,
      "outputs": [
        {
          "output_type": "execute_result",
          "data": {
            "text/plain": [
              "80"
            ]
          },
          "metadata": {
            "tags": []
          },
          "execution_count": 8
        }
      ]
    },
    {
      "cell_type": "code",
      "metadata": {
        "colab_type": "code",
        "id": "6X5jNxOJyA0g",
        "colab": {
          "base_uri": "https://localhost:8080/",
          "height": 34
        },
        "outputId": "6c62c8ed-fcb4-43cd-9404-c9e38a544976"
      },
      "source": [
        "y_train = np.zeros((len(train_df), num_classes)).astype(int)\n",
        "for i, row in enumerate(train_df['labels'].str.split(',')):\n",
        "    for label in row:\n",
        "        idx = labels.index(label)\n",
        "        y_train[i, idx] = 1\n",
        "\n",
        "y_train.shape"
      ],
      "execution_count": 9,
      "outputs": [
        {
          "output_type": "execute_result",
          "data": {
            "text/plain": [
              "(8970, 80)"
            ]
          },
          "metadata": {
            "tags": []
          },
          "execution_count": 9
        }
      ]
    },
    {
      "cell_type": "code",
      "metadata": {
        "colab_type": "code",
        "id": "P_CC3ZjDyA0l",
        "colab": {
          "base_uri": "https://localhost:8080/",
          "height": 34
        },
        "outputId": "12f48b77-bd32-4be9-f338-361c8780bd81"
      },
      "source": [
        "with open(mels['train_curated'], 'rb') as curated, open(mels['train_noisy'], 'rb') as noisy:\n",
        "    x_train = pickle.load(curated)\n",
        "    x_train.extend(pickle.load(noisy))\n",
        "\n",
        "with open(mels['test'], 'rb') as test:\n",
        "    x_test = pickle.load(test)\n",
        "    \n",
        "len(x_train), len(x_test)"
      ],
      "execution_count": 10,
      "outputs": [
        {
          "output_type": "execute_result",
          "data": {
            "text/plain": [
              "(8970, 1120)"
            ]
          },
          "metadata": {
            "tags": []
          },
          "execution_count": 10
        }
      ]
    },
    {
      "cell_type": "code",
      "metadata": {
        "id": "vrQ5UmeVz2cQ",
        "colab_type": "code",
        "colab": {}
      },
      "source": [
        "def seed_everything(seed):\n",
        "    random.seed(seed)\n",
        "    os.environ['PYTHONHASHSEED'] = str(seed)\n",
        "    np.random.seed(seed)\n",
        "    torch.manual_seed(seed)\n",
        "    torch.cuda.manual_seed(seed)\n",
        "    torch.backends.cudnn.deterministic = True\n",
        "\n",
        "SEED = 520\n",
        "seed_everything(SEED)"
      ],
      "execution_count": 0,
      "outputs": []
    },
    {
      "cell_type": "code",
      "metadata": {
        "id": "rp8JKf3fz08g",
        "colab_type": "code",
        "colab": {}
      },
      "source": [
        "N_JOBS = cpu_count()\n",
        "os.environ['MKL_NUM_THREADS'] = str(N_JOBS)\n",
        "os.environ['OMP_NUM_THREADS'] = str(N_JOBS)\n",
        "DataLoader = partial(DataLoader, num_workers=N_JOBS)"
      ],
      "execution_count": 0,
      "outputs": []
    },
    {
      "cell_type": "markdown",
      "metadata": {
        "id": "X2CHjkwmv5n2",
        "colab_type": "text"
      },
      "source": [
        "### Dataset and Data loader"
      ]
    },
    {
      "cell_type": "code",
      "metadata": {
        "colab_type": "code",
        "id": "rn3WZkIZyA0o",
        "colab": {}
      },
      "source": [
        "class FATTrainDataset(Dataset):\n",
        "    def __init__(self, mels, labels, transforms):\n",
        "        super().__init__()\n",
        "        self.mels = mels\n",
        "        self.labels = labels\n",
        "        self.transforms = transforms\n",
        "        \n",
        "    def __len__(self):\n",
        "        return len(self.mels)\n",
        "    \n",
        "    def __getitem__(self, idx):\n",
        "        # crop 1sec\n",
        "        image = Image.fromarray(self.mels[idx], mode='RGB')        \n",
        "        time_dim, base_dim = image.size\n",
        "        crop = random.randint(0, time_dim - base_dim)\n",
        "        image = image.crop([crop, 0, crop + base_dim, base_dim])\n",
        "        image = self.transforms(image)\n",
        "        \n",
        "        label = self.labels[idx]\n",
        "        label = torch.from_numpy(label).float()\n",
        "        \n",
        "        return image, label"
      ],
      "execution_count": 0,
      "outputs": []
    },
    {
      "cell_type": "code",
      "metadata": {
        "colab_type": "code",
        "id": "hR8vzLtiyA0r",
        "colab": {}
      },
      "source": [
        "class FATTestDataset(Dataset):\n",
        "    def __init__(self, fnames, mels, transforms, tta=5):\n",
        "        super().__init__()\n",
        "        self.fnames = fnames\n",
        "        self.mels = mels\n",
        "        self.transforms = transforms\n",
        "        self.tta = tta\n",
        "        \n",
        "    def __len__(self):\n",
        "        return len(self.fnames) * self.tta\n",
        "    \n",
        "    def __getitem__(self, idx):\n",
        "        new_idx = idx % len(self.fnames)\n",
        "        \n",
        "        image = Image.fromarray(self.mels[new_idx], mode='RGB')\n",
        "        time_dim, base_dim = image.size\n",
        "        crop = random.randint(0, time_dim - base_dim)\n",
        "        image = image.crop([crop, 0, crop + base_dim, base_dim])\n",
        "        image = self.transforms(image).div_(255)\n",
        "\n",
        "        fname = self.fnames[new_idx]\n",
        "        \n",
        "        return image, fname"
      ],
      "execution_count": 0,
      "outputs": []
    },
    {
      "cell_type": "code",
      "metadata": {
        "id": "Gpy6MF9vyoC8",
        "colab_type": "code",
        "colab": {}
      },
      "source": [
        "#1st:\n",
        "transforms_dict = {\n",
        "    'train': transforms.Compose([\n",
        "        transforms.RandomRotation(10),\n",
        "        transforms.ToTensor(),\n",
        "    ]),\n",
        "    'test': transforms.Compose([\n",
        "        transforms.ToTensor(),\n",
        "    ]),\n",
        "}"
      ],
      "execution_count": 0,
      "outputs": []
    },
    {
      "cell_type": "code",
      "metadata": {
        "colab_type": "code",
        "id": "h1vK_AytyoKE",
        "colab": {}
      },
      "source": [
        "train_transforms = transforms_dict['train']\n",
        "\n",
        "batch_size = 64\n",
        "\n",
        "test_batch_size = 64"
      ],
      "execution_count": 0,
      "outputs": []
    },
    {
      "cell_type": "code",
      "metadata": {
        "colab_type": "code",
        "id": "Yrk32OEsyoKJ",
        "colab": {}
      },
      "source": [
        "num_classes = y_train.shape[1]\n",
        "\n",
        "x_trn, x_val, y_trn, y_val = train_test_split(x_train, y_train, test_size=0.2, random_state=SEED)\n",
        "\n",
        "train_dataset = FATTrainDataset(x_trn, y_trn, train_transforms)\n",
        "valid_dataset = FATTrainDataset(x_val, y_val, train_transforms)\n",
        "\n",
        "train_loader = DataLoader(train_dataset, batch_size=batch_size, shuffle=True)\n",
        "valid_loader = DataLoader(valid_dataset, batch_size=test_batch_size, shuffle=False)"
      ],
      "execution_count": 0,
      "outputs": []
    },
    {
      "cell_type": "code",
      "metadata": {
        "id": "83mWImPY1jtI",
        "colab_type": "code",
        "colab": {
          "base_uri": "https://localhost:8080/",
          "height": 164
        },
        "outputId": "3f88a12a-2e71-4327-801c-eb1256595e99"
      },
      "source": [
        "plt.imshow(x_train[0])"
      ],
      "execution_count": 18,
      "outputs": [
        {
          "output_type": "execute_result",
          "data": {
            "text/plain": [
              "<matplotlib.image.AxesImage at 0x7f04e6bd97b8>"
            ]
          },
          "metadata": {
            "tags": []
          },
          "execution_count": 18
        },
        {
          "output_type": "display_data",
          "data": {
            "image/png": "[encoded data removed]",
            "text/plain": [
              "<Figure size 432x288 with 1 Axes>"
            ]
          },
          "metadata": {
            "tags": []
          }
        }
      ]
    },
    {
      "cell_type": "code",
      "metadata": {
        "id": "kYppofGmE21q",
        "colab_type": "code",
        "colab": {
          "base_uri": "https://localhost:8080/",
          "height": 199
        },
        "outputId": "12e076a4-b073-45ee-fea4-d150b4d624f9"
      },
      "source": [
        "fat_dataset = train_dataset\n",
        "\n",
        "fig = plt.figure()\n",
        "\n",
        "for i in range(len(fat_dataset)):\n",
        "  image, labels = fat_dataset[i]\n",
        "  print(i, image.shape, labels.shape)\n",
        "\n",
        "  ax = plt.subplot(1, 4, i+1)\n",
        "  plt.tight_layout()\n",
        "  ax.set_title('Sample #{}'.format(i))\n",
        "  ax.axis('off')\n",
        "  img = image / 2 + 0.5\n",
        "  npimg = img.numpy()\n",
        "  plt.imshow(np.transpose(npimg, (1, 2, 0)))\n",
        "  \n",
        "  #plt.imshow(np.array(image).reshape((128,128, -1)).astype('uint8'))\n",
        "  \n",
        "  if i == 3:\n",
        "    plt.show()\n",
        "    break"
      ],
      "execution_count": 19,
      "outputs": [
        {
          "output_type": "stream",
          "text": [
            "0 torch.Size([3, 128, 128]) torch.Size([80])\n",
            "1 torch.Size([3, 128, 128]) torch.Size([80])\n",
            "2 torch.Size([3, 128, 128]) torch.Size([80])\n",
            "3 torch.Size([3, 128, 128]) torch.Size([80])\n"
          ],
          "name": "stdout"
        },
        {
          "output_type": "display_data",
          "data": {
            "image/png": "[encoded data removed]",
            "text/plain": [
              "<Figure size 432x288 with 4 Axes>"
            ]
          },
          "metadata": {
            "tags": []
          }
        }
      ]
    },
    {
      "cell_type": "code",
      "metadata": {
        "id": "1n_ZQ_NS2Foi",
        "colab_type": "code",
        "colab": {
          "base_uri": "https://localhost:8080/",
          "height": 286
        },
        "outputId": "57de98cb-84b1-4c12-daa5-562c0469d309"
      },
      "source": [
        "# functions to show an image\n",
        "\n",
        "\n",
        "def imshow(img):\n",
        "    img = img / 2 + 0.5     # unnormalize\n",
        "    npimg = img.numpy()\n",
        "    plt.imshow(np.transpose(npimg, (1, 2, 0)))\n",
        "    plt.show()\n",
        "\n",
        "\n",
        "# get some random training images\n",
        "dataiter = iter(train_loader)\n",
        "images, labels = dataiter.next()\n",
        "\n",
        "# show images\n",
        "imshow(torchvision.utils.make_grid(images))\n",
        "# print labels\n",
        "print(' '.join('%5s' % train_df.labels[j] for j in range(4)))"
      ],
      "execution_count": 20,
      "outputs": [
        {
          "output_type": "display_data",
          "data": {
            "image/png": "[encoded data removed]",
            "text/plain": [
              "<Figure size 432x288 with 1 Axes>"
            ]
          },
          "metadata": {
            "tags": []
          }
        },
        {
          "output_type": "stream",
          "text": [
            " Bark Raindrop Finger_snapping   Run\n"
          ],
          "name": "stdout"
        }
      ]
    },
    {
      "cell_type": "markdown",
      "metadata": {
        "id": "arVLcIFLvjwy",
        "colab_type": "text"
      },
      "source": [
        "### CNN"
      ]
    },
    {
      "cell_type": "code",
      "metadata": {
        "id": "d3wPv2TrvdIT",
        "colab_type": "code",
        "colab": {}
      },
      "source": [
        "import torch.nn as nn\n",
        "import torch.nn.functional as F\n",
        "class Net(nn.Module):\n",
        "    def __init__(self):\n",
        "        super(Net, self).__init__()\n",
        "        self.conv1 = nn.Conv2d(3, 6, 5)\n",
        "        self.pool = nn.MaxPool2d(2, 2)\n",
        "        self.conv2 = nn.Conv2d(6, 16, 5)\n",
        "        self.fc1 = nn.Linear(16 * 5 * 5, 120)\n",
        "        self.fc2 = nn.Linear(120, 84)\n",
        "        self.fc3 = nn.Linear(84, 80)\n",
        "\n",
        "    def forward(self, x):\n",
        "        x = self.pool(F.relu(self.conv1(x)))\n",
        "        x = self.pool(F.relu(self.conv2(x)))\n",
        "        x = x.view(-1, 16 * 5 * 5)\n",
        "        x = F.relu(self.fc1(x))\n",
        "        x = F.relu(self.fc2(x))\n",
        "        x = self.fc3(x)\n",
        "        return x\n",
        "\n",
        "\n",
        "net = Net()"
      ],
      "execution_count": 0,
      "outputs": []
    },
    {
      "cell_type": "code",
      "metadata": {
        "id": "uioQvDk23sBi",
        "colab_type": "code",
        "colab": {}
      },
      "source": [
        "device = torch.device(\"cuda:0\" if torch.cuda.is_available() else \"cpu\")\n",
        "# the GPU datatype\n",
        "## Now we're going to feed a random batch into the model you defined and make sure the output is the right size\n",
        "model = Net().to(device)\n",
        "x = torch.randn(64, 3, 128, 128).to(device)\n",
        "ans = model(x)        # Feed it through the model! \n",
        "\n",
        "# Check to make sure what comes out of your model\n",
        "# is the right dimensionality... this should be True\n",
        "# if you've done everything correctly\n",
        "np.array_equal(np.array(ans.size()), np.array([64, 80]))"
      ],
      "execution_count": 0,
      "outputs": []
    },
    {
      "cell_type": "code",
      "metadata": {
        "id": "xRlaWAr22VhB",
        "colab_type": "code",
        "colab": {}
      },
      "source": [
        "class CNN(nn.Module):\n",
        "    def __init__(self):\n",
        "        super(CNN, self).__init__()\n",
        "        self.layer1 = nn.Sequential(\n",
        "            nn.Conv2d(3, 64, kernel_size=5, padding=2),\n",
        "            nn.BatchNorm2d(64),\n",
        "            nn.ReLU(),\n",
        "            nn.MaxPool2d(2))\n",
        "        \n",
        "        self.layer2 = nn.Sequential(\n",
        "            nn.Conv2d(64, 128, kernel_size=5, padding=2),\n",
        "            nn.BatchNorm2d(128),\n",
        "            nn.ReLU(),\n",
        "            nn.MaxPool2d(2))\n",
        "        \n",
        "        self.layer3 = nn.Sequential(\n",
        "            nn.Conv2d(128, 256, kernel_size=5, padding=2),\n",
        "            nn.BatchNorm2d(256),\n",
        "            nn.ReLU(),\n",
        "            nn.MaxPool2d(2))\n",
        "        \n",
        "        self.fc_layers = nn.Sequential(\n",
        "            nn.Linear(65536, 1024),\n",
        "            nn.LeakyReLU(),\n",
        "            nn.Dropout(0.3),\n",
        "            nn.Linear(1024,80)\n",
        "        )\n",
        "        \n",
        "    def forward(self, x):\n",
        "        out = self.layer1(x)\n",
        "        out = self.layer2(out)\n",
        "        out = self.layer3(out)\n",
        "        out = out.view(out.size(0), -1)\n",
        "        out = self.fc_layers(out)\n",
        "        return out"
      ],
      "execution_count": 0,
      "outputs": []
    },
    {
      "cell_type": "code",
      "metadata": {
        "id": "lalRsaHv2jff",
        "colab_type": "code",
        "colab": {}
      },
      "source": [
        "device = torch.device(\"cuda:0\" if torch.cuda.is_available() else \"cpu\")"
      ],
      "execution_count": 0,
      "outputs": []
    },
    {
      "cell_type": "code",
      "metadata": {
        "id": "KFCJ0OqL2bKC",
        "colab_type": "code",
        "colab": {}
      },
      "source": [
        "dtype = torch.FloatTensor # the CPU datatype\n",
        "## Now we're going to feed a random batch into the model you defined and make sure the output is the right size\n",
        "model = CNN().to(device)\n",
        "x = torch.randn(64, 3, 128, 128).to(device)\n",
        "ans = model(x)        # Feed it through the model! \n",
        "\n",
        "# Check to make sure what comes out of your model\n",
        "# is the right dimensionality... this should be True\n",
        "# if you've done everything correctly\n",
        "np.array_equal(np.array(ans.size()), np.array([64, 80]))"
      ],
      "execution_count": 0,
      "outputs": []
    },
    {
      "cell_type": "code",
      "metadata": {
        "colab_type": "code",
        "id": "komjhr_GyA0v",
        "colab": {}
      },
      "source": [
        "import torch.nn as nn\n",
        "import torch.nn.functional as F\n",
        "\n",
        "class ConvBlock(nn.Module):\n",
        "    def __init__(self, in_channels, out_channels):\n",
        "        super().__init__()\n",
        "        \n",
        "        self.conv1 = nn.Sequential(\n",
        "            nn.Conv2d(in_channels, out_channels, 3, 1, 1),\n",
        "            nn.BatchNorm2d(out_channels),\n",
        "            nn.ReLU(),\n",
        "        )\n",
        "        self.conv2 = nn.Sequential(\n",
        "            nn.Conv2d(out_channels, out_channels, 3, 1, 1),\n",
        "            nn.BatchNorm2d(out_channels),\n",
        "            nn.ReLU(),\n",
        "        )\n",
        "\n",
        "        self._init_weights()\n",
        "        \n",
        "    def _init_weights(self):\n",
        "        for m in self.modules():\n",
        "            if isinstance(m, nn.Conv2d):\n",
        "                nn.init.kaiming_normal_(m.weight)\n",
        "                if m.bias is not None:\n",
        "                    nn.init.zeros_(m.bias)\n",
        "            elif isinstance(m, nn.BatchNorm2d):\n",
        "                nn.init.constant_(m.weight, 1)\n",
        "                nn.init.zeros_(m.bias)\n",
        "        \n",
        "    def forward(self, x):\n",
        "        x = self.conv1(x)\n",
        "        x = self.conv2(x)\n",
        "        x = F.avg_pool2d(x, 2)\n",
        "        return x"
      ],
      "execution_count": 0,
      "outputs": []
    },
    {
      "cell_type": "code",
      "metadata": {
        "colab_type": "code",
        "id": "2vQrw9fhyA0z",
        "colab": {}
      },
      "source": [
        "class Classifier(nn.Module):\n",
        "    def __init__(self, num_classes):\n",
        "        super().__init__()\n",
        "        \n",
        "        self.conv = nn.Sequential(\n",
        "            ConvBlock(in_channels=3, out_channels=64),\n",
        "            ConvBlock(in_channels=64, out_channels=128),\n",
        "            ConvBlock(in_channels=128, out_channels=256),\n",
        "            ConvBlock(in_channels=256, out_channels=512),\n",
        "        )\n",
        "        \n",
        "        self.fc = nn.Sequential(\n",
        "            nn.Dropout(0.2),\n",
        "            nn.Linear(512, 128),\n",
        "            nn.PReLU(),\n",
        "            nn.BatchNorm1d(128),\n",
        "            nn.Dropout(0.1),\n",
        "            nn.Linear(128, num_classes),\n",
        "        )\n",
        "\n",
        "    def forward(self, x):\n",
        "        x = self.conv(x)\n",
        "        x = torch.mean(x, dim=3)\n",
        "        x, _ = torch.max(x, dim=2)\n",
        "        x = self.fc(x)\n",
        "        return x"
      ],
      "execution_count": 0,
      "outputs": []
    },
    {
      "cell_type": "code",
      "metadata": {
        "colab_type": "code",
        "id": "GUnEKUXUyA02",
        "colab": {
          "base_uri": "https://localhost:8080/",
          "height": 1057
        },
        "outputId": "05aad9c1-44d6-4c29-af3e-2520a2255463"
      },
      "source": [
        "Classifier(num_classes=num_classes)"
      ],
      "execution_count": 23,
      "outputs": [
        {
          "output_type": "execute_result",
          "data": {
            "text/plain": [
              "Classifier(\n",
              "  (conv): Sequential(\n",
              "    (0): ConvBlock(\n",
              "      (conv1): Sequential(\n",
              "        (0): Conv2d(3, 64, kernel_size=(3, 3), stride=(1, 1), padding=(1, 1))\n",
              "        (1): BatchNorm2d(64, eps=1e-05, momentum=0.1, affine=True, track_running_stats=True)\n",
              "        (2): ReLU()\n",
              "      )\n",
              "      (conv2): Sequential(\n",
              "        (0): Conv2d(64, 64, kernel_size=(3, 3), stride=(1, 1), padding=(1, 1))\n",
              "        (1): BatchNorm2d(64, eps=1e-05, momentum=0.1, affine=True, track_running_stats=True)\n",
              "        (2): ReLU()\n",
              "      )\n",
              "    )\n",
              "    (1): ConvBlock(\n",
              "      (conv1): Sequential(\n",
              "        (0): Conv2d(64, 128, kernel_size=(3, 3), stride=(1, 1), padding=(1, 1))\n",
              "        (1): BatchNorm2d(128, eps=1e-05, momentum=0.1, affine=True, track_running_stats=True)\n",
              "        (2): ReLU()\n",
              "      )\n",
              "      (conv2): Sequential(\n",
              "        (0): Conv2d(128, 128, kernel_size=(3, 3), stride=(1, 1), padding=(1, 1))\n",
              "        (1): BatchNorm2d(128, eps=1e-05, momentum=0.1, affine=True, track_running_stats=True)\n",
              "        (2): ReLU()\n",
              "      )\n",
              "    )\n",
              "    (2): ConvBlock(\n",
              "      (conv1): Sequential(\n",
              "        (0): Conv2d(128, 256, kernel_size=(3, 3), stride=(1, 1), padding=(1, 1))\n",
              "        (1): BatchNorm2d(256, eps=1e-05, momentum=0.1, affine=True, track_running_stats=True)\n",
              "        (2): ReLU()\n",
              "      )\n",
              "      (conv2): Sequential(\n",
              "        (0): Conv2d(256, 256, kernel_size=(3, 3), stride=(1, 1), padding=(1, 1))\n",
              "        (1): BatchNorm2d(256, eps=1e-05, momentum=0.1, affine=True, track_running_stats=True)\n",
              "        (2): ReLU()\n",
              "      )\n",
              "    )\n",
              "    (3): ConvBlock(\n",
              "      (conv1): Sequential(\n",
              "        (0): Conv2d(256, 512, kernel_size=(3, 3), stride=(1, 1), padding=(1, 1))\n",
              "        (1): BatchNorm2d(512, eps=1e-05, momentum=0.1, affine=True, track_running_stats=True)\n",
              "        (2): ReLU()\n",
              "      )\n",
              "      (conv2): Sequential(\n",
              "        (0): Conv2d(512, 512, kernel_size=(3, 3), stride=(1, 1), padding=(1, 1))\n",
              "        (1): BatchNorm2d(512, eps=1e-05, momentum=0.1, affine=True, track_running_stats=True)\n",
              "        (2): ReLU()\n",
              "      )\n",
              "    )\n",
              "  )\n",
              "  (fc): Sequential(\n",
              "    (0): Dropout(p=0.2)\n",
              "    (1): Linear(in_features=512, out_features=128, bias=True)\n",
              "    (2): PReLU(num_parameters=1)\n",
              "    (3): BatchNorm1d(128, eps=1e-05, momentum=0.1, affine=True, track_running_stats=True)\n",
              "    (4): Dropout(p=0.1)\n",
              "    (5): Linear(in_features=128, out_features=80, bias=True)\n",
              "  )\n",
              ")"
            ]
          },
          "metadata": {
            "tags": []
          },
          "execution_count": 23
        }
      ]
    },
    {
      "cell_type": "markdown",
      "metadata": {
        "id": "Nfj55S5jvm9r",
        "colab_type": "text"
      },
      "source": [
        "### Training"
      ]
    },
    {
      "cell_type": "code",
      "metadata": {
        "id": "VRAkJ5NQ5BhU",
        "colab_type": "code",
        "colab": {}
      },
      "source": [
        "import torch.optim as optim\n",
        "lr = 0.01\n",
        "\n",
        "net = Classifier(num_classes=num_classes).cuda()\n",
        "criterion = nn.BCEWithLogitsLoss()\n",
        "optimizer = optim.Adamax(params=net.parameters(), lr=lr)\n",
        "device = torch.device(\"cuda:0\" if torch.cuda.is_available() else \"cpu\")"
      ],
      "execution_count": 0,
      "outputs": []
    },
    {
      "cell_type": "code",
      "metadata": {
        "id": "L8j8kMfi7soq",
        "colab_type": "code",
        "colab": {
          "base_uri": "https://localhost:8080/",
          "height": 547
        },
        "outputId": "d4215289-8568-4b05-b95d-9009db0f033a"
      },
      "source": [
        "import time\n",
        "\n",
        "batch_size = 64\n",
        "\n",
        "for epoch in range(30):  # loop over the dataset multiple times\n",
        "  \n",
        "    best_epoch = -1\n",
        "    best_lwlrap = 0\n",
        "    start_time = time.time()\n",
        "    running_loss = 0.0\n",
        "    for i, data in enumerate(train_loader, 0):\n",
        "        # get the inputs\n",
        "        inputs, labels = data\n",
        "\n",
        "        # zero the parameter gradients\n",
        "        optimizer.zero_grad()\n",
        "\n",
        "        # forward + backward + optimize\n",
        "        outputs = net(inputs.cuda())\n",
        "        loss = criterion(outputs, labels.cuda())\n",
        "        loss.backward()\n",
        "        optimizer.step()\n",
        "\n",
        "        # print statistics\n",
        "        running_loss += loss.item()\n",
        "    \n",
        "    valid_preds = np.zeros((len(x_val), num_classes))\n",
        "    avg_val_loss = 0\n",
        "    for i, (x_batch, y_batch) in enumerate(valid_loader):\n",
        "      with torch.no_grad():\n",
        "            preds = net(x_batch.cuda()).detach()\n",
        "            loss = criterion(preds, y_batch.cuda())\n",
        "            preds = torch.sigmoid(preds)\n",
        "            valid_preds[i * test_batch_size: (i+1) * test_batch_size] = preds.cpu().numpy()\n",
        "            avg_val_loss += loss.item() \n",
        "            \n",
        "    score, weight = calculate_per_class_lwlrap(y_val, valid_preds)\n",
        "    lwlrap = (score * weight).sum()\n",
        "    \n",
        "    if (epoch + 1) % 1 == 0:\n",
        "      elapsed = time.time() - start_time\n",
        "      print(f'Epoch {epoch + 1} - avg_train_loss : {running_loss: .4f} avg_val_loss: {avg_val_loss:.4f} val_lwrap: {lwlrap:.6f} time: {elapsed:.0f}s')\n",
        "      \n",
        "    if lwlrap > best_lwlrap:\n",
        "      best_epoch = epoch + 1\n",
        "      best_lwlrap = lwlrap\n",
        "      torch.save(net.state_dict(), 'weight_best.pt')"
      ],
      "execution_count": 42,
      "outputs": [
        {
          "output_type": "stream",
          "text": [
            "Epoch 1 - avg_train_loss :  5.3492 avg_val_loss: 1.4439 val_lwrap: 0.470163 time: 52s\n",
            "Epoch 2 - avg_train_loss :  5.2606 avg_val_loss: 1.4303 val_lwrap: 0.472961 time: 51s\n",
            "Epoch 3 - avg_train_loss :  5.1661 avg_val_loss: 1.3992 val_lwrap: 0.475503 time: 51s\n",
            "Epoch 4 - avg_train_loss :  5.0952 avg_val_loss: 1.3959 val_lwrap: 0.482050 time: 51s\n",
            "Epoch 5 - avg_train_loss :  5.0782 avg_val_loss: 1.3797 val_lwrap: 0.488071 time: 51s\n",
            "Epoch 6 - avg_train_loss :  5.0035 avg_val_loss: 1.3666 val_lwrap: 0.501494 time: 51s\n",
            "Epoch 7 - avg_train_loss :  4.9430 avg_val_loss: 1.3720 val_lwrap: 0.489779 time: 51s\n",
            "Epoch 8 - avg_train_loss :  4.8601 avg_val_loss: 1.3639 val_lwrap: 0.502445 time: 51s\n",
            "Epoch 9 - avg_train_loss :  4.8287 avg_val_loss: 1.3419 val_lwrap: 0.522378 time: 51s\n",
            "Epoch 10 - avg_train_loss :  4.7573 avg_val_loss: 1.3231 val_lwrap: 0.525079 time: 51s\n",
            "Epoch 11 - avg_train_loss :  4.6838 avg_val_loss: 1.3406 val_lwrap: 0.526767 time: 51s\n",
            "Epoch 12 - avg_train_loss :  4.6086 avg_val_loss: 1.3271 val_lwrap: 0.516550 time: 51s\n",
            "Epoch 13 - avg_train_loss :  4.6251 avg_val_loss: 1.3458 val_lwrap: 0.522981 time: 51s\n",
            "Epoch 14 - avg_train_loss :  4.5671 avg_val_loss: 1.3306 val_lwrap: 0.534659 time: 51s\n",
            "Epoch 15 - avg_train_loss :  4.5825 avg_val_loss: 1.3257 val_lwrap: 0.531621 time: 51s\n",
            "Epoch 16 - avg_train_loss :  4.4591 avg_val_loss: 1.3235 val_lwrap: 0.521194 time: 51s\n",
            "Epoch 17 - avg_train_loss :  4.4317 avg_val_loss: 1.2975 val_lwrap: 0.539397 time: 51s\n",
            "Epoch 18 - avg_train_loss :  4.3507 avg_val_loss: 1.2998 val_lwrap: 0.543167 time: 51s\n",
            "Epoch 19 - avg_train_loss :  4.3040 avg_val_loss: 1.3037 val_lwrap: 0.539138 time: 51s\n",
            "Epoch 20 - avg_train_loss :  4.2443 avg_val_loss: 1.3116 val_lwrap: 0.545597 time: 51s\n",
            "Epoch 21 - avg_train_loss :  4.1983 avg_val_loss: 1.2830 val_lwrap: 0.548460 time: 51s\n",
            "Epoch 22 - avg_train_loss :  4.0562 avg_val_loss: 1.2660 val_lwrap: 0.558477 time: 51s\n",
            "Epoch 23 - avg_train_loss :  4.0974 avg_val_loss: 1.2908 val_lwrap: 0.557950 time: 51s\n",
            "Epoch 24 - avg_train_loss :  4.0487 avg_val_loss: 1.2595 val_lwrap: 0.567722 time: 51s\n",
            "Epoch 25 - avg_train_loss :  4.0006 avg_val_loss: 1.2587 val_lwrap: 0.555885 time: 51s\n",
            "Epoch 26 - avg_train_loss :  4.0075 avg_val_loss: 1.2936 val_lwrap: 0.554793 time: 51s\n",
            "Epoch 27 - avg_train_loss :  3.9545 avg_val_loss: 1.2192 val_lwrap: 0.577697 time: 51s\n",
            "Epoch 28 - avg_train_loss :  3.8289 avg_val_loss: 1.2369 val_lwrap: 0.568588 time: 51s\n",
            "Epoch 29 - avg_train_loss :  3.8310 avg_val_loss: 1.2675 val_lwrap: 0.570081 time: 51s\n",
            "Epoch 30 - avg_train_loss :  3.8173 avg_val_loss: 1.2882 val_lwrap: 0.563972 time: 51s\n"
          ],
          "name": "stdout"
        }
      ]
    },
    {
      "cell_type": "code",
      "metadata": {
        "id": "7QYe1a4J_QGC",
        "colab_type": "code",
        "colab": {
          "base_uri": "https://localhost:8080/",
          "height": 34
        },
        "outputId": "d332869b-1566-4913-84cb-a69ef63e8616"
      },
      "source": [
        "best_lwlrap"
      ],
      "execution_count": 43,
      "outputs": [
        {
          "output_type": "execute_result",
          "data": {
            "text/plain": [
              "0.5639718514358507"
            ]
          },
          "metadata": {
            "tags": []
          },
          "execution_count": 43
        }
      ]
    },
    {
      "cell_type": "code",
      "metadata": {
        "id": "q8BXogJ1_Q-V",
        "colab_type": "code",
        "colab": {
          "base_uri": "https://localhost:8080/",
          "height": 34
        },
        "outputId": "e35731ad-4a6f-4cf4-b045-411b3a42b9b9"
      },
      "source": [
        "best_epoch"
      ],
      "execution_count": 44,
      "outputs": [
        {
          "output_type": "execute_result",
          "data": {
            "text/plain": [
              "30"
            ]
          },
          "metadata": {
            "tags": []
          },
          "execution_count": 44
        }
      ]
    },
    {
      "cell_type": "code",
      "metadata": {
        "id": "6dNjJzIM_tQm",
        "colab_type": "code",
        "colab": {}
      },
      "source": [
        "batch_size = 256\n",
        "test_transforms = transforms_dict['test']\n",
        "\n",
        "test_dataset = FATTestDataset(test_df['fname'], x_test, test_transforms, tta=20)\n",
        "test_loader = DataLoader(test_dataset, batch_size=batch_size, shuffle=False)\n",
        "net.load_state_dict(torch.load('weight_best.pt'))\n",
        "all_outputs, all_fnames = [], []\n",
        "with torch.no_grad():\n",
        "  for data in test_loader:\n",
        "    images, fnames = data\n",
        "    preds = torch.sigmoid(net(images.cuda()).detach())\n",
        "    all_outputs.append(preds.cpu().numpy())\n",
        "    all_fnames.extend(fnames)\n",
        "\n",
        "test_preds = pd.DataFrame(data=np.concatenate(all_outputs), index=all_fnames, columns=map(str, range(num_classes)))\n",
        "test_preds = test_preds.groupby(level=0).mean()\n"
      ],
      "execution_count": 0,
      "outputs": []
    },
    {
      "cell_type": "code",
      "metadata": {
        "id": "K1Ap4R5ODb2X",
        "colab_type": "code",
        "colab": {
          "base_uri": "https://localhost:8080/",
          "height": 34
        },
        "outputId": "6395996c-1710-431c-8674-5f5c4f62c226"
      },
      "source": [
        "test_preds.values.shape"
      ],
      "execution_count": 55,
      "outputs": [
        {
          "output_type": "execute_result",
          "data": {
            "text/plain": [
              "(1120, 80)"
            ]
          },
          "metadata": {
            "tags": []
          },
          "execution_count": 55
        }
      ]
    },
    {
      "cell_type": "code",
      "metadata": {
        "id": "4idIniveDffl",
        "colab_type": "code",
        "colab": {
          "base_uri": "https://localhost:8080/",
          "height": 34
        },
        "outputId": "485763ad-8b0c-4a1c-b57b-4259ff8d579a"
      },
      "source": [
        "test_df.shape"
      ],
      "execution_count": 56,
      "outputs": [
        {
          "output_type": "execute_result",
          "data": {
            "text/plain": [
              "(1120, 81)"
            ]
          },
          "metadata": {
            "tags": []
          },
          "execution_count": 56
        }
      ]
    },
    {
      "cell_type": "code",
      "metadata": {
        "id": "8an37nnJDhzo",
        "colab_type": "code",
        "colab": {
          "base_uri": "https://localhost:8080/",
          "height": 270
        },
        "outputId": "7f0db2f3-bc86-42bf-a4a3-77a19535a5eb"
      },
      "source": [
        "test_df.head()"
      ],
      "execution_count": 57,
      "outputs": [
        {
          "output_type": "execute_result",
          "data": {
            "text/html": [
              "<div>\n",
              "<style scoped>\n",
              "    .dataframe tbody tr th:only-of-type {\n",
              "        vertical-align: middle;\n",
              "    }\n",
              "\n",
              "    .dataframe tbody tr th {\n",
              "        vertical-align: top;\n",
              "    }\n",
              "\n",
              "    .dataframe thead th {\n",
              "        text-align: right;\n",
              "    }\n",
              "</style>\n",
              "<table border=\"1\" class=\"dataframe\">\n",
              "  <thead>\n",
              "    <tr style=\"text-align: right;\">\n",
              "      <th></th>\n",
              "      <th>fname</th>\n",
              "      <th>Accelerating_and_revving_and_vroom</th>\n",
              "      <th>Accordion</th>\n",
              "      <th>Acoustic_guitar</th>\n",
              "      <th>Applause</th>\n",
              "      <th>Bark</th>\n",
              "      <th>Bass_drum</th>\n",
              "      <th>Bass_guitar</th>\n",
              "      <th>Bathtub_(filling_or_washing)</th>\n",
              "      <th>Bicycle_bell</th>\n",
              "      <th>Burping_and_eructation</th>\n",
              "      <th>Bus</th>\n",
              "      <th>Buzz</th>\n",
              "      <th>Car_passing_by</th>\n",
              "      <th>Cheering</th>\n",
              "      <th>Chewing_and_mastication</th>\n",
              "      <th>Child_speech_and_kid_speaking</th>\n",
              "      <th>Chink_and_clink</th>\n",
              "      <th>Chirp_and_tweet</th>\n",
              "      <th>Church_bell</th>\n",
              "      <th>Clapping</th>\n",
              "      <th>Computer_keyboard</th>\n",
              "      <th>Crackle</th>\n",
              "      <th>Cricket</th>\n",
              "      <th>Crowd</th>\n",
              "      <th>Cupboard_open_or_close</th>\n",
              "      <th>Cutlery_and_silverware</th>\n",
              "      <th>Dishes_and_pots_and_pans</th>\n",
              "      <th>Drawer_open_or_close</th>\n",
              "      <th>Drip</th>\n",
              "      <th>Electric_guitar</th>\n",
              "      <th>Fart</th>\n",
              "      <th>Female_singing</th>\n",
              "      <th>Female_speech_and_woman_speaking</th>\n",
              "      <th>Fill_(with_liquid)</th>\n",
              "      <th>Finger_snapping</th>\n",
              "      <th>Frying_(food)</th>\n",
              "      <th>Gasp</th>\n",
              "      <th>Glockenspiel</th>\n",
              "      <th>Gong</th>\n",
              "      <th>...</th>\n",
              "      <th>Harmonica</th>\n",
              "      <th>Hi-hat</th>\n",
              "      <th>Hiss</th>\n",
              "      <th>Keys_jangling</th>\n",
              "      <th>Knock</th>\n",
              "      <th>Male_singing</th>\n",
              "      <th>Male_speech_and_man_speaking</th>\n",
              "      <th>Marimba_and_xylophone</th>\n",
              "      <th>Mechanical_fan</th>\n",
              "      <th>Meow</th>\n",
              "      <th>Microwave_oven</th>\n",
              "      <th>Motorcycle</th>\n",
              "      <th>Printer</th>\n",
              "      <th>Purr</th>\n",
              "      <th>Race_car_and_auto_racing</th>\n",
              "      <th>Raindrop</th>\n",
              "      <th>Run</th>\n",
              "      <th>Scissors</th>\n",
              "      <th>Screaming</th>\n",
              "      <th>Shatter</th>\n",
              "      <th>Sigh</th>\n",
              "      <th>Sink_(filling_or_washing)</th>\n",
              "      <th>Skateboard</th>\n",
              "      <th>Slam</th>\n",
              "      <th>Sneeze</th>\n",
              "      <th>Squeak</th>\n",
              "      <th>Stream</th>\n",
              "      <th>Strum</th>\n",
              "      <th>Tap</th>\n",
              "      <th>Tick-tock</th>\n",
              "      <th>Toilet_flush</th>\n",
              "      <th>Traffic_noise_and_roadway_noise</th>\n",
              "      <th>Trickle_and_dribble</th>\n",
              "      <th>Walk_and_footsteps</th>\n",
              "      <th>Water_tap_and_faucet</th>\n",
              "      <th>Waves_and_surf</th>\n",
              "      <th>Whispering</th>\n",
              "      <th>Writing</th>\n",
              "      <th>Yell</th>\n",
              "      <th>Zipper_(clothing)</th>\n",
              "    </tr>\n",
              "  </thead>\n",
              "  <tbody>\n",
              "    <tr>\n",
              "      <th>0</th>\n",
              "      <td>000ccb97.wav</td>\n",
              "      <td>0</td>\n",
              "      <td>0</td>\n",
              "      <td>0</td>\n",
              "      <td>0</td>\n",
              "      <td>0</td>\n",
              "      <td>0</td>\n",
              "      <td>0</td>\n",
              "      <td>0</td>\n",
              "      <td>0</td>\n",
              "      <td>0</td>\n",
              "      <td>0</td>\n",
              "      <td>0</td>\n",
              "      <td>0</td>\n",
              "      <td>0</td>\n",
              "      <td>0</td>\n",
              "      <td>0</td>\n",
              "      <td>0</td>\n",
              "      <td>0</td>\n",
              "      <td>0</td>\n",
              "      <td>0</td>\n",
              "      <td>0</td>\n",
              "      <td>0</td>\n",
              "      <td>0</td>\n",
              "      <td>0</td>\n",
              "      <td>0</td>\n",
              "      <td>0</td>\n",
              "      <td>0</td>\n",
              "      <td>0</td>\n",
              "      <td>0</td>\n",
              "      <td>0</td>\n",
              "      <td>0</td>\n",
              "      <td>0</td>\n",
              "      <td>0</td>\n",
              "      <td>0</td>\n",
              "      <td>0</td>\n",
              "      <td>0</td>\n",
              "      <td>0</td>\n",
              "      <td>0</td>\n",
              "      <td>0</td>\n",
              "      <td>...</td>\n",
              "      <td>0</td>\n",
              "      <td>0</td>\n",
              "      <td>0</td>\n",
              "      <td>0</td>\n",
              "      <td>0</td>\n",
              "      <td>0</td>\n",
              "      <td>0</td>\n",
              "      <td>0</td>\n",
              "      <td>0</td>\n",
              "      <td>0</td>\n",
              "      <td>0</td>\n",
              "      <td>0</td>\n",
              "      <td>0</td>\n",
              "      <td>0</td>\n",
              "      <td>0</td>\n",
              "      <td>0</td>\n",
              "      <td>0</td>\n",
              "      <td>0</td>\n",
              "      <td>0</td>\n",
              "      <td>0</td>\n",
              "      <td>0</td>\n",
              "      <td>0</td>\n",
              "      <td>0</td>\n",
              "      <td>0</td>\n",
              "      <td>0</td>\n",
              "      <td>0</td>\n",
              "      <td>0</td>\n",
              "      <td>0</td>\n",
              "      <td>0</td>\n",
              "      <td>0</td>\n",
              "      <td>0</td>\n",
              "      <td>0</td>\n",
              "      <td>0</td>\n",
              "      <td>0</td>\n",
              "      <td>0</td>\n",
              "      <td>0</td>\n",
              "      <td>0</td>\n",
              "      <td>0</td>\n",
              "      <td>0</td>\n",
              "      <td>0</td>\n",
              "    </tr>\n",
              "    <tr>\n",
              "      <th>1</th>\n",
              "      <td>0012633b.wav</td>\n",
              "      <td>0</td>\n",
              "      <td>0</td>\n",
              "      <td>0</td>\n",
              "      <td>0</td>\n",
              "      <td>0</td>\n",
              "      <td>0</td>\n",
              "      <td>0</td>\n",
              "      <td>0</td>\n",
              "      <td>0</td>\n",
              "      <td>0</td>\n",
              "      <td>0</td>\n",
              "      <td>0</td>\n",
              "      <td>0</td>\n",
              "      <td>0</td>\n",
              "      <td>0</td>\n",
              "      <td>0</td>\n",
              "      <td>0</td>\n",
              "      <td>0</td>\n",
              "      <td>0</td>\n",
              "      <td>0</td>\n",
              "      <td>0</td>\n",
              "      <td>0</td>\n",
              "      <td>0</td>\n",
              "      <td>0</td>\n",
              "      <td>0</td>\n",
              "      <td>0</td>\n",
              "      <td>0</td>\n",
              "      <td>0</td>\n",
              "      <td>0</td>\n",
              "      <td>0</td>\n",
              "      <td>0</td>\n",
              "      <td>0</td>\n",
              "      <td>0</td>\n",
              "      <td>0</td>\n",
              "      <td>0</td>\n",
              "      <td>0</td>\n",
              "      <td>0</td>\n",
              "      <td>0</td>\n",
              "      <td>0</td>\n",
              "      <td>...</td>\n",
              "      <td>0</td>\n",
              "      <td>0</td>\n",
              "      <td>0</td>\n",
              "      <td>0</td>\n",
              "      <td>0</td>\n",
              "      <td>0</td>\n",
              "      <td>0</td>\n",
              "      <td>0</td>\n",
              "      <td>0</td>\n",
              "      <td>0</td>\n",
              "      <td>0</td>\n",
              "      <td>0</td>\n",
              "      <td>0</td>\n",
              "      <td>0</td>\n",
              "      <td>0</td>\n",
              "      <td>0</td>\n",
              "      <td>0</td>\n",
              "      <td>0</td>\n",
              "      <td>0</td>\n",
              "      <td>0</td>\n",
              "      <td>0</td>\n",
              "      <td>0</td>\n",
              "      <td>0</td>\n",
              "      <td>0</td>\n",
              "      <td>0</td>\n",
              "      <td>0</td>\n",
              "      <td>0</td>\n",
              "      <td>0</td>\n",
              "      <td>0</td>\n",
              "      <td>0</td>\n",
              "      <td>0</td>\n",
              "      <td>0</td>\n",
              "      <td>0</td>\n",
              "      <td>0</td>\n",
              "      <td>0</td>\n",
              "      <td>0</td>\n",
              "      <td>0</td>\n",
              "      <td>0</td>\n",
              "      <td>0</td>\n",
              "      <td>0</td>\n",
              "    </tr>\n",
              "    <tr>\n",
              "      <th>2</th>\n",
              "      <td>001ed5f1.wav</td>\n",
              "      <td>0</td>\n",
              "      <td>0</td>\n",
              "      <td>0</td>\n",
              "      <td>0</td>\n",
              "      <td>0</td>\n",
              "      <td>0</td>\n",
              "      <td>0</td>\n",
              "      <td>0</td>\n",
              "      <td>0</td>\n",
              "      <td>0</td>\n",
              "      <td>0</td>\n",
              "      <td>0</td>\n",
              "      <td>0</td>\n",
              "      <td>0</td>\n",
              "      <td>0</td>\n",
              "      <td>0</td>\n",
              "      <td>0</td>\n",
              "      <td>0</td>\n",
              "      <td>0</td>\n",
              "      <td>0</td>\n",
              "      <td>0</td>\n",
              "      <td>0</td>\n",
              "      <td>0</td>\n",
              "      <td>0</td>\n",
              "      <td>0</td>\n",
              "      <td>0</td>\n",
              "      <td>0</td>\n",
              "      <td>0</td>\n",
              "      <td>0</td>\n",
              "      <td>0</td>\n",
              "      <td>0</td>\n",
              "      <td>0</td>\n",
              "      <td>0</td>\n",
              "      <td>0</td>\n",
              "      <td>0</td>\n",
              "      <td>0</td>\n",
              "      <td>0</td>\n",
              "      <td>0</td>\n",
              "      <td>0</td>\n",
              "      <td>...</td>\n",
              "      <td>0</td>\n",
              "      <td>0</td>\n",
              "      <td>0</td>\n",
              "      <td>0</td>\n",
              "      <td>0</td>\n",
              "      <td>0</td>\n",
              "      <td>0</td>\n",
              "      <td>0</td>\n",
              "      <td>0</td>\n",
              "      <td>0</td>\n",
              "      <td>0</td>\n",
              "      <td>0</td>\n",
              "      <td>0</td>\n",
              "      <td>0</td>\n",
              "      <td>0</td>\n",
              "      <td>0</td>\n",
              "      <td>0</td>\n",
              "      <td>0</td>\n",
              "      <td>0</td>\n",
              "      <td>0</td>\n",
              "      <td>0</td>\n",
              "      <td>0</td>\n",
              "      <td>0</td>\n",
              "      <td>0</td>\n",
              "      <td>0</td>\n",
              "      <td>0</td>\n",
              "      <td>0</td>\n",
              "      <td>0</td>\n",
              "      <td>0</td>\n",
              "      <td>0</td>\n",
              "      <td>0</td>\n",
              "      <td>0</td>\n",
              "      <td>0</td>\n",
              "      <td>0</td>\n",
              "      <td>0</td>\n",
              "      <td>0</td>\n",
              "      <td>0</td>\n",
              "      <td>0</td>\n",
              "      <td>0</td>\n",
              "      <td>0</td>\n",
              "    </tr>\n",
              "    <tr>\n",
              "      <th>3</th>\n",
              "      <td>00294be0.wav</td>\n",
              "      <td>0</td>\n",
              "      <td>0</td>\n",
              "      <td>0</td>\n",
              "      <td>0</td>\n",
              "      <td>0</td>\n",
              "      <td>0</td>\n",
              "      <td>0</td>\n",
              "      <td>0</td>\n",
              "      <td>0</td>\n",
              "      <td>0</td>\n",
              "      <td>0</td>\n",
              "      <td>0</td>\n",
              "      <td>0</td>\n",
              "      <td>0</td>\n",
              "      <td>0</td>\n",
              "      <td>0</td>\n",
              "      <td>0</td>\n",
              "      <td>0</td>\n",
              "      <td>0</td>\n",
              "      <td>0</td>\n",
              "      <td>0</td>\n",
              "      <td>0</td>\n",
              "      <td>0</td>\n",
              "      <td>0</td>\n",
              "      <td>0</td>\n",
              "      <td>0</td>\n",
              "      <td>0</td>\n",
              "      <td>0</td>\n",
              "      <td>0</td>\n",
              "      <td>0</td>\n",
              "      <td>0</td>\n",
              "      <td>0</td>\n",
              "      <td>0</td>\n",
              "      <td>0</td>\n",
              "      <td>0</td>\n",
              "      <td>0</td>\n",
              "      <td>0</td>\n",
              "      <td>0</td>\n",
              "      <td>0</td>\n",
              "      <td>...</td>\n",
              "      <td>0</td>\n",
              "      <td>0</td>\n",
              "      <td>0</td>\n",
              "      <td>0</td>\n",
              "      <td>0</td>\n",
              "      <td>0</td>\n",
              "      <td>0</td>\n",
              "      <td>0</td>\n",
              "      <td>0</td>\n",
              "      <td>0</td>\n",
              "      <td>0</td>\n",
              "      <td>0</td>\n",
              "      <td>0</td>\n",
              "      <td>0</td>\n",
              "      <td>0</td>\n",
              "      <td>0</td>\n",
              "      <td>0</td>\n",
              "      <td>0</td>\n",
              "      <td>0</td>\n",
              "      <td>0</td>\n",
              "      <td>0</td>\n",
              "      <td>0</td>\n",
              "      <td>0</td>\n",
              "      <td>0</td>\n",
              "      <td>0</td>\n",
              "      <td>0</td>\n",
              "      <td>0</td>\n",
              "      <td>0</td>\n",
              "      <td>0</td>\n",
              "      <td>0</td>\n",
              "      <td>0</td>\n",
              "      <td>0</td>\n",
              "      <td>0</td>\n",
              "      <td>0</td>\n",
              "      <td>0</td>\n",
              "      <td>0</td>\n",
              "      <td>0</td>\n",
              "      <td>0</td>\n",
              "      <td>0</td>\n",
              "      <td>0</td>\n",
              "    </tr>\n",
              "    <tr>\n",
              "      <th>4</th>\n",
              "      <td>003fde7a.wav</td>\n",
              "      <td>0</td>\n",
              "      <td>0</td>\n",
              "      <td>0</td>\n",
              "      <td>0</td>\n",
              "      <td>0</td>\n",
              "      <td>0</td>\n",
              "      <td>0</td>\n",
              "      <td>0</td>\n",
              "      <td>0</td>\n",
              "      <td>0</td>\n",
              "      <td>0</td>\n",
              "      <td>0</td>\n",
              "      <td>0</td>\n",
              "      <td>0</td>\n",
              "      <td>0</td>\n",
              "      <td>0</td>\n",
              "      <td>0</td>\n",
              "      <td>0</td>\n",
              "      <td>0</td>\n",
              "      <td>0</td>\n",
              "      <td>0</td>\n",
              "      <td>0</td>\n",
              "      <td>0</td>\n",
              "      <td>0</td>\n",
              "      <td>0</td>\n",
              "      <td>0</td>\n",
              "      <td>0</td>\n",
              "      <td>0</td>\n",
              "      <td>0</td>\n",
              "      <td>0</td>\n",
              "      <td>0</td>\n",
              "      <td>0</td>\n",
              "      <td>0</td>\n",
              "      <td>0</td>\n",
              "      <td>0</td>\n",
              "      <td>0</td>\n",
              "      <td>0</td>\n",
              "      <td>0</td>\n",
              "      <td>0</td>\n",
              "      <td>...</td>\n",
              "      <td>0</td>\n",
              "      <td>0</td>\n",
              "      <td>0</td>\n",
              "      <td>0</td>\n",
              "      <td>0</td>\n",
              "      <td>0</td>\n",
              "      <td>0</td>\n",
              "      <td>0</td>\n",
              "      <td>0</td>\n",
              "      <td>0</td>\n",
              "      <td>0</td>\n",
              "      <td>0</td>\n",
              "      <td>0</td>\n",
              "      <td>0</td>\n",
              "      <td>0</td>\n",
              "      <td>0</td>\n",
              "      <td>0</td>\n",
              "      <td>0</td>\n",
              "      <td>0</td>\n",
              "      <td>0</td>\n",
              "      <td>0</td>\n",
              "      <td>0</td>\n",
              "      <td>0</td>\n",
              "      <td>0</td>\n",
              "      <td>0</td>\n",
              "      <td>0</td>\n",
              "      <td>0</td>\n",
              "      <td>0</td>\n",
              "      <td>0</td>\n",
              "      <td>0</td>\n",
              "      <td>0</td>\n",
              "      <td>0</td>\n",
              "      <td>0</td>\n",
              "      <td>0</td>\n",
              "      <td>0</td>\n",
              "      <td>0</td>\n",
              "      <td>0</td>\n",
              "      <td>0</td>\n",
              "      <td>0</td>\n",
              "      <td>0</td>\n",
              "    </tr>\n",
              "  </tbody>\n",
              "</table>\n",
              "<p>5 rows × 81 columns</p>\n",
              "</div>"
            ],
            "text/plain": [
              "          fname  Accelerating_and_revving_and_vroom  ...  Yell  Zipper_(clothing)\n",
              "0  000ccb97.wav                                   0  ...     0                  0\n",
              "1  0012633b.wav                                   0  ...     0                  0\n",
              "2  001ed5f1.wav                                   0  ...     0                  0\n",
              "3  00294be0.wav                                   0  ...     0                  0\n",
              "4  003fde7a.wav                                   0  ...     0                  0\n",
              "\n",
              "[5 rows x 81 columns]"
            ]
          },
          "metadata": {
            "tags": []
          },
          "execution_count": 57
        }
      ]
    },
    {
      "cell_type": "code",
      "metadata": {
        "id": "cAqkaQWbDu6V",
        "colab_type": "code",
        "colab": {
          "base_uri": "https://localhost:8080/",
          "height": 1377
        },
        "outputId": "fb6fbf48-5731-40fc-c3d7-97c4d89a5202"
      },
      "source": [
        "labels = test_df.columns[1:].tolist()\n",
        "labels"
      ],
      "execution_count": 60,
      "outputs": [
        {
          "output_type": "execute_result",
          "data": {
            "text/plain": [
              "['Accelerating_and_revving_and_vroom',\n",
              " 'Accordion',\n",
              " 'Acoustic_guitar',\n",
              " 'Applause',\n",
              " 'Bark',\n",
              " 'Bass_drum',\n",
              " 'Bass_guitar',\n",
              " 'Bathtub_(filling_or_washing)',\n",
              " 'Bicycle_bell',\n",
              " 'Burping_and_eructation',\n",
              " 'Bus',\n",
              " 'Buzz',\n",
              " 'Car_passing_by',\n",
              " 'Cheering',\n",
              " 'Chewing_and_mastication',\n",
              " 'Child_speech_and_kid_speaking',\n",
              " 'Chink_and_clink',\n",
              " 'Chirp_and_tweet',\n",
              " 'Church_bell',\n",
              " 'Clapping',\n",
              " 'Computer_keyboard',\n",
              " 'Crackle',\n",
              " 'Cricket',\n",
              " 'Crowd',\n",
              " 'Cupboard_open_or_close',\n",
              " 'Cutlery_and_silverware',\n",
              " 'Dishes_and_pots_and_pans',\n",
              " 'Drawer_open_or_close',\n",
              " 'Drip',\n",
              " 'Electric_guitar',\n",
              " 'Fart',\n",
              " 'Female_singing',\n",
              " 'Female_speech_and_woman_speaking',\n",
              " 'Fill_(with_liquid)',\n",
              " 'Finger_snapping',\n",
              " 'Frying_(food)',\n",
              " 'Gasp',\n",
              " 'Glockenspiel',\n",
              " 'Gong',\n",
              " 'Gurgling',\n",
              " 'Harmonica',\n",
              " 'Hi-hat',\n",
              " 'Hiss',\n",
              " 'Keys_jangling',\n",
              " 'Knock',\n",
              " 'Male_singing',\n",
              " 'Male_speech_and_man_speaking',\n",
              " 'Marimba_and_xylophone',\n",
              " 'Mechanical_fan',\n",
              " 'Meow',\n",
              " 'Microwave_oven',\n",
              " 'Motorcycle',\n",
              " 'Printer',\n",
              " 'Purr',\n",
              " 'Race_car_and_auto_racing',\n",
              " 'Raindrop',\n",
              " 'Run',\n",
              " 'Scissors',\n",
              " 'Screaming',\n",
              " 'Shatter',\n",
              " 'Sigh',\n",
              " 'Sink_(filling_or_washing)',\n",
              " 'Skateboard',\n",
              " 'Slam',\n",
              " 'Sneeze',\n",
              " 'Squeak',\n",
              " 'Stream',\n",
              " 'Strum',\n",
              " 'Tap',\n",
              " 'Tick-tock',\n",
              " 'Toilet_flush',\n",
              " 'Traffic_noise_and_roadway_noise',\n",
              " 'Trickle_and_dribble',\n",
              " 'Walk_and_footsteps',\n",
              " 'Water_tap_and_faucet',\n",
              " 'Waves_and_surf',\n",
              " 'Whispering',\n",
              " 'Writing',\n",
              " 'Yell',\n",
              " 'Zipper_(clothing)']"
            ]
          },
          "metadata": {
            "tags": []
          },
          "execution_count": 60
        }
      ]
    },
    {
      "cell_type": "code",
      "metadata": {
        "id": "UHVUiSjyDJdP",
        "colab_type": "code",
        "colab": {
          "base_uri": "https://localhost:8080/",
          "height": 355
        },
        "outputId": "9376008f-8399-4e07-cac4-d15ff8232261"
      },
      "source": [
        "test_df[labels] = test_preds.values\n",
        "test_df.to_csv('submission.csv', index=False)\n",
        "test_df.head()"
      ],
      "execution_count": 61,
      "outputs": [
        {
          "output_type": "execute_result",
          "data": {
            "text/html": [
              "<div>\n",
              "<style scoped>\n",
              "    .dataframe tbody tr th:only-of-type {\n",
              "        vertical-align: middle;\n",
              "    }\n",
              "\n",
              "    .dataframe tbody tr th {\n",
              "        vertical-align: top;\n",
              "    }\n",
              "\n",
              "    .dataframe thead th {\n",
              "        text-align: right;\n",
              "    }\n",
              "</style>\n",
              "<table border=\"1\" class=\"dataframe\">\n",
              "  <thead>\n",
              "    <tr style=\"text-align: right;\">\n",
              "      <th></th>\n",
              "      <th>fname</th>\n",
              "      <th>Accelerating_and_revving_and_vroom</th>\n",
              "      <th>Accordion</th>\n",
              "      <th>Acoustic_guitar</th>\n",
              "      <th>Applause</th>\n",
              "      <th>Bark</th>\n",
              "      <th>Bass_drum</th>\n",
              "      <th>Bass_guitar</th>\n",
              "      <th>Bathtub_(filling_or_washing)</th>\n",
              "      <th>Bicycle_bell</th>\n",
              "      <th>Burping_and_eructation</th>\n",
              "      <th>Bus</th>\n",
              "      <th>Buzz</th>\n",
              "      <th>Car_passing_by</th>\n",
              "      <th>Cheering</th>\n",
              "      <th>Chewing_and_mastication</th>\n",
              "      <th>Child_speech_and_kid_speaking</th>\n",
              "      <th>Chink_and_clink</th>\n",
              "      <th>Chirp_and_tweet</th>\n",
              "      <th>Church_bell</th>\n",
              "      <th>Clapping</th>\n",
              "      <th>Computer_keyboard</th>\n",
              "      <th>Crackle</th>\n",
              "      <th>Cricket</th>\n",
              "      <th>Crowd</th>\n",
              "      <th>Cupboard_open_or_close</th>\n",
              "      <th>Cutlery_and_silverware</th>\n",
              "      <th>Dishes_and_pots_and_pans</th>\n",
              "      <th>Drawer_open_or_close</th>\n",
              "      <th>Drip</th>\n",
              "      <th>Electric_guitar</th>\n",
              "      <th>Fart</th>\n",
              "      <th>Female_singing</th>\n",
              "      <th>Female_speech_and_woman_speaking</th>\n",
              "      <th>Fill_(with_liquid)</th>\n",
              "      <th>Finger_snapping</th>\n",
              "      <th>Frying_(food)</th>\n",
              "      <th>Gasp</th>\n",
              "      <th>Glockenspiel</th>\n",
              "      <th>Gong</th>\n",
              "      <th>...</th>\n",
              "      <th>Harmonica</th>\n",
              "      <th>Hi-hat</th>\n",
              "      <th>Hiss</th>\n",
              "      <th>Keys_jangling</th>\n",
              "      <th>Knock</th>\n",
              "      <th>Male_singing</th>\n",
              "      <th>Male_speech_and_man_speaking</th>\n",
              "      <th>Marimba_and_xylophone</th>\n",
              "      <th>Mechanical_fan</th>\n",
              "      <th>Meow</th>\n",
              "      <th>Microwave_oven</th>\n",
              "      <th>Motorcycle</th>\n",
              "      <th>Printer</th>\n",
              "      <th>Purr</th>\n",
              "      <th>Race_car_and_auto_racing</th>\n",
              "      <th>Raindrop</th>\n",
              "      <th>Run</th>\n",
              "      <th>Scissors</th>\n",
              "      <th>Screaming</th>\n",
              "      <th>Shatter</th>\n",
              "      <th>Sigh</th>\n",
              "      <th>Sink_(filling_or_washing)</th>\n",
              "      <th>Skateboard</th>\n",
              "      <th>Slam</th>\n",
              "      <th>Sneeze</th>\n",
              "      <th>Squeak</th>\n",
              "      <th>Stream</th>\n",
              "      <th>Strum</th>\n",
              "      <th>Tap</th>\n",
              "      <th>Tick-tock</th>\n",
              "      <th>Toilet_flush</th>\n",
              "      <th>Traffic_noise_and_roadway_noise</th>\n",
              "      <th>Trickle_and_dribble</th>\n",
              "      <th>Walk_and_footsteps</th>\n",
              "      <th>Water_tap_and_faucet</th>\n",
              "      <th>Waves_and_surf</th>\n",
              "      <th>Whispering</th>\n",
              "      <th>Writing</th>\n",
              "      <th>Yell</th>\n",
              "      <th>Zipper_(clothing)</th>\n",
              "    </tr>\n",
              "  </thead>\n",
              "  <tbody>\n",
              "    <tr>\n",
              "      <th>0</th>\n",
              "      <td>000ccb97.wav</td>\n",
              "      <td>6.129706e-07</td>\n",
              "      <td>1.039015e-09</td>\n",
              "      <td>0.000002</td>\n",
              "      <td>6.444747e-07</td>\n",
              "      <td>0.000002</td>\n",
              "      <td>0.000997</td>\n",
              "      <td>0.000465</td>\n",
              "      <td>0.000114</td>\n",
              "      <td>0.000045</td>\n",
              "      <td>2.854926e-07</td>\n",
              "      <td>0.000003</td>\n",
              "      <td>0.000169</td>\n",
              "      <td>2.819746e-07</td>\n",
              "      <td>1.730269e-07</td>\n",
              "      <td>0.000155</td>\n",
              "      <td>0.000001</td>\n",
              "      <td>0.000258</td>\n",
              "      <td>0.003510</td>\n",
              "      <td>5.480500e-07</td>\n",
              "      <td>0.000013</td>\n",
              "      <td>0.000162</td>\n",
              "      <td>0.007311</td>\n",
              "      <td>0.000426</td>\n",
              "      <td>8.383200e-07</td>\n",
              "      <td>0.000010</td>\n",
              "      <td>0.007075</td>\n",
              "      <td>0.000149</td>\n",
              "      <td>0.000005</td>\n",
              "      <td>0.000507</td>\n",
              "      <td>2.321637e-06</td>\n",
              "      <td>0.000054</td>\n",
              "      <td>0.000003</td>\n",
              "      <td>0.012751</td>\n",
              "      <td>0.000046</td>\n",
              "      <td>0.075570</td>\n",
              "      <td>0.001421</td>\n",
              "      <td>0.000011</td>\n",
              "      <td>0.000203</td>\n",
              "      <td>0.000006</td>\n",
              "      <td>...</td>\n",
              "      <td>5.377774e-07</td>\n",
              "      <td>2.649976e-02</td>\n",
              "      <td>0.006108</td>\n",
              "      <td>0.152874</td>\n",
              "      <td>0.000031</td>\n",
              "      <td>0.000001</td>\n",
              "      <td>0.001707</td>\n",
              "      <td>0.000001</td>\n",
              "      <td>0.000004</td>\n",
              "      <td>7.613629e-08</td>\n",
              "      <td>0.000009</td>\n",
              "      <td>0.000003</td>\n",
              "      <td>0.000002</td>\n",
              "      <td>0.000013</td>\n",
              "      <td>2.805037e-07</td>\n",
              "      <td>0.003007</td>\n",
              "      <td>0.000065</td>\n",
              "      <td>0.159553</td>\n",
              "      <td>4.122167e-07</td>\n",
              "      <td>0.010267</td>\n",
              "      <td>0.000020</td>\n",
              "      <td>0.000014</td>\n",
              "      <td>1.600396e-07</td>\n",
              "      <td>4.965114e-07</td>\n",
              "      <td>0.000570</td>\n",
              "      <td>0.000670</td>\n",
              "      <td>0.000011</td>\n",
              "      <td>9.588343e-07</td>\n",
              "      <td>0.000009</td>\n",
              "      <td>0.000058</td>\n",
              "      <td>4.230570e-07</td>\n",
              "      <td>9.207371e-08</td>\n",
              "      <td>0.000007</td>\n",
              "      <td>0.000472</td>\n",
              "      <td>0.000066</td>\n",
              "      <td>5.284082e-07</td>\n",
              "      <td>0.004381</td>\n",
              "      <td>0.008132</td>\n",
              "      <td>2.397464e-06</td>\n",
              "      <td>0.000261</td>\n",
              "    </tr>\n",
              "    <tr>\n",
              "      <th>1</th>\n",
              "      <td>0012633b.wav</td>\n",
              "      <td>3.214606e-02</td>\n",
              "      <td>3.958427e-03</td>\n",
              "      <td>0.005501</td>\n",
              "      <td>4.767140e-03</td>\n",
              "      <td>0.005402</td>\n",
              "      <td>0.002711</td>\n",
              "      <td>0.013642</td>\n",
              "      <td>0.030567</td>\n",
              "      <td>0.003998</td>\n",
              "      <td>1.078878e-02</td>\n",
              "      <td>0.013211</td>\n",
              "      <td>0.221685</td>\n",
              "      <td>5.047799e-03</td>\n",
              "      <td>3.062654e-03</td>\n",
              "      <td>0.006418</td>\n",
              "      <td>0.037083</td>\n",
              "      <td>0.003121</td>\n",
              "      <td>0.008136</td>\n",
              "      <td>9.025331e-03</td>\n",
              "      <td>0.008220</td>\n",
              "      <td>0.011785</td>\n",
              "      <td>0.032951</td>\n",
              "      <td>0.006579</td>\n",
              "      <td>7.764182e-03</td>\n",
              "      <td>0.009887</td>\n",
              "      <td>0.001993</td>\n",
              "      <td>0.005768</td>\n",
              "      <td>0.020207</td>\n",
              "      <td>0.007387</td>\n",
              "      <td>9.653514e-04</td>\n",
              "      <td>0.011561</td>\n",
              "      <td>0.013480</td>\n",
              "      <td>0.012408</td>\n",
              "      <td>0.007355</td>\n",
              "      <td>0.019504</td>\n",
              "      <td>0.015033</td>\n",
              "      <td>0.012941</td>\n",
              "      <td>0.003159</td>\n",
              "      <td>0.005162</td>\n",
              "      <td>...</td>\n",
              "      <td>1.870302e-02</td>\n",
              "      <td>6.524274e-03</td>\n",
              "      <td>0.020764</td>\n",
              "      <td>0.004299</td>\n",
              "      <td>0.001538</td>\n",
              "      <td>0.046184</td>\n",
              "      <td>0.018668</td>\n",
              "      <td>0.001554</td>\n",
              "      <td>0.005728</td>\n",
              "      <td>5.831969e-02</td>\n",
              "      <td>0.001490</td>\n",
              "      <td>0.090571</td>\n",
              "      <td>0.014145</td>\n",
              "      <td>0.064798</td>\n",
              "      <td>8.665209e-03</td>\n",
              "      <td>0.009964</td>\n",
              "      <td>0.028967</td>\n",
              "      <td>0.004178</td>\n",
              "      <td>1.992414e-02</td>\n",
              "      <td>0.019843</td>\n",
              "      <td>0.016025</td>\n",
              "      <td>0.008269</td>\n",
              "      <td>1.055349e-02</td>\n",
              "      <td>1.418626e-02</td>\n",
              "      <td>0.014240</td>\n",
              "      <td>0.017341</td>\n",
              "      <td>0.003372</td>\n",
              "      <td>3.540333e-03</td>\n",
              "      <td>0.004076</td>\n",
              "      <td>0.002283</td>\n",
              "      <td>8.470947e-03</td>\n",
              "      <td>2.751704e-02</td>\n",
              "      <td>0.010623</td>\n",
              "      <td>0.032947</td>\n",
              "      <td>0.014114</td>\n",
              "      <td>2.793087e-02</td>\n",
              "      <td>0.036972</td>\n",
              "      <td>0.023301</td>\n",
              "      <td>8.745516e-03</td>\n",
              "      <td>0.097114</td>\n",
              "    </tr>\n",
              "    <tr>\n",
              "      <th>2</th>\n",
              "      <td>001ed5f1.wav</td>\n",
              "      <td>2.350602e-04</td>\n",
              "      <td>1.928019e-04</td>\n",
              "      <td>0.000018</td>\n",
              "      <td>1.526762e-03</td>\n",
              "      <td>0.003552</td>\n",
              "      <td>0.010597</td>\n",
              "      <td>0.000467</td>\n",
              "      <td>0.002082</td>\n",
              "      <td>0.000787</td>\n",
              "      <td>1.370211e-03</td>\n",
              "      <td>0.000643</td>\n",
              "      <td>0.000228</td>\n",
              "      <td>3.605146e-04</td>\n",
              "      <td>7.275805e-04</td>\n",
              "      <td>0.000780</td>\n",
              "      <td>0.000243</td>\n",
              "      <td>0.001770</td>\n",
              "      <td>0.000079</td>\n",
              "      <td>1.513722e-04</td>\n",
              "      <td>0.023283</td>\n",
              "      <td>0.005666</td>\n",
              "      <td>0.000449</td>\n",
              "      <td>0.000014</td>\n",
              "      <td>1.114442e-03</td>\n",
              "      <td>0.007481</td>\n",
              "      <td>0.001145</td>\n",
              "      <td>0.008762</td>\n",
              "      <td>0.034958</td>\n",
              "      <td>0.000200</td>\n",
              "      <td>1.772000e-04</td>\n",
              "      <td>0.000303</td>\n",
              "      <td>0.000097</td>\n",
              "      <td>0.000399</td>\n",
              "      <td>0.000067</td>\n",
              "      <td>0.005633</td>\n",
              "      <td>0.000277</td>\n",
              "      <td>0.000863</td>\n",
              "      <td>0.000319</td>\n",
              "      <td>0.000240</td>\n",
              "      <td>...</td>\n",
              "      <td>3.254157e-04</td>\n",
              "      <td>2.070866e-04</td>\n",
              "      <td>0.000995</td>\n",
              "      <td>0.000216</td>\n",
              "      <td>0.018630</td>\n",
              "      <td>0.000664</td>\n",
              "      <td>0.000297</td>\n",
              "      <td>0.000609</td>\n",
              "      <td>0.000764</td>\n",
              "      <td>3.369666e-04</td>\n",
              "      <td>0.014494</td>\n",
              "      <td>0.000393</td>\n",
              "      <td>0.004093</td>\n",
              "      <td>0.000182</td>\n",
              "      <td>1.303405e-04</td>\n",
              "      <td>0.000177</td>\n",
              "      <td>0.036758</td>\n",
              "      <td>0.000756</td>\n",
              "      <td>5.642852e-04</td>\n",
              "      <td>0.000339</td>\n",
              "      <td>0.001926</td>\n",
              "      <td>0.000081</td>\n",
              "      <td>1.812252e-03</td>\n",
              "      <td>6.991484e-02</td>\n",
              "      <td>0.002749</td>\n",
              "      <td>0.023029</td>\n",
              "      <td>0.000014</td>\n",
              "      <td>5.462515e-05</td>\n",
              "      <td>0.116018</td>\n",
              "      <td>0.002298</td>\n",
              "      <td>1.065065e-03</td>\n",
              "      <td>1.045919e-04</td>\n",
              "      <td>0.000010</td>\n",
              "      <td>0.002882</td>\n",
              "      <td>0.000258</td>\n",
              "      <td>3.966646e-05</td>\n",
              "      <td>0.000483</td>\n",
              "      <td>0.000696</td>\n",
              "      <td>2.509037e-04</td>\n",
              "      <td>0.002288</td>\n",
              "    </tr>\n",
              "    <tr>\n",
              "      <th>3</th>\n",
              "      <td>00294be0.wav</td>\n",
              "      <td>8.329202e-04</td>\n",
              "      <td>1.617301e-04</td>\n",
              "      <td>0.000043</td>\n",
              "      <td>6.145051e-06</td>\n",
              "      <td>0.001044</td>\n",
              "      <td>0.000002</td>\n",
              "      <td>0.000069</td>\n",
              "      <td>0.000083</td>\n",
              "      <td>0.000336</td>\n",
              "      <td>8.721807e-03</td>\n",
              "      <td>0.000146</td>\n",
              "      <td>0.000383</td>\n",
              "      <td>6.679750e-04</td>\n",
              "      <td>1.415030e-06</td>\n",
              "      <td>0.069040</td>\n",
              "      <td>0.000171</td>\n",
              "      <td>0.000130</td>\n",
              "      <td>0.000827</td>\n",
              "      <td>4.902340e-04</td>\n",
              "      <td>0.000049</td>\n",
              "      <td>0.000102</td>\n",
              "      <td>0.001435</td>\n",
              "      <td>0.004133</td>\n",
              "      <td>6.849724e-06</td>\n",
              "      <td>0.000020</td>\n",
              "      <td>0.000457</td>\n",
              "      <td>0.000005</td>\n",
              "      <td>0.002073</td>\n",
              "      <td>0.003358</td>\n",
              "      <td>3.043234e-07</td>\n",
              "      <td>0.009318</td>\n",
              "      <td>0.000060</td>\n",
              "      <td>0.000018</td>\n",
              "      <td>0.000578</td>\n",
              "      <td>0.000133</td>\n",
              "      <td>0.000165</td>\n",
              "      <td>0.005542</td>\n",
              "      <td>0.000052</td>\n",
              "      <td>0.000018</td>\n",
              "      <td>...</td>\n",
              "      <td>1.573252e-05</td>\n",
              "      <td>4.047106e-07</td>\n",
              "      <td>0.002215</td>\n",
              "      <td>0.000150</td>\n",
              "      <td>0.003227</td>\n",
              "      <td>0.000619</td>\n",
              "      <td>0.000912</td>\n",
              "      <td>0.000006</td>\n",
              "      <td>0.011656</td>\n",
              "      <td>8.025832e-02</td>\n",
              "      <td>0.000004</td>\n",
              "      <td>0.008177</td>\n",
              "      <td>0.000015</td>\n",
              "      <td>0.903260</td>\n",
              "      <td>2.443812e-05</td>\n",
              "      <td>0.001667</td>\n",
              "      <td>0.001769</td>\n",
              "      <td>0.000138</td>\n",
              "      <td>7.469081e-05</td>\n",
              "      <td>0.000219</td>\n",
              "      <td>0.015439</td>\n",
              "      <td>0.003197</td>\n",
              "      <td>8.237210e-04</td>\n",
              "      <td>3.825970e-05</td>\n",
              "      <td>0.000339</td>\n",
              "      <td>0.002214</td>\n",
              "      <td>0.001500</td>\n",
              "      <td>6.380883e-05</td>\n",
              "      <td>0.000060</td>\n",
              "      <td>0.000373</td>\n",
              "      <td>2.254221e-04</td>\n",
              "      <td>3.827822e-04</td>\n",
              "      <td>0.002967</td>\n",
              "      <td>0.019164</td>\n",
              "      <td>0.000059</td>\n",
              "      <td>8.327834e-03</td>\n",
              "      <td>0.006581</td>\n",
              "      <td>0.004463</td>\n",
              "      <td>3.821973e-07</td>\n",
              "      <td>0.095836</td>\n",
              "    </tr>\n",
              "    <tr>\n",
              "      <th>4</th>\n",
              "      <td>003fde7a.wav</td>\n",
              "      <td>1.737082e-04</td>\n",
              "      <td>1.403598e-03</td>\n",
              "      <td>0.000832</td>\n",
              "      <td>5.176684e-05</td>\n",
              "      <td>0.000016</td>\n",
              "      <td>0.000660</td>\n",
              "      <td>0.000777</td>\n",
              "      <td>0.000298</td>\n",
              "      <td>0.772030</td>\n",
              "      <td>1.303809e-04</td>\n",
              "      <td>0.002130</td>\n",
              "      <td>0.004474</td>\n",
              "      <td>5.248077e-04</td>\n",
              "      <td>1.378326e-04</td>\n",
              "      <td>0.000347</td>\n",
              "      <td>0.000033</td>\n",
              "      <td>0.002780</td>\n",
              "      <td>0.006983</td>\n",
              "      <td>7.371412e-04</td>\n",
              "      <td>0.000089</td>\n",
              "      <td>0.000655</td>\n",
              "      <td>0.000912</td>\n",
              "      <td>0.001464</td>\n",
              "      <td>1.711114e-04</td>\n",
              "      <td>0.000965</td>\n",
              "      <td>0.000317</td>\n",
              "      <td>0.001093</td>\n",
              "      <td>0.000084</td>\n",
              "      <td>0.000769</td>\n",
              "      <td>1.416597e-03</td>\n",
              "      <td>0.000116</td>\n",
              "      <td>0.000642</td>\n",
              "      <td>0.000231</td>\n",
              "      <td>0.000468</td>\n",
              "      <td>0.000606</td>\n",
              "      <td>0.000221</td>\n",
              "      <td>0.000149</td>\n",
              "      <td>0.076887</td>\n",
              "      <td>0.001347</td>\n",
              "      <td>...</td>\n",
              "      <td>8.435236e-04</td>\n",
              "      <td>8.727239e-04</td>\n",
              "      <td>0.000461</td>\n",
              "      <td>0.004612</td>\n",
              "      <td>0.005147</td>\n",
              "      <td>0.000227</td>\n",
              "      <td>0.002259</td>\n",
              "      <td>0.001650</td>\n",
              "      <td>0.000352</td>\n",
              "      <td>1.426340e-03</td>\n",
              "      <td>0.004198</td>\n",
              "      <td>0.000381</td>\n",
              "      <td>0.000299</td>\n",
              "      <td>0.000750</td>\n",
              "      <td>8.587138e-05</td>\n",
              "      <td>0.001810</td>\n",
              "      <td>0.001143</td>\n",
              "      <td>0.000175</td>\n",
              "      <td>1.067055e-03</td>\n",
              "      <td>0.001260</td>\n",
              "      <td>0.000086</td>\n",
              "      <td>0.001124</td>\n",
              "      <td>2.213690e-05</td>\n",
              "      <td>8.113031e-04</td>\n",
              "      <td>0.000034</td>\n",
              "      <td>0.002172</td>\n",
              "      <td>0.000106</td>\n",
              "      <td>1.170389e-02</td>\n",
              "      <td>0.000564</td>\n",
              "      <td>0.001434</td>\n",
              "      <td>2.394100e-04</td>\n",
              "      <td>1.005617e-03</td>\n",
              "      <td>0.000279</td>\n",
              "      <td>0.000466</td>\n",
              "      <td>0.000112</td>\n",
              "      <td>8.460529e-05</td>\n",
              "      <td>0.000032</td>\n",
              "      <td>0.000033</td>\n",
              "      <td>9.520503e-05</td>\n",
              "      <td>0.000757</td>\n",
              "    </tr>\n",
              "  </tbody>\n",
              "</table>\n",
              "<p>5 rows × 81 columns</p>\n",
              "</div>"
            ],
            "text/plain": [
              "          fname  ...  Zipper_(clothing)\n",
              "0  000ccb97.wav  ...           0.000261\n",
              "1  0012633b.wav  ...           0.097114\n",
              "2  001ed5f1.wav  ...           0.002288\n",
              "3  00294be0.wav  ...           0.095836\n",
              "4  003fde7a.wav  ...           0.000757\n",
              "\n",
              "[5 rows x 81 columns]"
            ]
          },
          "metadata": {
            "tags": []
          },
          "execution_count": 61
        }
      ]
    },
    {
      "cell_type": "code",
      "metadata": {
        "id": "yp7gpbpU_Zvk",
        "colab_type": "code",
        "colab": {}
      },
      "source": [
        "def predict_model(test_fnames, x_test, test_transforms, num_classes, *, tta=5):\n",
        "    batch_size = 256\n",
        "\n",
        "    test_dataset = FATTestDataset(test_fnames, x_test, test_transforms, tta=tta)\n",
        "    test_loader = DataLoader(test_dataset, batch_size=batch_size, shuffle=False)\n",
        "\n",
        "    model = Classifier(num_classes=num_classes)\n",
        "    model.load_state_dict(torch.load('weight_best.pt'))\n",
        "    model.cuda()\n",
        "    model.eval()\n",
        "\n",
        "    all_outputs, all_fnames = [], []\n",
        "\n",
        "    pb = progress_bar(test_loader)\n",
        "    with torch.no_grad():\n",
        "      for data in test_loader:\n",
        "        images, labels = data\n",
        "    for images, fnames in pb:\n",
        "        preds = torch.sigmoid(model(images.cuda()).detach())\n",
        "        all_outputs.append(preds.cpu().numpy())\n",
        "        all_fnames.extend(fnames)\n",
        "\n",
        "    test_preds = pd.DataFrame(data=np.concatenate(all_outputs),\n",
        "                              index=all_fnames,\n",
        "                              columns=map(str, range(num_classes)))\n",
        "    test_preds = test_preds.groupby(level=0).mean()\n",
        "\n",
        "    return test_preds"
      ],
      "execution_count": 0,
      "outputs": []
    },
    {
      "cell_type": "code",
      "metadata": {
        "id": "DGEL9P2Pgs9H",
        "colab_type": "code",
        "colab": {}
      },
      "source": [
        "num_epochs = 120\n",
        "batch_size = 128\n",
        "test_batch_size = 256\n",
        "lr = 1e-3\n",
        "eta_min = 1e-5\n",
        "t_max = 10\n",
        "num_classes = y_train.shape[1]\n",
        "\n",
        "x_trn, x_val, y_trn, y_val = train_test_split(x_train, y_train, test_size=0.2, random_state=SEED)\n",
        "\n",
        "train_dataset = FATTrainDataset(x_trn, y_trn, train_transforms)\n",
        "valid_dataset = FATTrainDataset(x_val, y_val, train_transforms)\n",
        "\n",
        "train_loader = DataLoader(train_dataset, batch_size=batch_size, shuffle=True)\n",
        "valid_loader = DataLoader(valid_dataset, batch_size=test_batch_size, shuffle=False)\n",
        "\n",
        "model = Classifier(num_classes=num_classes).cuda()\n",
        "criterion = nn.BCEWithLogitsLoss().cuda()\n",
        "optimizer = Adam(params=model.parameters(), lr=lr, amsgrad=False)\n",
        "scheduler = CosineAnnealingLR(optimizer, T_max=t_max, eta_min=eta_min)\n",
        "\n",
        "best_epoch = -1\n",
        "best_lwlrap = 0.\n",
        "mb = master_bar(range(num_epochs))\n",
        "\n",
        "    for epoch in mb:\n",
        "        start_time = time.time()\n",
        "        model.train()\n",
        "        avg_loss = 0.\n",
        "\n",
        "        for x_batch, y_batch in progress_bar(train_loader, parent=mb):\n",
        "        for x_batch, y_batch in train_loader:\n",
        "            preds = model(x_batch.cuda())\n",
        "            loss = criterion(preds, y_batch.cuda())\n",
        "\n",
        "            optimizer.zero_grad()\n",
        "            loss.backward()\n",
        "            optimizer.step()\n",
        "\n",
        "            avg_loss += loss.item() / len(train_loader)\n",
        "\n",
        "        model.eval()\n",
        "        valid_preds = np.zeros((len(x_val), num_classes))\n",
        "        avg_val_loss = 0.\n",
        "\n",
        "        for i, (x_batch, y_batch) in enumerate(valid_loader):\n",
        "            preds = model(x_batch.cuda()).detach()\n",
        "            loss = criterion(preds, y_batch.cuda())\n",
        "\n",
        "            preds = torch.sigmoid(preds)\n",
        "            valid_preds[i * test_batch_size: (i+1) * test_batch_size] = preds.cpu().numpy()\n",
        "\n",
        "            avg_val_loss += loss.item() / len(valid_loader)\n",
        "            \n",
        "        score, weight = calculate_per_class_lwlrap(y_val, valid_preds)\n",
        "        lwlrap = (score * weight).sum()\n",
        "        \n",
        "        scheduler.step()\n",
        "\n",
        "        if (epoch + 1) % 1 == 0:\n",
        "            elapsed = time.time() - start_time\n",
        "            mb.write(f'Epoch {epoch+1} - avg_train_loss: {avg_loss:.4f}  avg_val_loss: {avg_val_loss:.4f}  val_lwlrap: {lwlrap:.6f}  time: {elapsed:.0f}s')\n",
        "    \n",
        "        if lwlrap > best_lwlrap:\n",
        "            best_epoch = epoch + 1\n",
        "            best_lwlrap = lwlrap\n",
        "            torch.save(model.state_dict(), 'weight_best.pt')\n",
        "            \n",
        "    return {\n",
        "        'best_epoch': best_epoch,\n",
        "        'best_lwlrap': best_lwlrap,\n",
        "    }"
      ],
      "execution_count": 0,
      "outputs": []
    },
    {
      "cell_type": "code",
      "metadata": {
        "id": "3hgC6GKCi8-S",
        "colab_type": "code",
        "colab": {
          "base_uri": "https://localhost:8080/",
          "height": 238
        },
        "outputId": "35a23022-234e-48e1-80c3-a8e521515760"
      },
      "source": [
        "for epoch in range(2):  # loop over the dataset multiple times\n",
        "\n",
        "    running_loss = 0.0\n",
        "    for i, data in enumerate(train_loader, 0):\n",
        "        # get the inputs\n",
        "        inputs, labels = data\n",
        "\n",
        "        # zero the parameter gradients\n",
        "        optimizer.zero_grad()\n",
        "\n",
        "        # forward + backward + optimize\n",
        "        outputs = net(inputs.cuda())\n",
        "        loss = criterion(outputs, labels.cuda())\n",
        "        loss.backward()\n",
        "        optimizer.step()\n",
        "\n",
        "        # print statistics\n",
        "        running_loss += loss.item()\n",
        "        if i % 20 == 0:    # print every 2000 mini-batches\n",
        "            print('[%d, %5d] loss: %.3f' %\n",
        "                  (epoch + 1, i + 1, running_loss / 20))\n",
        "            running_loss = 0.0\n",
        "\n",
        "print('Finished Training')"
      ],
      "execution_count": 26,
      "outputs": [
        {
          "output_type": "stream",
          "text": [
            "[1,     1] loss: 0.035\n",
            "[1,    21] loss: 0.500\n",
            "[1,    41] loss: 0.101\n",
            "[1,    61] loss: 0.073\n",
            "[1,    81] loss: 0.072\n",
            "[1,   101] loss: 0.070\n",
            "[2,     1] loss: 0.004\n",
            "[2,    21] loss: 0.070\n",
            "[2,    41] loss: 0.069\n",
            "[2,    61] loss: 0.070\n",
            "[2,    81] loss: 0.069\n",
            "[2,   101] loss: 0.069\n",
            "Finished Training\n"
          ],
          "name": "stdout"
        }
      ]
    },
    {
      "cell_type": "code",
      "metadata": {
        "id": "yerTLd0uHazS",
        "colab_type": "code",
        "colab": {
          "base_uri": "https://localhost:8080/",
          "height": 34
        },
        "outputId": "eacc4c6f-4f05-4876-ec2f-ffe5de57cd40"
      },
      "source": [
        "avg_val_loss = 0\n",
        "valid_preds = np.zeros((len(x_val), num_classes))\n",
        "for i, (x_batch, y_batch) in enumerate(valid_loader):\n",
        "            preds = net(x_batch.cuda()).detach()\n",
        "            loss = criterion(preds, y_batch.cuda())\n",
        "\n",
        "            preds = torch.sigmoid(preds)\n",
        "            valid_preds[i * test_batch_size: (i+1) * test_batch_size] = preds.cpu().numpy()\n",
        "\n",
        "            avg_val_loss += loss.item() / len(valid_loader)\n",
        "            \n",
        "            \n",
        "score, weight = calculate_per_class_lwlrap(y_val, valid_preds)\n",
        "lwlrap = (score * weight).sum()\n",
        "        \n",
        "print(lwlrap)"
      ],
      "execution_count": 33,
      "outputs": [
        {
          "output_type": "stream",
          "text": [
            "0.14496406814905954\n"
          ],
          "name": "stdout"
        }
      ]
    },
    {
      "cell_type": "code",
      "metadata": {
        "id": "gx6aTfX6OUq8",
        "colab_type": "code",
        "colab": {
          "base_uri": "https://localhost:8080/",
          "height": 34
        },
        "outputId": "84bb4998-d1fe-429d-8657-6c1ceb8cc872"
      },
      "source": [
        "running_loss"
      ],
      "execution_count": 29,
      "outputs": [
        {
          "output_type": "execute_result",
          "data": {
            "text/plain": [
              "0.8217301890254021"
            ]
          },
          "metadata": {
            "tags": []
          },
          "execution_count": 29
        }
      ]
    },
    {
      "cell_type": "code",
      "metadata": {
        "id": "fEIUDteEOW-n",
        "colab_type": "code",
        "colab": {}
      },
      "source": [
        "val_loss"
      ],
      "execution_count": 0,
      "outputs": []
    },
    {
      "cell_type": "code",
      "metadata": {
        "id": "gNOfLIl6AesO",
        "colab_type": "code",
        "colab": {}
      },
      "source": [
        "for i, data in enumerate(valid_loader, 0):\n",
        "  images, labels = data\n",
        "  print(i, images.shape, labels.shape)\n"
      ],
      "execution_count": 0,
      "outputs": []
    },
    {
      "cell_type": "code",
      "metadata": {
        "id": "z2YhjyVj_QMc",
        "colab_type": "code",
        "colab": {}
      },
      "source": [
        "dataiter = iter(valid_loader)\n",
        "images, labels = dataiter.next()\n",
        "\n",
        "# print images\n",
        "imshow(torchvision.utils.make_grid(images))\n",
        "print('GroundTruth: ', ' '.join('%5s' % train_df.labels[j] for j in range(4)))"
      ],
      "execution_count": 0,
      "outputs": []
    },
    {
      "cell_type": "code",
      "metadata": {
        "id": "1HdhGBTp_X4_",
        "colab_type": "code",
        "colab": {}
      },
      "source": [
        "outputs = net(images.cuda())"
      ],
      "execution_count": 0,
      "outputs": []
    },
    {
      "cell_type": "code",
      "metadata": {
        "id": "PNAGHbo0_aXX",
        "colab_type": "code",
        "colab": {}
      },
      "source": [
        "predicted = torch.sigmoid(outputs)\n",
        "#_, predicted = torch.max(outputs, 1)\n",
        "\n",
        "print('Predicted: ', ' '.join('%5s' % train_df.labels[j]\n",
        "                              for j in range(4)))"
      ],
      "execution_count": 0,
      "outputs": []
    },
    {
      "cell_type": "code",
      "metadata": {
        "id": "XEq9iyvh_xiR",
        "colab_type": "code",
        "colab": {}
      },
      "source": [
        "predicted.shape"
      ],
      "execution_count": 0,
      "outputs": []
    },
    {
      "cell_type": "code",
      "metadata": {
        "id": "KjFzcoKlOhKj",
        "colab_type": "code",
        "colab": {}
      },
      "source": [
        "class_correct = list(0. for i in range(10))\n",
        "class_total = list(0. for i in range(10))\n",
        "with torch.no_grad():\n",
        "    for data in testloader:\n",
        "        images, labels = data\n",
        "        outputs = net(images)\n",
        "        _, predicted = torch.max(outputs, 1)\n",
        "        c = (predicted == labels).squeeze()\n",
        "        for i in range(4):\n",
        "            label = labels[i]\n",
        "            class_correct[label] += c[i].item()\n",
        "            class_total[label] += 1\n",
        "\n",
        "\n",
        "for i in range(10):\n",
        "    print('Accuracy of %5s : %2d %%' % (\n",
        "        classes[i], 100 * class_correct[i] / class_total[i]))"
      ],
      "execution_count": 0,
      "outputs": []
    },
    {
      "cell_type": "code",
      "metadata": {
        "id": "ETIvsNd9OhHN",
        "colab_type": "code",
        "colab": {}
      },
      "source": [
        ""
      ],
      "execution_count": 0,
      "outputs": []
    },
    {
      "cell_type": "code",
      "metadata": {
        "id": "JkmLf_LYOhDx",
        "colab_type": "code",
        "colab": {}
      },
      "source": [
        ""
      ],
      "execution_count": 0,
      "outputs": []
    },
    {
      "cell_type": "code",
      "metadata": {
        "id": "5OEPipRdOg_v",
        "colab_type": "code",
        "colab": {}
      },
      "source": [
        ""
      ],
      "execution_count": 0,
      "outputs": []
    },
    {
      "cell_type": "code",
      "metadata": {
        "colab_type": "code",
        "id": "Wr99VOfSyA05",
        "colab": {}
      },
      "source": [
        "def train_model(x_train, y_train, train_transforms):\n",
        "    num_epochs = 118\n",
        "    batch_size = 64\n",
        "    test_batch_size = 64\n",
        "    lr_max = 7*10e-2\n",
        "    factor = 6\n",
        "    end_lr = lr_max\n",
        "    iter=0\n",
        "    total_logs = []\n",
        "    \n",
        "    #lr = 1e-3\n",
        "    #eta_min = 1e-5\n",
        "    #t_max = 5\n",
        "    \n",
        "    num_classes = y_train.shape[1]\n",
        "\n",
        "    x_trn, x_val, y_trn, y_val = train_test_split(x_train, y_train, test_size=0.2, random_state=SEED)\n",
        "    \n",
        "    train_dataset = FATTrainDataset(x_trn, y_trn, train_transforms)\n",
        "    valid_dataset = FATTrainDataset(x_val, y_val, train_transforms)\n",
        "\n",
        "    train_loader = DataLoader(train_dataset, batch_size=batch_size, shuffle=True)\n",
        "    valid_loader = DataLoader(valid_dataset, batch_size=test_batch_size, shuffle=False)\n",
        "\n",
        "    model = Classifier(num_classes=num_classes).cuda()\n",
        "    criterion = nn.BCEWithLogitsLoss()\n",
        "    optimizer = torch.optim.Adamax(model.parameters(), lr=1.)\n",
        "    step_size = 4*len(train_loader)\n",
        "    clr = cyclical_lr(step_size, min_lr=end_lr/factor, max_lr=end_lr)\n",
        "    scheduler = torch.optim.lr_scheduler.LambdaLR(optimizer, [clr])\n",
        "    #optimizer = Adam(params=model.parameters(), lr=lr, amsgrad=False)\n",
        "    #scheduler = CosineAnnealingLR(optimizer, T_max=t_max, eta_min=eta_min)\n",
        "\n",
        "    best_epoch = -1\n",
        "    best_lwlrap = 0.\n",
        "    mb = master_bar(range(num_epochs))\n",
        "\n",
        "    for epoch in mb:\n",
        "        start_time = time.time()\n",
        "        model.train()\n",
        "        avg_loss = 0.\n",
        "\n",
        "        for x_batch, y_batch in train_loader:\n",
        "            preds = model(x_batch.cuda())\n",
        "            loss = criterion(preds, y_batch.cuda())\n",
        "\n",
        "            optimizer.zero_grad()\n",
        "            loss.backward()\n",
        "            optimizer.step()\n",
        "            clip_grad_norm_(model.parameters(), 5)\n",
        "            scheduler.step()\n",
        "            lr_sched_test = scheduler.get_lr()\n",
        "\n",
        "            avg_loss += loss.item() / len(train_loader)\n",
        "\n",
        "        model.eval()\n",
        "        valid_preds = np.zeros((len(x_val), num_classes))\n",
        "        avg_val_loss = 0.\n",
        "\n",
        "        for i, (x_batch, y_batch) in enumerate(valid_loader):\n",
        "            preds = model(x_batch.cuda()).detach()\n",
        "            loss = criterion(preds, y_batch.cuda())\n",
        "\n",
        "            preds = torch.sigmoid(preds)\n",
        "            valid_preds[i * test_batch_size: (i+1) * test_batch_size] = preds.cpu().numpy()\n",
        "\n",
        "            avg_val_loss += loss.item() / len(valid_loader)\n",
        "            \n",
        "        score, weight = calculate_per_class_lwlrap(y_val, valid_preds)\n",
        "        lwlrap = (score * weight).sum()\n",
        "        \n",
        "        #scheduler.step()\n",
        "\n",
        "        if (epoch + 1) % 1 == 0:\n",
        "            elapsed = time.time() - start_time\n",
        "            mb.write(f'Epoch {epoch+1} - avg_train_loss: {avg_loss:.4f}  avg_val_loss: {avg_val_loss:.4f}  val_lwlrap: {lwlrap:.6f}  time: {elapsed:.0f}s')\n",
        "    \n",
        "        if lwlrap > best_lwlrap:\n",
        "            best_epoch = epoch + 1\n",
        "            best_lwlrap = lwlrap\n",
        "            torch.save(model.state_dict(), 'weight_best.pt')\n",
        "            \n",
        "    return {\n",
        "        'best_epoch': best_epoch,\n",
        "        'best_lwlrap': best_lwlrap,\n",
        "    }"
      ],
      "execution_count": 0,
      "outputs": []
    },
    {
      "cell_type": "code",
      "metadata": {
        "colab_type": "code",
        "id": "5eyKDWeVyA0-",
        "colab": {}
      },
      "source": [
        "result = train_model(x_train, y_train, transforms_dict['train'])"
      ],
      "execution_count": 0,
      "outputs": []
    },
    {
      "cell_type": "code",
      "metadata": {
        "colab_type": "code",
        "id": "zYMqfqXQyA1E",
        "colab": {}
      },
      "source": [
        "result"
      ],
      "execution_count": 0,
      "outputs": []
    },
    {
      "cell_type": "code",
      "metadata": {
        "id": "2-xwjRKQE2tT",
        "colab_type": "code",
        "colab": {}
      },
      "source": [
        ""
      ],
      "execution_count": 0,
      "outputs": []
    },
    {
      "cell_type": "code",
      "metadata": {
        "id": "vy886k0-E2re",
        "colab_type": "code",
        "colab": {}
      },
      "source": [
        ""
      ],
      "execution_count": 0,
      "outputs": []
    },
    {
      "cell_type": "code",
      "metadata": {
        "id": "rvJtc9DqE2pp",
        "colab_type": "code",
        "colab": {}
      },
      "source": [
        ""
      ],
      "execution_count": 0,
      "outputs": []
    },
    {
      "cell_type": "code",
      "metadata": {
        "id": "RUCVMemcE2nV",
        "colab_type": "code",
        "colab": {}
      },
      "source": [
        ""
      ],
      "execution_count": 0,
      "outputs": []
    },
    {
      "cell_type": "code",
      "metadata": {
        "id": "gdnQ8lBlE2le",
        "colab_type": "code",
        "colab": {}
      },
      "source": [
        ""
      ],
      "execution_count": 0,
      "outputs": []
    },
    {
      "cell_type": "code",
      "metadata": {
        "id": "dM7-yqOlE2ja",
        "colab_type": "code",
        "colab": {}
      },
      "source": [
        ""
      ],
      "execution_count": 0,
      "outputs": []
    },
    {
      "cell_type": "code",
      "metadata": {
        "id": "VmZ0r4YKE2hV",
        "colab_type": "code",
        "colab": {}
      },
      "source": [
        ""
      ],
      "execution_count": 0,
      "outputs": []
    },
    {
      "cell_type": "code",
      "metadata": {
        "id": "GonA-jB0E2fA",
        "colab_type": "code",
        "colab": {}
      },
      "source": [
        ""
      ],
      "execution_count": 0,
      "outputs": []
    },
    {
      "cell_type": "code",
      "metadata": {
        "id": "oAdmlfuUE2bh",
        "colab_type": "code",
        "colab": {}
      },
      "source": [
        ""
      ],
      "execution_count": 0,
      "outputs": []
    },
    {
      "cell_type": "code",
      "metadata": {
        "id": "d8lk6vu1E2L-",
        "colab_type": "code",
        "colab": {}
      },
      "source": [
        ""
      ],
      "execution_count": 0,
      "outputs": []
    },
    {
      "cell_type": "code",
      "metadata": {
        "id": "ovPWUJf9E2TQ",
        "colab_type": "code",
        "colab": {}
      },
      "source": [
        ""
      ],
      "execution_count": 0,
      "outputs": []
    },
    {
      "cell_type": "code",
      "metadata": {
        "id": "u1cVG3B2E2P-",
        "colab_type": "code",
        "colab": {}
      },
      "source": [
        ""
      ],
      "execution_count": 0,
      "outputs": []
    },
    {
      "cell_type": "markdown",
      "metadata": {
        "id": "Ti-PQPO2uNQC",
        "colab_type": "text"
      },
      "source": [
        "### 2. Pytorch"
      ]
    },
    {
      "cell_type": "markdown",
      "metadata": {
        "id": "ODeTKQbJwFuJ",
        "colab_type": "text"
      },
      "source": [
        "***Simple changes, significant improvement in lb***\n",
        "\n",
        "Now with different convolution architecture"
      ]
    },
    {
      "cell_type": "markdown",
      "metadata": {
        "id": "cjeG9zO3dKU6",
        "colab_type": "text"
      },
      "source": [
        "***Original***"
      ]
    },
    {
      "cell_type": "code",
      "metadata": {
        "id": "WcCNIj42060g",
        "colab_type": "code",
        "colab": {}
      },
      "source": [
        "import gc\n",
        "import os\n",
        "import pickle\n",
        "import random\n",
        "import time\n",
        "from collections import Counter, defaultdict\n",
        "from functools import partial\n",
        "from pathlib import Path\n",
        "from psutil import cpu_count\n",
        "\n",
        "import librosa\n",
        "import numpy as np\n",
        "import pandas as pd\n",
        "from PIL import Image\n",
        "from sklearn.model_selection import train_test_split\n",
        "#from skmultilearn.model_selection import iterative_train_test_split\n",
        "\n",
        "import torch\n",
        "import torch.nn as nn\n",
        "import torch.nn.functional as F\n",
        "from torchvision import datasets, models, transforms\n",
        "from torch.nn.utils import clip_grad_norm_, clip_grad_value_\n",
        "from torch.utils.data.sampler import SubsetRandomSampler\n",
        "import torchvision\n",
        "import torchvision.transforms as transforms\n",
        "import torchvision.models as models\n",
        "\n",
        "from fastprogress import master_bar, progress_bar\n",
        "from torch.optim import Adam\n",
        "from torch.optim.lr_scheduler import CosineAnnealingLR\n",
        "from torch.utils.data import Dataset, DataLoader\n",
        "from torchvision.transforms import transforms\n",
        "\n",
        "\n",
        "from tqdm import tqdm_notebook\n",
        "from shutil import copyfile\n",
        "import os\n",
        "import math\n",
        "import pickle\n",
        "import numpy as np\n",
        "from datetime import datetime, timedelta\n",
        "import pandas as pd\n",
        "import matplotlib.pyplot as plt\n",
        "\n",
        "import PIL\n",
        "from PIL import Image\n",
        "from collections import Counter"
      ],
      "execution_count": 0,
      "outputs": []
    },
    {
      "cell_type": "code",
      "metadata": {
        "id": "O3lWLSN7xAUy",
        "colab_type": "code",
        "colab": {}
      },
      "source": [
        "def seed_everything(seed):\n",
        "    random.seed(seed)\n",
        "    os.environ['PYTHONHASHSEED'] = str(seed)\n",
        "    np.random.seed(seed)\n",
        "    torch.manual_seed(seed)\n",
        "    torch.cuda.manual_seed(seed)\n",
        "    torch.backends.cudnn.deterministic = True\n",
        "\n",
        "SEED = 520\n",
        "seed_everything(SEED)"
      ],
      "execution_count": 0,
      "outputs": []
    },
    {
      "cell_type": "code",
      "metadata": {
        "id": "nE_bwTu3xCHH",
        "colab_type": "code",
        "colab": {}
      },
      "source": [
        "N_JOBS = cpu_count()\n",
        "os.environ['MKL_NUM_THREADS'] = str(N_JOBS)\n",
        "os.environ['OMP_NUM_THREADS'] = str(N_JOBS)\n",
        "DataLoader = partial(DataLoader, num_workers=N_JOBS)"
      ],
      "execution_count": 0,
      "outputs": []
    },
    {
      "cell_type": "code",
      "metadata": {
        "id": "_jhnnjifxCD1",
        "colab_type": "code",
        "colab": {}
      },
      "source": [
        "# from official code https://colab.research.google.com/drive/1AgPdhSp7ttY18O3fEoHOQKlt_3HJDLi8#scrollTo=cRCaCIb9oguU\n",
        "def _one_sample_positive_class_precisions(scores, truth):\n",
        "    \"\"\"Calculate precisions for each true class for a single sample.\n",
        "\n",
        "    Args:\n",
        "      scores: np.array of (num_classes,) giving the individual classifier scores.\n",
        "      truth: np.array of (num_classes,) bools indicating which classes are true.\n",
        "\n",
        "    Returns:\n",
        "      pos_class_indices: np.array of indices of the true classes for this sample.\n",
        "      pos_class_precisions: np.array of precisions corresponding to each of those\n",
        "        classes.\n",
        "    \"\"\"\n",
        "    num_classes = scores.shape[0]\n",
        "    pos_class_indices = np.flatnonzero(truth > 0)\n",
        "    # Only calculate precisions if there are some true classes.\n",
        "    if not len(pos_class_indices):\n",
        "        return pos_class_indices, np.zeros(0)\n",
        "    # Retrieval list of classes for this sample.\n",
        "    retrieved_classes = np.argsort(scores)[::-1]\n",
        "    # class_rankings[top_scoring_class_index] == 0 etc.\n",
        "    class_rankings = np.zeros(num_classes, dtype=np.int)\n",
        "    class_rankings[retrieved_classes] = range(num_classes)\n",
        "    # Which of these is a true label?\n",
        "    retrieved_class_true = np.zeros(num_classes, dtype=np.bool)\n",
        "    retrieved_class_true[class_rankings[pos_class_indices]] = True\n",
        "    # Num hits for every truncated retrieval list.\n",
        "    retrieved_cumulative_hits = np.cumsum(retrieved_class_true)\n",
        "    # Precision of retrieval list truncated at each hit, in order of pos_labels.\n",
        "    precision_at_hits = (\n",
        "            retrieved_cumulative_hits[class_rankings[pos_class_indices]] /\n",
        "            (1 + class_rankings[pos_class_indices].astype(np.float)))\n",
        "    return pos_class_indices, precision_at_hits\n",
        "\n",
        "\n",
        "def calculate_per_class_lwlrap(truth, scores):\n",
        "    \"\"\"Calculate label-weighted label-ranking average precision.\n",
        "\n",
        "    Arguments:\n",
        "      truth: np.array of (num_samples, num_classes) giving boolean ground-truth\n",
        "        of presence of that class in that sample.\n",
        "      scores: np.array of (num_samples, num_classes) giving the classifier-under-\n",
        "        test's real-valued score for each class for each sample.\n",
        "\n",
        "    Returns:\n",
        "      per_class_lwlrap: np.array of (num_classes,) giving the lwlrap for each\n",
        "        class.\n",
        "      weight_per_class: np.array of (num_classes,) giving the prior of each\n",
        "        class within the truth labels.  Then the overall unbalanced lwlrap is\n",
        "        simply np.sum(per_class_lwlrap * weight_per_class)\n",
        "    \"\"\"\n",
        "    assert truth.shape == scores.shape\n",
        "    num_samples, num_classes = scores.shape\n",
        "    # Space to store a distinct precision value for each class on each sample.\n",
        "    # Only the classes that are true for each sample will be filled in.\n",
        "    precisions_for_samples_by_classes = np.zeros((num_samples, num_classes))\n",
        "    for sample_num in range(num_samples):\n",
        "        pos_class_indices, precision_at_hits = (\n",
        "            _one_sample_positive_class_precisions(scores[sample_num, :],\n",
        "                                                  truth[sample_num, :]))\n",
        "        precisions_for_samples_by_classes[sample_num, pos_class_indices] = (\n",
        "            precision_at_hits)\n",
        "    labels_per_class = np.sum(truth > 0, axis=0)\n",
        "    weight_per_class = labels_per_class / float(np.sum(labels_per_class))\n",
        "    # Form average of each column, i.e. all the precisions assigned to labels in\n",
        "    # a particular class.\n",
        "    per_class_lwlrap = (np.sum(precisions_for_samples_by_classes, axis=0) /\n",
        "                        np.maximum(1, labels_per_class))\n",
        "    # overall_lwlrap = simple average of all the actual per-class, per-sample precisions\n",
        "    #                = np.sum(precisions_for_samples_by_classes) / np.sum(precisions_for_samples_by_classes > 0)\n",
        "    #           also = weighted mean of per-class lwlraps, weighted by class label prior across samples\n",
        "    #                = np.sum(per_class_lwlrap * weight_per_class)\n",
        "    return per_class_lwlrap, weight_per_class"
      ],
      "execution_count": 0,
      "outputs": []
    },
    {
      "cell_type": "code",
      "metadata": {
        "id": "UthfHLBOxCA_",
        "colab_type": "code",
        "colab": {}
      },
      "source": [
        "dataset_dir = Path('data')\n",
        "preprocessed_dir = Path('data')"
      ],
      "execution_count": 0,
      "outputs": []
    },
    {
      "cell_type": "code",
      "metadata": {
        "id": "n3gdnVV-xB-X",
        "colab_type": "code",
        "colab": {}
      },
      "source": [
        "csvs = {\n",
        "    'train_curated': dataset_dir / 'train_curated.csv',\n",
        "    #'train_noisy': dataset_dir / 'train_noisy.csv',\n",
        "    'train_noisy': preprocessed_dir / 'trn_noisy_best50s.csv',\n",
        "    'sample_submission': dataset_dir / 'sample_submission.csv',\n",
        "}\n",
        "\n",
        "dataset = {\n",
        "    'train_curated': dataset_dir / 'train_curated',\n",
        "    'train_noisy': dataset_dir / 'train_noisy',\n",
        "    'test': dataset_dir / 'test',\n",
        "}\n",
        "\n",
        "mels = {\n",
        "    'train_curated': preprocessed_dir / 'mels_train_curated.pkl',\n",
        "    'train_noisy': preprocessed_dir / 'mels_trn_noisy_best50s.pkl',\n",
        "    'test': preprocessed_dir / 'mels_test.pkl',  # NOTE: this data doesn't work at 2nd stage\n",
        "}"
      ],
      "execution_count": 0,
      "outputs": []
    },
    {
      "cell_type": "code",
      "metadata": {
        "id": "JK4Xhj0IxB7S",
        "colab_type": "code",
        "colab": {}
      },
      "source": [
        "train_curated = pd.read_csv(csvs['train_curated'])\n",
        "train_noisy = pd.read_csv(csvs['train_noisy'])\n",
        "train_df = pd.concat([train_curated, train_noisy], sort=True, ignore_index=True)\n",
        "train_df.head()"
      ],
      "execution_count": 0,
      "outputs": []
    },
    {
      "cell_type": "code",
      "metadata": {
        "id": "ySDLo2fTxB4x",
        "colab_type": "code",
        "colab": {}
      },
      "source": [
        "test_df = pd.read_csv(csvs['sample_submission'])\n",
        "test_df.head()"
      ],
      "execution_count": 0,
      "outputs": []
    },
    {
      "cell_type": "code",
      "metadata": {
        "id": "JK8cx8TbxTKI",
        "colab_type": "code",
        "colab": {}
      },
      "source": [
        "labels = test_df.columns[1:].tolist()\n",
        "labels"
      ],
      "execution_count": 0,
      "outputs": []
    },
    {
      "cell_type": "code",
      "metadata": {
        "id": "qb4t9AiIxTG-",
        "colab_type": "code",
        "colab": {}
      },
      "source": [
        "num_classes = len(labels)\n",
        "num_classes"
      ],
      "execution_count": 0,
      "outputs": []
    },
    {
      "cell_type": "code",
      "metadata": {
        "id": "Q9s5PMk_xTEM",
        "colab_type": "code",
        "colab": {}
      },
      "source": [
        "y_train = np.zeros((len(train_df), num_classes)).astype(int)\n",
        "for i, row in enumerate(train_df['labels'].str.split(',')):\n",
        "    for label in row:\n",
        "        idx = labels.index(label)\n",
        "        y_train[i, idx] = 1\n",
        "\n",
        "y_train.shape"
      ],
      "execution_count": 0,
      "outputs": []
    },
    {
      "cell_type": "code",
      "metadata": {
        "id": "0Dc941ZJxS_4",
        "colab_type": "code",
        "colab": {}
      },
      "source": [
        "with open(mels['train_curated'], 'rb') as curated, open(mels['train_noisy'], 'rb') as noisy:\n",
        "    x_train = pickle.load(curated)\n",
        "    x_train.extend(pickle.load(noisy))\n",
        "\n",
        "with open(mels['test'], 'rb') as test:\n",
        "    x_test = pickle.load(test)\n",
        "    \n",
        "len(x_train), len(x_test)"
      ],
      "execution_count": 0,
      "outputs": []
    },
    {
      "cell_type": "code",
      "metadata": {
        "id": "w_s03oyidDhi",
        "colab_type": "code",
        "colab": {}
      },
      "source": [
        "class FATTrainDataset(Dataset):\n",
        "    def __init__(self, mels, labels, transforms):\n",
        "        super().__init__()\n",
        "        self.mels = mels\n",
        "        self.labels = labels\n",
        "        self.transforms = transforms\n",
        "        \n",
        "    def __len__(self):\n",
        "        return len(self.mels)\n",
        "    \n",
        "    def __getitem__(self, idx):\n",
        "        # crop 1sec\n",
        "        image = Image.fromarray(self.mels[idx], mode='RGB')        \n",
        "        time_dim, base_dim = image.size\n",
        "        crop = random.randint(0, time_dim - base_dim)\n",
        "        image = image.crop([crop, 0, crop + base_dim, base_dim])\n",
        "        image = self.transforms(image).div_(255)\n",
        "        \n",
        "        label = self.labels[idx]\n",
        "        label = torch.from_numpy(label).float()\n",
        "        \n",
        "        return image, label"
      ],
      "execution_count": 0,
      "outputs": []
    },
    {
      "cell_type": "code",
      "metadata": {
        "id": "PNM6N9X_dF24",
        "colab_type": "code",
        "colab": {}
      },
      "source": [
        "class FATTestDataset(Dataset):\n",
        "    def __init__(self, fnames, mels, transforms, tta=5):\n",
        "        super().__init__()\n",
        "        self.fnames = fnames\n",
        "        self.mels = mels\n",
        "        self.transforms = transforms\n",
        "        self.tta = tta\n",
        "        \n",
        "    def __len__(self):\n",
        "        return len(self.fnames) * self.tta\n",
        "    \n",
        "    def __getitem__(self, idx):\n",
        "        new_idx = idx % len(self.fnames)\n",
        "        \n",
        "        image = Image.fromarray(self.mels[new_idx], mode='RGB')\n",
        "        time_dim, base_dim = image.size\n",
        "        crop = random.randint(0, time_dim - base_dim)\n",
        "        image = image.crop([crop, 0, crop + base_dim, base_dim])\n",
        "        image = self.transforms(image).div_(255)\n",
        "\n",
        "        fname = self.fnames[new_idx]\n",
        "        \n",
        "        return image, fname"
      ],
      "execution_count": 0,
      "outputs": []
    },
    {
      "cell_type": "code",
      "metadata": {
        "id": "QU0ec8A59bpy",
        "colab_type": "code",
        "colab": {}
      },
      "source": [
        "transforms_dict = {\n",
        "    'train': transforms.Compose([\n",
        "        transforms.RandomRotation(10),\n",
        "        transforms.ToTensor(),\n",
        "    ]),\n",
        "    'test': transforms.Compose([\n",
        "        transforms.ToTensor(),\n",
        "    ]),\n",
        "}"
      ],
      "execution_count": 0,
      "outputs": []
    },
    {
      "cell_type": "code",
      "metadata": {
        "id": "qqGEUePx3ARM",
        "colab_type": "code",
        "colab": {}
      },
      "source": [
        "class CNN(nn.Module):\n",
        "    def __init__(self):\n",
        "        super(CNN, self).__init__()\n",
        "        self.layer1 = nn.Sequential(\n",
        "            nn.Conv2d(3, 64, kernel_size=5, padding=2),\n",
        "            nn.BatchNorm2d(64),\n",
        "            nn.ReLU(),\n",
        "            nn.MaxPool2d(2))\n",
        "        \n",
        "        self.layer2 = nn.Sequential(\n",
        "            nn.Conv2d(64, 128, kernel_size=5, padding=2),\n",
        "            nn.BatchNorm2d(128),\n",
        "            nn.ReLU(),\n",
        "            nn.MaxPool2d(2))\n",
        "        \n",
        "        self.layer3 = nn.Sequential(\n",
        "            nn.Conv2d(128, 256, kernel_size=5, padding=2),\n",
        "            nn.BatchNorm2d(256),\n",
        "            nn.ReLU(),\n",
        "            nn.MaxPool2d(2))\n",
        "        \n",
        "        self.fc_layers = nn.Sequential(\n",
        "            nn.Linear(65536, 1024),\n",
        "            nn.LeakyReLU(),\n",
        "            nn.Dropout(0.3),\n",
        "            nn.Linear(1024,80)\n",
        "        )\n",
        "        \n",
        "    def forward(self, x):\n",
        "        out = self.layer1(x)\n",
        "        out = self.layer2(out)\n",
        "        out = self.layer3(out)\n",
        "        out = out.view(out.size(0), -1)\n",
        "        out = self.fc_layers(out)\n",
        "        return out"
      ],
      "execution_count": 0,
      "outputs": []
    },
    {
      "cell_type": "code",
      "metadata": {
        "id": "Ix4tKLxH3iTp",
        "colab_type": "code",
        "colab": {}
      },
      "source": [
        "def train_model(x_train, y_train, train_transforms):\n",
        "    num_epochs = 120\n",
        "    batch_size = 64\n",
        "    test_batch_size = 64\n",
        "    lr = 1e-3\n",
        "    eta_min = 1e-5\n",
        "    t_max = 10\n",
        "    \n",
        "    num_classes = y_train.shape[1]\n",
        "\n",
        "    x_trn, x_val, y_trn, y_val = train_test_split(x_train, y_train, test_size=0.2, random_state=SEED)\n",
        "    \n",
        "    train_dataset = FATTrainDataset(x_trn, y_trn, train_transforms)\n",
        "    valid_dataset = FATTrainDataset(x_val, y_val, train_transforms)\n",
        "\n",
        "    train_loader = DataLoader(train_dataset, batch_size=batch_size, shuffle=True)\n",
        "    valid_loader = DataLoader(valid_dataset, batch_size=test_batch_size, shuffle=False)\n",
        "\n",
        "    model = CNN().cuda()\n",
        "    criterion = nn.BCEWithLogitsLoss().cuda()\n",
        "    optimizer = Adam(params=model.parameters(), lr=lr, amsgrad=False)\n",
        "    scheduler = CosineAnnealingLR(optimizer, T_max=t_max, eta_min=eta_min)\n",
        "\n",
        "    best_epoch = -1\n",
        "    best_lwlrap = 0.\n",
        "    mb = master_bar(range(num_epochs))\n",
        "\n",
        "    for epoch in mb:\n",
        "        start_time = time.time()\n",
        "        model.train()\n",
        "        avg_loss = 0.\n",
        "\n",
        "#         for x_batch, y_batch in progress_bar(train_loader, parent=mb):\n",
        "        for x_batch, y_batch in train_loader:\n",
        "            preds = model(x_batch.cuda())\n",
        "            loss = criterion(preds, y_batch.cuda())\n",
        "\n",
        "            optimizer.zero_grad()\n",
        "            loss.backward()\n",
        "            optimizer.step()\n",
        "\n",
        "            avg_loss += loss.item() / len(train_loader)\n",
        "\n",
        "        model.eval()\n",
        "        valid_preds = np.zeros((len(x_val), num_classes))\n",
        "        avg_val_loss = 0.\n",
        "\n",
        "        for i, (x_batch, y_batch) in enumerate(valid_loader):\n",
        "            preds = model(x_batch.cuda()).detach()\n",
        "            loss = criterion(preds, y_batch.cuda())\n",
        "\n",
        "            preds = torch.sigmoid(preds)\n",
        "            valid_preds[i * test_batch_size: (i+1) * test_batch_size] = preds.cpu().numpy()\n",
        "\n",
        "            avg_val_loss += loss.item() / len(valid_loader)\n",
        "            \n",
        "        score, weight = calculate_per_class_lwlrap(y_val, valid_preds)\n",
        "        lwlrap = (score * weight).sum()\n",
        "        \n",
        "        scheduler.step()\n",
        "\n",
        "        if (epoch + 1) % 1 == 0:\n",
        "            elapsed = time.time() - start_time\n",
        "            mb.write(f'Epoch {epoch+1} - avg_train_loss: {avg_loss:.4f}  avg_val_loss: {avg_val_loss:.4f}  val_lwlrap: {lwlrap:.6f}  time: {elapsed:.0f}s')\n",
        "    \n",
        "        if lwlrap > best_lwlrap:\n",
        "            best_epoch = epoch + 1\n",
        "            best_lwlrap = lwlrap\n",
        "            torch.save(model.state_dict(), 'weight_best.pt')\n",
        "            \n",
        "    return {\n",
        "        'best_epoch': best_epoch,\n",
        "        'best_lwlrap': best_lwlrap,\n",
        "    }"
      ],
      "execution_count": 0,
      "outputs": []
    },
    {
      "cell_type": "code",
      "metadata": {
        "colab_type": "code",
        "id": "q5b7UA6a3wqY",
        "colab": {}
      },
      "source": [
        "result = train_model(x_train, y_train, transforms_dict['train'])"
      ],
      "execution_count": 0,
      "outputs": []
    },
    {
      "cell_type": "code",
      "metadata": {
        "colab_type": "code",
        "id": "S821wBNK3wqe",
        "colab": {}
      },
      "source": [
        "result"
      ],
      "execution_count": 0,
      "outputs": []
    },
    {
      "cell_type": "code",
      "metadata": {
        "id": "NpvM6BA-dSBM",
        "colab_type": "code",
        "colab": {}
      },
      "source": [
        "class ConvBlock(nn.Module):\n",
        "    def __init__(self, in_channels, out_channels):\n",
        "        super().__init__()\n",
        "        \n",
        "        self.conv1 = nn.Sequential(\n",
        "            nn.Conv2d(in_channels, out_channels, 3, 1, 1),\n",
        "            nn.BatchNorm2d(out_channels),\n",
        "            nn.ReLU(),\n",
        "        )\n",
        "        self.conv2 = nn.Sequential(\n",
        "            nn.Conv2d(out_channels, out_channels, 3, 1, 1),\n",
        "            nn.BatchNorm2d(out_channels),\n",
        "            nn.ReLU(),\n",
        "        )\n",
        "\n",
        "        self._init_weights()\n",
        "        \n",
        "    def _init_weights(self):\n",
        "        for m in self.modules():\n",
        "            if isinstance(m, nn.Conv2d):\n",
        "                nn.init.kaiming_normal_(m.weight)\n",
        "                if m.bias is not None:\n",
        "                    nn.init.zeros_(m.bias)\n",
        "            elif isinstance(m, nn.BatchNorm2d):\n",
        "                nn.init.constant_(m.weight, 1)\n",
        "                nn.init.zeros_(m.bias)\n",
        "        \n",
        "    def forward(self, x):\n",
        "        x = self.conv1(x)\n",
        "        x = self.conv2(x)\n",
        "        x = F.avg_pool2d(x, 2)\n",
        "        return x"
      ],
      "execution_count": 0,
      "outputs": []
    },
    {
      "cell_type": "code",
      "metadata": {
        "id": "-e_JqCpfdR9C",
        "colab_type": "code",
        "colab": {}
      },
      "source": [
        "class Classifier(nn.Module):\n",
        "    def __init__(self, num_classes):\n",
        "        super().__init__()\n",
        "        \n",
        "        self.conv = nn.Sequential(\n",
        "            ConvBlock(in_channels=3, out_channels=64),\n",
        "            ConvBlock(in_channels=64, out_channels=128),\n",
        "            ConvBlock(in_channels=128, out_channels=256),\n",
        "            ConvBlock(in_channels=256, out_channels=512),\n",
        "        )\n",
        "        \n",
        "        self.fc = nn.Sequential(\n",
        "            nn.Dropout(0.2),\n",
        "            nn.Linear(512, 128),\n",
        "            nn.PReLU(),\n",
        "            nn.BatchNorm1d(128),\n",
        "            nn.Dropout(0.1),\n",
        "            nn.Linear(128, num_classes),\n",
        "        )\n",
        "\n",
        "    def forward(self, x):\n",
        "        x = self.conv(x)\n",
        "        x = torch.mean(x, dim=3)\n",
        "        x, _ = torch.max(x, dim=2)\n",
        "        x = self.fc(x)\n",
        "        return x"
      ],
      "execution_count": 0,
      "outputs": []
    },
    {
      "cell_type": "code",
      "metadata": {
        "id": "dFbhsmSHdR2Z",
        "colab_type": "code",
        "colab": {}
      },
      "source": [
        "Classifier(num_classes=num_classes)"
      ],
      "execution_count": 0,
      "outputs": []
    },
    {
      "cell_type": "code",
      "metadata": {
        "id": "e4v0mHvpSrC9",
        "colab_type": "code",
        "colab": {}
      },
      "source": [
        "def cyclical_lr(stepsize, min_lr=7e-1, max_lr=7e-2):\n",
        "\n",
        "    # Scaler: we can adapt this if we do not want the triangular CLR\n",
        "    scaler = lambda x: 1.\n",
        "\n",
        "    # Lambda function to calculate the LR\n",
        "    lr_lambda = lambda it: min_lr + (max_lr - min_lr) * relative(it, stepsize)\n",
        "\n",
        "    # Additional function to see where on the cycle we are\n",
        "    def relative(it, stepsize):\n",
        "        cycle = math.floor(1 + it / (2 * stepsize))\n",
        "        x = abs(it / stepsize - 2 * cycle + 1)\n",
        "        return max(0, (1 - x)) * scaler(cycle)\n",
        "\n",
        "    return lr_lambda"
      ],
      "execution_count": 0,
      "outputs": []
    },
    {
      "cell_type": "code",
      "metadata": {
        "id": "KRa1FcYydRqC",
        "colab_type": "code",
        "colab": {}
      },
      "source": [
        "def train_model(x_train, y_train, train_transforms):\n",
        "    num_epochs = 118\n",
        "    batch_size = 64\n",
        "    test_batch_size = 64\n",
        "    lr_max = 7*10e-2\n",
        "    factor = 6\n",
        "    end_lr = lr_max\n",
        "    iter=0\n",
        "    total_logs = []\n",
        "    \n",
        "    #lr = 1e-3\n",
        "    #eta_min = 1e-5\n",
        "    #t_max = 5\n",
        "    \n",
        "    num_classes = y_train.shape[1]\n",
        "\n",
        "    x_trn, x_val, y_trn, y_val = train_test_split(x_train, y_train, test_size=0.2, random_state=SEED)\n",
        "    \n",
        "    train_dataset = FATTrainDataset(x_trn, y_trn, train_transforms)\n",
        "    valid_dataset = FATTrainDataset(x_val, y_val, train_transforms)\n",
        "\n",
        "    train_loader = DataLoader(train_dataset, batch_size=batch_size, shuffle=True)\n",
        "    valid_loader = DataLoader(valid_dataset, batch_size=test_batch_size, shuffle=False)\n",
        "\n",
        "    model = Classifier(num_classes=num_classes).cuda()\n",
        "    criterion = nn.BCEWithLogitsLoss()\n",
        "    optimizer = torch.optim.Adamax(model.parameters(), lr=1.)\n",
        "    step_size = 4*len(train_loader)\n",
        "    clr = cyclical_lr(step_size, min_lr=end_lr/factor, max_lr=end_lr)\n",
        "    scheduler = torch.optim.lr_scheduler.LambdaLR(optimizer, [clr])\n",
        "    #optimizer = Adam(params=model.parameters(), lr=lr, amsgrad=False)\n",
        "    #scheduler = CosineAnnealingLR(optimizer, T_max=t_max, eta_min=eta_min)\n",
        "\n",
        "    best_epoch = -1\n",
        "    best_lwlrap = 0.\n",
        "    mb = master_bar(range(num_epochs))\n",
        "\n",
        "    for epoch in mb:\n",
        "        start_time = time.time()\n",
        "        model.train()\n",
        "        avg_loss = 0.\n",
        "\n",
        "        for x_batch, y_batch in train_loader:\n",
        "            preds = model(x_batch.cuda())\n",
        "            loss = criterion(preds, y_batch.cuda())\n",
        "\n",
        "            optimizer.zero_grad()\n",
        "            loss.backward()\n",
        "            optimizer.step()\n",
        "            clip_grad_norm_(model.parameters(), 5)\n",
        "            scheduler.step()\n",
        "            lr_sched_test = scheduler.get_lr()\n",
        "\n",
        "            avg_loss += loss.item() / len(train_loader)\n",
        "\n",
        "        model.eval()\n",
        "        valid_preds = np.zeros((len(x_val), num_classes))\n",
        "        avg_val_loss = 0.\n",
        "\n",
        "        for i, (x_batch, y_batch) in enumerate(valid_loader):\n",
        "            preds = model(x_batch.cuda()).detach()\n",
        "            loss = criterion(preds, y_batch.cuda())\n",
        "\n",
        "            preds = torch.sigmoid(preds)\n",
        "            valid_preds[i * test_batch_size: (i+1) * test_batch_size] = preds.cpu().numpy()\n",
        "\n",
        "            avg_val_loss += loss.item() / len(valid_loader)\n",
        "            \n",
        "        score, weight = calculate_per_class_lwlrap(y_val, valid_preds)\n",
        "        lwlrap = (score * weight).sum()\n",
        "        \n",
        "        #scheduler.step()\n",
        "\n",
        "        if (epoch + 1) % 1 == 0:\n",
        "            elapsed = time.time() - start_time\n",
        "            mb.write(f'Epoch {epoch+1} - avg_train_loss: {avg_loss:.4f}  avg_val_loss: {avg_val_loss:.4f}  val_lwlrap: {lwlrap:.6f}  time: {elapsed:.0f}s')\n",
        "    \n",
        "        if lwlrap > best_lwlrap:\n",
        "            best_epoch = epoch + 1\n",
        "            best_lwlrap = lwlrap\n",
        "            torch.save(model.state_dict(), 'weight_best.pt')\n",
        "            \n",
        "    return {\n",
        "        'best_epoch': best_epoch,\n",
        "        'best_lwlrap': best_lwlrap,\n",
        "    }"
      ],
      "execution_count": 0,
      "outputs": []
    },
    {
      "cell_type": "code",
      "metadata": {
        "id": "ey6hdbHzdRim",
        "colab_type": "code",
        "colab": {}
      },
      "source": [
        "result = train_model(x_train, y_train, transforms_dict['train'])"
      ],
      "execution_count": 0,
      "outputs": []
    },
    {
      "cell_type": "code",
      "metadata": {
        "id": "5eatWK78dRRh",
        "colab_type": "code",
        "colab": {}
      },
      "source": [
        "result"
      ],
      "execution_count": 0,
      "outputs": []
    },
    {
      "cell_type": "markdown",
      "metadata": {
        "id": "O5P3LRRfB9Kd",
        "colab_type": "text"
      },
      "source": [
        "## Different approachs"
      ]
    },
    {
      "cell_type": "markdown",
      "metadata": {
        "id": "3GrsWQAAdftZ",
        "colab_type": "text"
      },
      "source": [
        "### Data augmentation"
      ]
    },
    {
      "cell_type": "code",
      "metadata": {
        "id": "oN1r6thl-9-U",
        "colab_type": "code",
        "colab": {}
      },
      "source": [
        "#0.642\n",
        "transforms_dict = {\n",
        "    'train': transforms.Compose([\n",
        "        transforms.RandomRotation(10),\n",
        "        transforms.ToTensor(),\n",
        "    ]),\n",
        "    'test': transforms.Compose([\n",
        "        transforms.ToTensor(),\n",
        "    ]),\n",
        "}"
      ],
      "execution_count": 0,
      "outputs": []
    },
    {
      "cell_type": "code",
      "metadata": {
        "id": "mVjzwkla_FnQ",
        "colab_type": "code",
        "colab": {}
      },
      "source": [
        "#0.639\n",
        "transforms_dict = {\n",
        "    'train': transforms.Compose([\n",
        "        transforms.ColorJitter(brightness=0.05),\n",
        "        transforms.ToTensor(),\n",
        "    ]),\n",
        "    'test': transforms.Compose([\n",
        "        transforms.ToTensor(),\n",
        "    ]),\n",
        "}"
      ],
      "execution_count": 0,
      "outputs": []
    },
    {
      "cell_type": "code",
      "metadata": {
        "id": "xPhbp89NCHvS",
        "colab_type": "code",
        "colab": {}
      },
      "source": [
        "#data augmentation to be applied\n",
        "\n",
        "old_im = Image.fromarray(x_train[0], mode='RGB')        \n",
        "old_size = old_im.size\n",
        "\n",
        "desired_size=448\n",
        "\n",
        "ratio = float(desired_size)/max(old_size)\n",
        "\n",
        "new_size = (448, 448)\n",
        "\n",
        "im = old_im.resize(new_size, Image.ANTIALIAS)\n",
        "\n",
        "new_im = Image.new(\"RGB\", (desired_size, desired_size))\n",
        "\n",
        "new_im.paste(im, ((desired_size-new_size[0])//2,\n",
        "                    (desired_size-new_size[1])//2))\n",
        "new_im.show()"
      ],
      "execution_count": 0,
      "outputs": []
    },
    {
      "cell_type": "code",
      "metadata": {
        "id": "DzNNDtlKCLL9",
        "colab_type": "code",
        "colab": {}
      },
      "source": [
        "#Augmentation:\n",
        "transforms_dict = {\n",
        "    'train': transforms.Compose([\n",
        "        transforms.RandomRotation(10),\n",
        "        transforms.ToTensor(),\n",
        "    ]),\n",
        "    'test': transforms.Compose([\n",
        "        transforms.RandomHorizontalFlip(0.5),\n",
        "        transforms.ToTensor(),\n",
        "    ]),\n",
        "}"
      ],
      "execution_count": 0,
      "outputs": []
    },
    {
      "cell_type": "markdown",
      "metadata": {
        "id": "L4QeSDI_M-lF",
        "colab_type": "text"
      },
      "source": [
        "***Increase model accuracy***"
      ]
    },
    {
      "cell_type": "code",
      "metadata": {
        "id": "xHWaDE-mqNJw",
        "colab_type": "code",
        "colab": {}
      },
      "source": [
        "#https://becominghuman.ai/data-augmentation-using-fastai-aefa88ca03f1\n",
        "#1st augmentation:\n",
        "transforms_basic    = [RandomRotate(10), RandomLighting(0.05, 0.05)] \n",
        "transforms_side_on  = transforms_basic + [RandomFlip()] \n",
        "transforms_top_down = transforms_basic + [RandomDihedral()]"
      ],
      "execution_count": 0,
      "outputs": []
    },
    {
      "cell_type": "markdown",
      "metadata": {
        "id": "vLLM6Ut4fXzx",
        "colab_type": "text"
      },
      "source": [
        "***Experiment list:***"
      ]
    },
    {
      "cell_type": "code",
      "metadata": {
        "colab_type": "code",
        "id": "UJYil2unfaMP",
        "colab": {}
      },
      "source": [
        "#1st:\n",
        "transforms_dict = {\n",
        "    'train': transforms.Compose([\n",
        "        transforms.RandomRotation(10),\n",
        "        transforms.ToTensor(),\n",
        "    ]),\n",
        "    'test': transforms.Compose([\n",
        "        transforms.ToTensor(),\n",
        "    ]),\n",
        "}"
      ],
      "execution_count": 0,
      "outputs": []
    },
    {
      "cell_type": "code",
      "metadata": {
        "colab_type": "code",
        "id": "dMWYtD9afaMU",
        "colab": {}
      },
      "source": [
        "#2nd:\n",
        "transforms_dict = {\n",
        "    'train': transforms.Compose([\n",
        "        transforms.ColorJitter(brightness=0.05, contrast=0.05, saturation=0.05, hue=0.05),\n",
        "        transforms.ToTensor(),\n",
        "    ]),\n",
        "    'test': transforms.Compose([\n",
        "        transforms.ToTensor(),\n",
        "    ]),\n",
        "}"
      ],
      "execution_count": 0,
      "outputs": []
    },
    {
      "cell_type": "code",
      "metadata": {
        "colab_type": "code",
        "id": "eVEwuiqSfaMX",
        "colab": {}
      },
      "source": [
        "#transform basic:\n",
        "transforms_dict = {\n",
        "    'train': transforms.Compose([\n",
        "        transforms.RandomRotation(10),\n",
        "        transforms.ColorJitter(brightness=0.05, contrast=0.05, saturation=0.05, hue=0.05),\n",
        "        transforms.ToTensor(),\n",
        "    ]),\n",
        "    'test': transforms.Compose([\n",
        "        transforms.ToTensor(),\n",
        "    ]),\n",
        "}"
      ],
      "execution_count": 0,
      "outputs": []
    },
    {
      "cell_type": "code",
      "metadata": {
        "id": "udxJpclShAJ1",
        "colab_type": "code",
        "colab": {}
      },
      "source": [
        "#4th:\n",
        "transforms_dict = {\n",
        "    'train': transforms.Compose([\n",
        "        transforms.RandomHorizontalFlip(),\n",
        "        transforms.ToTensor(),\n",
        "    ]),\n",
        "    'test': transforms.Compose([\n",
        "        transforms.ToTensor(),\n",
        "    ]),\n",
        "}"
      ],
      "execution_count": 0,
      "outputs": []
    },
    {
      "cell_type": "code",
      "metadata": {
        "id": "cJN1Ltv6kaDn",
        "colab_type": "code",
        "colab": {}
      },
      "source": [
        "#5th:\n",
        "transforms_dict = {\n",
        "    'train': transforms.Compose([\n",
        "        transforms.RandomVerticalFlip(),\n",
        "        transforms.ToTensor(),\n",
        "    ]),\n",
        "    'test': transforms.Compose([\n",
        "        transforms.ToTensor(),\n",
        "    ]),\n",
        "}"
      ],
      "execution_count": 0,
      "outputs": []
    },
    {
      "cell_type": "code",
      "metadata": {
        "id": "NrANS8cohML3",
        "colab_type": "code",
        "colab": {}
      },
      "source": [
        "#both flip:\n",
        "#6th:\n",
        "transforms_dict = {\n",
        "    'train': transforms.Compose([\n",
        "        transforms.RandomHorizontalFlip(),\n",
        "        transforms.RandomVerticalFlip(),\n",
        "        transforms.ToTensor(),\n",
        "    ]),\n",
        "    'test': transforms.Compose([\n",
        "        transforms.ToTensor(),\n",
        "    ]),\n",
        "}"
      ],
      "execution_count": 0,
      "outputs": []
    },
    {
      "cell_type": "code",
      "metadata": {
        "id": "64QXmwBVli5S",
        "colab_type": "code",
        "colab": {}
      },
      "source": [
        "#basic + flip: side_on no vertical flip\n",
        "#7th:\n",
        "transforms_dict = {\n",
        "    'train': transforms.Compose([\n",
        "        transforms.RandomRotation(10),\n",
        "        transforms.ColorJitter(brightness=0.05, contrast=0.05, saturation=0.05, hue=0.05),\n",
        "        transforms.RandomHorizontalFlip(),\n",
        "        #transforms.RandomVerticalFlip(),\n",
        "        transforms.ToTensor(),\n",
        "    ]),\n",
        "    'test': transforms.Compose([\n",
        "        transforms.ToTensor(),\n",
        "    ]),\n",
        "}\n"
      ],
      "execution_count": 0,
      "outputs": []
    },
    {
      "cell_type": "code",
      "metadata": {
        "id": "OncoWyEsl8-P",
        "colab_type": "code",
        "colab": {}
      },
      "source": [
        "#basic + flip: side_on with vertical flip\n",
        "#7th:\n",
        "transforms_dict = {\n",
        "    'train': transforms.Compose([\n",
        "        transforms.RandomRotation(10),\n",
        "        transforms.ColorJitter(brightness=0.05, contrast=0.05, saturation=0.05, hue=0.05),\n",
        "        #transforms.RandomHorizontalFlip(),\n",
        "        transforms.RandomVerticalFlip(),\n",
        "        transforms.ToTensor(),\n",
        "    ]),\n",
        "    'test': transforms.Compose([\n",
        "        transforms.ToTensor(),\n",
        "    ]),\n",
        "}\n"
      ],
      "execution_count": 0,
      "outputs": []
    },
    {
      "cell_type": "code",
      "metadata": {
        "id": "5JNurAxLmAgQ",
        "colab_type": "code",
        "colab": {}
      },
      "source": [
        "#basic + flip: side_on both flip\n",
        "#7th:\n",
        "transforms_dict = {\n",
        "    'train': transforms.Compose([\n",
        "        transforms.RandomRotation(10),\n",
        "        transforms.ColorJitter(brightness=0.05, contrast=0.05, saturation=0.05, hue=0.05),\n",
        "        #transforms.RandomHorizontalFlip(),\n",
        "        transforms.RandomVerticalFlip(),\n",
        "        transforms.ToTensor(),\n",
        "    ]),\n",
        "    'test': transforms.Compose([\n",
        "        transforms.ToTensor(),\n",
        "    ]),\n",
        "}\n"
      ],
      "execution_count": 0,
      "outputs": []
    },
    {
      "cell_type": "code",
      "metadata": {
        "id": "-S_soiWlj74O",
        "colab_type": "code",
        "colab": {}
      },
      "source": [
        "#7th:dihedral??\n",
        "transforms_dict = {\n",
        "    'train': transforms.Compose([\n",
        "        transforms.RandomRotation(90),\n",
        "        transforms.ToTensor(),\n",
        "    ]),\n",
        "    'test': transforms.Compose([\n",
        "        transforms.ToTensor(),\n",
        "    ]),\n",
        "}"
      ],
      "execution_count": 0,
      "outputs": []
    },
    {
      "cell_type": "code",
      "metadata": {
        "id": "ineVWzWGiiBW",
        "colab_type": "code",
        "colab": {}
      },
      "source": [
        "#dihedral\n",
        "def dihedral(x, dih):\n",
        "    \"\"\" Perform any of 8 permutations of 90-degrees rotations or flips for image x. \"\"\"\n",
        "    x = np.rot90(x, dih%4)\n",
        "    return x if dih<4 else np.fliplr(x)"
      ],
      "execution_count": 0,
      "outputs": []
    },
    {
      "cell_type": "code",
      "metadata": {
        "id": "ub_VVm8Jij25",
        "colab_type": "code",
        "colab": {}
      },
      "source": [
        "#dihedral class:\n",
        "class Dihedral(object):\n",
        "  \"\"\" Perform any of 8 permutations of 90-degrees rotations or flips for image x. \"\"\"\n"
      ],
      "execution_count": 0,
      "outputs": []
    },
    {
      "cell_type": "code",
      "metadata": {
        "id": "PDgnY7xmxbAw",
        "colab_type": "code",
        "colab": {}
      },
      "source": [
        "class FATTrainDataset(Dataset):\n",
        "    def __init__(self, mels, labels, transforms):\n",
        "        super().__init__()\n",
        "        self.mels = mels\n",
        "        self.labels = labels\n",
        "        self.transforms = transforms\n",
        "        \n",
        "    def __len__(self):\n",
        "        return len(self.mels)\n",
        "    \n",
        "    def __getitem__(self, idx):\n",
        "        # crop 1sec\n",
        "        image = Image.fromarray(self.mels[idx], mode='RGB')        \n",
        "        time_dim, base_dim = image.size\n",
        "        crop = random.randint(0, time_dim - base_dim)\n",
        "        image = image.crop([crop, 0, crop + base_dim, base_dim])\n",
        "        image = self.transforms(image).div_(255)\n",
        "        \n",
        "        label = self.labels[idx]\n",
        "        label = torch.from_numpy(label).float()\n",
        "        \n",
        "        return image, label"
      ],
      "execution_count": 0,
      "outputs": []
    },
    {
      "cell_type": "code",
      "metadata": {
        "id": "QXY5NQZTRlex",
        "colab_type": "code",
        "colab": {}
      },
      "source": [
        "transforms_dict = {\n",
        "    'train': transforms.Compose([\n",
        "        transforms.RandomHorizontalFlip(0.5),\n",
        "        transforms.ToTensor(),\n",
        "    ]),\n",
        "    'test': transforms.Compose([\n",
        "        transforms.RandomHorizontalFlip(0.5),\n",
        "        transforms.ToTensor(),\n",
        "    ]),\n",
        "}"
      ],
      "execution_count": 0,
      "outputs": []
    },
    {
      "cell_type": "code",
      "metadata": {
        "id": "Bka5v-hwRuoX",
        "colab_type": "code",
        "colab": {}
      },
      "source": [
        "train_transforms = transforms_dict['train']\n",
        "\n",
        "batch_size = 128\n",
        "\n",
        "test_batch_size = 256"
      ],
      "execution_count": 0,
      "outputs": []
    },
    {
      "cell_type": "code",
      "metadata": {
        "id": "un5t03qkROPB",
        "colab_type": "code",
        "colab": {}
      },
      "source": [
        "num_classes = y_train.shape[1]\n",
        "\n",
        "x_trn, x_val, y_trn, y_val = train_test_split(x_train, y_train, test_size=0.2, random_state=SEED)\n",
        "\n",
        "train_dataset = FATTrainDataset(x_trn, y_trn, train_transforms)\n",
        "valid_dataset = FATTrainDataset(x_val, y_val, train_transforms)\n",
        "\n",
        "train_loader = DataLoader(train_dataset, batch_size=batch_size, shuffle=True)\n",
        "valid_loader = DataLoader(valid_dataset, batch_size=test_batch_size, shuffle=False)"
      ],
      "execution_count": 0,
      "outputs": []
    },
    {
      "cell_type": "code",
      "metadata": {
        "id": "X_MZM3WPRgiH",
        "colab_type": "code",
        "colab": {}
      },
      "source": [
        "len(train_dataset), len(valid_dataset)"
      ],
      "execution_count": 0,
      "outputs": []
    },
    {
      "cell_type": "code",
      "metadata": {
        "id": "WLTTjRohSAIN",
        "colab_type": "code",
        "colab": {}
      },
      "source": [
        "train_dataset[0]"
      ],
      "execution_count": 0,
      "outputs": []
    },
    {
      "cell_type": "code",
      "metadata": {
        "id": "VazaK1fvSKFn",
        "colab_type": "code",
        "colab": {}
      },
      "source": [
        "train_dataset.mels[0]"
      ],
      "execution_count": 0,
      "outputs": []
    },
    {
      "cell_type": "code",
      "metadata": {
        "id": "VSPSwIuPSPiB",
        "colab_type": "code",
        "colab": {}
      },
      "source": [
        "train_dataset.mels[2].shape"
      ],
      "execution_count": 0,
      "outputs": []
    },
    {
      "cell_type": "code",
      "metadata": {
        "id": "gzO1y6IqSppC",
        "colab_type": "code",
        "colab": {}
      },
      "source": [
        "import matplotlib.pyplot as plt\n",
        "\n",
        "plt.imshow(train_dataset.mels[2])"
      ],
      "execution_count": 0,
      "outputs": []
    },
    {
      "cell_type": "code",
      "metadata": {
        "id": "xw1Rwvz4TFvB",
        "colab_type": "code",
        "colab": {}
      },
      "source": [
        "train_dataset.labels[2]"
      ],
      "execution_count": 0,
      "outputs": []
    },
    {
      "cell_type": "code",
      "metadata": {
        "id": "XMWGyq9RTJVq",
        "colab_type": "code",
        "colab": {}
      },
      "source": [
        "mb_example = next(iter(train_loader))"
      ],
      "execution_count": 0,
      "outputs": []
    },
    {
      "cell_type": "code",
      "metadata": {
        "id": "psdqochkTSFc",
        "colab_type": "code",
        "colab": {}
      },
      "source": [
        "mb_example[0].size(), mb_example[1].size()"
      ],
      "execution_count": 0,
      "outputs": []
    },
    {
      "cell_type": "code",
      "metadata": {
        "id": "8XWKWwc3TUz1",
        "colab_type": "code",
        "colab": {}
      },
      "source": [
        "fig = plt.figure()\n",
        "for i in range(0,4):\n",
        "    sub_plot = fig.add_subplot(1,4,i+1)\n",
        "    sub_plot.axis('Off')\n",
        "    plt.imshow(mb_example[0][i,0].numpy())"
      ],
      "execution_count": 0,
      "outputs": []
    },
    {
      "cell_type": "code",
      "metadata": {
        "id": "x34JCsoBTnyp",
        "colab_type": "code",
        "colab": {}
      },
      "source": [
        "len(x_train)"
      ],
      "execution_count": 0,
      "outputs": []
    },
    {
      "cell_type": "code",
      "metadata": {
        "id": "DuQSNJunVOL8",
        "colab_type": "code",
        "colab": {}
      },
      "source": [
        "image = Image.fromarray(x_train[0], mode='RGB')        \n",
        "plt.imshow(image)"
      ],
      "execution_count": 0,
      "outputs": []
    },
    {
      "cell_type": "code",
      "metadata": {
        "id": "X-PjLxEdVl7x",
        "colab_type": "code",
        "colab": {}
      },
      "source": [
        "x_train[0].shape"
      ],
      "execution_count": 0,
      "outputs": []
    },
    {
      "cell_type": "code",
      "metadata": {
        "id": "Uq3VvSAZXHD2",
        "colab_type": "code",
        "colab": {}
      },
      "source": [
        "old_im = Image.fromarray(x_train[0], mode='RGB')        \n",
        "old_size = old_im.size"
      ],
      "execution_count": 0,
      "outputs": []
    },
    {
      "cell_type": "code",
      "metadata": {
        "id": "5LfDPw54XKyx",
        "colab_type": "code",
        "colab": {}
      },
      "source": [
        "old_size"
      ],
      "execution_count": 0,
      "outputs": []
    },
    {
      "cell_type": "code",
      "metadata": {
        "id": "sGyhFwObZklG",
        "colab_type": "code",
        "colab": {}
      },
      "source": [
        "old_im = Image.fromarray(x_train[0], mode='RGB') \n",
        "desired_size = max(old_im.size)"
      ],
      "execution_count": 0,
      "outputs": []
    },
    {
      "cell_type": "code",
      "metadata": {
        "id": "IMnB4tjtZsDc",
        "colab_type": "code",
        "colab": {}
      },
      "source": [
        "new_size = (desired_size, desired_size)\n",
        "new_size"
      ],
      "execution_count": 0,
      "outputs": []
    },
    {
      "cell_type": "code",
      "metadata": {
        "id": "_jGtttA-W-LI",
        "colab_type": "code",
        "colab": {}
      },
      "source": [
        "#data augmentation to be applied\n",
        "\n",
        "old_im = Image.fromarray(x_train[0], mode='RGB')        \n",
        "old_size = old_im.size\n",
        "\n",
        "desired_size=448\n",
        "\n",
        "ratio = float(desired_size)/max(old_size)\n",
        "\n",
        "new_size = (448, 448)\n",
        "\n",
        "im = old_im.resize(new_size, Image.ANTIALIAS)\n",
        "\n",
        "new_im = Image.new(\"RGB\", (desired_size, desired_size))\n",
        "\n",
        "new_im.paste(im, ((desired_size-new_size[0])//2,\n",
        "                    (desired_size-new_size[1])//2))\n",
        "new_im.show()"
      ],
      "execution_count": 0,
      "outputs": []
    },
    {
      "cell_type": "code",
      "metadata": {
        "id": "ooEiujA4YKkx",
        "colab_type": "code",
        "colab": {}
      },
      "source": [
        "plt.imshow(new_im)"
      ],
      "execution_count": 0,
      "outputs": []
    },
    {
      "cell_type": "code",
      "metadata": {
        "id": "eM2bQKeKX-QQ",
        "colab_type": "code",
        "colab": {}
      },
      "source": [
        "np.array(new_im).shape"
      ],
      "execution_count": 0,
      "outputs": []
    },
    {
      "cell_type": "code",
      "metadata": {
        "id": "lwljpAPfVnPo",
        "colab_type": "code",
        "colab": {}
      },
      "source": [
        "image = Image.fromarray(x_train[0], mode='RGB')     \n",
        "time_dim, base_dim = image.size\n",
        "crop = random.randint(0, time_dim - base_dim)\n",
        "image = image.crop([crop, 0, crop + base_dim, base_dim])\n",
        "plt.imshow(image)"
      ],
      "execution_count": 0,
      "outputs": []
    },
    {
      "cell_type": "code",
      "metadata": {
        "id": "r7TzL0E_V0bz",
        "colab_type": "code",
        "colab": {}
      },
      "source": [
        "np.array(image).shape"
      ],
      "execution_count": 0,
      "outputs": []
    },
    {
      "cell_type": "code",
      "metadata": {
        "id": "sCsZUdOvWn99",
        "colab_type": "code",
        "colab": {}
      },
      "source": [
        "import Image\n",
        "\n",
        "old_im = Image.fromarray(x_train[0], mode='RGB')        \n",
        "old_size = old_im.size\n",
        "\n",
        "new_size = (800, 800)\n",
        "new_im = Image.new(\"RGB\", new_size)   ## luckily, this is already black!\n",
        "new_im.paste(old_im, ((new_size[0]-old_size[0])/2,\n",
        "                      (new_size[1]-old_size[1])/2))\n",
        "\n",
        "new_im.show()\n",
        "# new_im.save('someimage.jpg'"
      ],
      "execution_count": 0,
      "outputs": []
    },
    {
      "cell_type": "code",
      "metadata": {
        "id": "xzk4AtZRVEBY",
        "colab_type": "code",
        "colab": {}
      },
      "source": [
        "image = Image.fromarray(self.mels[idx], mode='RGB')        \n",
        "time_dim, base_dim = image.size\n",
        "crop = random.randint(0, time_dim - base_dim)\n",
        "image = image.crop([crop, 0, crop + base_dim, base_dim])\n",
        "image = self.transforms(image).div_(255)"
      ],
      "execution_count": 0,
      "outputs": []
    },
    {
      "cell_type": "code",
      "metadata": {
        "id": "TUzFIqazxa3n",
        "colab_type": "code",
        "colab": {}
      },
      "source": [
        "class FATTestDataset(Dataset):\n",
        "    def __init__(self, fnames, mels, transforms, tta=5):\n",
        "        super().__init__()\n",
        "        self.fnames = fnames\n",
        "        self.mels = mels\n",
        "        self.transforms = transforms\n",
        "        self.tta = tta\n",
        "        \n",
        "    def __len__(self):\n",
        "        return len(self.fnames) * self.tta\n",
        "    \n",
        "    def __getitem__(self, idx):\n",
        "        new_idx = idx % len(self.fnames)\n",
        "        \n",
        "        image = Image.fromarray(self.mels[new_idx], mode='RGB')\n",
        "        time_dim, base_dim = image.size\n",
        "        crop = random.randint(0, time_dim - base_dim)\n",
        "        image = image.crop([crop, 0, crop + base_dim, base_dim])\n",
        "        image = self.transforms(image).div_(255)\n",
        "\n",
        "        fname = self.fnames[new_idx]\n",
        "        \n",
        "        return image, fname"
      ],
      "execution_count": 0,
      "outputs": []
    },
    {
      "cell_type": "code",
      "metadata": {
        "id": "OlYwSC7oxaw_",
        "colab_type": "code",
        "colab": {}
      },
      "source": [
        "transforms_dict = {\n",
        "    'train': transforms.Compose([\n",
        "        transforms.RandomHorizontalFlip(0.5),\n",
        "        transforms.ToTensor(),\n",
        "    ]),\n",
        "    'test': transforms.Compose([\n",
        "        transforms.RandomHorizontalFlip(0.5),\n",
        "        transforms.ToTensor(),\n",
        "    ]),\n",
        "}"
      ],
      "execution_count": 0,
      "outputs": []
    },
    {
      "cell_type": "markdown",
      "metadata": {
        "id": "IfPqd69JM36W",
        "colab_type": "text"
      },
      "source": [
        "***Changes: lr finder***"
      ]
    },
    {
      "cell_type": "code",
      "metadata": {
        "id": "GCmy4ugkM1yc",
        "colab_type": "code",
        "colab": {}
      },
      "source": [
        "model = model_ft\n",
        "criterion = nn.BCEWithLogitsLoss().cuda()\n",
        "optimizer = Adam(params=model.parameters(), lr=lr, amsgrad=False)\n",
        "scheduler = CosineAnnealingLR(optimizer, T_max=t_max, eta_min=eta_min)\n"
      ],
      "execution_count": 0,
      "outputs": []
    },
    {
      "cell_type": "code",
      "metadata": {
        "id": "W9lQ9pXH1h5T",
        "colab_type": "code",
        "colab": {}
      },
      "source": [
        "#pretrained models:\n",
        "!pip install pretrainedmodels"
      ],
      "execution_count": 0,
      "outputs": []
    },
    {
      "cell_type": "code",
      "metadata": {
        "id": "wygwRmh61nwJ",
        "colab_type": "code",
        "colab": {}
      },
      "source": [
        "import pretrainedmodels\n",
        "print(pretrainedmodels.model_names)"
      ],
      "execution_count": 0,
      "outputs": []
    },
    {
      "cell_type": "code",
      "metadata": {
        "id": "I-umZzHM1qkP",
        "colab_type": "code",
        "colab": {}
      },
      "source": [
        "# to load a pretrained models\n",
        "model_name = 'resnet50' # could be fbresnet152 or inceptionresnetv2\n",
        "model_ft = pretrainedmodels.__dict__[model_name](num_classes=1000)\n",
        "#model.eval()"
      ],
      "execution_count": 0,
      "outputs": []
    },
    {
      "cell_type": "code",
      "metadata": {
        "id": "bXnKbF-J-fPE",
        "colab_type": "code",
        "colab": {}
      },
      "source": [
        "model_ft"
      ],
      "execution_count": 0,
      "outputs": []
    },
    {
      "cell_type": "code",
      "metadata": {
        "id": "CpA9R-jA-wM_",
        "colab_type": "code",
        "colab": {}
      },
      "source": [
        "device = torch.device(\"cuda:0\" if torch.cuda.is_available() else \"cpu\")\n",
        "\n",
        "num_ftrs = model_ft.last_linear.in_features\n",
        "model_ft.last_linear = nn.Linear(num_ftrs, 80)\n",
        "\n",
        "model_ft = model_ft.to(device)"
      ],
      "execution_count": 0,
      "outputs": []
    },
    {
      "cell_type": "code",
      "metadata": {
        "id": "v7oC-SOdEqLg",
        "colab_type": "code",
        "colab": {}
      },
      "source": [
        "device = torch.device(\"cuda:0\" if torch.cuda.is_available() else \"cpu\")\n",
        "\n",
        "num_ftrs = model_ft.last_linear.in_features\n",
        "\n",
        "model_ft.last_linear = nn.Sequential(\n",
        "    nn.Dropout(p=0.5),\n",
        "    nn.Linear(in_features=num_ftrs, out_features=1024, bias=True),\n",
        "    nn.ReLU(),\n",
        "    nn.Dropout(p=0.5),\n",
        "    nn.Linear(in_features=1024, out_features=512, bias=True),\n",
        "    nn.ReLU(),\n",
        "    nn.Linear(in_features=512, out_features=80, bias=True)\n",
        ")"
      ],
      "execution_count": 0,
      "outputs": []
    },
    {
      "cell_type": "code",
      "metadata": {
        "id": "EiI2wZ3SGBJB",
        "colab_type": "code",
        "colab": {}
      },
      "source": [
        "model_ft = model_ft.to(device)"
      ],
      "execution_count": 0,
      "outputs": []
    },
    {
      "cell_type": "code",
      "metadata": {
        "id": "VgPz2pJyAKxp",
        "colab_type": "code",
        "colab": {}
      },
      "source": [
        "import torchvision.models as models\n",
        "\n",
        "device = torch.device(\"cuda:0\" if torch.cuda.is_available() else \"cpu\")\n",
        "\n",
        "model_ft = models.resnet50()\n",
        "num_ftrs = model_ft.fc.in_features\n",
        "model_ft.fc = nn.Linear(num_ftrs, 80)\n",
        "\n",
        "model_ft = model_ft.to(device)\n",
        "\"\"\"\n",
        "criterion = nn.CrossEntropyLoss()\n",
        "\n",
        "# Observe that all parameters are being optimized\n",
        "optimizer_ft = optim.SGD(model_ft.parameters(), lr=0.001, momentum=0.9)\n",
        "\n",
        "# Decay LR by a factor of 0.1 every 7 epochs\n",
        "exp_lr_scheduler = lr_scheduler.StepLR(optimizer_ft, step_size=7, gamma=0.1)\n",
        "\"\"\""
      ],
      "execution_count": 0,
      "outputs": []
    },
    {
      "cell_type": "code",
      "metadata": {
        "id": "DtzlvwtgK7Oy",
        "colab_type": "code",
        "colab": {}
      },
      "source": [
        "model_ft.classifier"
      ],
      "execution_count": 0,
      "outputs": []
    },
    {
      "cell_type": "code",
      "metadata": {
        "id": "Fy1pGvd8MbSn",
        "colab_type": "code",
        "colab": {}
      },
      "source": [
        "# as defined in the link:\n",
        "#https://towardsdatascience.com/transfer-learning-with-convolutional-neural-networks-in-pytorch-dd09190245ce\n",
        "import torch.nn as nn\n",
        "# Add on classifier\n",
        "model.classifier[6] = nn.Sequential(\n",
        "                      nn.Linear(n_inputs, 256), \n",
        "                      nn.ReLU(), \n",
        "                      nn.Dropout(0.4),\n",
        "                      nn.Linear(256, n_classes),                   \n",
        "                      nn.LogSoftmax(dim=1))"
      ],
      "execution_count": 0,
      "outputs": []
    },
    {
      "cell_type": "code",
      "metadata": {
        "id": "0OtydueIxiiP",
        "colab_type": "code",
        "colab": {}
      },
      "source": [
        "class ConvBlock(nn.Module):\n",
        "    def __init__(self, in_channels, out_channels):\n",
        "        super().__init__()\n",
        "        \n",
        "        self.conv1 = nn.Sequential(\n",
        "            nn.Conv2d(in_channels, out_channels, 3, 1, 1),\n",
        "            nn.BatchNorm2d(out_channels),\n",
        "            nn.ReLU(),\n",
        "        )\n",
        "        self.conv2 = nn.Sequential(\n",
        "            nn.Conv2d(out_channels, out_channels, 3, 1, 1),\n",
        "            nn.BatchNorm2d(out_channels),\n",
        "            nn.ReLU(),\n",
        "        )\n",
        "\n",
        "        self._init_weights()\n",
        "        \n",
        "    def _init_weights(self):\n",
        "        for m in self.modules():\n",
        "            if isinstance(m, nn.Conv2d):\n",
        "                nn.init.kaiming_normal_(m.weight)\n",
        "                if m.bias is not None:\n",
        "                    nn.init.zeros_(m.bias)\n",
        "            elif isinstance(m, nn.BatchNorm2d):\n",
        "                nn.init.constant_(m.weight, 1)\n",
        "                nn.init.zeros_(m.bias)\n",
        "        \n",
        "    def forward(self, x):\n",
        "        x = self.conv1(x)\n",
        "        x = self.conv2(x)\n",
        "        x = F.avg_pool2d(x, 2)\n",
        "        return x"
      ],
      "execution_count": 0,
      "outputs": []
    },
    {
      "cell_type": "code",
      "metadata": {
        "id": "rUSz8mScyVsr",
        "colab_type": "code",
        "colab": {}
      },
      "source": [
        "class Classifier(nn.Module):\n",
        "    def __init__(self, num_classes):\n",
        "        super().__init__()\n",
        "        \n",
        "        self.conv = nn.Sequential(\n",
        "            ConvBlock(in_channels=3, out_channels=64),\n",
        "            ConvBlock(in_channels=64, out_channels=128),\n",
        "            ConvBlock(in_channels=128, out_channels=256),\n",
        "            ConvBlock(in_channels=256, out_channels=512),\n",
        "        )\n",
        "        \n",
        "        self.fc = nn.Sequential(\n",
        "            nn.Dropout(0.2),\n",
        "            nn.Linear(511, 128),\n",
        "            nn.PReLU(),\n",
        "            nn.BatchNorm1d(128),\n",
        "            nn.Dropout(0.1),\n",
        "            nn.Linear(127, num_classes),\n",
        "        )\n",
        "\n",
        "    def forward(self, x):\n",
        "        x = self.conv(x)\n",
        "        x = torch.mean(x, dim=3)\n",
        "        x, _ = torch.max(x, dim=2)\n",
        "        x = self.fc(x)\n",
        "        return x"
      ],
      "execution_count": 0,
      "outputs": []
    },
    {
      "cell_type": "code",
      "metadata": {
        "id": "36nVtMd4xidL",
        "colab_type": "code",
        "colab": {}
      },
      "source": [
        "Classifier(num_classes=num_classes)"
      ],
      "execution_count": 0,
      "outputs": []
    },
    {
      "cell_type": "code",
      "metadata": {
        "id": "DeyzYJM7xk9b",
        "colab_type": "code",
        "colab": {}
      },
      "source": [
        "def train_model(x_train, y_train, train_transforms):\n",
        "    num_epochs = 118\n",
        "    batch_size = 128\n",
        "    test_batch_size = 256\n",
        "    lr = 1e-3\n",
        "    eta_min = 1e-5\n",
        "    t_max = 5\n",
        "    \n",
        "    num_classes = y_train.shape[1]\n",
        "\n",
        "    x_trn, x_val, y_trn, y_val = train_test_split(x_train, y_train, test_size=0.2, random_state=SEED)\n",
        "    \n",
        "    train_dataset = FATTrainDataset(x_trn, y_trn, train_transforms)\n",
        "    valid_dataset = FATTrainDataset(x_val, y_val, train_transforms)\n",
        "\n",
        "    train_loader = DataLoader(train_dataset, batch_size=batch_size, shuffle=True)\n",
        "    valid_loader = DataLoader(valid_dataset, batch_size=test_batch_size, shuffle=False)\n",
        "\n",
        "    #model = Classifier(num_classes=num_classes).cuda()\n",
        "    model = model_ft\n",
        "    criterion = nn.BCEWithLogitsLoss().cuda()\n",
        "    optimizer = Adam(params=model.parameters(), lr=lr, amsgrad=False)\n",
        "    scheduler = CosineAnnealingLR(optimizer, T_max=t_max, eta_min=eta_min)\n",
        "\n",
        "    best_epoch = -1\n",
        "    best_lwlrap = 0.\n",
        "    mb = master_bar(range(num_epochs))\n",
        "\n",
        "    for epoch in mb:\n",
        "        start_time = time.time()\n",
        "        model.train()\n",
        "        avg_loss = 0.\n",
        "\n",
        "        for x_batch, y_batch in train_loader:\n",
        "            preds = model(x_batch.cuda())\n",
        "            loss = criterion(preds, y_batch.cuda())\n",
        "\n",
        "            optimizer.zero_grad()\n",
        "            loss.backward()\n",
        "            optimizer.step()\n",
        "\n",
        "            avg_loss += loss.item() / len(train_loader)\n",
        "\n",
        "        model.eval()\n",
        "        valid_preds = np.zeros((len(x_val), num_classes))\n",
        "        avg_val_loss = 0.\n",
        "\n",
        "        for i, (x_batch, y_batch) in enumerate(valid_loader):\n",
        "            preds = model(x_batch.cuda()).detach()\n",
        "            loss = criterion(preds, y_batch.cuda())\n",
        "\n",
        "            preds = torch.sigmoid(preds)\n",
        "            valid_preds[i * test_batch_size: (i+1) * test_batch_size] = preds.cpu().numpy()\n",
        "\n",
        "            avg_val_loss += loss.item() / len(valid_loader)\n",
        "            \n",
        "        score, weight = calculate_per_class_lwlrap(y_val, valid_preds)\n",
        "        lwlrap = (score * weight).sum()\n",
        "        \n",
        "        scheduler.step()\n",
        "\n",
        "        if (epoch + 1) % 1 == 0:\n",
        "            elapsed = time.time() - start_time\n",
        "            mb.write(f'Epoch {epoch+1} - avg_train_loss: {avg_loss:.4f}  avg_val_loss: {avg_val_loss:.4f}  val_lwlrap: {lwlrap:.6f}  time: {elapsed:.0f}s')\n",
        "    \n",
        "        if lwlrap > best_lwlrap:\n",
        "            best_epoch = epoch + 1\n",
        "            best_lwlrap = lwlrap\n",
        "            torch.save(model.state_dict(), 'weight_best.pt')\n",
        "            \n",
        "    return {\n",
        "        'best_epoch': best_epoch,\n",
        "        'best_lwlrap': best_lwlrap,\n",
        "    }"
      ],
      "execution_count": 0,
      "outputs": []
    },
    {
      "cell_type": "code",
      "metadata": {
        "id": "qmVih93Dxk5x",
        "colab_type": "code",
        "colab": {}
      },
      "source": [
        "result = train_model(x_train, y_train, transforms_dict['train'])"
      ],
      "execution_count": 0,
      "outputs": []
    },
    {
      "cell_type": "code",
      "metadata": {
        "id": "9yVDzyb-xk1m",
        "colab_type": "code",
        "colab": {}
      },
      "source": [
        "result"
      ],
      "execution_count": 0,
      "outputs": []
    },
    {
      "cell_type": "code",
      "metadata": {
        "id": "g215CpOVytIC",
        "colab_type": "code",
        "colab": {}
      },
      "source": [
        "def predict_model(test_fnames, x_test, test_transforms, num_classes, *, tta=5):\n",
        "    batch_size = 256\n",
        "\n",
        "    test_dataset = FATTestDataset(test_fnames, x_test, test_transforms, tta=tta)\n",
        "    test_loader = DataLoader(test_dataset, batch_size=batch_size, shuffle=False)\n",
        "\n",
        "    model = model_ft\n",
        "    model.load_state_dict(torch.load('weight_best.pt'))\n",
        "    model.cuda()\n",
        "    model.eval()\n",
        "\n",
        "    all_outputs, all_fnames = [], []\n",
        "\n",
        "    pb = progress_bar(test_loader)\n",
        "    for images, fnames in pb:\n",
        "        preds = torch.sigmoid(model(images.cuda()).detach())\n",
        "        all_outputs.append(preds.cpu().numpy())\n",
        "        all_fnames.extend(fnames)\n",
        "\n",
        "    test_preds = pd.DataFrame(data=np.concatenate(all_outputs),\n",
        "                              index=all_fnames,\n",
        "                              columns=map(str, range(num_classes)))\n",
        "    test_preds = test_preds.groupby(level=0).mean()\n",
        "\n",
        "    return test_preds"
      ],
      "execution_count": 0,
      "outputs": []
    },
    {
      "cell_type": "code",
      "metadata": {
        "id": "UOwIX8CeyyBY",
        "colab_type": "code",
        "colab": {}
      },
      "source": [
        "test_preds = predict_model(test_df['fname'], x_test, transforms_dict['test'], num_classes, tta=35)"
      ],
      "execution_count": 0,
      "outputs": []
    },
    {
      "cell_type": "code",
      "metadata": {
        "id": "SK7pYQk_yt3r",
        "colab_type": "code",
        "colab": {}
      },
      "source": [
        "test_df[labels] = test_preds.values\n",
        "test_df.to_csv('submission.csv', index=False)\n",
        "test_df.head()"
      ],
      "execution_count": 0,
      "outputs": []
    },
    {
      "cell_type": "markdown",
      "metadata": {
        "id": "4S7isI9efo1z",
        "colab_type": "text"
      },
      "source": [
        "### ***Study of cnn architecture:***\n",
        "layers which works"
      ]
    },
    {
      "cell_type": "code",
      "metadata": {
        "id": "_mQTzn0jiNwQ",
        "colab_type": "code",
        "colab": {}
      },
      "source": [
        "import torchvision.models as models\n",
        "\n",
        "device = torch.device(\"cuda:0\" if torch.cuda.is_available() else \"cpu\")\n",
        "\n",
        "model_ft = models.resnet152()"
      ],
      "execution_count": 0,
      "outputs": []
    },
    {
      "cell_type": "code",
      "metadata": {
        "id": "IUWnry6IiPjQ",
        "colab_type": "code",
        "colab": {}
      },
      "source": [
        "model_ft"
      ],
      "execution_count": 0,
      "outputs": []
    },
    {
      "cell_type": "code",
      "metadata": {
        "id": "ptbbCIySkOYw",
        "colab_type": "code",
        "colab": {}
      },
      "source": [
        "num_ftrs = model_ft.fc.in_features\n",
        "model_ft.fc = nn.Linear(num_ftrs, 80)\n",
        "\n",
        "model_ft = model_ft.to(device)"
      ],
      "execution_count": 0,
      "outputs": []
    },
    {
      "cell_type": "code",
      "metadata": {
        "id": "2ipnhPoYka7e",
        "colab_type": "code",
        "colab": {}
      },
      "source": [
        "dtype = torch.FloatTensor # the CPU datatype\n",
        "## Now we're going to feed a random batch into the model you defined and make sure the output is the right size\n",
        "x = torch.randn(64, 3, 128, 128).to(device)\n",
        "ans = model_ft(x)        # Feed it through the model! \n",
        "\n",
        "# Check to make sure what comes out of your model\n",
        "# is the right dimensionality... this should be True\n",
        "# if you've done everything correctly\n",
        "np.array_equal(np.array(ans.size()), np.array([64, 80]))"
      ],
      "execution_count": 0,
      "outputs": []
    },
    {
      "cell_type": "code",
      "metadata": {
        "id": "VgI4rC3piFXJ",
        "colab_type": "code",
        "colab": {}
      },
      "source": [
        "\n",
        "\n",
        "\"\"\"\n",
        "criterion = nn.CrossEntropyLoss()\n",
        "\n",
        "# Observe that all parameters are being optimized\n",
        "optimizer_ft = optim.SGD(model_ft.parameters(), lr=0.001, momentum=0.9)\n",
        "\n",
        "# Decay LR by a factor of 0.1 every 7 epochs\n",
        "exp_lr_scheduler = lr_scheduler.StepLR(optimizer_ft, step_size=7, gamma=0.1)\n",
        "\"\"\""
      ],
      "execution_count": 0,
      "outputs": []
    },
    {
      "cell_type": "code",
      "metadata": {
        "colab_type": "code",
        "id": "4spaemOwgBya",
        "colab": {}
      },
      "source": [
        "model = model_ft\n",
        "criterion = nn.BCEWithLogitsLoss().cuda()\n",
        "optimizer = Adam(params=model.parameters(), lr=lr, amsgrad=False)\n",
        "scheduler = CosineAnnealingLR(optimizer, T_max=t_max, eta_min=eta_min)\n"
      ],
      "execution_count": 0,
      "outputs": []
    },
    {
      "cell_type": "code",
      "metadata": {
        "colab_type": "code",
        "id": "1wKi5i1kgByf",
        "colab": {}
      },
      "source": [
        "#pretrained models:\n",
        "!pip install pretrainedmodels"
      ],
      "execution_count": 0,
      "outputs": []
    },
    {
      "cell_type": "code",
      "metadata": {
        "colab_type": "code",
        "id": "Jfps-nfQgByp",
        "colab": {}
      },
      "source": [
        "import pretrainedmodels\n",
        "print(pretrainedmodels.model_names)"
      ],
      "execution_count": 0,
      "outputs": []
    },
    {
      "cell_type": "code",
      "metadata": {
        "colab_type": "code",
        "id": "iIj6V7QegByu",
        "colab": {}
      },
      "source": [
        "# to load a pretrained models\n",
        "model_name = 'se_resnet50' # could be fbresnet152 or inceptionresnetv2\n",
        "model_ft = pretrainedmodels.__dict__[model_name](num_classes=1000)\n",
        "#model.eval()"
      ],
      "execution_count": 0,
      "outputs": []
    },
    {
      "cell_type": "code",
      "metadata": {
        "colab_type": "code",
        "id": "nexlebj6gByy",
        "colab": {}
      },
      "source": [
        "model_ft"
      ],
      "execution_count": 0,
      "outputs": []
    },
    {
      "cell_type": "code",
      "metadata": {
        "colab_type": "code",
        "id": "Sh3q6u60gBy3",
        "colab": {}
      },
      "source": [
        "device = torch.device(\"cuda:0\" if torch.cuda.is_available() else \"cpu\")\n",
        "\n",
        "num_ftrs = model_ft.last_linear.in_features\n",
        "model_ft.last_linear = nn.Linear(num_ftrs, 80)\n",
        "\n",
        "model_ft = model_ft.to(device)"
      ],
      "execution_count": 0,
      "outputs": []
    },
    {
      "cell_type": "code",
      "metadata": {
        "colab_type": "code",
        "id": "UcoVNe4NgBy5",
        "colab": {}
      },
      "source": [
        "device = torch.device(\"cuda:0\" if torch.cuda.is_available() else \"cpu\")\n",
        "\n",
        "num_ftrs = model_ft.last_linear.in_features\n",
        "\n",
        "model_ft.last_linear = nn.Sequential(\n",
        "    nn.Dropout(p=0.5),\n",
        "    nn.Linear(in_features=num_ftrs, out_features=1024, bias=True),\n",
        "    nn.ReLU(),\n",
        "    nn.Dropout(p=0.5),\n",
        "    nn.Linear(in_features=1024, out_features=512, bias=True),\n",
        "    nn.ReLU(),\n",
        "    nn.Linear(in_features=512, out_features=80, bias=True)\n",
        ")"
      ],
      "execution_count": 0,
      "outputs": []
    },
    {
      "cell_type": "code",
      "metadata": {
        "colab_type": "code",
        "id": "NL7JJ5nsgBzK",
        "colab": {}
      },
      "source": [
        "model_ft = model_ft.to(device)"
      ],
      "execution_count": 0,
      "outputs": []
    },
    {
      "cell_type": "code",
      "metadata": {
        "colab_type": "code",
        "id": "4azuK11QgBzS",
        "colab": {}
      },
      "source": [
        "import torchvision.models as models\n",
        "\n",
        "device = torch.device(\"cuda:0\" if torch.cuda.is_available() else \"cpu\")\n",
        "\n",
        "model_ft = models.resnet50()\n",
        "num_ftrs = model_ft.fc.in_features\n",
        "model_ft.fc = nn.Linear(num_ftrs, 80)\n",
        "\n",
        "model_ft = model_ft.to(device)\n",
        "\"\"\"\n",
        "criterion = nn.CrossEntropyLoss()\n",
        "\n",
        "# Observe that all parameters are being optimized\n",
        "optimizer_ft = optim.SGD(model_ft.parameters(), lr=0.001, momentum=0.9)\n",
        "\n",
        "# Decay LR by a factor of 0.1 every 7 epochs\n",
        "exp_lr_scheduler = lr_scheduler.StepLR(optimizer_ft, step_size=7, gamma=0.1)\n",
        "\"\"\""
      ],
      "execution_count": 0,
      "outputs": []
    },
    {
      "cell_type": "code",
      "metadata": {
        "colab_type": "code",
        "id": "onT2H7jHgBzh",
        "colab": {}
      },
      "source": [
        "model_ft.classifier"
      ],
      "execution_count": 0,
      "outputs": []
    },
    {
      "cell_type": "code",
      "metadata": {
        "colab_type": "code",
        "id": "CYuIY7HEgBzo",
        "colab": {}
      },
      "source": [
        "# as defined in the link:\n",
        "#https://towardsdatascience.com/transfer-learning-with-convolutional-neural-networks-in-pytorch-dd09190245ce\n",
        "import torch.nn as nn\n",
        "# Add on classifier\n",
        "model.classifier[6] = nn.Sequential(\n",
        "                      nn.Linear(n_inputs, 256), \n",
        "                      nn.ReLU(), \n",
        "                      nn.Dropout(0.4),\n",
        "                      nn.Linear(256, n_classes),                   \n",
        "                      nn.LogSoftmax(dim=1))"
      ],
      "execution_count": 0,
      "outputs": []
    },
    {
      "cell_type": "code",
      "metadata": {
        "colab_type": "code",
        "id": "UKyrqR9ngBzr",
        "colab": {}
      },
      "source": [
        "class ConvBlock(nn.Module):\n",
        "    def __init__(self, in_channels, out_channels):\n",
        "        super().__init__()\n",
        "        \n",
        "        self.conv1 = nn.Sequential(\n",
        "            nn.Conv2d(in_channels, out_channels, 3, 1, 1),\n",
        "            nn.BatchNorm2d(out_channels),\n",
        "            nn.ReLU(),\n",
        "        )\n",
        "        self.conv2 = nn.Sequential(\n",
        "            nn.Conv2d(out_channels, out_channels, 3, 1, 1),\n",
        "            nn.BatchNorm2d(out_channels),\n",
        "            nn.ReLU(),\n",
        "        )\n",
        "\n",
        "        self._init_weights()\n",
        "        \n",
        "    def _init_weights(self):\n",
        "        for m in self.modules():\n",
        "            if isinstance(m, nn.Conv2d):\n",
        "                nn.init.kaiming_normal_(m.weight)\n",
        "                if m.bias is not None:\n",
        "                    nn.init.zeros_(m.bias)\n",
        "            elif isinstance(m, nn.BatchNorm2d):\n",
        "                nn.init.constant_(m.weight, 1)\n",
        "                nn.init.zeros_(m.bias)\n",
        "        \n",
        "    def forward(self, x):\n",
        "        x = self.conv1(x)\n",
        "        x = self.conv2(x)\n",
        "        x = F.avg_pool2d(x, 2)\n",
        "        return x"
      ],
      "execution_count": 0,
      "outputs": []
    },
    {
      "cell_type": "code",
      "metadata": {
        "colab_type": "code",
        "id": "dRxnbqLegBzv",
        "colab": {}
      },
      "source": [
        "class Classifier(nn.Module):\n",
        "    def __init__(self, num_classes):\n",
        "        super().__init__()\n",
        "        \n",
        "        self.conv = nn.Sequential(\n",
        "            ConvBlock(in_channels=3, out_channels=64),\n",
        "            ConvBlock(in_channels=64, out_channels=128),\n",
        "            ConvBlock(in_channels=128, out_channels=256),\n",
        "            ConvBlock(in_channels=256, out_channels=512),\n",
        "        )\n",
        "        \n",
        "        self.fc = nn.Sequential(\n",
        "            nn.Dropout(0.2),\n",
        "            nn.Linear(511, 128),\n",
        "            nn.PReLU(),\n",
        "            nn.BatchNorm1d(128),\n",
        "            nn.Dropout(0.1),\n",
        "            nn.Linear(127, num_classes),\n",
        "        )\n",
        "\n",
        "    def forward(self, x):\n",
        "        x = self.conv(x)\n",
        "        x = torch.mean(x, dim=3)\n",
        "        x, _ = torch.max(x, dim=2)\n",
        "        x = self.fc(x)\n",
        "        return x"
      ],
      "execution_count": 0,
      "outputs": []
    },
    {
      "cell_type": "code",
      "metadata": {
        "colab_type": "code",
        "id": "Y1r_86POgBz2",
        "colab": {}
      },
      "source": [
        "Classifier(num_classes=num_classes)"
      ],
      "execution_count": 0,
      "outputs": []
    },
    {
      "cell_type": "code",
      "metadata": {
        "id": "hsPBvNBqhNTT",
        "colab_type": "code",
        "colab": {}
      },
      "source": [
        "dtype = torch.FloatTensor # the CPU datatype\n",
        "model=Classifier(num_classes=num_classes)\n",
        "## Now we're going to feed a random batch into the model you defined and make sure the output is the right size\n",
        "x = torch.randn(64, 3, 128, 128).type(dtype)\n",
        "ans = model(x)        # Feed it through the model! \n",
        "\n",
        "# Check to make sure what comes out of your model\n",
        "# is the right dimensionality... this should be True\n",
        "# if you've done everything correctly\n",
        "np.array_equal(np.array(ans.size()), np.array([64, 80]))"
      ],
      "execution_count": 0,
      "outputs": []
    },
    {
      "cell_type": "code",
      "metadata": {
        "colab_type": "code",
        "id": "LnFJkivvfgXL",
        "colab": {}
      },
      "source": [
        "len(train_dataset), len(valid_dataset)"
      ],
      "execution_count": 0,
      "outputs": []
    },
    {
      "cell_type": "code",
      "metadata": {
        "colab_type": "code",
        "id": "DVm6KzeZfgXQ",
        "colab": {}
      },
      "source": [
        "train_dataset[0]"
      ],
      "execution_count": 0,
      "outputs": []
    },
    {
      "cell_type": "code",
      "metadata": {
        "colab_type": "code",
        "id": "JWnlMr59fgXV",
        "colab": {}
      },
      "source": [
        "train_dataset.mels[0]"
      ],
      "execution_count": 0,
      "outputs": []
    },
    {
      "cell_type": "code",
      "metadata": {
        "colab_type": "code",
        "id": "P_tbFS1WfgXZ",
        "colab": {}
      },
      "source": [
        "train_dataset.mels[2].shape"
      ],
      "execution_count": 0,
      "outputs": []
    },
    {
      "cell_type": "code",
      "metadata": {
        "colab_type": "code",
        "id": "W7ichSMTfgXg",
        "colab": {}
      },
      "source": [
        "import matplotlib.pyplot as plt\n",
        "\n",
        "plt.imshow(train_dataset.mels[2])"
      ],
      "execution_count": 0,
      "outputs": []
    },
    {
      "cell_type": "code",
      "metadata": {
        "colab_type": "code",
        "id": "vXcfiBewfgXl",
        "colab": {}
      },
      "source": [
        "train_dataset.labels[2]"
      ],
      "execution_count": 0,
      "outputs": []
    },
    {
      "cell_type": "code",
      "metadata": {
        "colab_type": "code",
        "id": "v2mr3Q_6fgXp",
        "colab": {}
      },
      "source": [
        "mb_example = next(iter(train_loader))"
      ],
      "execution_count": 0,
      "outputs": []
    },
    {
      "cell_type": "code",
      "metadata": {
        "colab_type": "code",
        "id": "G_rKhgVBfgXu",
        "colab": {}
      },
      "source": [
        "mb_example[0].size(), mb_example[1].size()"
      ],
      "execution_count": 0,
      "outputs": []
    },
    {
      "cell_type": "code",
      "metadata": {
        "colab_type": "code",
        "id": "LGzcBrv-fgXz",
        "colab": {}
      },
      "source": [
        "fig = plt.figure()\n",
        "for i in range(0,4):\n",
        "    sub_plot = fig.add_subplot(1,4,i+1)\n",
        "    sub_plot.axis('Off')\n",
        "    plt.imshow(mb_example[0][i,0].numpy())"
      ],
      "execution_count": 0,
      "outputs": []
    },
    {
      "cell_type": "code",
      "metadata": {
        "id": "GI_fhfZwe4Lc",
        "colab_type": "code",
        "colab": {}
      },
      "source": [
        "for i, (images, labels) in enumerate(train_loader):\n",
        "  print(labels)"
      ],
      "execution_count": 0,
      "outputs": []
    },
    {
      "cell_type": "code",
      "metadata": {
        "id": "7D1sWPd2jFpS",
        "colab_type": "code",
        "colab": {}
      },
      "source": [
        "dtype = torch.FloatTensor # the CPU datatype\n",
        "## Now we're going to feed a random batch into the model you defined and make sure the output is the right size\n",
        "x = torch.randn(64, 3, 128, 128).to(device)\n",
        "ans = model_ft(x)        # Feed it through the model! \n",
        "\n",
        "# Check to make sure what comes out of your model\n",
        "# is the right dimensionality... this should be True\n",
        "# if you've done everything correctly\n",
        "np.array_equal(np.array(ans.size()), np.array([64, 80]))"
      ],
      "execution_count": 0,
      "outputs": []
    },
    {
      "cell_type": "markdown",
      "metadata": {
        "id": "V1K6xYZSAIDF",
        "colab_type": "text"
      },
      "source": [
        "### lr_finder()"
      ]
    },
    {
      "cell_type": "markdown",
      "metadata": {
        "id": "5F4Xxy8mKVLM",
        "colab_type": "text"
      },
      "source": [
        "***OPTIMIZER?***"
      ]
    },
    {
      "cell_type": "code",
      "metadata": {
        "id": "RbWiyzBEfipA",
        "colab_type": "code",
        "colab": {}
      },
      "source": [
        "from sklearn.model_selection import train_test_split\n",
        "\n",
        "import torch \n",
        "import torch.nn as nn\n",
        "import torch.nn.functional as F\n",
        "from torch.nn.utils import clip_grad_norm_, clip_grad_value_\n",
        "from torch.utils.data.sampler import SubsetRandomSampler\n",
        "import torchvision\n",
        "import torchvision.transforms as transforms\n",
        "import torchvision.models as models\n",
        "\n",
        "from tqdm import tqdm_notebook\n",
        "from shutil import copyfile\n",
        "import os\n",
        "import math\n",
        "import pickle\n",
        "import numpy as np\n",
        "from datetime import datetime, timedelta\n",
        "import pandas as pd\n",
        "import matplotlib.pyplot as plt\n",
        "\n",
        "import PIL\n",
        "from PIL import Image\n",
        "from collections import Counter"
      ],
      "execution_count": 0,
      "outputs": []
    },
    {
      "cell_type": "code",
      "metadata": {
        "id": "mgQOuVqFfW9H",
        "colab_type": "code",
        "colab": {}
      },
      "source": [
        "path = 'sample_data/'\n",
        "\n",
        "epochs = 6\n",
        "\n",
        "device = torch.device('cuda:0' if torch.cuda.is_available() else 'cpu')\n",
        "\n",
        "lr_find_epochs = 2\n",
        "\n",
        "start_lr = 1e-7\n",
        "\n",
        "end_lr = 0.1"
      ],
      "execution_count": 0,
      "outputs": []
    },
    {
      "cell_type": "code",
      "metadata": {
        "colab_type": "code",
        "id": "3L_zb1qhKQdr",
        "colab": {}
      },
      "source": [
        "def test(model, device, valid_loader):\n",
        "    model.eval()\n",
        "    test_losses = []\n",
        "    correct = 0\n",
        "    valid_preds = np.zeros((len(x_val), num_classes))\n",
        "    with torch.no_grad():\n",
        "        for j, (data, target) in enumerate(valid_loader):\n",
        "            data, target = data.to(device), target.to(device)\n",
        "            output = model(data)\n",
        "            test_loss = criterion(output, target)\n",
        "            pred = torch.sigmoid(output)\n",
        "            valid_preds[j * test_batch_size: (j+1) * test_batch_size] = pred.cpu().numpy()\n",
        "            #avg_val_loss += test_loss.item() / len(valid_loader)\n",
        "            \n",
        "            test_losses.append(test_loss.item())\n",
        "            #pred = output.argmax(dim=1, keepdim=True) # get the index of the max log-probability\n",
        "            #correct += pred.eq(target.view_as(pred)).sum().item()\n",
        "\n",
        "    test_loss /= len(valid_loader)\n",
        "    score, weight = calculate_per_class_lwlrap(y_val, valid_preds)\n",
        "    lwlrap = (score * weight).sum()\n",
        "    \n",
        "    print('\\nTest set: Average loss: {:.4f}, val_lwlrap: {:.6f}\\n'.format(\n",
        "        np.mean(test_losses), lwlrap))\n",
        "    \n",
        "    return np.mean(test_losses), lwlrap"
      ],
      "execution_count": 0,
      "outputs": []
    },
    {
      "cell_type": "code",
      "metadata": {
        "id": "GhLDN7_uYVml",
        "colab_type": "code",
        "colab": {}
      },
      "source": [
        "for key in [\"rmsprop\",\"adagrad\",\"adamax\",\"adam\",\"adadelta\"]:\n",
        "      \n",
        "    print(\"testing optimizer {}\".format(key))\n",
        "\n",
        "    total_logs = []\n",
        "    \n",
        "    # Do 3 runs each    \n",
        "    for run in tqdm_notebook(range(3)):\n",
        "        \n",
        "        print(\"doing run {} of 3\".format(run))\n",
        "        \n",
        "        # Instantiate the model\n",
        "        model = Classifier(num_classes=num_classes).cuda()\n",
        "        \n",
        "        # Define the loss function\n",
        "        #criterion = nn.CrossEntropyLoss()\n",
        "        criterion = nn.BCEWithLogitsLoss().cuda()\n",
        "    \n",
        "        # Define the optimizer\n",
        "        if key == \"adam\":\n",
        "            optimizer = torch.optim.Adam(model.parameters())\n",
        "        elif key == \"adamax\":\n",
        "            optimizer = torch.optim.Adamax(model.parameters())\n",
        "        elif key == \"adagrad\":\n",
        "            optimizer = torch.optim.Adagrad(model.parameters())\n",
        "        elif key == \"adadelta\":\n",
        "            optimizer = torch.optim.Adadelta(model.parameters())\n",
        "        elif key == \"rmsprop\":\n",
        "            optimizer = torch.optim.RMSprop(model.parameters())\n",
        "            \n",
        "        \n",
        "        \n",
        "        logs = []\n",
        "\n",
        "        #Train the model\n",
        "        iter = 0\n",
        "        for epoch in range(epochs):\n",
        "\n",
        "            losses = []\n",
        "            accuracies = []\n",
        "\n",
        "            for i, (images, labels) in enumerate(train_loader):\n",
        "\n",
        "                # Send the data to the GPU\n",
        "                images, labels = images.to(device), labels.to(device)\n",
        "\n",
        "                # Clear the gradients\n",
        "                optimizer.zero_grad()\n",
        "\n",
        "                # Forward propagation \n",
        "                outputs = model(images)      \n",
        "\n",
        "                # Calculating loss with softmax to obtain cross entropy loss\n",
        "                loss = criterion(outputs, labels)\n",
        "\n",
        "                # Backward propation\n",
        "                loss.backward()\n",
        "                losses.append(loss.item())\n",
        "\n",
        "                # Updating gradients\n",
        "                optimizer.step()\n",
        "\n",
        "                iter += 1\n",
        "\n",
        "                # Total number of labels\n",
        "                total = labels.size(0)\n",
        "\n",
        "                # Obtaining predictions from max value\n",
        "                #_, predicted = torch.max(outputs.data, 1)\n",
        "                \n",
        "                predicted = outputs\n",
        "                # Calculate the number of correct answers\n",
        "                correct = (predicted == labels).sum().item()\n",
        "    \n",
        "                accuracies.append(correct/total)\n",
        "\n",
        "            print(\"-- Epoch {}, average training loss: {:.4f}, average training accuracy: {:2f}\".format(epoch, np.mean(losses), np.mean(accuracies)))\n",
        "\n",
        "            valid_loss, valid_acc = test(model, device, valid_loader)\n",
        "            \n",
        "            logs.append({\n",
        "                'acc':np.mean(accuracies),\n",
        "                \"loss\":np.mean(losses),\n",
        "                \"lwlrap\":valid_acc,\n",
        "                \"val_loss\":valid_loss\n",
        "            })\n",
        "            \n",
        "        \n",
        "        with open(os.path.join(path,\"flowers_{}_{}.pickle\".format(key,datetime.now().strftime('%Y%m%d%H%M%S') )),'wb') as file:\n",
        "            pickle.dump(logs,file)"
      ],
      "execution_count": 0,
      "outputs": []
    },
    {
      "cell_type": "code",
      "metadata": {
        "id": "BsuVLEb_nlTE",
        "colab_type": "code",
        "colab": {}
      },
      "source": [
        "#plotting different optimizers:\n",
        "from tqdm import tqdm_notebook\n",
        "import pickle\n",
        "import os\n",
        "import numpy as np\n",
        "import pandas as pd"
      ],
      "execution_count": 0,
      "outputs": []
    },
    {
      "cell_type": "markdown",
      "metadata": {
        "id": "TX4C8pE_WeT8",
        "colab_type": "text"
      },
      "source": [
        ""
      ]
    },
    {
      "cell_type": "code",
      "metadata": {
        "id": "sj84Y9MHnxNf",
        "colab_type": "code",
        "colab": {}
      },
      "source": [
        "\n",
        "\n",
        "\"\"\"\n",
        "from plotly.offline import download_plotlyjs, init_notebook_mode, plot, iplot\n",
        "\n",
        "import plotly.graph_objs as go\n",
        "\n",
        "init_notebook_mode(connected=True)\n",
        "\n",
        "import plotly.plotly as py\n",
        "import plotly.tools as tools\n",
        "import plotly.figure_factory as ff\n",
        "import plotly.graph_objs as go\n",
        "\"\"\""
      ],
      "execution_count": 0,
      "outputs": []
    },
    {
      "cell_type": "code",
      "metadata": {
        "id": "CmOOeoLVLncW",
        "colab_type": "code",
        "colab": {}
      },
      "source": [
        "!mkdir logs\n",
        "!mkdir logs/flowers_vanilla"
      ],
      "execution_count": 0,
      "outputs": []
    },
    {
      "cell_type": "code",
      "metadata": {
        "id": "1rfkbulDMhxW",
        "colab_type": "code",
        "colab": {}
      },
      "source": [
        "!ls logs/flowers_vanilla"
      ],
      "execution_count": 0,
      "outputs": []
    },
    {
      "cell_type": "code",
      "metadata": {
        "id": "70rM7ao_MTd0",
        "colab_type": "code",
        "colab": {}
      },
      "source": [
        "!mv sample_data/flowers_adadelta_20190518132751.pickle sample_data/flowers_adamax_20190518130807.pickle logs/flowers_vanilla"
      ],
      "execution_count": 0,
      "outputs": []
    },
    {
      "cell_type": "code",
      "metadata": {
        "id": "VdIkW23GMuG2",
        "colab_type": "code",
        "colab": {}
      },
      "source": [
        "!mv sample_data/flowers_adadelta_20190518133250.pickle sample_data/flowers_rmsprop_20190518122839.pickle logs/flowers_vanilla\n",
        "!mv sample_data/flowers_adadelta_20190518133749.pickle sample_data/flowers_rmsprop_20190518123332.pickle logs/flowers_vanilla\n",
        "!mv sample_data/flowers_adagrad_20190518124322.pickle sample_data/flowers_rmsprop_20190518123826.pickle logs/flowers_vanilla\n",
        "!mv sample_data/flowers_adagrad_20190518124816.pickle sample_data/flowers_adagrad_20190518125313.pickle logs/flowers_vanilla\n",
        "!mv sample_data/flowers_adam_20190518131302.pickle sample_data/flowers_adam_20190518131757.pickle logs/flowers_vanilla"
      ],
      "execution_count": 0,
      "outputs": []
    },
    {
      "cell_type": "code",
      "metadata": {
        "id": "MmSTMVIVNUkY",
        "colab_type": "code",
        "colab": {}
      },
      "source": [
        "!mv sample_data/flowers_adam_20190518132252.pickle sample_data/flowers_adamax_20190518125810.pickle sample_data/flowers_adamax_20190518130309.pickle logs/flowers_vanilla"
      ],
      "execution_count": 0,
      "outputs": []
    },
    {
      "cell_type": "code",
      "metadata": {
        "id": "lWRxOUFIUdFr",
        "colab_type": "code",
        "colab": {}
      },
      "source": [
        "import plotly.graph_objs as go\n",
        "from plotly.offline import download_plotlyjs, init_notebook_mode, plot, iplot"
      ],
      "execution_count": 0,
      "outputs": []
    },
    {
      "cell_type": "code",
      "metadata": {
        "id": "aBoa8wbgWVM8",
        "colab_type": "code",
        "colab": {}
      },
      "source": [
        "init_notebook_mode(connected=True)"
      ],
      "execution_count": 0,
      "outputs": []
    },
    {
      "cell_type": "code",
      "metadata": {
        "id": "32gsOTZMZ0tz",
        "colab_type": "code",
        "colab": {}
      },
      "source": [
        "!pip install notebook --upgrade"
      ],
      "execution_count": 0,
      "outputs": []
    },
    {
      "cell_type": "code",
      "metadata": {
        "id": "Cxs23bH6WgAI",
        "colab_type": "code",
        "colab": {}
      },
      "source": [
        "#plotting different optimizers:\n",
        "from tqdm import tqdm_notebook\n",
        "import pickle\n",
        "import os\n",
        "import numpy as np\n",
        "import pandas as pd"
      ],
      "execution_count": 0,
      "outputs": []
    },
    {
      "cell_type": "code",
      "metadata": {
        "id": "H6Xs7Yt1N3M2",
        "colab_type": "code",
        "colab": {}
      },
      "source": [
        "loss_plots = {}\n",
        "for i, file in enumerate(os.listdir(\"logs/flowers_vanilla/\")):\n",
        "    opt = file.split(\"_\")[1]\n",
        "    \n",
        "    plots = pickle.load(open(os.path.join(\"logs\",\"flowers_vanilla\",file),\"rb\"))\n",
        "    \n",
        "    if opt == \"adam\" and not \"adam\" in loss_plots:\n",
        "        plots = [{\n",
        "            \"acc\":x['acc']/100.0,\n",
        "            \"loss\":x[\"loss\"],\n",
        "            \"val_loss\":x[\"val_loss\"],\n",
        "            #\"lwlrap\":valid_acc\n",
        "            \"lwlrap\":x[\"lwlrap\"]\n",
        "        } for x in plots]\n",
        "        \n",
        "        plots = plots[:6]\n",
        "\n",
        "    \n",
        "    if opt in loss_plots:\n",
        "        loss_plots[opt].append(plots)\n",
        "    else:\n",
        "        loss_plots[opt] = [plots]"
      ],
      "execution_count": 0,
      "outputs": []
    },
    {
      "cell_type": "code",
      "metadata": {
        "id": "_yYaeuG5O1wh",
        "colab_type": "code",
        "colab": {}
      },
      "source": [
        "from plotly.offline import download_plotlyjs, init_notebook_mode, plot, iplot\n",
        "import plotly\n",
        "import plotly.graph_objs as go\n",
        "\n",
        "init_notebook_mode(connected=True)\n",
        "\n",
        "traces = []\n",
        "metric = \"acc\"\n",
        "for key,val in loss_plots.items():\n",
        "    \n",
        "    x = list(np.arange(1,len(val[0])+1))\n",
        "    x_rev = x[::-1]\n",
        "        \n",
        "    metric_values = np.asarray([[epoch[metric] for epoch in run] for run in val])\n",
        "    \n",
        "    y_upper = list(np.amax(metric_values,axis=0))\n",
        "    y_lower = np.amin(metric_values,axis=0)\n",
        "    y_lower = list(y_lower[::-1])\n",
        "    \n",
        "    traces.append(go.Scatter(\n",
        "        x=x+x_rev,\n",
        "        y=y_upper+y_lower,\n",
        "        fill='tozerox',\n",
        "        #fillcolor='rgba(0,100,80,0.2)',\n",
        "        #line=dict(color='rgba(255,255,255,0)'),\n",
        "        showlegend=True,\n",
        "        name=key,\n",
        "    ))"
      ],
      "execution_count": 0,
      "outputs": []
    },
    {
      "cell_type": "code",
      "metadata": {
        "id": "I3WVB8dAO29o",
        "colab_type": "code",
        "colab": {}
      },
      "source": [
        "layout = go.Layout(\n",
        "    paper_bgcolor='rgb(255,255,255)',\n",
        "    plot_bgcolor='rgb(229,229,229)',\n",
        "    xaxis=dict(\n",
        "        gridcolor='rgb(255,255,255)',\n",
        "        range=[1,6],\n",
        "        showgrid=True,\n",
        "        showline=False,\n",
        "        showticklabels=True,\n",
        "        tickcolor='rgb(127,127,127)',\n",
        "        ticks='outside',\n",
        "        zeroline=False,\n",
        "        title = \"epoch\"\n",
        "    ),\n",
        "    yaxis=dict(\n",
        "        gridcolor='rgb(255,255,255)',\n",
        "        showgrid=True,\n",
        "        showline=False,\n",
        "        showticklabels=True,\n",
        "        tickcolor='rgb(127,127,127)',\n",
        "        ticks='outside',\n",
        "        zeroline=False,\n",
        "        range=[0, 1],\n",
        "        title = \"accuracy\"\n",
        "    ),\n",
        ")"
      ],
      "execution_count": 0,
      "outputs": []
    },
    {
      "cell_type": "code",
      "metadata": {
        "id": "D42YDjzkaXuz",
        "colab_type": "code",
        "colab": {}
      },
      "source": [
        "pyo.iplot(traces, filename='sdjf')"
      ],
      "execution_count": 0,
      "outputs": []
    },
    {
      "cell_type": "code",
      "metadata": {
        "id": "tGQOIJGcO_xZ",
        "colab_type": "code",
        "colab": {}
      },
      "source": [
        "fig = go.Figure(data=traces, layout=layout)\n",
        "iplot(fig, show_link=False)"
      ],
      "execution_count": 0,
      "outputs": []
    },
    {
      "cell_type": "code",
      "metadata": {
        "id": "DFAu_0uBTZ0y",
        "colab_type": "code",
        "colab": {}
      },
      "source": [
        "traces = []\n",
        "metric = \"lwlrap\"\n",
        "for key,val in loss_plots.items():\n",
        "    \n",
        "    x = list(np.arange(1,len(val[0])+1))\n",
        "    x_rev = x[::-1]\n",
        "        \n",
        "    metric_values = np.asarray([[epoch[metric] for epoch in run] for run in val])\n",
        "    \n",
        "    y_upper = list(np.amax(metric_values,axis=0))\n",
        "    y_lower = np.amin(metric_values,axis=0)\n",
        "    y_lower = list(y_lower[::-1])\n",
        "    \n",
        "    traces.append(go.Scatter(\n",
        "        x=x+x_rev,\n",
        "        y=y_upper+y_lower,\n",
        "        fill='tozerox',\n",
        "        #fillcolor='rgba(0,100,80,0.2)',\n",
        "        #line=dict(color='rgba(255,255,255,0)'),\n",
        "        showlegend=True,\n",
        "        name=key,\n",
        "    ))"
      ],
      "execution_count": 0,
      "outputs": []
    },
    {
      "cell_type": "code",
      "metadata": {
        "id": "3ObQrqoFTgTM",
        "colab_type": "code",
        "colab": {}
      },
      "source": [
        "layout = go.Layout(\n",
        "    paper_bgcolor='rgb(255,255,255)',\n",
        "    plot_bgcolor='rgb(229,229,229)',\n",
        "    xaxis=dict(\n",
        "        gridcolor='rgb(255,255,255)',\n",
        "        range=[1,6],\n",
        "        showgrid=True,\n",
        "        showline=False,\n",
        "        showticklabels=True,\n",
        "        tickcolor='rgb(127,127,127)',\n",
        "        ticks='outside',\n",
        "        zeroline=False,\n",
        "        title = \"epoch\"\n",
        "    ),\n",
        "    yaxis=dict(\n",
        "        gridcolor='rgb(255,255,255)',\n",
        "        showgrid=True,\n",
        "        showline=False,\n",
        "        showticklabels=True,\n",
        "        tickcolor='rgb(127,127,127)',\n",
        "        ticks='outside',\n",
        "        zeroline=False,\n",
        "        range=[0, 1],\n",
        "        title = \"accuracy\"\n",
        "    ),\n",
        ")"
      ],
      "execution_count": 0,
      "outputs": []
    },
    {
      "cell_type": "code",
      "metadata": {
        "id": "2w2oCpNrUIai",
        "colab_type": "code",
        "colab": {}
      },
      "source": [
        "\n",
        "fig = go.Figure(data=traces, layout=layout)\n",
        "pyo.iplot(fig, filename='td_medium_lr_1_vanilla_validation')"
      ],
      "execution_count": 0,
      "outputs": []
    },
    {
      "cell_type": "code",
      "metadata": {
        "id": "pe7_KMRdR9wk",
        "colab_type": "code",
        "colab": {}
      },
      "source": [
        "import plotly\n",
        "plotly.__version__"
      ],
      "execution_count": 0,
      "outputs": []
    },
    {
      "cell_type": "code",
      "metadata": {
        "id": "Tz_tyKKySeNE",
        "colab_type": "code",
        "colab": {}
      },
      "source": [
        "!pip install plotly --upgrade"
      ],
      "execution_count": 0,
      "outputs": []
    },
    {
      "cell_type": "code",
      "metadata": {
        "id": "iIz26h8tPNfN",
        "colab_type": "code",
        "colab": {}
      },
      "source": [
        "jupyter labextension list"
      ],
      "execution_count": 0,
      "outputs": []
    },
    {
      "cell_type": "code",
      "metadata": {
        "id": "HcKSplL6nxK3",
        "colab_type": "code",
        "colab": {}
      },
      "source": [
        "with open(\"sample_data/flowers_lr_find_loss.pickle\",\"rb\") as file:\n",
        "    lr_find_loss = pickle.load(file)\n",
        "    #lr_find_loss = lr_find_loss.detach().numpy()\n",
        "    \n",
        "with open(\"sample_data/flowers_lr_find_lr.pickle\",\"rb\") as file:\n",
        "    lr_find_lr = pickle.load(file)\n",
        "    #lr_find_lr = lr_find_lr.detach().numpy()\n",
        " \n",
        "traces = []\n",
        "\n",
        "layout = go.Layout(\n",
        "    xaxis=dict(\n",
        "        showgrid=True,\n",
        "        showline=False,\n",
        "        type='log',\n",
        "        showticklabels=True,\n",
        "        tickcolor='rgb(127,127,127)',\n",
        "        ticks='outside',\n",
        "        zeroline=False,\n",
        "        title = \"learning rate [log]\"\n",
        "    ),\n",
        "    yaxis=dict(\n",
        "        showgrid=True,\n",
        "        showline=False,\n",
        "        showticklabels=True,\n",
        "        tickcolor='rgb(127,127,127)',\n",
        "        ticks='outside',\n",
        "        zeroline=False,\n",
        "        title = \"loss\"\n",
        "    ),\n",
        ")\n",
        "\n",
        "traces.append(go.Scatter(\n",
        "        x=lr_find_lr,\n",
        "        y=lr_find_loss,\n",
        "        showlegend=False,\n",
        "        name=\"loss\",\n",
        "    ))\n",
        "\n",
        "fig = go.Figure(data=traces, layout=layout)\n",
        "py.iplot(fig, filename='td_medium_lr_loss_vanilla')"
      ],
      "execution_count": 0,
      "outputs": []
    },
    {
      "cell_type": "code",
      "metadata": {
        "id": "iew2sWYunxFT",
        "colab_type": "code",
        "colab": {}
      },
      "source": [
        "a = []\n",
        "for i in lr_find_loss:\n",
        "  i = i.detach()\n",
        "  i = i.cpu().numpy()\n",
        "  a.append(i)"
      ],
      "execution_count": 0,
      "outputs": []
    },
    {
      "cell_type": "code",
      "metadata": {
        "id": "d32MP0xTnxCf",
        "colab_type": "code",
        "colab": {}
      },
      "source": [
        "lr_find_losses = a"
      ],
      "execution_count": 0,
      "outputs": []
    },
    {
      "cell_type": "code",
      "metadata": {
        "id": "XNZ7Xj-8p5Og",
        "colab_type": "code",
        "colab": {}
      },
      "source": [
        "a = []\n",
        "for i in lr_find_lr:\n",
        "  i = i.detach()\n",
        "  i = i.cpu().numpy()\n",
        "  a.append(i)"
      ],
      "execution_count": 0,
      "outputs": []
    },
    {
      "cell_type": "code",
      "metadata": {
        "id": "zhfrZKdTp_uS",
        "colab_type": "code",
        "colab": {}
      },
      "source": [
        "lr_find_lr"
      ],
      "execution_count": 0,
      "outputs": []
    },
    {
      "cell_type": "code",
      "metadata": {
        "id": "Uz7jOc9JqLie",
        "colab_type": "code",
        "colab": {}
      },
      "source": [
        " \n",
        "traces = []\n",
        "\n",
        "layout = go.Layout(\n",
        "    xaxis=dict(\n",
        "        showgrid=True,\n",
        "        showline=False,\n",
        "        type='log',\n",
        "        showticklabels=True,\n",
        "        tickcolor='rgb(127,127,127)',\n",
        "        ticks='outside',\n",
        "        zeroline=False,\n",
        "        title = \"learning rate [log]\"\n",
        "    ),\n",
        "    yaxis=dict(\n",
        "        showgrid=True,\n",
        "        showline=False,\n",
        "        showticklabels=True,\n",
        "        tickcolor='rgb(127,127,127)',\n",
        "        ticks='outside',\n",
        "        zeroline=False,\n",
        "        title = \"loss\"\n",
        "    ),\n",
        ")\n",
        "\n",
        "traces.append(go.Scatter(\n",
        "        x=lr_find_lr,\n",
        "        y=np.array(lr_find_losses),\n",
        "        showlegend=False,\n",
        "        name=\"loss\",\n",
        "    ))\n",
        "\n",
        "fig = go.Figure(data=traces, layout=layout)\n",
        "py.iplot(fig, filename='td_medium_lr_loss_vanilla')"
      ],
      "execution_count": 0,
      "outputs": []
    },
    {
      "cell_type": "code",
      "metadata": {
        "id": "GnNuDMYmqTNI",
        "colab_type": "code",
        "colab": {}
      },
      "source": [
        ""
      ],
      "execution_count": 0,
      "outputs": []
    },
    {
      "cell_type": "code",
      "metadata": {
        "id": "BS6l1mULAa-W",
        "colab_type": "code",
        "colab": {}
      },
      "source": [
        "model = Classifier(num_classes=num_classes).to(device)\n",
        "\n",
        "optimizer = Adam(params=model.parameters(), lr=start_lr, amsgrad=False)\n",
        "criterion = nn.BCEWithLogitsLoss()"
      ],
      "execution_count": 0,
      "outputs": []
    },
    {
      "cell_type": "code",
      "metadata": {
        "id": "qVUDiGLFAu3v",
        "colab_type": "code",
        "colab": {}
      },
      "source": [
        "# LR function lambda\n",
        "\n",
        "lr_lambda = lambda x: math.exp(x * math.log(end_lr / start_lr) / (lr_find_epochs * len(train_loader)))\n",
        "scheduler = torch.optim.lr_scheduler.LambdaLR(optimizer, lr_lambda)"
      ],
      "execution_count": 0,
      "outputs": []
    },
    {
      "cell_type": "code",
      "metadata": {
        "id": "mgIQjM9NA8wU",
        "colab_type": "code",
        "colab": {}
      },
      "source": [
        "# Run the experiment \n",
        "\n",
        "lr_find_loss = []\n",
        "lr_find_lr = []\n",
        "\n",
        "iter = 0\n",
        "\n",
        "smoothing = 0.05\n",
        "\n",
        "for i in range(lr_find_epochs):\n",
        "  print(\"epoch {}\".format(i))\n",
        "  for inputs, labels in train_loader:\n",
        "    \n",
        "    # Send to device\n",
        "    inputs = inputs.to(device)\n",
        "    labels = labels.to(device)\n",
        "    \n",
        "    # Training mode and zero gradients\n",
        "    model.train()\n",
        "    optimizer.zero_grad()\n",
        "    \n",
        "    # Get outputs to calc loss\n",
        "    outputs = model(inputs)\n",
        "    loss = criterion(outputs, labels)\n",
        "\n",
        "    # Backward pass\n",
        "    loss.backward()\n",
        "    optimizer.step()\n",
        "\n",
        "    # Update LR\n",
        "    scheduler.step()\n",
        "    lr_step = optimizer.state_dict()[\"param_groups\"][0][\"lr\"]\n",
        "    lr_find_lr.append(lr_step)\n",
        "\n",
        "    # smooth the loss\n",
        "    if iter==0:\n",
        "      lr_find_loss.append(loss)\n",
        "    else:\n",
        "      loss = smoothing  * loss + (1 - smoothing) * lr_find_loss[-1]\n",
        "      lr_find_loss.append(loss)\n",
        "     \n",
        "    iter += 1"
      ],
      "execution_count": 0,
      "outputs": []
    },
    {
      "cell_type": "code",
      "metadata": {
        "id": "iA2leRz7BIGe",
        "colab_type": "code",
        "colab": {}
      },
      "source": [
        "with open(os.path.join(path,\"flowers_lr_find_lr.pickle\"),'wb') as file:\n",
        "    pickle.dump(lr_find_lr,file)\n",
        "    \n",
        "with open(os.path.join(path,\"flowers_lr_find_loss.pickle\"),'wb') as file:\n",
        "    pickle.dump(lr_find_loss,file)"
      ],
      "execution_count": 0,
      "outputs": []
    },
    {
      "cell_type": "code",
      "metadata": {
        "id": "eM7Zp27gByv0",
        "colab_type": "code",
        "colab": {}
      },
      "source": [
        "plt.ylabel(\"loss\")\n",
        "plt.xlabel(\"lr\")\n",
        "plt.xscale(\"log\")\n",
        "plt.plot(lr_find_lr, lr_find_loss)\n",
        "plt.show()"
      ],
      "execution_count": 0,
      "outputs": []
    },
    {
      "cell_type": "code",
      "metadata": {
        "id": "36lR5moaB0fS",
        "colab_type": "code",
        "colab": {}
      },
      "source": [
        "plt.ylabel(\"lr\")\n",
        "plt.xlabel(\"step\")\n",
        "plt.plot(range(len(lr_find_lr)), lr_find_lr)\n",
        "plt.show()"
      ],
      "execution_count": 0,
      "outputs": []
    },
    {
      "cell_type": "code",
      "metadata": {
        "id": "3OY9nCY_B1wz",
        "colab_type": "code",
        "colab": {}
      },
      "source": [
        "plt.ylabel(\"lr\")\n",
        "plt.xlabel(\"step\")\n",
        "plt.plot(range(len(lr_find_lr)), lr_find_lr)\n",
        "plt.show()"
      ],
      "execution_count": 0,
      "outputs": []
    },
    {
      "cell_type": "code",
      "metadata": {
        "id": "oBzsOo7YCPNv",
        "colab_type": "code",
        "colab": {}
      },
      "source": [
        "lr_max = 5*10e-1"
      ],
      "execution_count": 0,
      "outputs": []
    },
    {
      "cell_type": "code",
      "metadata": {
        "id": "d0gWY0ZPCdVb",
        "colab_type": "code",
        "colab": {}
      },
      "source": [
        "def cyclical_lr(stepsize, min_lr=5, max_lr=5e-1):\n",
        "\n",
        "    # Scaler: we can adapt this if we do not want the triangular CLR\n",
        "    scaler = lambda x: 1.\n",
        "\n",
        "    # Lambda function to calculate the LR\n",
        "    lr_lambda = lambda it: min_lr + (max_lr - min_lr) * relative(it, stepsize)\n",
        "\n",
        "    # Additional function to see where on the cycle we are\n",
        "    def relative(it, stepsize):\n",
        "        cycle = math.floor(1 + it / (2 * stepsize))\n",
        "        x = abs(it / stepsize - 2 * cycle + 1)\n",
        "        return max(0, (1 - x)) * scaler(cycle)\n",
        "\n",
        "    return lr_lambda"
      ],
      "execution_count": 0,
      "outputs": []
    },
    {
      "cell_type": "code",
      "metadata": {
        "id": "oNTkyVx5zIG9",
        "colab_type": "code",
        "colab": {}
      },
      "source": [
        "def test(model, device, valid_loader):\n",
        "    model.eval()\n",
        "    test_losses = []\n",
        "    correct = 0\n",
        "    valid_preds = np.zeros((len(x_val), num_classes))\n",
        "    with torch.no_grad():\n",
        "        for data, target in valid_loader:\n",
        "            data, target = data.to(device), target.to(device)\n",
        "            output = model(data)\n",
        "            test_loss = criterion(output, target)\n",
        "            pred = torch.sigmoid(output)\n",
        "            \n",
        "            test_losses.append(test_loss.item())\n",
        "            #pred = output.argmax(dim=1, keepdim=True) # get the index of the max log-probability\n",
        "            correct += pred.eq(target.view_as(pred)).sum().item()\n",
        "\n",
        "    test_loss /= len(valid_loader)\n",
        "    \n",
        "    print('\\nTest set: Average loss: {:.4f}, Accuracy: {}/{} ({:.0f}%)\\n'.format(\n",
        "        np.mean(test_losses), correct, len(valid_loader),\n",
        "        100. * correct / len(valid_loader)))\n",
        "    \n",
        "    return np.mean(test_losses), correct / len(valid_loader)"
      ],
      "execution_count": 0,
      "outputs": []
    },
    {
      "cell_type": "code",
      "metadata": {
        "id": "7tXszjbcEW2b",
        "colab_type": "code",
        "colab": {}
      },
      "source": [
        "epochs = 47"
      ],
      "execution_count": 0,
      "outputs": []
    },
    {
      "cell_type": "code",
      "metadata": {
        "id": "TN1WvboVCerG",
        "colab_type": "code",
        "colab": {}
      },
      "source": [
        "# Parameters\n",
        "\n",
        "factor = 6\n",
        "end_lr = lr_max\n",
        "iter=0\n",
        "total_logs = []\n",
        "\n",
        "\n",
        "\n",
        "# Do 3 sequential runs\n",
        "for run in tqdm_notebook(range(3)):\n",
        "    \n",
        "    # Instantiate the model  \n",
        "    model = Classifier(num_classes=num_classes).to(device)\n",
        "    \n",
        "    # Define the loss function\n",
        "    criterion = nn.BCEWithLogitsLoss()\n",
        "    \n",
        "    # Define the optimizer\n",
        "    optimizer = Adam(params=model.parameters(), lr=1., amsgrad=False)\n",
        "    #optimizer = torch.optim.SGD(model.parameters(), lr=1.)\n",
        "    step_size = 4*len(train_loader)\n",
        "    clr = cyclical_lr(step_size, min_lr=end_lr/factor, max_lr=end_lr)\n",
        "    scheduler = torch.optim.lr_scheduler.LambdaLR(optimizer, [clr])\n",
        "    \n",
        "    logs = []\n",
        "\n",
        "    #Train the model\n",
        "    iter = 0\n",
        "    for epoch in range(epochs):\n",
        "\n",
        "        losses = []\n",
        "        accuracies = []\n",
        "\n",
        "        for i, (images, labels) in enumerate(train_loader):\n",
        "\n",
        "            # Send data to GPU\n",
        "            images, labels = images.to(device), labels.to(device)\n",
        "\n",
        "            # Clear the gradients\n",
        "            optimizer.zero_grad()\n",
        "\n",
        "            # Forward propagation \n",
        "            outputs = model(images)   \n",
        "            \n",
        "            # Calculating loss with softmax to obtain cross entropy loss\n",
        "            loss = criterion(outputs, labels)\n",
        "\n",
        "            # Backward propation\n",
        "            loss.backward()\n",
        "            \n",
        "            # Clip the gradients norm to avoid them becoming too large\n",
        "            clip_grad_norm_(model.parameters(), 5)\n",
        "            \n",
        "            # Update the LR\n",
        "            scheduler.step()\n",
        "            \n",
        "            losses.append(loss.item())\n",
        "            lr_sched_test = scheduler.get_lr()\n",
        "\n",
        "            # Updating gradients\n",
        "            optimizer.step()\n",
        "\n",
        "            iter += 1\n",
        "            \n",
        "            # Total number of labels\n",
        "            total = labels.size(0)\n",
        "\n",
        "            # Obtaining predictions from max value\n",
        "            #_, predicted = torch.max(outputs.data, 1)\n",
        "            predicted = outputs\n",
        "\n",
        "            # Calculate the number of correct answers\n",
        "            correct = (predicted == labels).sum().item()\n",
        "    \n",
        "            accuracies.append(correct/total)\n",
        "\n",
        "        print(\"-- Epoch {}, average training loss: {:.4f}, average training accuracy: {:2f}\".format(epoch, np.mean(losses), np.mean(accuracies)))\n",
        "\n",
        "        valid_loss, valid_acc = test(model, device, valid_loader)\n",
        "          \n",
        "        logs.append({\n",
        "                'acc':np.mean(accuracies),\n",
        "                \"loss\":np.mean(losses),\n",
        "                \"val_acc\":valid_acc,\n",
        "                \"val_loss\":valid_loss\n",
        "        })\n",
        "            \n",
        "        \n",
        "    with open(os.path.join(path,\"flowers_{}_{}.pickle\".format('sgd_clr',datetime.now().strftime('%Y%m%d%H%M%S') )),'wb') as file:\n",
        "        pickle.dump(logs,file)"
      ],
      "execution_count": 0,
      "outputs": []
    },
    {
      "cell_type": "code",
      "metadata": {
        "id": "wQUywNsreNId",
        "colab_type": "code",
        "colab": {}
      },
      "source": [
        "for key in [\"rmsprop\",\"adagrad\",\"adamax\",\"adam\",\"adadelta\"]:\n",
        "      \n",
        "    print(\"testing optimizer {}\".format(key))\n",
        "\n",
        "    total_logs = []\n",
        "    \n",
        "    # Do 3 runs each    \n",
        "    for run in tqdm_notebook(range(3)):\n",
        "        \n",
        "        print(\"doing run {} of 3\".format(run))\n",
        "        \n",
        "        # Instantiate the model\n",
        "        model = Classifier(num_classes=num_classes).cuda()\n",
        "        \n",
        "        # Define the loss function\n",
        "        #criterion = nn.CrossEntropyLoss()\n",
        "        criterion = nn.BCEWithLogitsLoss().cuda()\n",
        "    \n",
        "        # Define the optimizer\n",
        "        if key == \"adam\":\n",
        "            optimizer = torch.optim.Adam(model.parameters())\n",
        "        elif key == \"adamax\":\n",
        "            optimizer = torch.optim.Adamax(model.parameters())\n",
        "        elif key == \"adagrad\":\n",
        "            optimizer = torch.optim.Adagrad(model.parameters())\n",
        "        elif key == \"adadelta\":\n",
        "            optimizer = torch.optim.Adadelta(model.parameters())\n",
        "        elif key == \"rmsprop\":\n",
        "            optimizer = torch.optim.RMSprop(model.parameters())\n",
        "            \n",
        "        \n",
        "        \n",
        "        logs = []\n",
        "\n",
        "        #Train the model\n",
        "        iter = 0\n",
        "        for epoch in range(epochs):\n",
        "\n",
        "            losses = []\n",
        "            accuracies = []\n",
        "\n",
        "            for i, (images, labels) in enumerate(train_loader):\n",
        "\n",
        "                # Send the data to the GPU\n",
        "                images, labels = images.to(device), labels.to(device)\n",
        "\n",
        "                # Clear the gradients\n",
        "                optimizer.zero_grad()\n",
        "\n",
        "                # Forward propagation \n",
        "                outputs = model(images)      \n",
        "\n",
        "                # Calculating loss with softmax to obtain cross entropy loss\n",
        "                loss = criterion(outputs, labels)\n",
        "\n",
        "                # Backward propation\n",
        "                loss.backward()\n",
        "                losses.append(loss.item())\n",
        "\n",
        "                # Updating gradients\n",
        "                optimizer.step()\n",
        "\n",
        "                iter += 1\n",
        "\n",
        "                # Total number of labels\n",
        "                total = labels.size(0)\n",
        "\n",
        "                # Obtaining predictions from max value\n",
        "                #_, predicted = torch.max(outputs.data, 1)\n",
        "                \n",
        "                predicted = outputs\n",
        "                # Calculate the number of correct answers\n",
        "                correct = (predicted == labels).sum().item()\n",
        "    \n",
        "                accuracies.append(correct/total)\n",
        "\n",
        "            print(\"-- Epoch {}, average training loss: {:.4f}, average training accuracy: {:2f}\".format(epoch, np.mean(losses), np.mean(accuracies)))\n",
        "\n",
        "            valid_loss, valid_acc = test(model, device, valid_loader)\n",
        "            \n",
        "            logs.append({\n",
        "                'acc':np.mean(accuracies),\n",
        "                \"loss\":np.mean(losses),\n",
        "                \"val_acc\":valid_acc,\n",
        "                \"val_loss\":valid_loss\n",
        "            })\n",
        "            \n",
        "        \n",
        "        with open(os.path.join(path,\"flowers_{}_{}.pickle\".format(key,datetime.now().strftime('%Y%m%d%H%M%S') )),'wb') as file:\n",
        "            pickle.dump(logs,file)"
      ],
      "execution_count": 0,
      "outputs": []
    },
    {
      "cell_type": "code",
      "metadata": {
        "id": "8mETEglY4HLA",
        "colab_type": "code",
        "colab": {}
      },
      "source": [
        "x_train[0].shape"
      ],
      "execution_count": 0,
      "outputs": []
    },
    {
      "cell_type": "code",
      "metadata": {
        "id": "bxTwcKr2jLtl",
        "colab_type": "code",
        "colab": {}
      },
      "source": [
        "!git clone https://github.com/ncullen93/torchsample.git"
      ],
      "execution_count": 0,
      "outputs": []
    },
    {
      "cell_type": "code",
      "metadata": {
        "id": "SlDDVd-ajmwZ",
        "colab_type": "code",
        "colab": {}
      },
      "source": [
        "%%bash\n",
        "\n",
        "pip install -e git+https://github.com/ncullen93/torchsample.git#egg=torchsample\n",
        "pip install visdom\n",
        "pip install nibabel\n",
        "pip install h5py  # this will be removed in the formal version"
      ],
      "execution_count": 0,
      "outputs": []
    },
    {
      "cell_type": "code",
      "metadata": {
        "id": "gNxdiwiPisWv",
        "colab_type": "code",
        "colab": {}
      },
      "source": [
        "from torchsample.transforms import RangeNormalize\n",
        "norm_01 = RangeNormalize(0, 1)"
      ],
      "execution_count": 0,
      "outputs": []
    },
    {
      "cell_type": "code",
      "metadata": {
        "id": "QhFdvCcSlvKq",
        "colab_type": "code",
        "colab": {}
      },
      "source": [
        "train_dataset[0]"
      ],
      "execution_count": 0,
      "outputs": []
    },
    {
      "cell_type": "code",
      "metadata": {
        "id": "mC8grH3Jl67s",
        "colab_type": "code",
        "colab": {}
      },
      "source": [
        "x_train_mnist = train_dataset.mels"
      ],
      "execution_count": 0,
      "outputs": []
    },
    {
      "cell_type": "code",
      "metadata": {
        "id": "CKRwmytdmOXS",
        "colab_type": "code",
        "colab": {}
      },
      "source": [
        "train_dataset.labels"
      ],
      "execution_count": 0,
      "outputs": []
    },
    {
      "cell_type": "code",
      "metadata": {
        "id": "ouvvR206leVX",
        "colab_type": "code",
        "colab": {}
      },
      "source": [
        "print('Before Tform: ' , x_train_mnist[0].min(), ' - ', x_train_mnist[0].max())\n",
        "x_norm = norm_01(x_train_mnist[0])\n",
        "print('After Tform: ' , x_norm.min(), ' - ', x_norm.max())"
      ],
      "execution_count": 0,
      "outputs": []
    },
    {
      "cell_type": "code",
      "metadata": {
        "id": "6KEBGVHyiych",
        "colab_type": "code",
        "colab": {}
      },
      "source": [
        "print('Before Tform: ' , x_train[0].min(), ' - ', x_train[0].max())\n",
        "x_norm = norm_01(x_train[0])\n",
        "print('After Tform: ' , x_norm.min(), ' - ', x_norm.max())"
      ],
      "execution_count": 0,
      "outputs": []
    },
    {
      "cell_type": "code",
      "metadata": {
        "id": "My39I0RFVjXW",
        "colab_type": "code",
        "colab": {}
      },
      "source": [
        "# Image Loading Code used for these examples\n",
        "\n",
        "from PIL import Image\n",
        "import numpy as np\n",
        "import matplotlib.pyplot as plt\n",
        "\n",
        "\n",
        "\n",
        "plt.imshow(x_train[0])\n",
        "plt.show()"
      ],
      "execution_count": 0,
      "outputs": []
    },
    {
      "cell_type": "code",
      "metadata": {
        "id": "Kj9JuNHlVxDs",
        "colab_type": "code",
        "colab": {}
      },
      "source": [
        "img.shape"
      ],
      "execution_count": 0,
      "outputs": []
    },
    {
      "cell_type": "code",
      "metadata": {
        "id": "FT9oCQBaVu4K",
        "colab_type": "code",
        "colab": {}
      },
      "source": [
        "# Flipping images with Numpy\n",
        "flipped_img = np.fliplr(img)\n",
        "plt.imshow(flipped_img)\n",
        "plt.show()"
      ],
      "execution_count": 0,
      "outputs": []
    },
    {
      "cell_type": "code",
      "metadata": {
        "id": "vAneevAIV-Gc",
        "colab_type": "code",
        "colab": {}
      },
      "source": [
        "HEIGHT = 127\n",
        "WIDTH = 487"
      ],
      "execution_count": 0,
      "outputs": []
    },
    {
      "cell_type": "code",
      "metadata": {
        "id": "edvPId4sWLXi",
        "colab_type": "code",
        "colab": {}
      },
      "source": [
        "plt.imshow(img)"
      ],
      "execution_count": 0,
      "outputs": []
    },
    {
      "cell_type": "code",
      "metadata": {
        "id": "KDTOvjYdZT_l",
        "colab_type": "code",
        "colab": {}
      },
      "source": [
        "HEIGHT = 148\n",
        "WIDHT = 448\n",
        "DEPTH = 3"
      ],
      "execution_count": 0,
      "outputs": []
    },
    {
      "cell_type": "code",
      "metadata": {
        "id": "TViGNtWWYpoO",
        "colab_type": "code",
        "colab": {}
      },
      "source": [
        "#ADDED NOISE:\n",
        "noise = np.random.randint(5, size = (164, 278, 4), dtype = 'uint8')\n",
        "\n",
        "for i in range(WIDTH):\n",
        "  for j in range(HEIGHT):\n",
        "    for k in range(DEPTH):\n",
        "      if (img[i][j][k] != 255):\n",
        "        img[i][j][k] += noise[i][j][k]\n",
        "        \n",
        "plt.imshow(img)\n",
        "plt.show(img)"
      ],
      "execution_count": 0,
      "outputs": []
    },
    {
      "cell_type": "markdown",
      "metadata": {
        "id": "HF7D88yZZO5H",
        "colab_type": "text"
      },
      "source": [
        ""
      ]
    },
    {
      "cell_type": "code",
      "metadata": {
        "id": "WJhEOWuUYpkb",
        "colab_type": "code",
        "colab": {}
      },
      "source": [
        ""
      ],
      "execution_count": 0,
      "outputs": []
    },
    {
      "cell_type": "code",
      "metadata": {
        "id": "ZuThQSKTYpf-",
        "colab_type": "code",
        "colab": {}
      },
      "source": [
        ""
      ],
      "execution_count": 0,
      "outputs": []
    },
    {
      "cell_type": "code",
      "metadata": {
        "id": "w3qVxxC_4Jgq",
        "colab_type": "code",
        "colab": {}
      },
      "source": [
        "class RandomDihedral(object):\n",
        "    \"\"\"\n",
        "    Rotates images by random multiples of 90 degrees and/or reflection.\n",
        "    Please reference D8(dihedral group of order eight), the group of all symmetries of the square.\n",
        "    \"\"\"\n",
        "    def __init__(self, output_size):\n",
        "      assert isinstance(output_size, (int, tuple))\n",
        "      self.output_size = output_size\n",
        "      \n",
        "      self.rot_times = random.randint(0.3)\n",
        "      self.do_flip = random.random()<0.5\n",
        "      \n",
        "    def __call__(self, (image, label)):\n",
        "      image = np.rot90(image, self.rot_times)"
      ],
      "execution_count": 0,
      "outputs": []
    },
    {
      "cell_type": "code",
      "metadata": {
        "id": "xw_tqsBP1dSe",
        "colab_type": "code",
        "colab": {}
      },
      "source": [
        "class RandomDihedral(CoordTransform):\n",
        "\n",
        "    def set_state(self):\n",
        "        self.store.rot_times = random.randint(0,3)\n",
        "        self.store.do_flip = random.random()<0.5\n",
        "\n",
        "    def do_transform(self, x, is_y):\n",
        "        x = np.rot90(x, self.store.rot_times)\n",
        "        return np.fliplr(x).copy() if self.store.do_flip else x"
      ],
      "execution_count": 0,
      "outputs": []
    },
    {
      "cell_type": "code",
      "metadata": {
        "id": "z40ONXDD1fKI",
        "colab_type": "code",
        "colab": {}
      },
      "source": [
        "b = random.randint(0, 3)"
      ],
      "execution_count": 0,
      "outputs": []
    },
    {
      "cell_type": "code",
      "metadata": {
        "id": "C5yrM8e71kEG",
        "colab_type": "code",
        "colab": {}
      },
      "source": [
        "b"
      ],
      "execution_count": 0,
      "outputs": []
    },
    {
      "cell_type": "code",
      "metadata": {
        "id": "7PkdIbDPaMpX",
        "colab_type": "code",
        "colab": {}
      },
      "source": [
        "a = np.rot90(x_train[0], b)"
      ],
      "execution_count": 0,
      "outputs": []
    },
    {
      "cell_type": "code",
      "metadata": {
        "id": "n0xhRFhoXZtO",
        "colab_type": "code",
        "colab": {}
      },
      "source": [
        "#apply dihedral:\n",
        "random.random()<0.5"
      ],
      "execution_count": 0,
      "outputs": []
    },
    {
      "cell_type": "code",
      "metadata": {
        "colab_type": "code",
        "id": "URAnWttUtcr7",
        "colab": {}
      },
      "source": [
        "image = Image.fromarray(x_train[0], mode='RGB')        \n",
        "plt.imshow(image)"
      ],
      "execution_count": 0,
      "outputs": []
    },
    {
      "cell_type": "code",
      "metadata": {
        "id": "eFZ4_8-O1ufP",
        "colab_type": "code",
        "colab": {}
      },
      "source": [
        "c = np.fliplr(x_train[0]).copy()"
      ],
      "execution_count": 0,
      "outputs": []
    },
    {
      "cell_type": "code",
      "metadata": {
        "id": "_neB5FRd05s7",
        "colab_type": "code",
        "colab": {}
      },
      "source": [
        "image = Image.fromarray(c, mode='RGB')        \n",
        "plt.imshow(image)"
      ],
      "execution_count": 0,
      "outputs": []
    },
    {
      "cell_type": "code",
      "metadata": {
        "id": "f2lY0pEwji5S",
        "colab_type": "code",
        "colab": {}
      },
      "source": [
        "#1st:\n",
        "transforms_dict = {\n",
        "    'train': transforms.Compose([\n",
        "        transforms.RandomRotation(10),\n",
        "        transforms.ToTensor(),\n",
        "    ]),\n",
        "    'test': transforms.Compose([\n",
        "        transforms.ToTensor(),\n",
        "    ]),\n",
        "}"
      ],
      "execution_count": 0,
      "outputs": []
    },
    {
      "cell_type": "code",
      "metadata": {
        "colab_type": "code",
        "id": "5GbmuSfWtorp",
        "colab": {}
      },
      "source": [
        "#7th:dihedral??\n",
        "transforms_dict = {\n",
        "    'train': transforms.Compose([\n",
        "        transforms.RandomRotation(90),\n",
        "        transforms.ToTensor(),\n",
        "    ]),\n",
        "    'test': transforms.Compose([\n",
        "        transforms.ToTensor(),\n",
        "    ]),\n",
        "}"
      ],
      "execution_count": 0,
      "outputs": []
    },
    {
      "cell_type": "code",
      "metadata": {
        "colab_type": "code",
        "id": "FNxTxVketoru",
        "colab": {}
      },
      "source": [
        "#dihedral\n",
        "def dihedral(x, dih):\n",
        "    \"\"\" Perform any of 8 permutations of 90-degrees rotations or flips for image x. \"\"\"\n",
        "    x = np.rot90(x, dih%4)\n",
        "    return x if dih<4 else np.fliplr(x)"
      ],
      "execution_count": 0,
      "outputs": []
    },
    {
      "cell_type": "code",
      "metadata": {
        "colab_type": "code",
        "id": "tBpGe3Mgtor0",
        "colab": {}
      },
      "source": [
        "#dihedral class:\n",
        "class Dihedral(object):\n",
        "  \"\"\" Perform any of 8 permutations of 90-degrees rotations or flips for image x. \"\"\"\n",
        "  \n",
        "  \n",
        "  def __init__(self, output_size):\n",
        "    assert isinstance(output_size, (int, tuple))\n",
        "    self.output_size = output_size\n",
        "    \n",
        "  def __cal__(self, image, label):\n",
        "    image, target = image, label\n",
        "    \n",
        "    x = np.rot90(x, dih)"
      ],
      "execution_count": 0,
      "outputs": []
    },
    {
      "cell_type": "code",
      "metadata": {
        "id": "Ll3msy5Zjy_u",
        "colab_type": "code",
        "colab": {}
      },
      "source": [
        "#2nd:\n",
        "transforms_dict = {\n",
        "    'train': transforms.Compose([\n",
        "        transforms.ColorJitter(brightness=0.05, contrast=0.05, saturation=0.05, hue=0.05),\n",
        "        transforms.ToTensor(),\n",
        "    ]),\n",
        "    'test': transforms.Compose([\n",
        "        transforms.ToTensor(),\n",
        "    ]),\n",
        "}"
      ],
      "execution_count": 0,
      "outputs": []
    },
    {
      "cell_type": "code",
      "metadata": {
        "id": "6fmASw-4dIdu",
        "colab_type": "code",
        "colab": {}
      },
      "source": [
        "transforms_dict = {\n",
        "    'train': transforms.Compose([\n",
        "        transforms.ToTensor(),\n",
        "    ]),\n",
        "    'test': transforms.Compose([\n",
        "        transforms.ToTensor(),\n",
        "    ]),\n",
        "}"
      ],
      "execution_count": 0,
      "outputs": []
    },
    {
      "cell_type": "code",
      "metadata": {
        "colab_type": "code",
        "id": "UI_RKT7QfgXF",
        "colab": {}
      },
      "source": [
        "train_transforms = transforms_dict['train']\n",
        "\n",
        "batch_size = 64\n",
        "\n",
        "test_batch_size = 64"
      ],
      "execution_count": 0,
      "outputs": []
    },
    {
      "cell_type": "code",
      "metadata": {
        "colab_type": "code",
        "id": "HC5i7DF2fgXJ",
        "colab": {}
      },
      "source": [
        "x_trn, x_val, y_trn, y_val = train_test_split(x_train, y_train, test_size=0.2, random_state=SEED)\n",
        "\n",
        "train_dataset = FATTrainDataset(x_trn, y_trn, train_transforms)\n",
        "valid_dataset = FATTrainDataset(x_val, y_val, train_transforms)\n",
        "\n",
        "train_loader = DataLoader(train_dataset, batch_size=batch_size, shuffle=True)\n",
        "valid_loader = DataLoader(valid_dataset, batch_size=test_batch_size, shuffle=False)"
      ],
      "execution_count": 0,
      "outputs": []
    },
    {
      "cell_type": "code",
      "metadata": {
        "id": "aL6JSw1NAKAd",
        "colab_type": "code",
        "colab": {}
      },
      "source": [
        ""
      ],
      "execution_count": 0,
      "outputs": []
    },
    {
      "cell_type": "code",
      "metadata": {
        "colab_type": "code",
        "id": "Uq86TKwzAKQA",
        "colab": {}
      },
      "source": [
        "path = 'sample_data/'\n",
        "\n",
        "epochs = 3\n",
        "\n",
        "device = torch.device('cuda:0' if torch.cuda.is_available() else 'cpu')"
      ],
      "execution_count": 0,
      "outputs": []
    },
    {
      "cell_type": "code",
      "metadata": {
        "colab_type": "code",
        "id": "aHifYhTEAKQE",
        "colab": {}
      },
      "source": [
        "from sklearn.model_selection import train_test_split\n",
        "\n",
        "import torch \n",
        "import torch.nn as nn\n",
        "import torch.nn.functional as F\n",
        "from torch.nn.utils import clip_grad_norm_, clip_grad_value_\n",
        "from torch.utils.data.sampler import SubsetRandomSampler\n",
        "import torchvision\n",
        "import torchvision.transforms as transforms\n",
        "import torchvision.models as models\n",
        "\n",
        "from tqdm import tqdm_notebook\n",
        "from shutil import copyfile\n",
        "import os\n",
        "import math\n",
        "import pickle\n",
        "import numpy as np\n",
        "from datetime import datetime, timedelta\n",
        "import pandas as pd\n",
        "import matplotlib.pyplot as plt\n",
        "\n",
        "import PIL\n",
        "from PIL import Image\n",
        "from collections import Counter"
      ],
      "execution_count": 0,
      "outputs": []
    },
    {
      "cell_type": "code",
      "metadata": {
        "colab_type": "code",
        "id": "mVgH5xAMAKQG",
        "colab": {}
      },
      "source": [
        "def test(model, device, valid_loader):\n",
        "    model.eval()\n",
        "    test_losses = []\n",
        "    correct = 0\n",
        "    valid_preds = np.zeros((len(x_val), num_classes))\n",
        "    with torch.no_grad():\n",
        "        for data, target in valid_loader:\n",
        "            data, target = data.to(device), target.to(device)\n",
        "            output = model(data)\n",
        "            test_loss = criterion(output, target)\n",
        "            pred = torch.sigmoid(output)\n",
        "            \n",
        "            test_losses.append(test_loss.item())\n",
        "            #pred = output.argmax(dim=1, keepdim=True) # get the index of the max log-probability\n",
        "            correct += pred.eq(target.view_as(pred)).sum().item()\n",
        "\n",
        "    test_loss /= len(valid_loader)\n",
        "    \n",
        "    print('\\nTest set: Average loss: {:.4f}, Accuracy: {}/{} ({:.0f}%)\\n'.format(\n",
        "        np.mean(test_losses), correct, len(valid_loader),\n",
        "        100. * correct / len(valid_loader)))\n",
        "    \n",
        "    return np.mean(test_losses), correct / len(valid_loader)"
      ],
      "execution_count": 0,
      "outputs": []
    },
    {
      "cell_type": "code",
      "metadata": {
        "colab_type": "code",
        "id": "y50DZKTPAKQL",
        "colab": {}
      },
      "source": [
        "for key in [\"rmsprop\",\"adagrad\",\"adamax\",\"adam\",\"adadelta\"]:\n",
        "      \n",
        "    print(\"testing optimizer {}\".format(key))\n",
        "\n",
        "    total_logs = []\n",
        "    \n",
        "    # Do 3 runs each    \n",
        "    for run in tqdm_notebook(range(3)):\n",
        "        \n",
        "        print(\"doing run {} of 3\".format(run))\n",
        "        \n",
        "        # Instantiate the model\n",
        "        model = Classifier(num_classes=num_classes).cuda()\n",
        "        \n",
        "        # Define the loss function\n",
        "        #criterion = nn.CrossEntropyLoss()\n",
        "        criterion = nn.BCEWithLogitsLoss().cuda()\n",
        "    \n",
        "        # Define the optimizer\n",
        "        if key == \"adam\":\n",
        "            optimizer = torch.optim.Adam(model.parameters())\n",
        "        elif key == \"adamax\":\n",
        "            optimizer = torch.optim.Adamax(model.parameters())\n",
        "        elif key == \"adagrad\":\n",
        "            optimizer = torch.optim.Adagrad(model.parameters())\n",
        "        elif key == \"adadelta\":\n",
        "            optimizer = torch.optim.Adadelta(model.parameters())\n",
        "        elif key == \"rmsprop\":\n",
        "            optimizer = torch.optim.RMSprop(model.parameters())\n",
        "            \n",
        "        \n",
        "        \n",
        "        logs = []\n",
        "\n",
        "        #Train the model\n",
        "        iter = 0\n",
        "        for epoch in range(epochs):\n",
        "\n",
        "            losses = []\n",
        "            accuracies = []\n",
        "\n",
        "            for i, (images, labels) in enumerate(train_loader):\n",
        "\n",
        "                # Send the data to the GPU\n",
        "                images, labels = images.to(device), labels.to(device)\n",
        "\n",
        "                # Clear the gradients\n",
        "                optimizer.zero_grad()\n",
        "\n",
        "                # Forward propagation \n",
        "                outputs = model(images)      \n",
        "\n",
        "                # Calculating loss with softmax to obtain cross entropy loss\n",
        "                loss = criterion(outputs, labels)\n",
        "\n",
        "                # Backward propation\n",
        "                loss.backward()\n",
        "                losses.append(loss.item())\n",
        "\n",
        "                # Updating gradients\n",
        "                optimizer.step()\n",
        "\n",
        "                iter += 1\n",
        "\n",
        "                # Total number of labels\n",
        "                total = labels.size(0)\n",
        "\n",
        "                # Obtaining predictions from max value\n",
        "                #_, predicted = torch.max(outputs.data, 1)\n",
        "                \n",
        "                predicted = outputs\n",
        "                # Calculate the number of correct answers\n",
        "                correct = (predicted == labels).sum().item()\n",
        "    \n",
        "                accuracies.append(correct/total)\n",
        "\n",
        "            print(\"-- Epoch {}, average training loss: {:.4f}, average training accuracy: {:2f}\".format(epoch, np.mean(losses), np.mean(accuracies)))\n",
        "\n",
        "            valid_loss, valid_acc = test(model, device, valid_loader)\n",
        "            \n",
        "            logs.append({\n",
        "                'acc':np.mean(accuracies),\n",
        "                \"loss\":np.mean(losses),\n",
        "                \"val_acc\":valid_acc,\n",
        "                \"val_loss\":valid_loss\n",
        "            })\n",
        "            \n",
        "        \n",
        "        with open(os.path.join(path,\"flowers_{}_{}.pickle\".format(key,datetime.now().strftime('%Y%m%d%H%M%S') )),'wb') as file:\n",
        "            pickle.dump(logs,file)"
      ],
      "execution_count": 0,
      "outputs": []
    },
    {
      "cell_type": "code",
      "metadata": {
        "id": "F5-2pvejAJ9c",
        "colab_type": "code",
        "colab": {}
      },
      "source": [
        "import torch \n",
        "import torch.nn as nn\n",
        "import torch.nn.functional as F\n",
        "from torch.nn.utils import clip_grad_norm_, clip_grad_value_\n",
        "from torch.utils.data.sampler import SubsetRandomSampler\n",
        "import torchvision\n",
        "import torchvision.transforms as transforms\n",
        "import torchvision.models as models\n",
        "\n",
        "from tqdm import tqdm_notebook\n",
        "from shutil import copyfile\n",
        "import os\n",
        "import math\n",
        "import pickle\n",
        "import numpy as np\n",
        "from datetime import datetime, timedelta\n",
        "import pandas as pd\n",
        "import matplotlib.pyplot as plt\n",
        "\n",
        "import PIL\n",
        "from PIL import Image\n",
        "from collections import Counter"
      ],
      "execution_count": 0,
      "outputs": []
    },
    {
      "cell_type": "code",
      "metadata": {
        "id": "99yj7s3FAJ6r",
        "colab_type": "code",
        "colab": {}
      },
      "source": [
        "!mkdir logs"
      ],
      "execution_count": 0,
      "outputs": []
    },
    {
      "cell_type": "code",
      "metadata": {
        "id": "r7mfs8NxI58S",
        "colab_type": "code",
        "colab": {}
      },
      "source": [
        "!mkdir logs/flowers_vanilla"
      ],
      "execution_count": 0,
      "outputs": []
    },
    {
      "cell_type": "code",
      "metadata": {
        "id": "ykUljzU8I54K",
        "colab_type": "code",
        "colab": {}
      },
      "source": [
        "path = 'logs/flowers_vanilla/'\n",
        "\n",
        "epochs = 60\n",
        "\n",
        "device = torch.device('cuda:0' if torch.cuda.is_available() else 'cpu')\n",
        "\n",
        "lr_find_epochs = 2\n",
        "\n",
        "start_lr = 1e-7\n",
        "\n",
        "end_lr = 0.1"
      ],
      "execution_count": 0,
      "outputs": []
    },
    {
      "cell_type": "code",
      "metadata": {
        "id": "QDiX_DEeI8_g",
        "colab_type": "code",
        "colab": {}
      },
      "source": [
        "model = Classifier(num_classes=num_classes).to(device)\n",
        "\n",
        "optimizer = torch.optim.Adamax(model.parameters(), start_lr)\n",
        "\n",
        "\n",
        "criterion = nn.BCEWithLogitsLoss()"
      ],
      "execution_count": 0,
      "outputs": []
    },
    {
      "cell_type": "code",
      "metadata": {
        "id": "sYs8lAmTI88Q",
        "colab_type": "code",
        "colab": {}
      },
      "source": [
        "lr_lambda = lambda x: math.exp(x * math.log(end_lr / start_lr) / (lr_find_epochs * len(train_loader)))\n",
        "scheduler = torch.optim.lr_scheduler.LambdaLR(optimizer, lr_lambda)"
      ],
      "execution_count": 0,
      "outputs": []
    },
    {
      "cell_type": "code",
      "metadata": {
        "id": "M4JRHallI85M",
        "colab_type": "code",
        "colab": {}
      },
      "source": [
        "# Run the experiment \n",
        "\n",
        "lr_find_loss = []\n",
        "lr_find_lr = []\n",
        "\n",
        "iter = 0\n",
        "\n",
        "smoothing = 0.05\n",
        "\n",
        "for i in range(lr_find_epochs):\n",
        "  print(\"epoch {}\".format(i))\n",
        "  for inputs, labels in train_loader:\n",
        "    \n",
        "    # Send to device\n",
        "    inputs = inputs.to(device)\n",
        "    labels = labels.to(device)\n",
        "    \n",
        "    # Training mode and zero gradients\n",
        "    model.train()\n",
        "    optimizer.zero_grad()\n",
        "    \n",
        "    # Get outputs to calc loss\n",
        "    outputs = model(inputs)\n",
        "    loss = criterion(outputs, labels)\n",
        "\n",
        "    # Backward pass\n",
        "    loss.backward()\n",
        "    optimizer.step()\n",
        "\n",
        "    # Update LR\n",
        "    scheduler.step()\n",
        "    lr_step = optimizer.state_dict()[\"param_groups\"][0][\"lr\"]\n",
        "    lr_find_lr.append(lr_step)\n",
        "\n",
        "    # smooth the loss\n",
        "    if iter==0:\n",
        "      lr_find_loss.append(loss)\n",
        "    else:\n",
        "      loss = smoothing  * loss + (1 - smoothing) * lr_find_loss[-1]\n",
        "      lr_find_loss.append(loss)\n",
        "     \n",
        "    iter += 1"
      ],
      "execution_count": 0,
      "outputs": []
    },
    {
      "cell_type": "code",
      "metadata": {
        "id": "GXf44pASJB9Z",
        "colab_type": "code",
        "colab": {}
      },
      "source": [
        "with open(os.path.join(path,\"flowers_lr_find_lr.pickle\"),'wb') as file:\n",
        "    pickle.dump(lr_find_lr,file)\n",
        "    \n",
        "with open(os.path.join(path,\"flowers_lr_find_loss.pickle\"),'wb') as file:\n",
        "    pickle.dump(lr_find_loss,file)"
      ],
      "execution_count": 0,
      "outputs": []
    },
    {
      "cell_type": "code",
      "metadata": {
        "id": "MXzNfBnEJB56",
        "colab_type": "code",
        "colab": {}
      },
      "source": [
        "plt.ylabel(\"loss\")\n",
        "plt.xlabel(\"lr\")\n",
        "plt.xscale(\"log\")\n",
        "plt.plot(lr_find_lr, lr_find_loss)\n",
        "plt.show()"
      ],
      "execution_count": 0,
      "outputs": []
    },
    {
      "cell_type": "code",
      "metadata": {
        "id": "rxj4BR0pI81W",
        "colab_type": "code",
        "colab": {}
      },
      "source": [
        "plt.ylabel(\"lr\")\n",
        "plt.xlabel(\"step\")\n",
        "plt.plot(range(len(lr_find_lr)), lr_find_lr)\n",
        "plt.show()"
      ],
      "execution_count": 0,
      "outputs": []
    },
    {
      "cell_type": "code",
      "metadata": {
        "id": "70BD8bpKI8yB",
        "colab_type": "code",
        "colab": {}
      },
      "source": [
        "plt.ylabel(\"lr\")\n",
        "plt.xlabel(\"step\")\n",
        "plt.plot(range(len(lr_find_lr)), lr_find_lr)\n",
        "plt.show()"
      ],
      "execution_count": 0,
      "outputs": []
    },
    {
      "cell_type": "code",
      "metadata": {
        "id": "o8NHC72SJfTY",
        "colab_type": "code",
        "colab": {}
      },
      "source": [
        "from tqdm import tqdm_notebook\n",
        "\n",
        "from plotly.offline import download_plotlyjs, init_notebook_mode, plot, iplot\n",
        "import plotly\n",
        "import plotly.graph_objs as go\n",
        "\n",
        "init_notebook_mode(connected=True)"
      ],
      "execution_count": 0,
      "outputs": []
    },
    {
      "cell_type": "code",
      "metadata": {
        "id": "d65j3eUwKOK8",
        "colab_type": "code",
        "colab": {}
      },
      "source": [
        "with open(\"logs/flowers_vanilla/flowers_lr_find_loss.pickle\",\"rb\") as file:\n",
        "    lr_find_loss = pickle.load(file)\n",
        "    \n",
        "with open(\"logs/flowers_vanilla/flowers_lr_find_lr.pickle\",\"rb\") as file:\n",
        "    lr_find_lr = pickle.load(file)"
      ],
      "execution_count": 0,
      "outputs": []
    },
    {
      "cell_type": "code",
      "metadata": {
        "id": "isP0S5SgKQfI",
        "colab_type": "code",
        "colab": {}
      },
      "source": [
        "lr_find_loss"
      ],
      "execution_count": 0,
      "outputs": []
    },
    {
      "cell_type": "code",
      "metadata": {
        "colab_type": "code",
        "id": "FUXEY4fTKotw",
        "colab": {}
      },
      "source": [
        "a = []\n",
        "for i in lr_find_loss:\n",
        "  i = i.detach()\n",
        "  i = i.cpu().numpy()\n",
        "  a.append(i)"
      ],
      "execution_count": 0,
      "outputs": []
    },
    {
      "cell_type": "code",
      "metadata": {
        "id": "8pAQSDHDKqtD",
        "colab_type": "code",
        "colab": {}
      },
      "source": [
        "(np.array(a)).shape"
      ],
      "execution_count": 0,
      "outputs": []
    },
    {
      "cell_type": "code",
      "metadata": {
        "colab_type": "code",
        "id": "Yo1DK3Y0Kotz",
        "colab": {}
      },
      "source": [
        "lr_find_loss = np.array(a)"
      ],
      "execution_count": 0,
      "outputs": []
    },
    {
      "cell_type": "code",
      "metadata": {
        "id": "eqoXUFulOimQ",
        "colab_type": "code",
        "colab": {}
      },
      "source": [
        "lr_find_lr.shape"
      ],
      "execution_count": 0,
      "outputs": []
    },
    {
      "cell_type": "code",
      "metadata": {
        "colab_type": "code",
        "id": "0_vQf--4Kot1",
        "colab": {}
      },
      "source": [
        "a = []\n",
        "for i in lr_find_lr:\n",
        "  i = i.detach()\n",
        "  i = i.cpu().numpy()\n",
        "  a.append(i)"
      ],
      "execution_count": 0,
      "outputs": []
    },
    {
      "cell_type": "code",
      "metadata": {
        "colab_type": "code",
        "id": "9FmqaIkqKot3",
        "colab": {}
      },
      "source": [
        "lr_find_lr = np.array(lr_find_lr)"
      ],
      "execution_count": 0,
      "outputs": []
    },
    {
      "cell_type": "code",
      "metadata": {
        "id": "XYNVRbFHI50C",
        "colab_type": "code",
        "colab": {}
      },
      "source": [
        "\n",
        " \n",
        "traces = []\n",
        "\n",
        "layout = go.Layout(\n",
        "    xaxis=dict(\n",
        "        showgrid=True,\n",
        "        showline=False,\n",
        "        type='log',\n",
        "        showticklabels=True,\n",
        "        tickcolor='rgb(127,127,127)',\n",
        "        ticks='outside',\n",
        "        zeroline=False,\n",
        "        title = \"learning rate [log]\"\n",
        "    ),\n",
        "    yaxis=dict(\n",
        "        showgrid=True,\n",
        "        showline=False,\n",
        "        showticklabels=True,\n",
        "        tickcolor='rgb(127,127,127)',\n",
        "        ticks='outside',\n",
        "        zeroline=False,\n",
        "        title = \"loss\"\n",
        "    ),\n",
        ")\n",
        "\n",
        "traces.append(go.Scatter(\n",
        "        x=lr_find_lr,\n",
        "        y=lr_find_loss,\n",
        "        showlegend=False,\n",
        "        name=\"loss\",\n",
        "    ))\n",
        "\n",
        "fig = go.Figure(data=traces, layout=layout)\n",
        "iplot(fig, filename='td_medium_lr_loss_vanilla')"
      ],
      "execution_count": 0,
      "outputs": []
    },
    {
      "cell_type": "code",
      "metadata": {
        "id": "3fY9vSTdJK_r",
        "colab_type": "code",
        "colab": {}
      },
      "source": [
        "with open(\"logs/flowers_vanilla/flowers_lr_find_lr.pickle\",\"rb\") as file:\n",
        "    lr_find_lr = pickle.load(file)\n",
        " \n",
        "traces = []\n",
        "\n",
        "layout = go.Layout(\n",
        "    xaxis=dict(\n",
        "        showgrid=True,\n",
        "        showline=False,\n",
        "        showticklabels=True,\n",
        "        tickcolor='rgb(127,127,127)',\n",
        "        ticks='outside',\n",
        "        zeroline=False,\n",
        "        title = \"step\"\n",
        "    ),\n",
        "    yaxis=dict(\n",
        "        showgrid=True,\n",
        "        showline=False,\n",
        "        showticklabels=True,\n",
        "        tickcolor='rgb(127,127,127)',\n",
        "        ticks='outside',\n",
        "        zeroline=False,\n",
        "        title = \"learning rate\"\n",
        "    ),\n",
        ")\n",
        "\n",
        "traces.append(go.Scatter(\n",
        "        x=list(range(len(lr_find_lr))),\n",
        "        y=lr_find_lr,\n",
        "        showlegend=False,\n",
        "        name=\"loss\",\n",
        "    ))\n",
        "\n",
        "fig = go.Figure(data=traces, layout=layout)\n",
        "py.iplot(fig, filename='td_medium_lr_step_vanilla')"
      ],
      "execution_count": 0,
      "outputs": []
    },
    {
      "cell_type": "markdown",
      "metadata": {
        "id": "pZQBID-xxKkf",
        "colab_type": "text"
      },
      "source": [
        "### EXP"
      ]
    },
    {
      "cell_type": "code",
      "metadata": {
        "id": "d1cW2hf8JHrw",
        "colab_type": "code",
        "colab": {}
      },
      "source": [
        "import pickle\n",
        "import pandas as pd\n",
        "import matplotlib.pyplot as plt"
      ],
      "execution_count": 0,
      "outputs": []
    },
    {
      "cell_type": "code",
      "metadata": {
        "id": "L-9-z5uME3Kn",
        "colab_type": "code",
        "colab": {}
      },
      "source": [
        "# getting data and creating dataset; dataloaders\n",
        "with open('data/mels_train_curated.pkl', 'rb') as curated:\n",
        "  x_train = pickle.load(curated)\n",
        "  \n",
        "len(x_train)"
      ],
      "execution_count": 0,
      "outputs": []
    },
    {
      "cell_type": "code",
      "metadata": {
        "id": "CTbKSc0uE3I4",
        "colab_type": "code",
        "colab": {}
      },
      "source": [
        "train_curated = pd.read_csv('data/train_curated.csv')\n",
        "train_curated.head()"
      ],
      "execution_count": 0,
      "outputs": []
    },
    {
      "cell_type": "code",
      "metadata": {
        "id": "mCthm9bSE3HC",
        "colab_type": "code",
        "colab": {}
      },
      "source": [
        "test_df = pd.read_csv('data/sample_submission.csv')\n",
        "test_df.head()"
      ],
      "execution_count": 0,
      "outputs": []
    },
    {
      "cell_type": "code",
      "metadata": {
        "id": "UnlGAEcXE3ER",
        "colab_type": "code",
        "colab": {}
      },
      "source": [
        "labels = test_df.columns[1:].tolist()\n",
        "labels"
      ],
      "execution_count": 0,
      "outputs": []
    },
    {
      "cell_type": "code",
      "metadata": {
        "id": "VOMP_yIyE3Cm",
        "colab_type": "code",
        "colab": {}
      },
      "source": [
        "num_classes = len(labels)\n",
        "num_classes"
      ],
      "execution_count": 0,
      "outputs": []
    },
    {
      "cell_type": "code",
      "metadata": {
        "id": "ZvOz9VAtE3Ad",
        "colab_type": "code",
        "colab": {}
      },
      "source": [
        "y_train = np.zeros((len(train_curated), num_classes)).astype(int)\n",
        "for i, row in enumerate(train_curated['labels'].str.split(',')):\n",
        "  for label in row:\n",
        "    idx = labels.index(label)\n",
        "    y_train[i, idx] = 1\n",
        "    \n",
        "y_train.shape"
      ],
      "execution_count": 0,
      "outputs": []
    },
    {
      "cell_type": "code",
      "metadata": {
        "id": "JYsaDFktE299",
        "colab_type": "code",
        "colab": {}
      },
      "source": [
        "x_train\n"
      ],
      "execution_count": 0,
      "outputs": []
    },
    {
      "cell_type": "code",
      "metadata": {
        "id": "Btvx3nLCE278",
        "colab_type": "code",
        "colab": {}
      },
      "source": [
        "y_train"
      ],
      "execution_count": 0,
      "outputs": []
    },
    {
      "cell_type": "code",
      "metadata": {
        "id": "f-jNLq4qE26Y",
        "colab_type": "code",
        "colab": {}
      },
      "source": [
        "plt.imshow(x_train[47])"
      ],
      "execution_count": 0,
      "outputs": []
    },
    {
      "cell_type": "code",
      "metadata": {
        "id": "r24MlwGCPqaQ",
        "colab_type": "code",
        "colab": {}
      },
      "source": [
        "x_train[0].shape"
      ],
      "execution_count": 0,
      "outputs": []
    },
    {
      "cell_type": "code",
      "metadata": {
        "id": "QGq0c5nVbl7u",
        "colab_type": "code",
        "colab": {}
      },
      "source": [
        "image.size"
      ],
      "execution_count": 0,
      "outputs": []
    },
    {
      "cell_type": "code",
      "metadata": {
        "id": "Tktdp_wcdsU8",
        "colab_type": "code",
        "colab": {}
      },
      "source": [
        "import skimage\n",
        "skimage.io.imshow(x_train[0])"
      ],
      "execution_count": 0,
      "outputs": []
    },
    {
      "cell_type": "code",
      "metadata": {
        "id": "qZ2_JvzGXFqv",
        "colab_type": "code",
        "colab": {}
      },
      "source": [
        "image = Image.fromarray(x_train[0], mode='RGB')\n",
        "plt.imshow(image)"
      ],
      "execution_count": 0,
      "outputs": []
    },
    {
      "cell_type": "code",
      "metadata": {
        "id": "NWBNjYY_E24D",
        "colab_type": "code",
        "colab": {}
      },
      "source": [
        "class traindataset(Dataset):\n",
        "  def __init__(self, x_train, y_train, transforms=None):\n",
        "    self.images = x_train\n",
        "    self.labels = y_train\n",
        "    self.transforms = transforms\n",
        "    \n",
        "  def __len__(self):\n",
        "    return len(self.images)\n",
        "  \n",
        "  def __getitem__(self, index):\n",
        "    image = np.uint8(self.images[index])\n",
        "    label = self.labels[index]\n",
        "    sample = {'image': image, 'label':label}\n",
        "    \n",
        "    if self.transforms:\n",
        "      sample = self.transforms(sample)\n",
        "      \n",
        "    return sample"
      ],
      "execution_count": 0,
      "outputs": []
    }
  ]
}