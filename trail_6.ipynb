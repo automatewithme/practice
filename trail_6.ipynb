{
  "nbformat": 4,
  "nbformat_minor": 0,
  "metadata": {
    "colab": {
      "name": "trail_6.ipynb",
      "version": "0.3.2",
      "provenance": [],
      "collapsed_sections": [
        "eHnoL6b4P2uw",
        "ywFnbu3eP5nW",
        "QU37OPbcqeDv"
      ]
    },
    "kernelspec": {
      "name": "python3",
      "display_name": "Python 3"
    },
    "accelerator": "GPU"
  },
  "cells": [
    {
      "cell_type": "markdown",
      "metadata": {
        "id": "eHnoL6b4P2uw",
        "colab_type": "text"
      },
      "source": [
        "### Downloading dataset"
      ]
    },
    {
      "cell_type": "code",
      "metadata": {
        "id": "Z4fj8QJuPXUJ",
        "colab_type": "code",
        "outputId": "9d73ce3d-452a-4662-e637-a0025cdb2026",
        "colab": {
          "base_uri": "https://localhost:8080/",
          "height": 224
        }
      },
      "source": [
        "!wget --header=\"Host: storage.googleapis.com\" --header=\"User-Agent: Mozilla/5.0 (Windows NT 6.1) AppleWebKit/537.36 (KHTML, like Gecko) Chrome/73.0.3683.103 Safari/537.36\" --header=\"Accept: text/html,application/xhtml+xml,application/xml;q=0.9,image/webp,image/apng,*/*;q=0.8,application/signed-exchange;v=b3\" --header=\"Accept-Language: en-US,en;q=0.9\" --header=\"Referer: https://www.kaggle.com/\" \"https://storage.googleapis.com/kaggle-competitions-data/kaggle/10700/371136/sample_submission.csv?GoogleAccessId=web-data@kaggle-161607.iam.gserviceaccount.com&Expires=1557502669&Signature=bZieuqxsSyjX7g8x4JcIH3lE%2FU7ywqgZDTHIA1JcJFNWX7%2BjRMAJMwdh07Q0Qul%2F19NoEGh2BljWZp%2FuWDGcZIYq5mS162DfVp1NVuPgo3dM8YOA%2FWs0P%2FFaXatEe7nxGEMrOYjhxQg7%2BhqV1hnwuHKwGP62OBXvY3vUwuFa9Ok6BnelyMFj2k5Z1F0OLy%2BHgkf%2B0%2Ff6KjJNkpKvjxfASFvRI1GocRfl01qyI7gvEoxCVbnjFsb7cCITjNQs%2BdN8grKM9Njwx3uElBM8H6WQ1vVxub%2BYQXM6z6WVgG3xFFmbU5tNio7XdfN1H7AikZ0adszzuASmGF%2BTB7zoTAn1dA%3D%3D\" -O \"sample_submission.csv\" -c"
      ],
      "execution_count": 0,
      "outputs": [
        {
          "output_type": "stream",
          "text": [
            "--2019-05-09 13:48:55--  https://storage.googleapis.com/kaggle-competitions-data/kaggle/10700/371136/sample_submission.csv?GoogleAccessId=web-data@kaggle-161607.iam.gserviceaccount.com&Expires=1557502669&Signature=bZieuqxsSyjX7g8x4JcIH3lE%2FU7ywqgZDTHIA1JcJFNWX7%2BjRMAJMwdh07Q0Qul%2F19NoEGh2BljWZp%2FuWDGcZIYq5mS162DfVp1NVuPgo3dM8YOA%2FWs0P%2FFaXatEe7nxGEMrOYjhxQg7%2BhqV1hnwuHKwGP62OBXvY3vUwuFa9Ok6BnelyMFj2k5Z1F0OLy%2BHgkf%2B0%2Ff6KjJNkpKvjxfASFvRI1GocRfl01qyI7gvEoxCVbnjFsb7cCITjNQs%2BdN8grKM9Njwx3uElBM8H6WQ1vVxub%2BYQXM6z6WVgG3xFFmbU5tNio7XdfN1H7AikZ0adszzuASmGF%2BTB7zoTAn1dA%3D%3D\n",
            "Resolving storage.googleapis.com (storage.googleapis.com)... 74.125.202.128, 2607:f8b0:4001:c09::80\n",
            "Connecting to storage.googleapis.com (storage.googleapis.com)|74.125.202.128|:443... connected.\n",
            "HTTP request sent, awaiting response... 200 OK\n",
            "Length: 194835 (190K) [text/csv]\n",
            "Saving to: ‘sample_submission.csv’\n",
            "\n",
            "\rsample_submission.c   0%[                    ]       0  --.-KB/s               \rsample_submission.c 100%[===================>] 190.27K  --.-KB/s    in 0.002s  \n",
            "\n",
            "2019-05-09 13:48:55 (99.9 MB/s) - ‘sample_submission.csv’ saved [194835/194835]\n",
            "\n"
          ],
          "name": "stdout"
        }
      ]
    },
    {
      "cell_type": "code",
      "metadata": {
        "id": "t0mlUkNgPm3a",
        "colab_type": "code",
        "outputId": "83beac5e-07fc-4a06-d88e-e5d57750ce06",
        "colab": {
          "base_uri": "https://localhost:8080/",
          "height": 224
        }
      },
      "source": [
        "!wget --header=\"Host: storage.googleapis.com\" --header=\"User-Agent: Mozilla/5.0 (Windows NT 6.1) AppleWebKit/537.36 (KHTML, like Gecko) Chrome/73.0.3683.103 Safari/537.36\" --header=\"Accept: text/html,application/xhtml+xml,application/xml;q=0.9,image/webp,image/apng,*/*;q=0.8,application/signed-exchange;v=b3\" --header=\"Accept-Language: en-US,en;q=0.9\" --header=\"Referer: https://www.kaggle.com/\" \"https://storage.googleapis.com/kaggle-competitions-data/kaggle/10700/371136/train_curated.csv?GoogleAccessId=web-data@kaggle-161607.iam.gserviceaccount.com&Expires=1557502719&Signature=lXHY%2F4Ho1eNLULLKx67IC%2FcBQdAprlmptGslYg45VG36nq2X1c7DRzmqG4%2FcI3wbbWiUCPZLA9oMjSpZuXhxmYsjw7XtC0TsUQPenwpPTzjTSSIiV89EqLyFa7yErkGpX2NcAXViA1kwf2dlKAlVhXU7Ctvkj00WbGxGM3PC2nrbNjWsu2AzUy3Lj1dQGk1ziMpkHvaNvRcB4cWGnphnYTYr0D2TyQhrpd0siLFKPPVeqzs%2BOnOiNJ330PrDtjBeMWoo557t41zjPvztips74AVKBly69%2B5FfQwHTg3xKdW7JeTz7OWO0KprI8cRsCzjKhnQcQZmxDpP7X0KbXrATw%3D%3D\" -O \"train_curated.csv\" -c"
      ],
      "execution_count": 0,
      "outputs": [
        {
          "output_type": "stream",
          "text": [
            "--2019-05-09 13:48:57--  https://storage.googleapis.com/kaggle-competitions-data/kaggle/10700/371136/train_curated.csv?GoogleAccessId=web-data@kaggle-161607.iam.gserviceaccount.com&Expires=1557502719&Signature=lXHY%2F4Ho1eNLULLKx67IC%2FcBQdAprlmptGslYg45VG36nq2X1c7DRzmqG4%2FcI3wbbWiUCPZLA9oMjSpZuXhxmYsjw7XtC0TsUQPenwpPTzjTSSIiV89EqLyFa7yErkGpX2NcAXViA1kwf2dlKAlVhXU7Ctvkj00WbGxGM3PC2nrbNjWsu2AzUy3Lj1dQGk1ziMpkHvaNvRcB4cWGnphnYTYr0D2TyQhrpd0siLFKPPVeqzs%2BOnOiNJ330PrDtjBeMWoo557t41zjPvztips74AVKBly69%2B5FfQwHTg3xKdW7JeTz7OWO0KprI8cRsCzjKhnQcQZmxDpP7X0KbXrATw%3D%3D\n",
            "Resolving storage.googleapis.com (storage.googleapis.com)... 108.177.111.128, 2607:f8b0:4001:c07::80\n",
            "Connecting to storage.googleapis.com (storage.googleapis.com)|108.177.111.128|:443... connected.\n",
            "HTTP request sent, awaiting response... 200 OK\n",
            "Length: 143137 (140K) [text/csv]\n",
            "Saving to: ‘train_curated.csv’\n",
            "\n",
            "\rtrain_curated.csv     0%[                    ]       0  --.-KB/s               \rtrain_curated.csv   100%[===================>] 139.78K  --.-KB/s    in 0.001s  \n",
            "\n",
            "2019-05-09 13:48:58 (112 MB/s) - ‘train_curated.csv’ saved [143137/143137]\n",
            "\n"
          ],
          "name": "stdout"
        }
      ]
    },
    {
      "cell_type": "code",
      "metadata": {
        "id": "RTXMdoKhPqb9",
        "colab_type": "code",
        "outputId": "316a8b46-7fb5-43dd-fad0-519d06565370",
        "colab": {
          "base_uri": "https://localhost:8080/",
          "height": 224
        }
      },
      "source": [
        "!wget --header=\"Host: storage.googleapis.com\" --header=\"User-Agent: Mozilla/5.0 (Windows NT 6.1) AppleWebKit/537.36 (KHTML, like Gecko) Chrome/73.0.3683.103 Safari/537.36\" --header=\"Accept: text/html,application/xhtml+xml,application/xml;q=0.9,image/webp,image/apng,*/*;q=0.8,application/signed-exchange;v=b3\" --header=\"Accept-Language: en-US,en;q=0.9\" --header=\"Referer: https://www.kaggle.com/\" \"https://storage.googleapis.com/kaggle-competitions-data/kaggle/10700/371136/train_noisy.csv?GoogleAccessId=web-data@kaggle-161607.iam.gserviceaccount.com&Expires=1557502748&Signature=VGUN8EUZMtt1IIEqilSi7fVJsRRiVMTqR7ksAC%2F%2FG47B02DmfsQk2Fkr%2BThhoK1iAnI1mSeXWedpy7BIbYCx75XOK%2Flw7Xzy5uzRDpACHS2RzbH5YPAxZLjmMarzLzZ3ehl7D6CAc4ZkoUGibR3s3CUqCK9V%2F4H%2BOOptNoDOYK1K%2BN7bo%2Fa2ZqaUbPXJkLzJ6lDGIOJWd3LLc6fk%2FAZplgCYVbQvO8kVHQpDJLwPdshv7PNnc8XJ9r%2FkDXsEmJd8%2BxOCF8P%2FckvzR7t%2BRUH%2BOYwYFdknNkYEymg2QDEPBiWyieNagqumRsBebK9R4kfYCjI4zyFTdCDGjpuwc85nrA%3D%3D\" -O \"train_noisy.csv\" -c"
      ],
      "execution_count": 0,
      "outputs": [
        {
          "output_type": "stream",
          "text": [
            "--2019-05-09 13:49:00--  https://storage.googleapis.com/kaggle-competitions-data/kaggle/10700/371136/train_noisy.csv?GoogleAccessId=web-data@kaggle-161607.iam.gserviceaccount.com&Expires=1557502748&Signature=VGUN8EUZMtt1IIEqilSi7fVJsRRiVMTqR7ksAC%2F%2FG47B02DmfsQk2Fkr%2BThhoK1iAnI1mSeXWedpy7BIbYCx75XOK%2Flw7Xzy5uzRDpACHS2RzbH5YPAxZLjmMarzLzZ3ehl7D6CAc4ZkoUGibR3s3CUqCK9V%2F4H%2BOOptNoDOYK1K%2BN7bo%2Fa2ZqaUbPXJkLzJ6lDGIOJWd3LLc6fk%2FAZplgCYVbQvO8kVHQpDJLwPdshv7PNnc8XJ9r%2FkDXsEmJd8%2BxOCF8P%2FckvzR7t%2BRUH%2BOYwYFdknNkYEymg2QDEPBiWyieNagqumRsBebK9R4kfYCjI4zyFTdCDGjpuwc85nrA%3D%3D\n",
            "Resolving storage.googleapis.com (storage.googleapis.com)... 74.125.202.128, 2607:f8b0:4001:c20::80\n",
            "Connecting to storage.googleapis.com (storage.googleapis.com)|74.125.202.128|:443... connected.\n",
            "HTTP request sent, awaiting response... 200 OK\n",
            "Length: 584806 (571K) [text/csv]\n",
            "Saving to: ‘train_noisy.csv’\n",
            "\n",
            "\rtrain_noisy.csv       0%[                    ]       0  --.-KB/s               \rtrain_noisy.csv     100%[===================>] 571.10K  --.-KB/s    in 0.005s  \n",
            "\n",
            "2019-05-09 13:49:00 (117 MB/s) - ‘train_noisy.csv’ saved [584806/584806]\n",
            "\n"
          ],
          "name": "stdout"
        }
      ]
    },
    {
      "cell_type": "code",
      "metadata": {
        "id": "I75LDMVcPs52",
        "colab_type": "code",
        "outputId": "7390333b-25ac-4cc6-9051-7379c4afa9dd",
        "colab": {
          "base_uri": "https://localhost:8080/",
          "height": 224
        }
      },
      "source": [
        "!wget --header=\"Host: storage.googleapis.com\" --header=\"User-Agent: Mozilla/5.0 (Windows NT 6.1) AppleWebKit/537.36 (KHTML, like Gecko) Chrome/73.0.3683.103 Safari/537.36\" --header=\"Accept: text/html,application/xhtml+xml,application/xml;q=0.9,image/webp,image/apng,*/*;q=0.8,application/signed-exchange;v=b3\" --header=\"Accept-Language: en-US,en;q=0.9\" --header=\"Referer: https://www.kaggle.com/\" \"https://storage.googleapis.com/kaggle-competitions-data/kaggle/10700/371136/test.zip?GoogleAccessId=web-data@kaggle-161607.iam.gserviceaccount.com&Expires=1557502764&Signature=EJaUGcyrFM%2Bgwcp8mC3%2BIkh6nB6dDOXX%2BxiT7EbtH6WXd3621AsgP0oZOxxUcljpw4S3WZRV9gapVfUQQtXuNjOcsFGk0VO9YJ8cL0WrupnERiQQc4sZYT4aFG76cXHPdTA9NYSJ6ohN5gxuclCH5UwW7cyPoHzwHOqdDAw7zi3RyPkt5WeNUYMlT7g5lF8PrYMhRWWfyBgUjp8OPMDe0388D0IUKppgVtruowwUAuocDXHmkrTOsOffa0BVmm58DpMCHOGYxKLBMKiGKHb5Pl%2BJztiPRpDQ64DyxDzUEd3gpig2kgf70eu6CvQvVsSwJBC94vIbB29e4ZU6qriz9w%3D%3D\" -O \"test.zip\" -c"
      ],
      "execution_count": 0,
      "outputs": [
        {
          "output_type": "stream",
          "text": [
            "--2019-05-09 13:49:03--  https://storage.googleapis.com/kaggle-competitions-data/kaggle/10700/371136/test.zip?GoogleAccessId=web-data@kaggle-161607.iam.gserviceaccount.com&Expires=1557502764&Signature=EJaUGcyrFM%2Bgwcp8mC3%2BIkh6nB6dDOXX%2BxiT7EbtH6WXd3621AsgP0oZOxxUcljpw4S3WZRV9gapVfUQQtXuNjOcsFGk0VO9YJ8cL0WrupnERiQQc4sZYT4aFG76cXHPdTA9NYSJ6ohN5gxuclCH5UwW7cyPoHzwHOqdDAw7zi3RyPkt5WeNUYMlT7g5lF8PrYMhRWWfyBgUjp8OPMDe0388D0IUKppgVtruowwUAuocDXHmkrTOsOffa0BVmm58DpMCHOGYxKLBMKiGKHb5Pl%2BJztiPRpDQ64DyxDzUEd3gpig2kgf70eu6CvQvVsSwJBC94vIbB29e4ZU6qriz9w%3D%3D\n",
            "Resolving storage.googleapis.com (storage.googleapis.com)... 64.233.181.128, 2607:f8b0:4001:c07::80\n",
            "Connecting to storage.googleapis.com (storage.googleapis.com)|64.233.181.128|:443... connected.\n",
            "HTTP request sent, awaiting response... 200 OK\n",
            "Length: 698756070 (666M) [application/zip]\n",
            "Saving to: ‘test.zip’\n",
            "\n",
            "test.zip            100%[===================>] 666.38M  85.5MB/s    in 7.0s    \n",
            "\n",
            "2019-05-09 13:49:11 (94.7 MB/s) - ‘test.zip’ saved [698756070/698756070]\n",
            "\n"
          ],
          "name": "stdout"
        }
      ]
    },
    {
      "cell_type": "code",
      "metadata": {
        "id": "doLUxbxlPyes",
        "colab_type": "code",
        "outputId": "1a37e19d-b39d-41df-90ed-46b521d53944",
        "colab": {
          "base_uri": "https://localhost:8080/",
          "height": 224
        }
      },
      "source": [
        "!wget --header=\"Host: storage.googleapis.com\" --header=\"User-Agent: Mozilla/5.0 (Windows NT 6.1) AppleWebKit/537.36 (KHTML, like Gecko) Chrome/73.0.3683.103 Safari/537.36\" --header=\"Accept: text/html,application/xhtml+xml,application/xml;q=0.9,image/webp,image/apng,*/*;q=0.8,application/signed-exchange;v=b3\" --header=\"Accept-Language: en-US,en;q=0.9\" --header=\"Referer: https://www.kaggle.com/\" \"https://storage.googleapis.com/kaggle-competitions-data/kaggle/10700/371136/train_curated.zip?GoogleAccessId=web-data@kaggle-161607.iam.gserviceaccount.com&Expires=1557502779&Signature=qzMmy1vQqGbIZRMnlIS5HUr38A1Z9P1UrVPRBQw60Wqyq8dGQPwpAVAEi5CKHVWwxdJBvvUWrjLIbISos5yQEp6c%2FBoB234KukLmmPtWB9TAM%2B3UMuhhq9josMJxP27krfkUx%2BJsxCCDmB3mplxVipw4vEw3JNyQtV19ZglAq39HLvaiYnjUTno%2F4FsJocp7M1d9NxNTPVtIuyA1Dca%2B9WcmedZRJS7yt4EuCxjqSEgt645IlY7dBnIoVfktIZeXGmogNtWIRHbenWU56R42GQV6hQXnlH2M83yUEJ9NNQtAjFCWsFykvXuFbBQZIcselWnEU4XAAU7aEYBnIPFpxw%3D%3D\" -O \"train_curated.zip\" -c"
      ],
      "execution_count": 0,
      "outputs": [
        {
          "output_type": "stream",
          "text": [
            "--2019-05-09 13:49:13--  https://storage.googleapis.com/kaggle-competitions-data/kaggle/10700/371136/train_curated.zip?GoogleAccessId=web-data@kaggle-161607.iam.gserviceaccount.com&Expires=1557502779&Signature=qzMmy1vQqGbIZRMnlIS5HUr38A1Z9P1UrVPRBQw60Wqyq8dGQPwpAVAEi5CKHVWwxdJBvvUWrjLIbISos5yQEp6c%2FBoB234KukLmmPtWB9TAM%2B3UMuhhq9josMJxP27krfkUx%2BJsxCCDmB3mplxVipw4vEw3JNyQtV19ZglAq39HLvaiYnjUTno%2F4FsJocp7M1d9NxNTPVtIuyA1Dca%2B9WcmedZRJS7yt4EuCxjqSEgt645IlY7dBnIoVfktIZeXGmogNtWIRHbenWU56R42GQV6hQXnlH2M83yUEJ9NNQtAjFCWsFykvXuFbBQZIcselWnEU4XAAU7aEYBnIPFpxw%3D%3D\n",
            "Resolving storage.googleapis.com (storage.googleapis.com)... 64.233.191.128, 2607:f8b0:4001:c16::80\n",
            "Connecting to storage.googleapis.com (storage.googleapis.com)|64.233.191.128|:443... connected.\n",
            "HTTP request sent, awaiting response... 200 OK\n",
            "Length: 2406491583 (2.2G) [application/zip]\n",
            "Saving to: ‘train_curated.zip’\n",
            "\n",
            "train_curated.zip   100%[===================>]   2.24G   101MB/s    in 24s     \n",
            "\n",
            "2019-05-09 13:49:38 (94.6 MB/s) - ‘train_curated.zip’ saved [2406491583/2406491583]\n",
            "\n"
          ],
          "name": "stdout"
        }
      ]
    },
    {
      "cell_type": "code",
      "metadata": {
        "id": "5aNnA16iPy_T",
        "colab_type": "code",
        "outputId": "969add5f-548b-41ad-cb06-b631755583fe",
        "colab": {
          "base_uri": "https://localhost:8080/",
          "height": 224
        }
      },
      "source": [
        "!wget --header=\"Host: storage.googleapis.com\" --header=\"User-Agent: Mozilla/5.0 (Windows NT 6.1) AppleWebKit/537.36 (KHTML, like Gecko) Chrome/73.0.3683.103 Safari/537.36\" --header=\"Accept: text/html,application/xhtml+xml,application/xml;q=0.9,image/webp,image/apng,*/*;q=0.8,application/signed-exchange;v=b3\" --header=\"Accept-Language: en-US,en;q=0.9\" --header=\"Referer: https://www.kaggle.com/\" \"https://storage.googleapis.com/kaggle-competitions-data/kaggle/10700/371136/train_noisy.zip?GoogleAccessId=web-data@kaggle-161607.iam.gserviceaccount.com&Expires=1557502826&Signature=SG5gJ36WO6y7RFyE8oQlMi0asul7uTLQfqcdgSmKPOsKNQqSIGRjjI%2FhDXU0slt1uNF51E8zwcpw1pj%2Bgw0lfli6C2uloA9KA3yyzDZ7P4G0uvxcwEpPv3ARkD2pcfE2c0MHNpmyoy%2FL30X3rgz%2Bb9tvHw1S81hWebWq0rGoZX678aVHxYggMqnrC7RJFco9366wNMF3O5J%2Bo29FabBWk4uqCxaqPBWIFai6cxVcspsOxfIrfgWnPmRirzmjCh1H8tFGcFSQraKdGDZIyqqyQABeLlHfIL27J2BRe2fHO47Bw%2FwsePnApmNhqlJZwFgnsjeJnebaBmJFia1ZwD7WXw%3D%3D\" -O \"train_noisy.zip\" -c"
      ],
      "execution_count": 0,
      "outputs": [
        {
          "output_type": "stream",
          "text": [
            "--2019-05-09 13:49:41--  https://storage.googleapis.com/kaggle-competitions-data/kaggle/10700/371136/train_noisy.zip?GoogleAccessId=web-data@kaggle-161607.iam.gserviceaccount.com&Expires=1557502826&Signature=SG5gJ36WO6y7RFyE8oQlMi0asul7uTLQfqcdgSmKPOsKNQqSIGRjjI%2FhDXU0slt1uNF51E8zwcpw1pj%2Bgw0lfli6C2uloA9KA3yyzDZ7P4G0uvxcwEpPv3ARkD2pcfE2c0MHNpmyoy%2FL30X3rgz%2Bb9tvHw1S81hWebWq0rGoZX678aVHxYggMqnrC7RJFco9366wNMF3O5J%2Bo29FabBWk4uqCxaqPBWIFai6cxVcspsOxfIrfgWnPmRirzmjCh1H8tFGcFSQraKdGDZIyqqyQABeLlHfIL27J2BRe2fHO47Bw%2FwsePnApmNhqlJZwFgnsjeJnebaBmJFia1ZwD7WXw%3D%3D\n",
            "Resolving storage.googleapis.com (storage.googleapis.com)... 108.177.111.128, 2607:f8b0:4001:c07::80\n",
            "Connecting to storage.googleapis.com (storage.googleapis.com)|108.177.111.128|:443... connected.\n",
            "HTTP request sent, awaiting response... 200 OK\n",
            "Length: 21504922116 (20G) [application/zip]\n",
            "Saving to: ‘train_noisy.zip’\n",
            "\n",
            "train_noisy.zip     100%[===================>]  20.03G  93.6MB/s    in 4m 11s  \n",
            "\n",
            "2019-05-09 13:53:52 (81.7 MB/s) - ‘train_noisy.zip’ saved [21504922116/21504922116]\n",
            "\n"
          ],
          "name": "stdout"
        }
      ]
    },
    {
      "cell_type": "markdown",
      "metadata": {
        "id": "_fJaLfzGynqy",
        "colab_type": "text"
      },
      "source": [
        "***Preprocessed data***"
      ]
    },
    {
      "cell_type": "code",
      "metadata": {
        "id": "6bZWNGSWypWV",
        "colab_type": "code",
        "outputId": "81a793a6-608c-4594-d7a9-3367a6d62c94",
        "colab": {
          "base_uri": "https://localhost:8080/",
          "height": 224
        }
      },
      "source": [
        "!wget --header=\"Host: storage.googleapis.com\" --header=\"User-Agent: Mozilla/5.0 (Windows NT 6.1) AppleWebKit/537.36 (KHTML, like Gecko) Chrome/74.0.3729.131 Safari/537.36\" --header=\"Accept: text/html,application/xhtml+xml,application/xml;q=0.9,image/webp,image/apng,*/*;q=0.8,application/signed-exchange;v=b3\" --header=\"Accept-Language: en-US,en;q=0.9\" --header=\"Referer: https://www.kaggle.com/\" \"https://storage.googleapis.com/kaggle-datasets/164278/379726/fat2019_prep_mels1.zip?GoogleAccessId=web-data@kaggle-161607.iam.gserviceaccount.com&Expires=1557567097&Signature=KQ7QxnV%2BMFiHCqKy5HqlpzNFUHDIS9Tp5hk%2FMhVqiCQ8%2FHYGozN2UpWGc%2Bqu67N2wZmfyl5fN2FD%2FcutZ7wQqMnubb9KEQGMGSpF7zJ%2BZSR8ccziWiLrLcS2wLUTRQ6mPtzHmmWuaRHZyp3OfIobTlj1kFl7jEJb074KW2tvyGjtSZ%2FUbIIazhlxUeStReQ5RPrDNCGH0PQLMtf4TRblCQkbHZsA0%2FjIWkGV4z8X0iGUhhCum1V%2F9MlZeaIjzcy5KqRtf0QsGpf%2Fc%2B%2FZEDG6vBcEwtzxjZWzskPV6aqBBK%2BhLcK7iQxAWnpSq9udl4ZAwbyunQ7Zhj0QCUQD0CKshw%3D%3D\" -O \"fat2019_prep_mels1.zip\" -c"
      ],
      "execution_count": 0,
      "outputs": [
        {
          "output_type": "stream",
          "text": [
            "--2019-05-09 13:53:54--  https://storage.googleapis.com/kaggle-datasets/164278/379726/fat2019_prep_mels1.zip?GoogleAccessId=web-data@kaggle-161607.iam.gserviceaccount.com&Expires=1557567097&Signature=KQ7QxnV%2BMFiHCqKy5HqlpzNFUHDIS9Tp5hk%2FMhVqiCQ8%2FHYGozN2UpWGc%2Bqu67N2wZmfyl5fN2FD%2FcutZ7wQqMnubb9KEQGMGSpF7zJ%2BZSR8ccziWiLrLcS2wLUTRQ6mPtzHmmWuaRHZyp3OfIobTlj1kFl7jEJb074KW2tvyGjtSZ%2FUbIIazhlxUeStReQ5RPrDNCGH0PQLMtf4TRblCQkbHZsA0%2FjIWkGV4z8X0iGUhhCum1V%2F9MlZeaIjzcy5KqRtf0QsGpf%2Fc%2B%2FZEDG6vBcEwtzxjZWzskPV6aqBBK%2BhLcK7iQxAWnpSq9udl4ZAwbyunQ7Zhj0QCUQD0CKshw%3D%3D\n",
            "Resolving storage.googleapis.com (storage.googleapis.com)... 108.177.111.128, 2607:f8b0:4001:c01::80\n",
            "Connecting to storage.googleapis.com (storage.googleapis.com)|108.177.111.128|:443... connected.\n",
            "HTTP request sent, awaiting response... 200 OK\n",
            "Length: 2865032102 (2.7G) [application/zip]\n",
            "Saving to: ‘fat2019_prep_mels1.zip’\n",
            "\n",
            "fat2019_prep_mels1. 100%[===================>]   2.67G   103MB/s    in 31s     \n",
            "\n",
            "2019-05-09 13:54:26 (86.9 MB/s) - ‘fat2019_prep_mels1.zip’ saved [2865032102/2865032102]\n",
            "\n"
          ],
          "name": "stdout"
        }
      ]
    },
    {
      "cell_type": "markdown",
      "metadata": {
        "id": "ywFnbu3eP5nW",
        "colab_type": "text"
      },
      "source": [
        "### Exploring dataset"
      ]
    },
    {
      "cell_type": "code",
      "metadata": {
        "id": "Su0tOhnVcACC",
        "colab_type": "code",
        "colab": {}
      },
      "source": [
        "!mkdir test\n",
        "!mkdir train_curated\n",
        "!mkdir train_noisy\n",
        "!mkdir data"
      ],
      "execution_count": 0,
      "outputs": []
    },
    {
      "cell_type": "code",
      "metadata": {
        "id": "pokwjdG2zCjs",
        "colab_type": "code",
        "colab": {}
      },
      "source": [
        "!unzip -qq fat2019_prep_mels1.zip -d data"
      ],
      "execution_count": 0,
      "outputs": []
    },
    {
      "cell_type": "code",
      "metadata": {
        "id": "Wo1Wq71PP43o",
        "colab_type": "code",
        "colab": {}
      },
      "source": [
        "!unzip -qq test.zip -d test"
      ],
      "execution_count": 0,
      "outputs": []
    },
    {
      "cell_type": "code",
      "metadata": {
        "id": "nLZZ6nuWQMqB",
        "colab_type": "code",
        "colab": {}
      },
      "source": [
        "!unzip -qq train_curated.zip -d train_curated"
      ],
      "execution_count": 0,
      "outputs": []
    },
    {
      "cell_type": "code",
      "metadata": {
        "id": "JpYGeV7mQMkG",
        "colab_type": "code",
        "colab": {}
      },
      "source": [
        "!unzip -qq train_noisy.zip -d train_noisy"
      ],
      "execution_count": 0,
      "outputs": []
    },
    {
      "cell_type": "markdown",
      "metadata": {
        "id": "bK-JmCd_QMWx",
        "colab_type": "text"
      },
      "source": [
        "To apply deep learning technique, we first have to come up with a way to provide effective converse from audio data to any other form which will make it effective for deep learning technique for multilabeling"
      ]
    },
    {
      "cell_type": "markdown",
      "metadata": {
        "id": "8l5HQ4X5SmxC",
        "colab_type": "text"
      },
      "source": [
        "Audio conversion to 2D\n",
        "Almost copyed from my repository: https://github.com/daisukelab/ml-sound-classifier\n",
        "\n",
        "Handle sampling rate 44.1kHz as is, no information loss.\n",
        "Size of each file will be 128 x L, L is audio seconds x 128; [128, 256] if sound is 2s long.\n",
        "Convert to Mel-spectrogram, not MFCC. We are handling general sound rather than human voice. https://en.wikipedia.org/wiki/Spectrogram"
      ]
    },
    {
      "cell_type": "code",
      "metadata": {
        "id": "1PZG8p-dchS2",
        "colab_type": "code",
        "colab": {}
      },
      "source": [
        "!mv -t data test train_curated train_noisy"
      ],
      "execution_count": 0,
      "outputs": []
    },
    {
      "cell_type": "code",
      "metadata": {
        "id": "PhPW_sIidU0p",
        "colab_type": "code",
        "colab": {}
      },
      "source": [
        "!mv sample_submission.csv train_curated.csv train_noisy.csv data"
      ],
      "execution_count": 0,
      "outputs": []
    },
    {
      "cell_type": "code",
      "metadata": {
        "id": "IFndQ6_MhLb7",
        "colab_type": "code",
        "outputId": "20532d0d-06b2-44cf-aeb8-db9117bf1173",
        "colab": {
          "base_uri": "https://localhost:8080/",
          "height": 85
        }
      },
      "source": [
        "!ls data"
      ],
      "execution_count": 0,
      "outputs": [
        {
          "output_type": "stream",
          "text": [
            "mels_test.pkl\t\t    sample_submission.csv  train_noisy\n",
            "mels_train_curated.pkl\t    test\t\t   train_noisy.csv\n",
            "mels_train_noisy.pkl\t    train_curated\t   trn_noisy_best50s.csv\n",
            "mels_trn_noisy_best50s.pkl  train_curated.csv\n"
          ],
          "name": "stdout"
        }
      ]
    },
    {
      "cell_type": "markdown",
      "metadata": {
        "id": "QU37OPbcqeDv",
        "colab_type": "text"
      },
      "source": [
        "### making necessary changes"
      ]
    },
    {
      "cell_type": "code",
      "metadata": {
        "id": "6GHkapHmq2_g",
        "colab_type": "code",
        "colab": {}
      },
      "source": [
        "import gc\n",
        "import os\n",
        "import pickle\n",
        "import random\n",
        "import time\n",
        "from collections import Counter, defaultdict\n",
        "from functools import partial\n",
        "from pathlib import Path\n",
        "from psutil import cpu_count\n",
        "\n",
        "import librosa\n",
        "import numpy as np\n",
        "import pandas as pd\n",
        "from PIL import Image\n",
        "from sklearn.model_selection import train_test_split\n",
        "#from skmultilearn.model_selection import iterative_train_test_split\n",
        "\n",
        "import torch\n",
        "import torch.nn as nn\n",
        "import torch.nn.functional as F\n",
        "from fastprogress import master_bar, progress_bar\n",
        "from torch.optim import Adam\n",
        "from torch.optim.lr_scheduler import CosineAnnealingLR\n",
        "from torch.utils.data import Dataset, DataLoader\n",
        "from torchvision.transforms import transforms"
      ],
      "execution_count": 0,
      "outputs": []
    },
    {
      "cell_type": "code",
      "metadata": {
        "id": "XJ610PpZq40q",
        "colab_type": "code",
        "outputId": "0a4c76e3-51da-4343-c72b-13dc7c622357",
        "colab": {
          "base_uri": "https://localhost:8080/",
          "height": 54
        }
      },
      "source": [
        "# This Python 3 environment comes with many helpful analytics libraries installed\n",
        "# It is defined by the kaggle/python docker image: https://github.com/kaggle/docker-python\n",
        "# For example, here's several helpful packages to load in \n",
        "\n",
        "import numpy as np # linear algebra\n",
        "import pandas as pd # data processing, CSV file I/O (e.g. pd.read_csv)\n",
        "from pathlib import Path\n",
        "import matplotlib.pyplot as plt\n",
        "from tqdm import tqdm_notebook\n",
        "import IPython\n",
        "import IPython.display\n",
        "import PIL\n",
        "\n",
        "# Input data files are available in the \"../input/\" directory.\n",
        "# For example, running this (by clicking run or pressing Shift+Enter) will list the files in the input directory\n",
        "\n",
        "import os\n",
        "print(os.listdir(\"data\"))\n",
        "\n",
        "# Any results you write to the current directory are saved as output."
      ],
      "execution_count": 0,
      "outputs": [
        {
          "output_type": "stream",
          "text": [
            "['train_curated.csv', 'sample_submission.csv', 'train_noisy.csv', 'mels_train_curated.pkl', 'train_curated', 'test', 'train_noisy', 'mels_train_noisy.pkl', 'mels_test.pkl', 'trn_noisy_best50s.csv', 'mels_trn_noisy_best50s.pkl']\n"
          ],
          "name": "stdout"
        }
      ]
    },
    {
      "cell_type": "code",
      "metadata": {
        "id": "lzuF3WB-cZRj",
        "colab_type": "code",
        "colab": {}
      },
      "source": [
        "dataset_dir = Path('data')\n",
        "preprocessed_dir = Path('data')"
      ],
      "execution_count": 0,
      "outputs": []
    },
    {
      "cell_type": "code",
      "metadata": {
        "id": "Z_-uHlAkrCrC",
        "colab_type": "code",
        "colab": {}
      },
      "source": [
        "csvs = {\n",
        "    'train_curated': dataset_dir / 'train_curated.csv',\n",
        "    #'train_noisy': dataset_dir / 'train_noisy.csv',\n",
        "    'train_noisy': preprocessed_dir / 'trn_noisy_best50s.csv',\n",
        "    'sample_submission': dataset_dir / 'sample_submission.csv',\n",
        "}\n",
        "\n",
        "dataset = {\n",
        "    'train_curated': dataset_dir / 'train_curated',\n",
        "    'train_noisy': dataset_dir / 'train_noisy',\n",
        "    'test': dataset_dir / 'test',\n",
        "}\n",
        "\n",
        "mels = {\n",
        "    'train_curated': preprocessed_dir / 'mels_train_curated.pkl',\n",
        "    'train_noisy': preprocessed_dir / 'mels_trn_noisy_best50s.pkl',\n",
        "    'test': preprocessed_dir / 'mels_test.pkl',  # NOTE: this data doesn't work at 2nd stage\n",
        "}"
      ],
      "execution_count": 0,
      "outputs": []
    },
    {
      "cell_type": "code",
      "metadata": {
        "id": "XyfFAOWyrCRC",
        "colab_type": "code",
        "outputId": "2b672555-b1ac-47a6-bbc8-006c63dec3b5",
        "colab": {
          "base_uri": "https://localhost:8080/",
          "height": 34
        }
      },
      "source": [
        "with open(mels['train_curated'], 'rb') as curated, open(mels['train_noisy'], 'rb') as noisy:\n",
        "    x_train = pickle.load(curated)\n",
        "    x_train.extend(pickle.load(noisy))\n",
        "\n",
        "with open(mels['test'], 'rb') as test:\n",
        "    x_test = pickle.load(test)\n",
        "    \n",
        "len(x_train), len(x_test)"
      ],
      "execution_count": 0,
      "outputs": [
        {
          "output_type": "execute_result",
          "data": {
            "text/plain": [
              "(8970, 1120)"
            ]
          },
          "metadata": {
            "tags": []
          },
          "execution_count": 20
        }
      ]
    },
    {
      "cell_type": "code",
      "metadata": {
        "id": "Rlf15DAErKsm",
        "colab_type": "code",
        "outputId": "bae01272-3de5-4bf8-b1db-f02daee43dbf",
        "colab": {
          "base_uri": "https://localhost:8080/",
          "height": 286
        }
      },
      "source": [
        "fig = plt.figure()\n",
        "image = Image.fromarray(x_train[111], mode='RGB')\n",
        "time_dim, base_dim = image.size\n",
        "crop = random.randint(0, time_dim - base_dim)\n",
        "image = image.crop([crop, 0, crop + base_dim, base_dim])\n",
        "plt.imshow(image)"
      ],
      "execution_count": 0,
      "outputs": [
        {
          "output_type": "execute_result",
          "data": {
            "text/plain": [
              "<matplotlib.image.AxesImage at 0x7f0dce13f2e8>"
            ]
          },
          "metadata": {
            "tags": []
          },
          "execution_count": 21
        },
        {
          "output_type": "display_data",
          "data": {
            "image/png": "[encoded data removed]",
            "text/plain": [
              "<Figure size 432x288 with 1 Axes>"
            ]
          },
          "metadata": {
            "tags": []
          }
        }
      ]
    },
    {
      "cell_type": "code",
      "metadata": {
        "id": "M2VFtyOurMLN",
        "colab_type": "code",
        "outputId": "404ad37d-40e0-4d01-c686-e959147a3fd8",
        "colab": {
          "base_uri": "https://localhost:8080/",
          "height": 145
        }
      },
      "source": [
        "image = Image.fromarray(x_train[0], mode='RGB')\n",
        "image"
      ],
      "execution_count": 0,
      "outputs": [
        {
          "output_type": "execute_result",
          "data": {
            "image/png": "[encoded data removed]",
            "text/plain": [
              "<PIL.Image.Image image mode=RGB size=448x128 at 0x7F0DCE14CFD0>"
            ]
          },
          "metadata": {
            "tags": []
          },
          "execution_count": 22
        }
      ]
    },
    {
      "cell_type": "code",
      "metadata": {
        "id": "YypqZS2prM2p",
        "colab_type": "code",
        "outputId": "cbdf0916-340a-431a-9be9-e4aa4155814f",
        "colab": {
          "base_uri": "https://localhost:8080/",
          "height": 34
        }
      },
      "source": [
        "X_train = []\n",
        "for image in x_train:\n",
        "  images = Image.fromarray(image, mode='RGB')\n",
        "  time_dim, base_dim = images.size\n",
        "  crop = random.randint(0, time_dim - base_dim)\n",
        "  images = images.crop([crop, 0, crop + base_dim, base_dim])\n",
        "  images = np.array(images)\n",
        "  X_train.append(images)\n",
        "  \n",
        "  \n",
        "X_train = np.array(X_train)\n",
        "print('X_data shape:', X_train.shape)"
      ],
      "execution_count": 0,
      "outputs": [
        {
          "output_type": "stream",
          "text": [
            "X_data shape: (8970, 128, 128, 3)\n"
          ],
          "name": "stdout"
        }
      ]
    },
    {
      "cell_type": "code",
      "metadata": {
        "id": "AK-FQn7GrYgZ",
        "colab_type": "code",
        "outputId": "e1accfe1-ce99-462d-c65c-1456780c69d4",
        "colab": {
          "base_uri": "https://localhost:8080/",
          "height": 204
        }
      },
      "source": [
        "train_curated = pd.read_csv(csvs['train_curated'])\n",
        "train_noisy = pd.read_csv(csvs['train_noisy'])\n",
        "train_df = pd.concat([train_curated, train_noisy], sort=True, ignore_index=True)\n",
        "train_df.head()"
      ],
      "execution_count": 0,
      "outputs": [
        {
          "output_type": "execute_result",
          "data": {
            "text/html": [
              "<div>\n",
              "<style scoped>\n",
              "    .dataframe tbody tr th:only-of-type {\n",
              "        vertical-align: middle;\n",
              "    }\n",
              "\n",
              "    .dataframe tbody tr th {\n",
              "        vertical-align: top;\n",
              "    }\n",
              "\n",
              "    .dataframe thead th {\n",
              "        text-align: right;\n",
              "    }\n",
              "</style>\n",
              "<table border=\"1\" class=\"dataframe\">\n",
              "  <thead>\n",
              "    <tr style=\"text-align: right;\">\n",
              "      <th></th>\n",
              "      <th>fname</th>\n",
              "      <th>labels</th>\n",
              "      <th>singled</th>\n",
              "    </tr>\n",
              "  </thead>\n",
              "  <tbody>\n",
              "    <tr>\n",
              "      <th>0</th>\n",
              "      <td>0006ae4e.wav</td>\n",
              "      <td>Bark</td>\n",
              "      <td>NaN</td>\n",
              "    </tr>\n",
              "    <tr>\n",
              "      <th>1</th>\n",
              "      <td>0019ef41.wav</td>\n",
              "      <td>Raindrop</td>\n",
              "      <td>NaN</td>\n",
              "    </tr>\n",
              "    <tr>\n",
              "      <th>2</th>\n",
              "      <td>001ec0ad.wav</td>\n",
              "      <td>Finger_snapping</td>\n",
              "      <td>NaN</td>\n",
              "    </tr>\n",
              "    <tr>\n",
              "      <th>3</th>\n",
              "      <td>0026c7cb.wav</td>\n",
              "      <td>Run</td>\n",
              "      <td>NaN</td>\n",
              "    </tr>\n",
              "    <tr>\n",
              "      <th>4</th>\n",
              "      <td>0026f116.wav</td>\n",
              "      <td>Finger_snapping</td>\n",
              "      <td>NaN</td>\n",
              "    </tr>\n",
              "  </tbody>\n",
              "</table>\n",
              "</div>"
            ],
            "text/plain": [
              "          fname           labels singled\n",
              "0  0006ae4e.wav             Bark     NaN\n",
              "1  0019ef41.wav         Raindrop     NaN\n",
              "2  001ec0ad.wav  Finger_snapping     NaN\n",
              "3  0026c7cb.wav              Run     NaN\n",
              "4  0026f116.wav  Finger_snapping     NaN"
            ]
          },
          "metadata": {
            "tags": []
          },
          "execution_count": 24
        }
      ]
    },
    {
      "cell_type": "code",
      "metadata": {
        "id": "YvGYsgNgrVRw",
        "colab_type": "code",
        "outputId": "c48f2bf7-0ff0-4793-8e98-50e057b17300",
        "colab": {
          "base_uri": "https://localhost:8080/",
          "height": 34
        }
      },
      "source": [
        "label_data = train_df.labels.tolist()\n",
        "Y_data = np.array(label_data)\n",
        "Y_data.shape"
      ],
      "execution_count": 0,
      "outputs": [
        {
          "output_type": "execute_result",
          "data": {
            "text/plain": [
              "(8970,)"
            ]
          },
          "metadata": {
            "tags": []
          },
          "execution_count": 25
        }
      ]
    },
    {
      "cell_type": "code",
      "metadata": {
        "id": "1JhzY76HrWJg",
        "colab_type": "code",
        "outputId": "0732c5ea-d2f3-4c5d-dd01-b4c0fd9f7267",
        "colab": {
          "base_uri": "https://localhost:8080/",
          "height": 253
        }
      },
      "source": [
        "test_df = pd.read_csv(csvs['sample_submission'])\n",
        "test_df.head()"
      ],
      "execution_count": 0,
      "outputs": [
        {
          "output_type": "execute_result",
          "data": {
            "text/html": [
              "<div>\n",
              "<style scoped>\n",
              "    .dataframe tbody tr th:only-of-type {\n",
              "        vertical-align: middle;\n",
              "    }\n",
              "\n",
              "    .dataframe tbody tr th {\n",
              "        vertical-align: top;\n",
              "    }\n",
              "\n",
              "    .dataframe thead th {\n",
              "        text-align: right;\n",
              "    }\n",
              "</style>\n",
              "<table border=\"1\" class=\"dataframe\">\n",
              "  <thead>\n",
              "    <tr style=\"text-align: right;\">\n",
              "      <th></th>\n",
              "      <th>fname</th>\n",
              "      <th>Accelerating_and_revving_and_vroom</th>\n",
              "      <th>Accordion</th>\n",
              "      <th>Acoustic_guitar</th>\n",
              "      <th>Applause</th>\n",
              "      <th>Bark</th>\n",
              "      <th>Bass_drum</th>\n",
              "      <th>Bass_guitar</th>\n",
              "      <th>Bathtub_(filling_or_washing)</th>\n",
              "      <th>Bicycle_bell</th>\n",
              "      <th>...</th>\n",
              "      <th>Toilet_flush</th>\n",
              "      <th>Traffic_noise_and_roadway_noise</th>\n",
              "      <th>Trickle_and_dribble</th>\n",
              "      <th>Walk_and_footsteps</th>\n",
              "      <th>Water_tap_and_faucet</th>\n",
              "      <th>Waves_and_surf</th>\n",
              "      <th>Whispering</th>\n",
              "      <th>Writing</th>\n",
              "      <th>Yell</th>\n",
              "      <th>Zipper_(clothing)</th>\n",
              "    </tr>\n",
              "  </thead>\n",
              "  <tbody>\n",
              "    <tr>\n",
              "      <th>0</th>\n",
              "      <td>000ccb97.wav</td>\n",
              "      <td>0</td>\n",
              "      <td>0</td>\n",
              "      <td>0</td>\n",
              "      <td>0</td>\n",
              "      <td>0</td>\n",
              "      <td>0</td>\n",
              "      <td>0</td>\n",
              "      <td>0</td>\n",
              "      <td>0</td>\n",
              "      <td>...</td>\n",
              "      <td>0</td>\n",
              "      <td>0</td>\n",
              "      <td>0</td>\n",
              "      <td>0</td>\n",
              "      <td>0</td>\n",
              "      <td>0</td>\n",
              "      <td>0</td>\n",
              "      <td>0</td>\n",
              "      <td>0</td>\n",
              "      <td>0</td>\n",
              "    </tr>\n",
              "    <tr>\n",
              "      <th>1</th>\n",
              "      <td>0012633b.wav</td>\n",
              "      <td>0</td>\n",
              "      <td>0</td>\n",
              "      <td>0</td>\n",
              "      <td>0</td>\n",
              "      <td>0</td>\n",
              "      <td>0</td>\n",
              "      <td>0</td>\n",
              "      <td>0</td>\n",
              "      <td>0</td>\n",
              "      <td>...</td>\n",
              "      <td>0</td>\n",
              "      <td>0</td>\n",
              "      <td>0</td>\n",
              "      <td>0</td>\n",
              "      <td>0</td>\n",
              "      <td>0</td>\n",
              "      <td>0</td>\n",
              "      <td>0</td>\n",
              "      <td>0</td>\n",
              "      <td>0</td>\n",
              "    </tr>\n",
              "    <tr>\n",
              "      <th>2</th>\n",
              "      <td>001ed5f1.wav</td>\n",
              "      <td>0</td>\n",
              "      <td>0</td>\n",
              "      <td>0</td>\n",
              "      <td>0</td>\n",
              "      <td>0</td>\n",
              "      <td>0</td>\n",
              "      <td>0</td>\n",
              "      <td>0</td>\n",
              "      <td>0</td>\n",
              "      <td>...</td>\n",
              "      <td>0</td>\n",
              "      <td>0</td>\n",
              "      <td>0</td>\n",
              "      <td>0</td>\n",
              "      <td>0</td>\n",
              "      <td>0</td>\n",
              "      <td>0</td>\n",
              "      <td>0</td>\n",
              "      <td>0</td>\n",
              "      <td>0</td>\n",
              "    </tr>\n",
              "    <tr>\n",
              "      <th>3</th>\n",
              "      <td>00294be0.wav</td>\n",
              "      <td>0</td>\n",
              "      <td>0</td>\n",
              "      <td>0</td>\n",
              "      <td>0</td>\n",
              "      <td>0</td>\n",
              "      <td>0</td>\n",
              "      <td>0</td>\n",
              "      <td>0</td>\n",
              "      <td>0</td>\n",
              "      <td>...</td>\n",
              "      <td>0</td>\n",
              "      <td>0</td>\n",
              "      <td>0</td>\n",
              "      <td>0</td>\n",
              "      <td>0</td>\n",
              "      <td>0</td>\n",
              "      <td>0</td>\n",
              "      <td>0</td>\n",
              "      <td>0</td>\n",
              "      <td>0</td>\n",
              "    </tr>\n",
              "    <tr>\n",
              "      <th>4</th>\n",
              "      <td>003fde7a.wav</td>\n",
              "      <td>0</td>\n",
              "      <td>0</td>\n",
              "      <td>0</td>\n",
              "      <td>0</td>\n",
              "      <td>0</td>\n",
              "      <td>0</td>\n",
              "      <td>0</td>\n",
              "      <td>0</td>\n",
              "      <td>0</td>\n",
              "      <td>...</td>\n",
              "      <td>0</td>\n",
              "      <td>0</td>\n",
              "      <td>0</td>\n",
              "      <td>0</td>\n",
              "      <td>0</td>\n",
              "      <td>0</td>\n",
              "      <td>0</td>\n",
              "      <td>0</td>\n",
              "      <td>0</td>\n",
              "      <td>0</td>\n",
              "    </tr>\n",
              "  </tbody>\n",
              "</table>\n",
              "<p>5 rows × 81 columns</p>\n",
              "</div>"
            ],
            "text/plain": [
              "          fname  Accelerating_and_revving_and_vroom  Accordion  \\\n",
              "0  000ccb97.wav                                   0          0   \n",
              "1  0012633b.wav                                   0          0   \n",
              "2  001ed5f1.wav                                   0          0   \n",
              "3  00294be0.wav                                   0          0   \n",
              "4  003fde7a.wav                                   0          0   \n",
              "\n",
              "   Acoustic_guitar  Applause  Bark  Bass_drum  Bass_guitar  \\\n",
              "0                0         0     0          0            0   \n",
              "1                0         0     0          0            0   \n",
              "2                0         0     0          0            0   \n",
              "3                0         0     0          0            0   \n",
              "4                0         0     0          0            0   \n",
              "\n",
              "   Bathtub_(filling_or_washing)  Bicycle_bell  ...  Toilet_flush  \\\n",
              "0                             0             0  ...             0   \n",
              "1                             0             0  ...             0   \n",
              "2                             0             0  ...             0   \n",
              "3                             0             0  ...             0   \n",
              "4                             0             0  ...             0   \n",
              "\n",
              "   Traffic_noise_and_roadway_noise  Trickle_and_dribble  Walk_and_footsteps  \\\n",
              "0                                0                    0                   0   \n",
              "1                                0                    0                   0   \n",
              "2                                0                    0                   0   \n",
              "3                                0                    0                   0   \n",
              "4                                0                    0                   0   \n",
              "\n",
              "   Water_tap_and_faucet  Waves_and_surf  Whispering  Writing  Yell  \\\n",
              "0                     0               0           0        0     0   \n",
              "1                     0               0           0        0     0   \n",
              "2                     0               0           0        0     0   \n",
              "3                     0               0           0        0     0   \n",
              "4                     0               0           0        0     0   \n",
              "\n",
              "   Zipper_(clothing)  \n",
              "0                  0  \n",
              "1                  0  \n",
              "2                  0  \n",
              "3                  0  \n",
              "4                  0  \n",
              "\n",
              "[5 rows x 81 columns]"
            ]
          },
          "metadata": {
            "tags": []
          },
          "execution_count": 26
        }
      ]
    },
    {
      "cell_type": "code",
      "metadata": {
        "id": "ZjXf7Jkvrjcq",
        "colab_type": "code",
        "outputId": "ed840ee5-ead7-4dce-f9fe-8677b038b808",
        "colab": {
          "base_uri": "https://localhost:8080/",
          "height": 1377
        }
      },
      "source": [
        "labels = test_df.columns[1:].tolist()\n",
        "labels"
      ],
      "execution_count": 0,
      "outputs": [
        {
          "output_type": "execute_result",
          "data": {
            "text/plain": [
              "['Accelerating_and_revving_and_vroom',\n",
              " 'Accordion',\n",
              " 'Acoustic_guitar',\n",
              " 'Applause',\n",
              " 'Bark',\n",
              " 'Bass_drum',\n",
              " 'Bass_guitar',\n",
              " 'Bathtub_(filling_or_washing)',\n",
              " 'Bicycle_bell',\n",
              " 'Burping_and_eructation',\n",
              " 'Bus',\n",
              " 'Buzz',\n",
              " 'Car_passing_by',\n",
              " 'Cheering',\n",
              " 'Chewing_and_mastication',\n",
              " 'Child_speech_and_kid_speaking',\n",
              " 'Chink_and_clink',\n",
              " 'Chirp_and_tweet',\n",
              " 'Church_bell',\n",
              " 'Clapping',\n",
              " 'Computer_keyboard',\n",
              " 'Crackle',\n",
              " 'Cricket',\n",
              " 'Crowd',\n",
              " 'Cupboard_open_or_close',\n",
              " 'Cutlery_and_silverware',\n",
              " 'Dishes_and_pots_and_pans',\n",
              " 'Drawer_open_or_close',\n",
              " 'Drip',\n",
              " 'Electric_guitar',\n",
              " 'Fart',\n",
              " 'Female_singing',\n",
              " 'Female_speech_and_woman_speaking',\n",
              " 'Fill_(with_liquid)',\n",
              " 'Finger_snapping',\n",
              " 'Frying_(food)',\n",
              " 'Gasp',\n",
              " 'Glockenspiel',\n",
              " 'Gong',\n",
              " 'Gurgling',\n",
              " 'Harmonica',\n",
              " 'Hi-hat',\n",
              " 'Hiss',\n",
              " 'Keys_jangling',\n",
              " 'Knock',\n",
              " 'Male_singing',\n",
              " 'Male_speech_and_man_speaking',\n",
              " 'Marimba_and_xylophone',\n",
              " 'Mechanical_fan',\n",
              " 'Meow',\n",
              " 'Microwave_oven',\n",
              " 'Motorcycle',\n",
              " 'Printer',\n",
              " 'Purr',\n",
              " 'Race_car_and_auto_racing',\n",
              " 'Raindrop',\n",
              " 'Run',\n",
              " 'Scissors',\n",
              " 'Screaming',\n",
              " 'Shatter',\n",
              " 'Sigh',\n",
              " 'Sink_(filling_or_washing)',\n",
              " 'Skateboard',\n",
              " 'Slam',\n",
              " 'Sneeze',\n",
              " 'Squeak',\n",
              " 'Stream',\n",
              " 'Strum',\n",
              " 'Tap',\n",
              " 'Tick-tock',\n",
              " 'Toilet_flush',\n",
              " 'Traffic_noise_and_roadway_noise',\n",
              " 'Trickle_and_dribble',\n",
              " 'Walk_and_footsteps',\n",
              " 'Water_tap_and_faucet',\n",
              " 'Waves_and_surf',\n",
              " 'Whispering',\n",
              " 'Writing',\n",
              " 'Yell',\n",
              " 'Zipper_(clothing)']"
            ]
          },
          "metadata": {
            "tags": []
          },
          "execution_count": 27
        }
      ]
    },
    {
      "cell_type": "code",
      "metadata": {
        "id": "gXan0EX7rlg-",
        "colab_type": "code",
        "outputId": "1b6019fd-00cc-4ab3-e839-d285d1a8fdef",
        "colab": {
          "base_uri": "https://localhost:8080/",
          "height": 34
        }
      },
      "source": [
        "num_classes = len(labels)\n",
        "y_train = np.zeros((len(train_df), num_classes)).astype(int)\n",
        "for i, row in enumerate(train_df['labels'].str.split(',')):\n",
        "    for label in row:\n",
        "        idx = labels.index(label)\n",
        "        y_train[i, idx] = 1\n",
        "\n",
        "y_train.shape"
      ],
      "execution_count": 0,
      "outputs": [
        {
          "output_type": "execute_result",
          "data": {
            "text/plain": [
              "(8970, 80)"
            ]
          },
          "metadata": {
            "tags": []
          },
          "execution_count": 28
        }
      ]
    },
    {
      "cell_type": "code",
      "metadata": {
        "id": "DRa5KrDKsOcF",
        "colab_type": "code",
        "colab": {}
      },
      "source": [
        "np.save('train',X_train)\n",
        "np.save('train_labels',y_train)"
      ],
      "execution_count": 0,
      "outputs": []
    },
    {
      "cell_type": "markdown",
      "metadata": {
        "id": "mAvnZOMk7DTD",
        "colab_type": "text"
      },
      "source": [
        "### DL exploration"
      ]
    },
    {
      "cell_type": "code",
      "metadata": {
        "id": "ez0doPCssf3A",
        "colab_type": "code",
        "colab": {}
      },
      "source": [
        "import numpy as np\n",
        "\n",
        "data = np.load('train.npy')\n",
        "labels = np.load('train_labels.npy')"
      ],
      "execution_count": 0,
      "outputs": []
    },
    {
      "cell_type": "code",
      "metadata": {
        "id": "v3PAZIYg6vby",
        "colab_type": "code",
        "outputId": "930fa251-1e7e-4856-c043-c1f7e1890bcd",
        "colab": {
          "base_uri": "https://localhost:8080/",
          "height": 34
        }
      },
      "source": [
        "labels.shape"
      ],
      "execution_count": 0,
      "outputs": [
        {
          "output_type": "execute_result",
          "data": {
            "text/plain": [
              "(8970, 80)"
            ]
          },
          "metadata": {
            "tags": []
          },
          "execution_count": 3
        }
      ]
    },
    {
      "cell_type": "code",
      "metadata": {
        "id": "vpzqBFbwwpkO",
        "colab_type": "code",
        "outputId": "659c8ee9-5555-4cfb-b06a-6f7bd1b8a229",
        "colab": {
          "base_uri": "https://localhost:8080/",
          "height": 15286
        }
      },
      "source": [
        "\"\"\"\n",
        "Using kernel approach:\n",
        "data into pytorch tensor then applying cnn operation:\n",
        "https://discuss.pytorch.org/t/input-numpy-ndarray-instead-of-images-in-a-cnn/18797\n",
        "\"\"\"\n",
        "\n",
        "import torch\n",
        "from torch.utils.data import Dataset, DataLoader\n",
        "from PIL import Image\n",
        "\n",
        "\n",
        "class MyDataset(Dataset):\n",
        "  def __init__(self, data, target, transform=None):\n",
        "    self.data = torch.from_numpy(data).float()\n",
        "    self.target = torch.from_numpy(target).long()\n",
        "    self.transform = transform\n",
        "    \n",
        "  def __getitem__(self, index):\n",
        "    x = self.data[index]\n",
        "    y = self.target[index]\n",
        "    \n",
        "    if self.transform:\n",
        "      x = self.transform(x)\n",
        "      \n",
        "    \n",
        "    return x, y\n",
        "  \n",
        "  def __len__(self):\n",
        "    return len(self.data)\n",
        "  \n",
        "  \n",
        "numpy_data = data\n",
        "numpy_target = labels\n",
        "\n",
        "dataset = MyDataset(numpy_data, numpy_target)\n",
        "loader = DataLoader(\n",
        "    dataset,\n",
        "    batch_size=10,\n",
        "    num_workers=2,\n",
        "    pin_memory=torch.cuda.is_available()\n",
        ")\n",
        "\n",
        "for batch_idx, (data, target) in enumerate(loader):\n",
        "  print('Batch idx {}, data shape {}, target shape {}'.format(\n",
        "      batch_idx, data.shape, target.shape))"
      ],
      "execution_count": 0,
      "outputs": [
        {
          "output_type": "stream",
          "text": [
            "Batch idx 0, data shape torch.Size([10, 128, 128, 3]), target shape torch.Size([10, 80])\n",
            "Batch idx 1, data shape torch.Size([10, 128, 128, 3]), target shape torch.Size([10, 80])\n",
            "Batch idx 2, data shape torch.Size([10, 128, 128, 3]), target shape torch.Size([10, 80])\n",
            "Batch idx 3, data shape torch.Size([10, 128, 128, 3]), target shape torch.Size([10, 80])\n",
            "Batch idx 4, data shape torch.Size([10, 128, 128, 3]), target shape torch.Size([10, 80])\n",
            "Batch idx 5, data shape torch.Size([10, 128, 128, 3]), target shape torch.Size([10, 80])\n",
            "Batch idx 6, data shape torch.Size([10, 128, 128, 3]), target shape torch.Size([10, 80])\n",
            "Batch idx 7, data shape torch.Size([10, 128, 128, 3]), target shape torch.Size([10, 80])\n",
            "Batch idx 8, data shape torch.Size([10, 128, 128, 3]), target shape torch.Size([10, 80])\n",
            "Batch idx 9, data shape torch.Size([10, 128, 128, 3]), target shape torch.Size([10, 80])\n",
            "Batch idx 10, data shape torch.Size([10, 128, 128, 3]), target shape torch.Size([10, 80])\n",
            "Batch idx 11, data shape torch.Size([10, 128, 128, 3]), target shape torch.Size([10, 80])\n",
            "Batch idx 12, data shape torch.Size([10, 128, 128, 3]), target shape torch.Size([10, 80])\n",
            "Batch idx 13, data shape torch.Size([10, 128, 128, 3]), target shape torch.Size([10, 80])\n",
            "Batch idx 14, data shape torch.Size([10, 128, 128, 3]), target shape torch.Size([10, 80])\n",
            "Batch idx 15, data shape torch.Size([10, 128, 128, 3]), target shape torch.Size([10, 80])\n",
            "Batch idx 16, data shape torch.Size([10, 128, 128, 3]), target shape torch.Size([10, 80])\n",
            "Batch idx 17, data shape torch.Size([10, 128, 128, 3]), target shape torch.Size([10, 80])\n",
            "Batch idx 18, data shape torch.Size([10, 128, 128, 3]), target shape torch.Size([10, 80])\n",
            "Batch idx 19, data shape torch.Size([10, 128, 128, 3]), target shape torch.Size([10, 80])\n",
            "Batch idx 20, data shape torch.Size([10, 128, 128, 3]), target shape torch.Size([10, 80])\n",
            "Batch idx 21, data shape torch.Size([10, 128, 128, 3]), target shape torch.Size([10, 80])\n",
            "Batch idx 22, data shape torch.Size([10, 128, 128, 3]), target shape torch.Size([10, 80])\n",
            "Batch idx 23, data shape torch.Size([10, 128, 128, 3]), target shape torch.Size([10, 80])\n",
            "Batch idx 24, data shape torch.Size([10, 128, 128, 3]), target shape torch.Size([10, 80])\n",
            "Batch idx 25, data shape torch.Size([10, 128, 128, 3]), target shape torch.Size([10, 80])\n",
            "Batch idx 26, data shape torch.Size([10, 128, 128, 3]), target shape torch.Size([10, 80])\n",
            "Batch idx 27, data shape torch.Size([10, 128, 128, 3]), target shape torch.Size([10, 80])\n",
            "Batch idx 28, data shape torch.Size([10, 128, 128, 3]), target shape torch.Size([10, 80])\n",
            "Batch idx 29, data shape torch.Size([10, 128, 128, 3]), target shape torch.Size([10, 80])\n",
            "Batch idx 30, data shape torch.Size([10, 128, 128, 3]), target shape torch.Size([10, 80])\n",
            "Batch idx 31, data shape torch.Size([10, 128, 128, 3]), target shape torch.Size([10, 80])\n",
            "Batch idx 32, data shape torch.Size([10, 128, 128, 3]), target shape torch.Size([10, 80])\n",
            "Batch idx 33, data shape torch.Size([10, 128, 128, 3]), target shape torch.Size([10, 80])\n",
            "Batch idx 34, data shape torch.Size([10, 128, 128, 3]), target shape torch.Size([10, 80])\n",
            "Batch idx 35, data shape torch.Size([10, 128, 128, 3]), target shape torch.Size([10, 80])\n",
            "Batch idx 36, data shape torch.Size([10, 128, 128, 3]), target shape torch.Size([10, 80])\n",
            "Batch idx 37, data shape torch.Size([10, 128, 128, 3]), target shape torch.Size([10, 80])\n",
            "Batch idx 38, data shape torch.Size([10, 128, 128, 3]), target shape torch.Size([10, 80])\n",
            "Batch idx 39, data shape torch.Size([10, 128, 128, 3]), target shape torch.Size([10, 80])\n",
            "Batch idx 40, data shape torch.Size([10, 128, 128, 3]), target shape torch.Size([10, 80])\n",
            "Batch idx 41, data shape torch.Size([10, 128, 128, 3]), target shape torch.Size([10, 80])\n",
            "Batch idx 42, data shape torch.Size([10, 128, 128, 3]), target shape torch.Size([10, 80])\n",
            "Batch idx 43, data shape torch.Size([10, 128, 128, 3]), target shape torch.Size([10, 80])\n",
            "Batch idx 44, data shape torch.Size([10, 128, 128, 3]), target shape torch.Size([10, 80])\n",
            "Batch idx 45, data shape torch.Size([10, 128, 128, 3]), target shape torch.Size([10, 80])\n",
            "Batch idx 46, data shape torch.Size([10, 128, 128, 3]), target shape torch.Size([10, 80])\n",
            "Batch idx 47, data shape torch.Size([10, 128, 128, 3]), target shape torch.Size([10, 80])\n",
            "Batch idx 48, data shape torch.Size([10, 128, 128, 3]), target shape torch.Size([10, 80])\n",
            "Batch idx 49, data shape torch.Size([10, 128, 128, 3]), target shape torch.Size([10, 80])\n",
            "Batch idx 50, data shape torch.Size([10, 128, 128, 3]), target shape torch.Size([10, 80])\n",
            "Batch idx 51, data shape torch.Size([10, 128, 128, 3]), target shape torch.Size([10, 80])\n",
            "Batch idx 52, data shape torch.Size([10, 128, 128, 3]), target shape torch.Size([10, 80])\n",
            "Batch idx 53, data shape torch.Size([10, 128, 128, 3]), target shape torch.Size([10, 80])\n",
            "Batch idx 54, data shape torch.Size([10, 128, 128, 3]), target shape torch.Size([10, 80])\n",
            "Batch idx 55, data shape torch.Size([10, 128, 128, 3]), target shape torch.Size([10, 80])\n",
            "Batch idx 56, data shape torch.Size([10, 128, 128, 3]), target shape torch.Size([10, 80])\n",
            "Batch idx 57, data shape torch.Size([10, 128, 128, 3]), target shape torch.Size([10, 80])\n",
            "Batch idx 58, data shape torch.Size([10, 128, 128, 3]), target shape torch.Size([10, 80])\n",
            "Batch idx 59, data shape torch.Size([10, 128, 128, 3]), target shape torch.Size([10, 80])\n",
            "Batch idx 60, data shape torch.Size([10, 128, 128, 3]), target shape torch.Size([10, 80])\n",
            "Batch idx 61, data shape torch.Size([10, 128, 128, 3]), target shape torch.Size([10, 80])\n",
            "Batch idx 62, data shape torch.Size([10, 128, 128, 3]), target shape torch.Size([10, 80])\n",
            "Batch idx 63, data shape torch.Size([10, 128, 128, 3]), target shape torch.Size([10, 80])\n",
            "Batch idx 64, data shape torch.Size([10, 128, 128, 3]), target shape torch.Size([10, 80])\n",
            "Batch idx 65, data shape torch.Size([10, 128, 128, 3]), target shape torch.Size([10, 80])\n",
            "Batch idx 66, data shape torch.Size([10, 128, 128, 3]), target shape torch.Size([10, 80])\n",
            "Batch idx 67, data shape torch.Size([10, 128, 128, 3]), target shape torch.Size([10, 80])\n",
            "Batch idx 68, data shape torch.Size([10, 128, 128, 3]), target shape torch.Size([10, 80])\n",
            "Batch idx 69, data shape torch.Size([10, 128, 128, 3]), target shape torch.Size([10, 80])\n",
            "Batch idx 70, data shape torch.Size([10, 128, 128, 3]), target shape torch.Size([10, 80])\n",
            "Batch idx 71, data shape torch.Size([10, 128, 128, 3]), target shape torch.Size([10, 80])\n",
            "Batch idx 72, data shape torch.Size([10, 128, 128, 3]), target shape torch.Size([10, 80])\n",
            "Batch idx 73, data shape torch.Size([10, 128, 128, 3]), target shape torch.Size([10, 80])\n",
            "Batch idx 74, data shape torch.Size([10, 128, 128, 3]), target shape torch.Size([10, 80])\n",
            "Batch idx 75, data shape torch.Size([10, 128, 128, 3]), target shape torch.Size([10, 80])\n",
            "Batch idx 76, data shape torch.Size([10, 128, 128, 3]), target shape torch.Size([10, 80])\n",
            "Batch idx 77, data shape torch.Size([10, 128, 128, 3]), target shape torch.Size([10, 80])\n",
            "Batch idx 78, data shape torch.Size([10, 128, 128, 3]), target shape torch.Size([10, 80])\n",
            "Batch idx 79, data shape torch.Size([10, 128, 128, 3]), target shape torch.Size([10, 80])\n",
            "Batch idx 80, data shape torch.Size([10, 128, 128, 3]), target shape torch.Size([10, 80])\n",
            "Batch idx 81, data shape torch.Size([10, 128, 128, 3]), target shape torch.Size([10, 80])\n",
            "Batch idx 82, data shape torch.Size([10, 128, 128, 3]), target shape torch.Size([10, 80])\n",
            "Batch idx 83, data shape torch.Size([10, 128, 128, 3]), target shape torch.Size([10, 80])\n",
            "Batch idx 84, data shape torch.Size([10, 128, 128, 3]), target shape torch.Size([10, 80])\n",
            "Batch idx 85, data shape torch.Size([10, 128, 128, 3]), target shape torch.Size([10, 80])\n",
            "Batch idx 86, data shape torch.Size([10, 128, 128, 3]), target shape torch.Size([10, 80])\n",
            "Batch idx 87, data shape torch.Size([10, 128, 128, 3]), target shape torch.Size([10, 80])\n",
            "Batch idx 88, data shape torch.Size([10, 128, 128, 3]), target shape torch.Size([10, 80])\n",
            "Batch idx 89, data shape torch.Size([10, 128, 128, 3]), target shape torch.Size([10, 80])\n",
            "Batch idx 90, data shape torch.Size([10, 128, 128, 3]), target shape torch.Size([10, 80])\n",
            "Batch idx 91, data shape torch.Size([10, 128, 128, 3]), target shape torch.Size([10, 80])\n",
            "Batch idx 92, data shape torch.Size([10, 128, 128, 3]), target shape torch.Size([10, 80])\n",
            "Batch idx 93, data shape torch.Size([10, 128, 128, 3]), target shape torch.Size([10, 80])\n",
            "Batch idx 94, data shape torch.Size([10, 128, 128, 3]), target shape torch.Size([10, 80])\n",
            "Batch idx 95, data shape torch.Size([10, 128, 128, 3]), target shape torch.Size([10, 80])\n",
            "Batch idx 96, data shape torch.Size([10, 128, 128, 3]), target shape torch.Size([10, 80])\n",
            "Batch idx 97, data shape torch.Size([10, 128, 128, 3]), target shape torch.Size([10, 80])\n",
            "Batch idx 98, data shape torch.Size([10, 128, 128, 3]), target shape torch.Size([10, 80])\n",
            "Batch idx 99, data shape torch.Size([10, 128, 128, 3]), target shape torch.Size([10, 80])\n",
            "Batch idx 100, data shape torch.Size([10, 128, 128, 3]), target shape torch.Size([10, 80])\n",
            "Batch idx 101, data shape torch.Size([10, 128, 128, 3]), target shape torch.Size([10, 80])\n",
            "Batch idx 102, data shape torch.Size([10, 128, 128, 3]), target shape torch.Size([10, 80])\n",
            "Batch idx 103, data shape torch.Size([10, 128, 128, 3]), target shape torch.Size([10, 80])\n",
            "Batch idx 104, data shape torch.Size([10, 128, 128, 3]), target shape torch.Size([10, 80])\n",
            "Batch idx 105, data shape torch.Size([10, 128, 128, 3]), target shape torch.Size([10, 80])\n",
            "Batch idx 106, data shape torch.Size([10, 128, 128, 3]), target shape torch.Size([10, 80])\n",
            "Batch idx 107, data shape torch.Size([10, 128, 128, 3]), target shape torch.Size([10, 80])\n",
            "Batch idx 108, data shape torch.Size([10, 128, 128, 3]), target shape torch.Size([10, 80])\n",
            "Batch idx 109, data shape torch.Size([10, 128, 128, 3]), target shape torch.Size([10, 80])\n",
            "Batch idx 110, data shape torch.Size([10, 128, 128, 3]), target shape torch.Size([10, 80])\n",
            "Batch idx 111, data shape torch.Size([10, 128, 128, 3]), target shape torch.Size([10, 80])\n",
            "Batch idx 112, data shape torch.Size([10, 128, 128, 3]), target shape torch.Size([10, 80])\n",
            "Batch idx 113, data shape torch.Size([10, 128, 128, 3]), target shape torch.Size([10, 80])\n",
            "Batch idx 114, data shape torch.Size([10, 128, 128, 3]), target shape torch.Size([10, 80])\n",
            "Batch idx 115, data shape torch.Size([10, 128, 128, 3]), target shape torch.Size([10, 80])\n",
            "Batch idx 116, data shape torch.Size([10, 128, 128, 3]), target shape torch.Size([10, 80])\n",
            "Batch idx 117, data shape torch.Size([10, 128, 128, 3]), target shape torch.Size([10, 80])\n",
            "Batch idx 118, data shape torch.Size([10, 128, 128, 3]), target shape torch.Size([10, 80])\n",
            "Batch idx 119, data shape torch.Size([10, 128, 128, 3]), target shape torch.Size([10, 80])\n",
            "Batch idx 120, data shape torch.Size([10, 128, 128, 3]), target shape torch.Size([10, 80])\n",
            "Batch idx 121, data shape torch.Size([10, 128, 128, 3]), target shape torch.Size([10, 80])\n",
            "Batch idx 122, data shape torch.Size([10, 128, 128, 3]), target shape torch.Size([10, 80])\n",
            "Batch idx 123, data shape torch.Size([10, 128, 128, 3]), target shape torch.Size([10, 80])\n",
            "Batch idx 124, data shape torch.Size([10, 128, 128, 3]), target shape torch.Size([10, 80])\n",
            "Batch idx 125, data shape torch.Size([10, 128, 128, 3]), target shape torch.Size([10, 80])\n",
            "Batch idx 126, data shape torch.Size([10, 128, 128, 3]), target shape torch.Size([10, 80])\n",
            "Batch idx 127, data shape torch.Size([10, 128, 128, 3]), target shape torch.Size([10, 80])\n",
            "Batch idx 128, data shape torch.Size([10, 128, 128, 3]), target shape torch.Size([10, 80])\n",
            "Batch idx 129, data shape torch.Size([10, 128, 128, 3]), target shape torch.Size([10, 80])\n",
            "Batch idx 130, data shape torch.Size([10, 128, 128, 3]), target shape torch.Size([10, 80])\n",
            "Batch idx 131, data shape torch.Size([10, 128, 128, 3]), target shape torch.Size([10, 80])\n",
            "Batch idx 132, data shape torch.Size([10, 128, 128, 3]), target shape torch.Size([10, 80])\n",
            "Batch idx 133, data shape torch.Size([10, 128, 128, 3]), target shape torch.Size([10, 80])\n",
            "Batch idx 134, data shape torch.Size([10, 128, 128, 3]), target shape torch.Size([10, 80])\n",
            "Batch idx 135, data shape torch.Size([10, 128, 128, 3]), target shape torch.Size([10, 80])\n",
            "Batch idx 136, data shape torch.Size([10, 128, 128, 3]), target shape torch.Size([10, 80])\n",
            "Batch idx 137, data shape torch.Size([10, 128, 128, 3]), target shape torch.Size([10, 80])\n",
            "Batch idx 138, data shape torch.Size([10, 128, 128, 3]), target shape torch.Size([10, 80])\n",
            "Batch idx 139, data shape torch.Size([10, 128, 128, 3]), target shape torch.Size([10, 80])\n",
            "Batch idx 140, data shape torch.Size([10, 128, 128, 3]), target shape torch.Size([10, 80])\n",
            "Batch idx 141, data shape torch.Size([10, 128, 128, 3]), target shape torch.Size([10, 80])\n",
            "Batch idx 142, data shape torch.Size([10, 128, 128, 3]), target shape torch.Size([10, 80])\n",
            "Batch idx 143, data shape torch.Size([10, 128, 128, 3]), target shape torch.Size([10, 80])\n",
            "Batch idx 144, data shape torch.Size([10, 128, 128, 3]), target shape torch.Size([10, 80])\n",
            "Batch idx 145, data shape torch.Size([10, 128, 128, 3]), target shape torch.Size([10, 80])\n",
            "Batch idx 146, data shape torch.Size([10, 128, 128, 3]), target shape torch.Size([10, 80])\n",
            "Batch idx 147, data shape torch.Size([10, 128, 128, 3]), target shape torch.Size([10, 80])\n",
            "Batch idx 148, data shape torch.Size([10, 128, 128, 3]), target shape torch.Size([10, 80])\n",
            "Batch idx 149, data shape torch.Size([10, 128, 128, 3]), target shape torch.Size([10, 80])\n",
            "Batch idx 150, data shape torch.Size([10, 128, 128, 3]), target shape torch.Size([10, 80])\n",
            "Batch idx 151, data shape torch.Size([10, 128, 128, 3]), target shape torch.Size([10, 80])\n",
            "Batch idx 152, data shape torch.Size([10, 128, 128, 3]), target shape torch.Size([10, 80])\n",
            "Batch idx 153, data shape torch.Size([10, 128, 128, 3]), target shape torch.Size([10, 80])\n",
            "Batch idx 154, data shape torch.Size([10, 128, 128, 3]), target shape torch.Size([10, 80])\n",
            "Batch idx 155, data shape torch.Size([10, 128, 128, 3]), target shape torch.Size([10, 80])\n",
            "Batch idx 156, data shape torch.Size([10, 128, 128, 3]), target shape torch.Size([10, 80])\n",
            "Batch idx 157, data shape torch.Size([10, 128, 128, 3]), target shape torch.Size([10, 80])\n",
            "Batch idx 158, data shape torch.Size([10, 128, 128, 3]), target shape torch.Size([10, 80])\n",
            "Batch idx 159, data shape torch.Size([10, 128, 128, 3]), target shape torch.Size([10, 80])\n",
            "Batch idx 160, data shape torch.Size([10, 128, 128, 3]), target shape torch.Size([10, 80])\n",
            "Batch idx 161, data shape torch.Size([10, 128, 128, 3]), target shape torch.Size([10, 80])\n",
            "Batch idx 162, data shape torch.Size([10, 128, 128, 3]), target shape torch.Size([10, 80])\n",
            "Batch idx 163, data shape torch.Size([10, 128, 128, 3]), target shape torch.Size([10, 80])\n",
            "Batch idx 164, data shape torch.Size([10, 128, 128, 3]), target shape torch.Size([10, 80])\n",
            "Batch idx 165, data shape torch.Size([10, 128, 128, 3]), target shape torch.Size([10, 80])\n",
            "Batch idx 166, data shape torch.Size([10, 128, 128, 3]), target shape torch.Size([10, 80])\n",
            "Batch idx 167, data shape torch.Size([10, 128, 128, 3]), target shape torch.Size([10, 80])\n",
            "Batch idx 168, data shape torch.Size([10, 128, 128, 3]), target shape torch.Size([10, 80])\n",
            "Batch idx 169, data shape torch.Size([10, 128, 128, 3]), target shape torch.Size([10, 80])\n",
            "Batch idx 170, data shape torch.Size([10, 128, 128, 3]), target shape torch.Size([10, 80])\n",
            "Batch idx 171, data shape torch.Size([10, 128, 128, 3]), target shape torch.Size([10, 80])\n",
            "Batch idx 172, data shape torch.Size([10, 128, 128, 3]), target shape torch.Size([10, 80])\n",
            "Batch idx 173, data shape torch.Size([10, 128, 128, 3]), target shape torch.Size([10, 80])\n",
            "Batch idx 174, data shape torch.Size([10, 128, 128, 3]), target shape torch.Size([10, 80])\n",
            "Batch idx 175, data shape torch.Size([10, 128, 128, 3]), target shape torch.Size([10, 80])\n",
            "Batch idx 176, data shape torch.Size([10, 128, 128, 3]), target shape torch.Size([10, 80])\n",
            "Batch idx 177, data shape torch.Size([10, 128, 128, 3]), target shape torch.Size([10, 80])\n",
            "Batch idx 178, data shape torch.Size([10, 128, 128, 3]), target shape torch.Size([10, 80])\n",
            "Batch idx 179, data shape torch.Size([10, 128, 128, 3]), target shape torch.Size([10, 80])\n",
            "Batch idx 180, data shape torch.Size([10, 128, 128, 3]), target shape torch.Size([10, 80])\n",
            "Batch idx 181, data shape torch.Size([10, 128, 128, 3]), target shape torch.Size([10, 80])\n",
            "Batch idx 182, data shape torch.Size([10, 128, 128, 3]), target shape torch.Size([10, 80])\n",
            "Batch idx 183, data shape torch.Size([10, 128, 128, 3]), target shape torch.Size([10, 80])\n",
            "Batch idx 184, data shape torch.Size([10, 128, 128, 3]), target shape torch.Size([10, 80])\n",
            "Batch idx 185, data shape torch.Size([10, 128, 128, 3]), target shape torch.Size([10, 80])\n",
            "Batch idx 186, data shape torch.Size([10, 128, 128, 3]), target shape torch.Size([10, 80])\n",
            "Batch idx 187, data shape torch.Size([10, 128, 128, 3]), target shape torch.Size([10, 80])\n",
            "Batch idx 188, data shape torch.Size([10, 128, 128, 3]), target shape torch.Size([10, 80])\n",
            "Batch idx 189, data shape torch.Size([10, 128, 128, 3]), target shape torch.Size([10, 80])\n",
            "Batch idx 190, data shape torch.Size([10, 128, 128, 3]), target shape torch.Size([10, 80])\n",
            "Batch idx 191, data shape torch.Size([10, 128, 128, 3]), target shape torch.Size([10, 80])\n",
            "Batch idx 192, data shape torch.Size([10, 128, 128, 3]), target shape torch.Size([10, 80])\n",
            "Batch idx 193, data shape torch.Size([10, 128, 128, 3]), target shape torch.Size([10, 80])\n",
            "Batch idx 194, data shape torch.Size([10, 128, 128, 3]), target shape torch.Size([10, 80])\n",
            "Batch idx 195, data shape torch.Size([10, 128, 128, 3]), target shape torch.Size([10, 80])\n",
            "Batch idx 196, data shape torch.Size([10, 128, 128, 3]), target shape torch.Size([10, 80])\n",
            "Batch idx 197, data shape torch.Size([10, 128, 128, 3]), target shape torch.Size([10, 80])\n",
            "Batch idx 198, data shape torch.Size([10, 128, 128, 3]), target shape torch.Size([10, 80])\n",
            "Batch idx 199, data shape torch.Size([10, 128, 128, 3]), target shape torch.Size([10, 80])\n",
            "Batch idx 200, data shape torch.Size([10, 128, 128, 3]), target shape torch.Size([10, 80])\n",
            "Batch idx 201, data shape torch.Size([10, 128, 128, 3]), target shape torch.Size([10, 80])\n",
            "Batch idx 202, data shape torch.Size([10, 128, 128, 3]), target shape torch.Size([10, 80])\n",
            "Batch idx 203, data shape torch.Size([10, 128, 128, 3]), target shape torch.Size([10, 80])\n",
            "Batch idx 204, data shape torch.Size([10, 128, 128, 3]), target shape torch.Size([10, 80])\n",
            "Batch idx 205, data shape torch.Size([10, 128, 128, 3]), target shape torch.Size([10, 80])\n",
            "Batch idx 206, data shape torch.Size([10, 128, 128, 3]), target shape torch.Size([10, 80])\n",
            "Batch idx 207, data shape torch.Size([10, 128, 128, 3]), target shape torch.Size([10, 80])\n",
            "Batch idx 208, data shape torch.Size([10, 128, 128, 3]), target shape torch.Size([10, 80])\n",
            "Batch idx 209, data shape torch.Size([10, 128, 128, 3]), target shape torch.Size([10, 80])\n",
            "Batch idx 210, data shape torch.Size([10, 128, 128, 3]), target shape torch.Size([10, 80])\n",
            "Batch idx 211, data shape torch.Size([10, 128, 128, 3]), target shape torch.Size([10, 80])\n",
            "Batch idx 212, data shape torch.Size([10, 128, 128, 3]), target shape torch.Size([10, 80])\n",
            "Batch idx 213, data shape torch.Size([10, 128, 128, 3]), target shape torch.Size([10, 80])\n",
            "Batch idx 214, data shape torch.Size([10, 128, 128, 3]), target shape torch.Size([10, 80])\n",
            "Batch idx 215, data shape torch.Size([10, 128, 128, 3]), target shape torch.Size([10, 80])\n",
            "Batch idx 216, data shape torch.Size([10, 128, 128, 3]), target shape torch.Size([10, 80])\n",
            "Batch idx 217, data shape torch.Size([10, 128, 128, 3]), target shape torch.Size([10, 80])\n",
            "Batch idx 218, data shape torch.Size([10, 128, 128, 3]), target shape torch.Size([10, 80])\n",
            "Batch idx 219, data shape torch.Size([10, 128, 128, 3]), target shape torch.Size([10, 80])\n",
            "Batch idx 220, data shape torch.Size([10, 128, 128, 3]), target shape torch.Size([10, 80])\n",
            "Batch idx 221, data shape torch.Size([10, 128, 128, 3]), target shape torch.Size([10, 80])\n",
            "Batch idx 222, data shape torch.Size([10, 128, 128, 3]), target shape torch.Size([10, 80])\n",
            "Batch idx 223, data shape torch.Size([10, 128, 128, 3]), target shape torch.Size([10, 80])\n",
            "Batch idx 224, data shape torch.Size([10, 128, 128, 3]), target shape torch.Size([10, 80])\n",
            "Batch idx 225, data shape torch.Size([10, 128, 128, 3]), target shape torch.Size([10, 80])\n",
            "Batch idx 226, data shape torch.Size([10, 128, 128, 3]), target shape torch.Size([10, 80])\n",
            "Batch idx 227, data shape torch.Size([10, 128, 128, 3]), target shape torch.Size([10, 80])\n",
            "Batch idx 228, data shape torch.Size([10, 128, 128, 3]), target shape torch.Size([10, 80])\n",
            "Batch idx 229, data shape torch.Size([10, 128, 128, 3]), target shape torch.Size([10, 80])\n",
            "Batch idx 230, data shape torch.Size([10, 128, 128, 3]), target shape torch.Size([10, 80])\n",
            "Batch idx 231, data shape torch.Size([10, 128, 128, 3]), target shape torch.Size([10, 80])\n",
            "Batch idx 232, data shape torch.Size([10, 128, 128, 3]), target shape torch.Size([10, 80])\n",
            "Batch idx 233, data shape torch.Size([10, 128, 128, 3]), target shape torch.Size([10, 80])\n",
            "Batch idx 234, data shape torch.Size([10, 128, 128, 3]), target shape torch.Size([10, 80])\n",
            "Batch idx 235, data shape torch.Size([10, 128, 128, 3]), target shape torch.Size([10, 80])\n",
            "Batch idx 236, data shape torch.Size([10, 128, 128, 3]), target shape torch.Size([10, 80])\n",
            "Batch idx 237, data shape torch.Size([10, 128, 128, 3]), target shape torch.Size([10, 80])\n",
            "Batch idx 238, data shape torch.Size([10, 128, 128, 3]), target shape torch.Size([10, 80])\n",
            "Batch idx 239, data shape torch.Size([10, 128, 128, 3]), target shape torch.Size([10, 80])\n",
            "Batch idx 240, data shape torch.Size([10, 128, 128, 3]), target shape torch.Size([10, 80])\n",
            "Batch idx 241, data shape torch.Size([10, 128, 128, 3]), target shape torch.Size([10, 80])\n",
            "Batch idx 242, data shape torch.Size([10, 128, 128, 3]), target shape torch.Size([10, 80])\n",
            "Batch idx 243, data shape torch.Size([10, 128, 128, 3]), target shape torch.Size([10, 80])\n",
            "Batch idx 244, data shape torch.Size([10, 128, 128, 3]), target shape torch.Size([10, 80])\n",
            "Batch idx 245, data shape torch.Size([10, 128, 128, 3]), target shape torch.Size([10, 80])\n",
            "Batch idx 246, data shape torch.Size([10, 128, 128, 3]), target shape torch.Size([10, 80])\n",
            "Batch idx 247, data shape torch.Size([10, 128, 128, 3]), target shape torch.Size([10, 80])\n",
            "Batch idx 248, data shape torch.Size([10, 128, 128, 3]), target shape torch.Size([10, 80])\n",
            "Batch idx 249, data shape torch.Size([10, 128, 128, 3]), target shape torch.Size([10, 80])\n",
            "Batch idx 250, data shape torch.Size([10, 128, 128, 3]), target shape torch.Size([10, 80])\n",
            "Batch idx 251, data shape torch.Size([10, 128, 128, 3]), target shape torch.Size([10, 80])\n",
            "Batch idx 252, data shape torch.Size([10, 128, 128, 3]), target shape torch.Size([10, 80])\n",
            "Batch idx 253, data shape torch.Size([10, 128, 128, 3]), target shape torch.Size([10, 80])\n",
            "Batch idx 254, data shape torch.Size([10, 128, 128, 3]), target shape torch.Size([10, 80])\n",
            "Batch idx 255, data shape torch.Size([10, 128, 128, 3]), target shape torch.Size([10, 80])\n",
            "Batch idx 256, data shape torch.Size([10, 128, 128, 3]), target shape torch.Size([10, 80])\n",
            "Batch idx 257, data shape torch.Size([10, 128, 128, 3]), target shape torch.Size([10, 80])\n",
            "Batch idx 258, data shape torch.Size([10, 128, 128, 3]), target shape torch.Size([10, 80])\n",
            "Batch idx 259, data shape torch.Size([10, 128, 128, 3]), target shape torch.Size([10, 80])\n",
            "Batch idx 260, data shape torch.Size([10, 128, 128, 3]), target shape torch.Size([10, 80])\n",
            "Batch idx 261, data shape torch.Size([10, 128, 128, 3]), target shape torch.Size([10, 80])\n",
            "Batch idx 262, data shape torch.Size([10, 128, 128, 3]), target shape torch.Size([10, 80])\n",
            "Batch idx 263, data shape torch.Size([10, 128, 128, 3]), target shape torch.Size([10, 80])\n",
            "Batch idx 264, data shape torch.Size([10, 128, 128, 3]), target shape torch.Size([10, 80])\n",
            "Batch idx 265, data shape torch.Size([10, 128, 128, 3]), target shape torch.Size([10, 80])\n",
            "Batch idx 266, data shape torch.Size([10, 128, 128, 3]), target shape torch.Size([10, 80])\n",
            "Batch idx 267, data shape torch.Size([10, 128, 128, 3]), target shape torch.Size([10, 80])\n",
            "Batch idx 268, data shape torch.Size([10, 128, 128, 3]), target shape torch.Size([10, 80])\n",
            "Batch idx 269, data shape torch.Size([10, 128, 128, 3]), target shape torch.Size([10, 80])\n",
            "Batch idx 270, data shape torch.Size([10, 128, 128, 3]), target shape torch.Size([10, 80])\n",
            "Batch idx 271, data shape torch.Size([10, 128, 128, 3]), target shape torch.Size([10, 80])\n",
            "Batch idx 272, data shape torch.Size([10, 128, 128, 3]), target shape torch.Size([10, 80])\n",
            "Batch idx 273, data shape torch.Size([10, 128, 128, 3]), target shape torch.Size([10, 80])\n",
            "Batch idx 274, data shape torch.Size([10, 128, 128, 3]), target shape torch.Size([10, 80])\n",
            "Batch idx 275, data shape torch.Size([10, 128, 128, 3]), target shape torch.Size([10, 80])\n",
            "Batch idx 276, data shape torch.Size([10, 128, 128, 3]), target shape torch.Size([10, 80])\n",
            "Batch idx 277, data shape torch.Size([10, 128, 128, 3]), target shape torch.Size([10, 80])\n",
            "Batch idx 278, data shape torch.Size([10, 128, 128, 3]), target shape torch.Size([10, 80])\n",
            "Batch idx 279, data shape torch.Size([10, 128, 128, 3]), target shape torch.Size([10, 80])\n",
            "Batch idx 280, data shape torch.Size([10, 128, 128, 3]), target shape torch.Size([10, 80])\n",
            "Batch idx 281, data shape torch.Size([10, 128, 128, 3]), target shape torch.Size([10, 80])\n",
            "Batch idx 282, data shape torch.Size([10, 128, 128, 3]), target shape torch.Size([10, 80])\n",
            "Batch idx 283, data shape torch.Size([10, 128, 128, 3]), target shape torch.Size([10, 80])\n",
            "Batch idx 284, data shape torch.Size([10, 128, 128, 3]), target shape torch.Size([10, 80])\n",
            "Batch idx 285, data shape torch.Size([10, 128, 128, 3]), target shape torch.Size([10, 80])\n",
            "Batch idx 286, data shape torch.Size([10, 128, 128, 3]), target shape torch.Size([10, 80])\n",
            "Batch idx 287, data shape torch.Size([10, 128, 128, 3]), target shape torch.Size([10, 80])\n",
            "Batch idx 288, data shape torch.Size([10, 128, 128, 3]), target shape torch.Size([10, 80])\n",
            "Batch idx 289, data shape torch.Size([10, 128, 128, 3]), target shape torch.Size([10, 80])\n",
            "Batch idx 290, data shape torch.Size([10, 128, 128, 3]), target shape torch.Size([10, 80])\n",
            "Batch idx 291, data shape torch.Size([10, 128, 128, 3]), target shape torch.Size([10, 80])\n",
            "Batch idx 292, data shape torch.Size([10, 128, 128, 3]), target shape torch.Size([10, 80])\n",
            "Batch idx 293, data shape torch.Size([10, 128, 128, 3]), target shape torch.Size([10, 80])\n",
            "Batch idx 294, data shape torch.Size([10, 128, 128, 3]), target shape torch.Size([10, 80])\n",
            "Batch idx 295, data shape torch.Size([10, 128, 128, 3]), target shape torch.Size([10, 80])\n",
            "Batch idx 296, data shape torch.Size([10, 128, 128, 3]), target shape torch.Size([10, 80])\n",
            "Batch idx 297, data shape torch.Size([10, 128, 128, 3]), target shape torch.Size([10, 80])\n",
            "Batch idx 298, data shape torch.Size([10, 128, 128, 3]), target shape torch.Size([10, 80])\n",
            "Batch idx 299, data shape torch.Size([10, 128, 128, 3]), target shape torch.Size([10, 80])\n",
            "Batch idx 300, data shape torch.Size([10, 128, 128, 3]), target shape torch.Size([10, 80])\n",
            "Batch idx 301, data shape torch.Size([10, 128, 128, 3]), target shape torch.Size([10, 80])\n",
            "Batch idx 302, data shape torch.Size([10, 128, 128, 3]), target shape torch.Size([10, 80])\n",
            "Batch idx 303, data shape torch.Size([10, 128, 128, 3]), target shape torch.Size([10, 80])\n",
            "Batch idx 304, data shape torch.Size([10, 128, 128, 3]), target shape torch.Size([10, 80])\n",
            "Batch idx 305, data shape torch.Size([10, 128, 128, 3]), target shape torch.Size([10, 80])\n",
            "Batch idx 306, data shape torch.Size([10, 128, 128, 3]), target shape torch.Size([10, 80])\n",
            "Batch idx 307, data shape torch.Size([10, 128, 128, 3]), target shape torch.Size([10, 80])\n",
            "Batch idx 308, data shape torch.Size([10, 128, 128, 3]), target shape torch.Size([10, 80])\n",
            "Batch idx 309, data shape torch.Size([10, 128, 128, 3]), target shape torch.Size([10, 80])\n",
            "Batch idx 310, data shape torch.Size([10, 128, 128, 3]), target shape torch.Size([10, 80])\n",
            "Batch idx 311, data shape torch.Size([10, 128, 128, 3]), target shape torch.Size([10, 80])\n",
            "Batch idx 312, data shape torch.Size([10, 128, 128, 3]), target shape torch.Size([10, 80])\n",
            "Batch idx 313, data shape torch.Size([10, 128, 128, 3]), target shape torch.Size([10, 80])\n",
            "Batch idx 314, data shape torch.Size([10, 128, 128, 3]), target shape torch.Size([10, 80])\n",
            "Batch idx 315, data shape torch.Size([10, 128, 128, 3]), target shape torch.Size([10, 80])\n",
            "Batch idx 316, data shape torch.Size([10, 128, 128, 3]), target shape torch.Size([10, 80])\n",
            "Batch idx 317, data shape torch.Size([10, 128, 128, 3]), target shape torch.Size([10, 80])\n",
            "Batch idx 318, data shape torch.Size([10, 128, 128, 3]), target shape torch.Size([10, 80])\n",
            "Batch idx 319, data shape torch.Size([10, 128, 128, 3]), target shape torch.Size([10, 80])\n",
            "Batch idx 320, data shape torch.Size([10, 128, 128, 3]), target shape torch.Size([10, 80])\n",
            "Batch idx 321, data shape torch.Size([10, 128, 128, 3]), target shape torch.Size([10, 80])\n",
            "Batch idx 322, data shape torch.Size([10, 128, 128, 3]), target shape torch.Size([10, 80])\n",
            "Batch idx 323, data shape torch.Size([10, 128, 128, 3]), target shape torch.Size([10, 80])\n",
            "Batch idx 324, data shape torch.Size([10, 128, 128, 3]), target shape torch.Size([10, 80])\n",
            "Batch idx 325, data shape torch.Size([10, 128, 128, 3]), target shape torch.Size([10, 80])\n",
            "Batch idx 326, data shape torch.Size([10, 128, 128, 3]), target shape torch.Size([10, 80])\n",
            "Batch idx 327, data shape torch.Size([10, 128, 128, 3]), target shape torch.Size([10, 80])\n",
            "Batch idx 328, data shape torch.Size([10, 128, 128, 3]), target shape torch.Size([10, 80])\n",
            "Batch idx 329, data shape torch.Size([10, 128, 128, 3]), target shape torch.Size([10, 80])\n",
            "Batch idx 330, data shape torch.Size([10, 128, 128, 3]), target shape torch.Size([10, 80])\n",
            "Batch idx 331, data shape torch.Size([10, 128, 128, 3]), target shape torch.Size([10, 80])\n",
            "Batch idx 332, data shape torch.Size([10, 128, 128, 3]), target shape torch.Size([10, 80])\n",
            "Batch idx 333, data shape torch.Size([10, 128, 128, 3]), target shape torch.Size([10, 80])\n",
            "Batch idx 334, data shape torch.Size([10, 128, 128, 3]), target shape torch.Size([10, 80])\n",
            "Batch idx 335, data shape torch.Size([10, 128, 128, 3]), target shape torch.Size([10, 80])\n",
            "Batch idx 336, data shape torch.Size([10, 128, 128, 3]), target shape torch.Size([10, 80])\n",
            "Batch idx 337, data shape torch.Size([10, 128, 128, 3]), target shape torch.Size([10, 80])\n",
            "Batch idx 338, data shape torch.Size([10, 128, 128, 3]), target shape torch.Size([10, 80])\n",
            "Batch idx 339, data shape torch.Size([10, 128, 128, 3]), target shape torch.Size([10, 80])\n",
            "Batch idx 340, data shape torch.Size([10, 128, 128, 3]), target shape torch.Size([10, 80])\n",
            "Batch idx 341, data shape torch.Size([10, 128, 128, 3]), target shape torch.Size([10, 80])\n",
            "Batch idx 342, data shape torch.Size([10, 128, 128, 3]), target shape torch.Size([10, 80])\n",
            "Batch idx 343, data shape torch.Size([10, 128, 128, 3]), target shape torch.Size([10, 80])\n",
            "Batch idx 344, data shape torch.Size([10, 128, 128, 3]), target shape torch.Size([10, 80])\n",
            "Batch idx 345, data shape torch.Size([10, 128, 128, 3]), target shape torch.Size([10, 80])\n",
            "Batch idx 346, data shape torch.Size([10, 128, 128, 3]), target shape torch.Size([10, 80])\n",
            "Batch idx 347, data shape torch.Size([10, 128, 128, 3]), target shape torch.Size([10, 80])\n",
            "Batch idx 348, data shape torch.Size([10, 128, 128, 3]), target shape torch.Size([10, 80])\n",
            "Batch idx 349, data shape torch.Size([10, 128, 128, 3]), target shape torch.Size([10, 80])\n",
            "Batch idx 350, data shape torch.Size([10, 128, 128, 3]), target shape torch.Size([10, 80])\n",
            "Batch idx 351, data shape torch.Size([10, 128, 128, 3]), target shape torch.Size([10, 80])\n",
            "Batch idx 352, data shape torch.Size([10, 128, 128, 3]), target shape torch.Size([10, 80])\n",
            "Batch idx 353, data shape torch.Size([10, 128, 128, 3]), target shape torch.Size([10, 80])\n",
            "Batch idx 354, data shape torch.Size([10, 128, 128, 3]), target shape torch.Size([10, 80])\n",
            "Batch idx 355, data shape torch.Size([10, 128, 128, 3]), target shape torch.Size([10, 80])\n",
            "Batch idx 356, data shape torch.Size([10, 128, 128, 3]), target shape torch.Size([10, 80])\n",
            "Batch idx 357, data shape torch.Size([10, 128, 128, 3]), target shape torch.Size([10, 80])\n",
            "Batch idx 358, data shape torch.Size([10, 128, 128, 3]), target shape torch.Size([10, 80])\n",
            "Batch idx 359, data shape torch.Size([10, 128, 128, 3]), target shape torch.Size([10, 80])\n",
            "Batch idx 360, data shape torch.Size([10, 128, 128, 3]), target shape torch.Size([10, 80])\n",
            "Batch idx 361, data shape torch.Size([10, 128, 128, 3]), target shape torch.Size([10, 80])\n",
            "Batch idx 362, data shape torch.Size([10, 128, 128, 3]), target shape torch.Size([10, 80])\n",
            "Batch idx 363, data shape torch.Size([10, 128, 128, 3]), target shape torch.Size([10, 80])\n",
            "Batch idx 364, data shape torch.Size([10, 128, 128, 3]), target shape torch.Size([10, 80])\n",
            "Batch idx 365, data shape torch.Size([10, 128, 128, 3]), target shape torch.Size([10, 80])\n",
            "Batch idx 366, data shape torch.Size([10, 128, 128, 3]), target shape torch.Size([10, 80])\n",
            "Batch idx 367, data shape torch.Size([10, 128, 128, 3]), target shape torch.Size([10, 80])\n",
            "Batch idx 368, data shape torch.Size([10, 128, 128, 3]), target shape torch.Size([10, 80])\n",
            "Batch idx 369, data shape torch.Size([10, 128, 128, 3]), target shape torch.Size([10, 80])\n",
            "Batch idx 370, data shape torch.Size([10, 128, 128, 3]), target shape torch.Size([10, 80])\n",
            "Batch idx 371, data shape torch.Size([10, 128, 128, 3]), target shape torch.Size([10, 80])\n",
            "Batch idx 372, data shape torch.Size([10, 128, 128, 3]), target shape torch.Size([10, 80])\n",
            "Batch idx 373, data shape torch.Size([10, 128, 128, 3]), target shape torch.Size([10, 80])\n",
            "Batch idx 374, data shape torch.Size([10, 128, 128, 3]), target shape torch.Size([10, 80])\n",
            "Batch idx 375, data shape torch.Size([10, 128, 128, 3]), target shape torch.Size([10, 80])\n",
            "Batch idx 376, data shape torch.Size([10, 128, 128, 3]), target shape torch.Size([10, 80])\n",
            "Batch idx 377, data shape torch.Size([10, 128, 128, 3]), target shape torch.Size([10, 80])\n",
            "Batch idx 378, data shape torch.Size([10, 128, 128, 3]), target shape torch.Size([10, 80])\n",
            "Batch idx 379, data shape torch.Size([10, 128, 128, 3]), target shape torch.Size([10, 80])\n",
            "Batch idx 380, data shape torch.Size([10, 128, 128, 3]), target shape torch.Size([10, 80])\n",
            "Batch idx 381, data shape torch.Size([10, 128, 128, 3]), target shape torch.Size([10, 80])\n",
            "Batch idx 382, data shape torch.Size([10, 128, 128, 3]), target shape torch.Size([10, 80])\n",
            "Batch idx 383, data shape torch.Size([10, 128, 128, 3]), target shape torch.Size([10, 80])\n",
            "Batch idx 384, data shape torch.Size([10, 128, 128, 3]), target shape torch.Size([10, 80])\n",
            "Batch idx 385, data shape torch.Size([10, 128, 128, 3]), target shape torch.Size([10, 80])\n",
            "Batch idx 386, data shape torch.Size([10, 128, 128, 3]), target shape torch.Size([10, 80])\n",
            "Batch idx 387, data shape torch.Size([10, 128, 128, 3]), target shape torch.Size([10, 80])\n",
            "Batch idx 388, data shape torch.Size([10, 128, 128, 3]), target shape torch.Size([10, 80])\n",
            "Batch idx 389, data shape torch.Size([10, 128, 128, 3]), target shape torch.Size([10, 80])\n",
            "Batch idx 390, data shape torch.Size([10, 128, 128, 3]), target shape torch.Size([10, 80])\n",
            "Batch idx 391, data shape torch.Size([10, 128, 128, 3]), target shape torch.Size([10, 80])\n",
            "Batch idx 392, data shape torch.Size([10, 128, 128, 3]), target shape torch.Size([10, 80])\n",
            "Batch idx 393, data shape torch.Size([10, 128, 128, 3]), target shape torch.Size([10, 80])\n",
            "Batch idx 394, data shape torch.Size([10, 128, 128, 3]), target shape torch.Size([10, 80])\n",
            "Batch idx 395, data shape torch.Size([10, 128, 128, 3]), target shape torch.Size([10, 80])\n",
            "Batch idx 396, data shape torch.Size([10, 128, 128, 3]), target shape torch.Size([10, 80])\n",
            "Batch idx 397, data shape torch.Size([10, 128, 128, 3]), target shape torch.Size([10, 80])\n",
            "Batch idx 398, data shape torch.Size([10, 128, 128, 3]), target shape torch.Size([10, 80])\n",
            "Batch idx 399, data shape torch.Size([10, 128, 128, 3]), target shape torch.Size([10, 80])\n",
            "Batch idx 400, data shape torch.Size([10, 128, 128, 3]), target shape torch.Size([10, 80])\n",
            "Batch idx 401, data shape torch.Size([10, 128, 128, 3]), target shape torch.Size([10, 80])\n",
            "Batch idx 402, data shape torch.Size([10, 128, 128, 3]), target shape torch.Size([10, 80])\n",
            "Batch idx 403, data shape torch.Size([10, 128, 128, 3]), target shape torch.Size([10, 80])\n",
            "Batch idx 404, data shape torch.Size([10, 128, 128, 3]), target shape torch.Size([10, 80])\n",
            "Batch idx 405, data shape torch.Size([10, 128, 128, 3]), target shape torch.Size([10, 80])\n",
            "Batch idx 406, data shape torch.Size([10, 128, 128, 3]), target shape torch.Size([10, 80])\n",
            "Batch idx 407, data shape torch.Size([10, 128, 128, 3]), target shape torch.Size([10, 80])\n",
            "Batch idx 408, data shape torch.Size([10, 128, 128, 3]), target shape torch.Size([10, 80])\n",
            "Batch idx 409, data shape torch.Size([10, 128, 128, 3]), target shape torch.Size([10, 80])\n",
            "Batch idx 410, data shape torch.Size([10, 128, 128, 3]), target shape torch.Size([10, 80])\n",
            "Batch idx 411, data shape torch.Size([10, 128, 128, 3]), target shape torch.Size([10, 80])\n",
            "Batch idx 412, data shape torch.Size([10, 128, 128, 3]), target shape torch.Size([10, 80])\n",
            "Batch idx 413, data shape torch.Size([10, 128, 128, 3]), target shape torch.Size([10, 80])\n",
            "Batch idx 414, data shape torch.Size([10, 128, 128, 3]), target shape torch.Size([10, 80])\n",
            "Batch idx 415, data shape torch.Size([10, 128, 128, 3]), target shape torch.Size([10, 80])\n",
            "Batch idx 416, data shape torch.Size([10, 128, 128, 3]), target shape torch.Size([10, 80])\n",
            "Batch idx 417, data shape torch.Size([10, 128, 128, 3]), target shape torch.Size([10, 80])\n",
            "Batch idx 418, data shape torch.Size([10, 128, 128, 3]), target shape torch.Size([10, 80])\n",
            "Batch idx 419, data shape torch.Size([10, 128, 128, 3]), target shape torch.Size([10, 80])\n",
            "Batch idx 420, data shape torch.Size([10, 128, 128, 3]), target shape torch.Size([10, 80])\n",
            "Batch idx 421, data shape torch.Size([10, 128, 128, 3]), target shape torch.Size([10, 80])\n",
            "Batch idx 422, data shape torch.Size([10, 128, 128, 3]), target shape torch.Size([10, 80])\n",
            "Batch idx 423, data shape torch.Size([10, 128, 128, 3]), target shape torch.Size([10, 80])\n",
            "Batch idx 424, data shape torch.Size([10, 128, 128, 3]), target shape torch.Size([10, 80])\n",
            "Batch idx 425, data shape torch.Size([10, 128, 128, 3]), target shape torch.Size([10, 80])\n",
            "Batch idx 426, data shape torch.Size([10, 128, 128, 3]), target shape torch.Size([10, 80])\n",
            "Batch idx 427, data shape torch.Size([10, 128, 128, 3]), target shape torch.Size([10, 80])\n",
            "Batch idx 428, data shape torch.Size([10, 128, 128, 3]), target shape torch.Size([10, 80])\n",
            "Batch idx 429, data shape torch.Size([10, 128, 128, 3]), target shape torch.Size([10, 80])\n",
            "Batch idx 430, data shape torch.Size([10, 128, 128, 3]), target shape torch.Size([10, 80])\n",
            "Batch idx 431, data shape torch.Size([10, 128, 128, 3]), target shape torch.Size([10, 80])\n",
            "Batch idx 432, data shape torch.Size([10, 128, 128, 3]), target shape torch.Size([10, 80])\n",
            "Batch idx 433, data shape torch.Size([10, 128, 128, 3]), target shape torch.Size([10, 80])\n",
            "Batch idx 434, data shape torch.Size([10, 128, 128, 3]), target shape torch.Size([10, 80])\n",
            "Batch idx 435, data shape torch.Size([10, 128, 128, 3]), target shape torch.Size([10, 80])\n",
            "Batch idx 436, data shape torch.Size([10, 128, 128, 3]), target shape torch.Size([10, 80])\n",
            "Batch idx 437, data shape torch.Size([10, 128, 128, 3]), target shape torch.Size([10, 80])\n",
            "Batch idx 438, data shape torch.Size([10, 128, 128, 3]), target shape torch.Size([10, 80])\n",
            "Batch idx 439, data shape torch.Size([10, 128, 128, 3]), target shape torch.Size([10, 80])\n",
            "Batch idx 440, data shape torch.Size([10, 128, 128, 3]), target shape torch.Size([10, 80])\n",
            "Batch idx 441, data shape torch.Size([10, 128, 128, 3]), target shape torch.Size([10, 80])\n",
            "Batch idx 442, data shape torch.Size([10, 128, 128, 3]), target shape torch.Size([10, 80])\n",
            "Batch idx 443, data shape torch.Size([10, 128, 128, 3]), target shape torch.Size([10, 80])\n",
            "Batch idx 444, data shape torch.Size([10, 128, 128, 3]), target shape torch.Size([10, 80])\n",
            "Batch idx 445, data shape torch.Size([10, 128, 128, 3]), target shape torch.Size([10, 80])\n",
            "Batch idx 446, data shape torch.Size([10, 128, 128, 3]), target shape torch.Size([10, 80])\n",
            "Batch idx 447, data shape torch.Size([10, 128, 128, 3]), target shape torch.Size([10, 80])\n",
            "Batch idx 448, data shape torch.Size([10, 128, 128, 3]), target shape torch.Size([10, 80])\n",
            "Batch idx 449, data shape torch.Size([10, 128, 128, 3]), target shape torch.Size([10, 80])\n",
            "Batch idx 450, data shape torch.Size([10, 128, 128, 3]), target shape torch.Size([10, 80])\n",
            "Batch idx 451, data shape torch.Size([10, 128, 128, 3]), target shape torch.Size([10, 80])\n",
            "Batch idx 452, data shape torch.Size([10, 128, 128, 3]), target shape torch.Size([10, 80])\n",
            "Batch idx 453, data shape torch.Size([10, 128, 128, 3]), target shape torch.Size([10, 80])\n",
            "Batch idx 454, data shape torch.Size([10, 128, 128, 3]), target shape torch.Size([10, 80])\n",
            "Batch idx 455, data shape torch.Size([10, 128, 128, 3]), target shape torch.Size([10, 80])\n",
            "Batch idx 456, data shape torch.Size([10, 128, 128, 3]), target shape torch.Size([10, 80])\n",
            "Batch idx 457, data shape torch.Size([10, 128, 128, 3]), target shape torch.Size([10, 80])\n",
            "Batch idx 458, data shape torch.Size([10, 128, 128, 3]), target shape torch.Size([10, 80])\n",
            "Batch idx 459, data shape torch.Size([10, 128, 128, 3]), target shape torch.Size([10, 80])\n",
            "Batch idx 460, data shape torch.Size([10, 128, 128, 3]), target shape torch.Size([10, 80])\n",
            "Batch idx 461, data shape torch.Size([10, 128, 128, 3]), target shape torch.Size([10, 80])\n",
            "Batch idx 462, data shape torch.Size([10, 128, 128, 3]), target shape torch.Size([10, 80])\n",
            "Batch idx 463, data shape torch.Size([10, 128, 128, 3]), target shape torch.Size([10, 80])\n",
            "Batch idx 464, data shape torch.Size([10, 128, 128, 3]), target shape torch.Size([10, 80])\n",
            "Batch idx 465, data shape torch.Size([10, 128, 128, 3]), target shape torch.Size([10, 80])\n",
            "Batch idx 466, data shape torch.Size([10, 128, 128, 3]), target shape torch.Size([10, 80])\n",
            "Batch idx 467, data shape torch.Size([10, 128, 128, 3]), target shape torch.Size([10, 80])\n",
            "Batch idx 468, data shape torch.Size([10, 128, 128, 3]), target shape torch.Size([10, 80])\n",
            "Batch idx 469, data shape torch.Size([10, 128, 128, 3]), target shape torch.Size([10, 80])\n",
            "Batch idx 470, data shape torch.Size([10, 128, 128, 3]), target shape torch.Size([10, 80])\n",
            "Batch idx 471, data shape torch.Size([10, 128, 128, 3]), target shape torch.Size([10, 80])\n",
            "Batch idx 472, data shape torch.Size([10, 128, 128, 3]), target shape torch.Size([10, 80])\n",
            "Batch idx 473, data shape torch.Size([10, 128, 128, 3]), target shape torch.Size([10, 80])\n",
            "Batch idx 474, data shape torch.Size([10, 128, 128, 3]), target shape torch.Size([10, 80])\n",
            "Batch idx 475, data shape torch.Size([10, 128, 128, 3]), target shape torch.Size([10, 80])\n",
            "Batch idx 476, data shape torch.Size([10, 128, 128, 3]), target shape torch.Size([10, 80])\n",
            "Batch idx 477, data shape torch.Size([10, 128, 128, 3]), target shape torch.Size([10, 80])\n",
            "Batch idx 478, data shape torch.Size([10, 128, 128, 3]), target shape torch.Size([10, 80])\n",
            "Batch idx 479, data shape torch.Size([10, 128, 128, 3]), target shape torch.Size([10, 80])\n",
            "Batch idx 480, data shape torch.Size([10, 128, 128, 3]), target shape torch.Size([10, 80])\n",
            "Batch idx 481, data shape torch.Size([10, 128, 128, 3]), target shape torch.Size([10, 80])\n",
            "Batch idx 482, data shape torch.Size([10, 128, 128, 3]), target shape torch.Size([10, 80])\n",
            "Batch idx 483, data shape torch.Size([10, 128, 128, 3]), target shape torch.Size([10, 80])\n",
            "Batch idx 484, data shape torch.Size([10, 128, 128, 3]), target shape torch.Size([10, 80])\n",
            "Batch idx 485, data shape torch.Size([10, 128, 128, 3]), target shape torch.Size([10, 80])\n",
            "Batch idx 486, data shape torch.Size([10, 128, 128, 3]), target shape torch.Size([10, 80])\n",
            "Batch idx 487, data shape torch.Size([10, 128, 128, 3]), target shape torch.Size([10, 80])\n",
            "Batch idx 488, data shape torch.Size([10, 128, 128, 3]), target shape torch.Size([10, 80])\n",
            "Batch idx 489, data shape torch.Size([10, 128, 128, 3]), target shape torch.Size([10, 80])\n",
            "Batch idx 490, data shape torch.Size([10, 128, 128, 3]), target shape torch.Size([10, 80])\n",
            "Batch idx 491, data shape torch.Size([10, 128, 128, 3]), target shape torch.Size([10, 80])\n",
            "Batch idx 492, data shape torch.Size([10, 128, 128, 3]), target shape torch.Size([10, 80])\n",
            "Batch idx 493, data shape torch.Size([10, 128, 128, 3]), target shape torch.Size([10, 80])\n",
            "Batch idx 494, data shape torch.Size([10, 128, 128, 3]), target shape torch.Size([10, 80])\n",
            "Batch idx 495, data shape torch.Size([10, 128, 128, 3]), target shape torch.Size([10, 80])\n",
            "Batch idx 496, data shape torch.Size([10, 128, 128, 3]), target shape torch.Size([10, 80])\n",
            "Batch idx 497, data shape torch.Size([10, 128, 128, 3]), target shape torch.Size([10, 80])\n",
            "Batch idx 498, data shape torch.Size([10, 128, 128, 3]), target shape torch.Size([10, 80])\n",
            "Batch idx 499, data shape torch.Size([10, 128, 128, 3]), target shape torch.Size([10, 80])\n",
            "Batch idx 500, data shape torch.Size([10, 128, 128, 3]), target shape torch.Size([10, 80])\n",
            "Batch idx 501, data shape torch.Size([10, 128, 128, 3]), target shape torch.Size([10, 80])\n",
            "Batch idx 502, data shape torch.Size([10, 128, 128, 3]), target shape torch.Size([10, 80])\n",
            "Batch idx 503, data shape torch.Size([10, 128, 128, 3]), target shape torch.Size([10, 80])\n",
            "Batch idx 504, data shape torch.Size([10, 128, 128, 3]), target shape torch.Size([10, 80])\n",
            "Batch idx 505, data shape torch.Size([10, 128, 128, 3]), target shape torch.Size([10, 80])\n",
            "Batch idx 506, data shape torch.Size([10, 128, 128, 3]), target shape torch.Size([10, 80])\n",
            "Batch idx 507, data shape torch.Size([10, 128, 128, 3]), target shape torch.Size([10, 80])\n",
            "Batch idx 508, data shape torch.Size([10, 128, 128, 3]), target shape torch.Size([10, 80])\n",
            "Batch idx 509, data shape torch.Size([10, 128, 128, 3]), target shape torch.Size([10, 80])\n",
            "Batch idx 510, data shape torch.Size([10, 128, 128, 3]), target shape torch.Size([10, 80])\n",
            "Batch idx 511, data shape torch.Size([10, 128, 128, 3]), target shape torch.Size([10, 80])\n",
            "Batch idx 512, data shape torch.Size([10, 128, 128, 3]), target shape torch.Size([10, 80])\n",
            "Batch idx 513, data shape torch.Size([10, 128, 128, 3]), target shape torch.Size([10, 80])\n",
            "Batch idx 514, data shape torch.Size([10, 128, 128, 3]), target shape torch.Size([10, 80])\n",
            "Batch idx 515, data shape torch.Size([10, 128, 128, 3]), target shape torch.Size([10, 80])\n",
            "Batch idx 516, data shape torch.Size([10, 128, 128, 3]), target shape torch.Size([10, 80])\n",
            "Batch idx 517, data shape torch.Size([10, 128, 128, 3]), target shape torch.Size([10, 80])\n",
            "Batch idx 518, data shape torch.Size([10, 128, 128, 3]), target shape torch.Size([10, 80])\n",
            "Batch idx 519, data shape torch.Size([10, 128, 128, 3]), target shape torch.Size([10, 80])\n",
            "Batch idx 520, data shape torch.Size([10, 128, 128, 3]), target shape torch.Size([10, 80])\n",
            "Batch idx 521, data shape torch.Size([10, 128, 128, 3]), target shape torch.Size([10, 80])\n",
            "Batch idx 522, data shape torch.Size([10, 128, 128, 3]), target shape torch.Size([10, 80])\n",
            "Batch idx 523, data shape torch.Size([10, 128, 128, 3]), target shape torch.Size([10, 80])\n",
            "Batch idx 524, data shape torch.Size([10, 128, 128, 3]), target shape torch.Size([10, 80])\n",
            "Batch idx 525, data shape torch.Size([10, 128, 128, 3]), target shape torch.Size([10, 80])\n",
            "Batch idx 526, data shape torch.Size([10, 128, 128, 3]), target shape torch.Size([10, 80])\n",
            "Batch idx 527, data shape torch.Size([10, 128, 128, 3]), target shape torch.Size([10, 80])\n",
            "Batch idx 528, data shape torch.Size([10, 128, 128, 3]), target shape torch.Size([10, 80])\n",
            "Batch idx 529, data shape torch.Size([10, 128, 128, 3]), target shape torch.Size([10, 80])\n",
            "Batch idx 530, data shape torch.Size([10, 128, 128, 3]), target shape torch.Size([10, 80])\n",
            "Batch idx 531, data shape torch.Size([10, 128, 128, 3]), target shape torch.Size([10, 80])\n",
            "Batch idx 532, data shape torch.Size([10, 128, 128, 3]), target shape torch.Size([10, 80])\n",
            "Batch idx 533, data shape torch.Size([10, 128, 128, 3]), target shape torch.Size([10, 80])\n",
            "Batch idx 534, data shape torch.Size([10, 128, 128, 3]), target shape torch.Size([10, 80])\n",
            "Batch idx 535, data shape torch.Size([10, 128, 128, 3]), target shape torch.Size([10, 80])\n",
            "Batch idx 536, data shape torch.Size([10, 128, 128, 3]), target shape torch.Size([10, 80])\n",
            "Batch idx 537, data shape torch.Size([10, 128, 128, 3]), target shape torch.Size([10, 80])\n",
            "Batch idx 538, data shape torch.Size([10, 128, 128, 3]), target shape torch.Size([10, 80])\n",
            "Batch idx 539, data shape torch.Size([10, 128, 128, 3]), target shape torch.Size([10, 80])\n",
            "Batch idx 540, data shape torch.Size([10, 128, 128, 3]), target shape torch.Size([10, 80])\n",
            "Batch idx 541, data shape torch.Size([10, 128, 128, 3]), target shape torch.Size([10, 80])\n",
            "Batch idx 542, data shape torch.Size([10, 128, 128, 3]), target shape torch.Size([10, 80])\n",
            "Batch idx 543, data shape torch.Size([10, 128, 128, 3]), target shape torch.Size([10, 80])\n",
            "Batch idx 544, data shape torch.Size([10, 128, 128, 3]), target shape torch.Size([10, 80])\n",
            "Batch idx 545, data shape torch.Size([10, 128, 128, 3]), target shape torch.Size([10, 80])\n",
            "Batch idx 546, data shape torch.Size([10, 128, 128, 3]), target shape torch.Size([10, 80])\n",
            "Batch idx 547, data shape torch.Size([10, 128, 128, 3]), target shape torch.Size([10, 80])\n",
            "Batch idx 548, data shape torch.Size([10, 128, 128, 3]), target shape torch.Size([10, 80])\n",
            "Batch idx 549, data shape torch.Size([10, 128, 128, 3]), target shape torch.Size([10, 80])\n",
            "Batch idx 550, data shape torch.Size([10, 128, 128, 3]), target shape torch.Size([10, 80])\n",
            "Batch idx 551, data shape torch.Size([10, 128, 128, 3]), target shape torch.Size([10, 80])\n",
            "Batch idx 552, data shape torch.Size([10, 128, 128, 3]), target shape torch.Size([10, 80])\n",
            "Batch idx 553, data shape torch.Size([10, 128, 128, 3]), target shape torch.Size([10, 80])\n",
            "Batch idx 554, data shape torch.Size([10, 128, 128, 3]), target shape torch.Size([10, 80])\n",
            "Batch idx 555, data shape torch.Size([10, 128, 128, 3]), target shape torch.Size([10, 80])\n",
            "Batch idx 556, data shape torch.Size([10, 128, 128, 3]), target shape torch.Size([10, 80])\n",
            "Batch idx 557, data shape torch.Size([10, 128, 128, 3]), target shape torch.Size([10, 80])\n",
            "Batch idx 558, data shape torch.Size([10, 128, 128, 3]), target shape torch.Size([10, 80])\n",
            "Batch idx 559, data shape torch.Size([10, 128, 128, 3]), target shape torch.Size([10, 80])\n",
            "Batch idx 560, data shape torch.Size([10, 128, 128, 3]), target shape torch.Size([10, 80])\n",
            "Batch idx 561, data shape torch.Size([10, 128, 128, 3]), target shape torch.Size([10, 80])\n",
            "Batch idx 562, data shape torch.Size([10, 128, 128, 3]), target shape torch.Size([10, 80])\n",
            "Batch idx 563, data shape torch.Size([10, 128, 128, 3]), target shape torch.Size([10, 80])\n",
            "Batch idx 564, data shape torch.Size([10, 128, 128, 3]), target shape torch.Size([10, 80])\n",
            "Batch idx 565, data shape torch.Size([10, 128, 128, 3]), target shape torch.Size([10, 80])\n",
            "Batch idx 566, data shape torch.Size([10, 128, 128, 3]), target shape torch.Size([10, 80])\n",
            "Batch idx 567, data shape torch.Size([10, 128, 128, 3]), target shape torch.Size([10, 80])\n",
            "Batch idx 568, data shape torch.Size([10, 128, 128, 3]), target shape torch.Size([10, 80])\n",
            "Batch idx 569, data shape torch.Size([10, 128, 128, 3]), target shape torch.Size([10, 80])\n",
            "Batch idx 570, data shape torch.Size([10, 128, 128, 3]), target shape torch.Size([10, 80])\n",
            "Batch idx 571, data shape torch.Size([10, 128, 128, 3]), target shape torch.Size([10, 80])\n",
            "Batch idx 572, data shape torch.Size([10, 128, 128, 3]), target shape torch.Size([10, 80])\n",
            "Batch idx 573, data shape torch.Size([10, 128, 128, 3]), target shape torch.Size([10, 80])\n",
            "Batch idx 574, data shape torch.Size([10, 128, 128, 3]), target shape torch.Size([10, 80])\n",
            "Batch idx 575, data shape torch.Size([10, 128, 128, 3]), target shape torch.Size([10, 80])\n",
            "Batch idx 576, data shape torch.Size([10, 128, 128, 3]), target shape torch.Size([10, 80])\n",
            "Batch idx 577, data shape torch.Size([10, 128, 128, 3]), target shape torch.Size([10, 80])\n",
            "Batch idx 578, data shape torch.Size([10, 128, 128, 3]), target shape torch.Size([10, 80])\n",
            "Batch idx 579, data shape torch.Size([10, 128, 128, 3]), target shape torch.Size([10, 80])\n",
            "Batch idx 580, data shape torch.Size([10, 128, 128, 3]), target shape torch.Size([10, 80])\n",
            "Batch idx 581, data shape torch.Size([10, 128, 128, 3]), target shape torch.Size([10, 80])\n",
            "Batch idx 582, data shape torch.Size([10, 128, 128, 3]), target shape torch.Size([10, 80])\n",
            "Batch idx 583, data shape torch.Size([10, 128, 128, 3]), target shape torch.Size([10, 80])\n",
            "Batch idx 584, data shape torch.Size([10, 128, 128, 3]), target shape torch.Size([10, 80])\n",
            "Batch idx 585, data shape torch.Size([10, 128, 128, 3]), target shape torch.Size([10, 80])\n",
            "Batch idx 586, data shape torch.Size([10, 128, 128, 3]), target shape torch.Size([10, 80])\n",
            "Batch idx 587, data shape torch.Size([10, 128, 128, 3]), target shape torch.Size([10, 80])\n",
            "Batch idx 588, data shape torch.Size([10, 128, 128, 3]), target shape torch.Size([10, 80])\n",
            "Batch idx 589, data shape torch.Size([10, 128, 128, 3]), target shape torch.Size([10, 80])\n",
            "Batch idx 590, data shape torch.Size([10, 128, 128, 3]), target shape torch.Size([10, 80])\n",
            "Batch idx 591, data shape torch.Size([10, 128, 128, 3]), target shape torch.Size([10, 80])\n",
            "Batch idx 592, data shape torch.Size([10, 128, 128, 3]), target shape torch.Size([10, 80])\n",
            "Batch idx 593, data shape torch.Size([10, 128, 128, 3]), target shape torch.Size([10, 80])\n",
            "Batch idx 594, data shape torch.Size([10, 128, 128, 3]), target shape torch.Size([10, 80])\n",
            "Batch idx 595, data shape torch.Size([10, 128, 128, 3]), target shape torch.Size([10, 80])\n",
            "Batch idx 596, data shape torch.Size([10, 128, 128, 3]), target shape torch.Size([10, 80])\n",
            "Batch idx 597, data shape torch.Size([10, 128, 128, 3]), target shape torch.Size([10, 80])\n",
            "Batch idx 598, data shape torch.Size([10, 128, 128, 3]), target shape torch.Size([10, 80])\n",
            "Batch idx 599, data shape torch.Size([10, 128, 128, 3]), target shape torch.Size([10, 80])\n",
            "Batch idx 600, data shape torch.Size([10, 128, 128, 3]), target shape torch.Size([10, 80])\n",
            "Batch idx 601, data shape torch.Size([10, 128, 128, 3]), target shape torch.Size([10, 80])\n",
            "Batch idx 602, data shape torch.Size([10, 128, 128, 3]), target shape torch.Size([10, 80])\n",
            "Batch idx 603, data shape torch.Size([10, 128, 128, 3]), target shape torch.Size([10, 80])\n",
            "Batch idx 604, data shape torch.Size([10, 128, 128, 3]), target shape torch.Size([10, 80])\n",
            "Batch idx 605, data shape torch.Size([10, 128, 128, 3]), target shape torch.Size([10, 80])\n",
            "Batch idx 606, data shape torch.Size([10, 128, 128, 3]), target shape torch.Size([10, 80])\n",
            "Batch idx 607, data shape torch.Size([10, 128, 128, 3]), target shape torch.Size([10, 80])\n",
            "Batch idx 608, data shape torch.Size([10, 128, 128, 3]), target shape torch.Size([10, 80])\n",
            "Batch idx 609, data shape torch.Size([10, 128, 128, 3]), target shape torch.Size([10, 80])\n",
            "Batch idx 610, data shape torch.Size([10, 128, 128, 3]), target shape torch.Size([10, 80])\n",
            "Batch idx 611, data shape torch.Size([10, 128, 128, 3]), target shape torch.Size([10, 80])\n",
            "Batch idx 612, data shape torch.Size([10, 128, 128, 3]), target shape torch.Size([10, 80])\n",
            "Batch idx 613, data shape torch.Size([10, 128, 128, 3]), target shape torch.Size([10, 80])\n",
            "Batch idx 614, data shape torch.Size([10, 128, 128, 3]), target shape torch.Size([10, 80])\n",
            "Batch idx 615, data shape torch.Size([10, 128, 128, 3]), target shape torch.Size([10, 80])\n",
            "Batch idx 616, data shape torch.Size([10, 128, 128, 3]), target shape torch.Size([10, 80])\n",
            "Batch idx 617, data shape torch.Size([10, 128, 128, 3]), target shape torch.Size([10, 80])\n",
            "Batch idx 618, data shape torch.Size([10, 128, 128, 3]), target shape torch.Size([10, 80])\n",
            "Batch idx 619, data shape torch.Size([10, 128, 128, 3]), target shape torch.Size([10, 80])\n",
            "Batch idx 620, data shape torch.Size([10, 128, 128, 3]), target shape torch.Size([10, 80])\n",
            "Batch idx 621, data shape torch.Size([10, 128, 128, 3]), target shape torch.Size([10, 80])\n",
            "Batch idx 622, data shape torch.Size([10, 128, 128, 3]), target shape torch.Size([10, 80])\n",
            "Batch idx 623, data shape torch.Size([10, 128, 128, 3]), target shape torch.Size([10, 80])\n",
            "Batch idx 624, data shape torch.Size([10, 128, 128, 3]), target shape torch.Size([10, 80])\n",
            "Batch idx 625, data shape torch.Size([10, 128, 128, 3]), target shape torch.Size([10, 80])\n",
            "Batch idx 626, data shape torch.Size([10, 128, 128, 3]), target shape torch.Size([10, 80])\n",
            "Batch idx 627, data shape torch.Size([10, 128, 128, 3]), target shape torch.Size([10, 80])\n",
            "Batch idx 628, data shape torch.Size([10, 128, 128, 3]), target shape torch.Size([10, 80])\n",
            "Batch idx 629, data shape torch.Size([10, 128, 128, 3]), target shape torch.Size([10, 80])\n",
            "Batch idx 630, data shape torch.Size([10, 128, 128, 3]), target shape torch.Size([10, 80])\n",
            "Batch idx 631, data shape torch.Size([10, 128, 128, 3]), target shape torch.Size([10, 80])\n",
            "Batch idx 632, data shape torch.Size([10, 128, 128, 3]), target shape torch.Size([10, 80])\n",
            "Batch idx 633, data shape torch.Size([10, 128, 128, 3]), target shape torch.Size([10, 80])\n",
            "Batch idx 634, data shape torch.Size([10, 128, 128, 3]), target shape torch.Size([10, 80])\n",
            "Batch idx 635, data shape torch.Size([10, 128, 128, 3]), target shape torch.Size([10, 80])\n",
            "Batch idx 636, data shape torch.Size([10, 128, 128, 3]), target shape torch.Size([10, 80])\n",
            "Batch idx 637, data shape torch.Size([10, 128, 128, 3]), target shape torch.Size([10, 80])\n",
            "Batch idx 638, data shape torch.Size([10, 128, 128, 3]), target shape torch.Size([10, 80])\n",
            "Batch idx 639, data shape torch.Size([10, 128, 128, 3]), target shape torch.Size([10, 80])\n",
            "Batch idx 640, data shape torch.Size([10, 128, 128, 3]), target shape torch.Size([10, 80])\n",
            "Batch idx 641, data shape torch.Size([10, 128, 128, 3]), target shape torch.Size([10, 80])\n",
            "Batch idx 642, data shape torch.Size([10, 128, 128, 3]), target shape torch.Size([10, 80])\n",
            "Batch idx 643, data shape torch.Size([10, 128, 128, 3]), target shape torch.Size([10, 80])\n",
            "Batch idx 644, data shape torch.Size([10, 128, 128, 3]), target shape torch.Size([10, 80])\n",
            "Batch idx 645, data shape torch.Size([10, 128, 128, 3]), target shape torch.Size([10, 80])\n",
            "Batch idx 646, data shape torch.Size([10, 128, 128, 3]), target shape torch.Size([10, 80])\n",
            "Batch idx 647, data shape torch.Size([10, 128, 128, 3]), target shape torch.Size([10, 80])\n",
            "Batch idx 648, data shape torch.Size([10, 128, 128, 3]), target shape torch.Size([10, 80])\n",
            "Batch idx 649, data shape torch.Size([10, 128, 128, 3]), target shape torch.Size([10, 80])\n",
            "Batch idx 650, data shape torch.Size([10, 128, 128, 3]), target shape torch.Size([10, 80])\n",
            "Batch idx 651, data shape torch.Size([10, 128, 128, 3]), target shape torch.Size([10, 80])\n",
            "Batch idx 652, data shape torch.Size([10, 128, 128, 3]), target shape torch.Size([10, 80])\n",
            "Batch idx 653, data shape torch.Size([10, 128, 128, 3]), target shape torch.Size([10, 80])\n",
            "Batch idx 654, data shape torch.Size([10, 128, 128, 3]), target shape torch.Size([10, 80])\n",
            "Batch idx 655, data shape torch.Size([10, 128, 128, 3]), target shape torch.Size([10, 80])\n",
            "Batch idx 656, data shape torch.Size([10, 128, 128, 3]), target shape torch.Size([10, 80])\n",
            "Batch idx 657, data shape torch.Size([10, 128, 128, 3]), target shape torch.Size([10, 80])\n",
            "Batch idx 658, data shape torch.Size([10, 128, 128, 3]), target shape torch.Size([10, 80])\n",
            "Batch idx 659, data shape torch.Size([10, 128, 128, 3]), target shape torch.Size([10, 80])\n",
            "Batch idx 660, data shape torch.Size([10, 128, 128, 3]), target shape torch.Size([10, 80])\n",
            "Batch idx 661, data shape torch.Size([10, 128, 128, 3]), target shape torch.Size([10, 80])\n",
            "Batch idx 662, data shape torch.Size([10, 128, 128, 3]), target shape torch.Size([10, 80])\n",
            "Batch idx 663, data shape torch.Size([10, 128, 128, 3]), target shape torch.Size([10, 80])\n",
            "Batch idx 664, data shape torch.Size([10, 128, 128, 3]), target shape torch.Size([10, 80])\n",
            "Batch idx 665, data shape torch.Size([10, 128, 128, 3]), target shape torch.Size([10, 80])\n",
            "Batch idx 666, data shape torch.Size([10, 128, 128, 3]), target shape torch.Size([10, 80])\n",
            "Batch idx 667, data shape torch.Size([10, 128, 128, 3]), target shape torch.Size([10, 80])\n",
            "Batch idx 668, data shape torch.Size([10, 128, 128, 3]), target shape torch.Size([10, 80])\n",
            "Batch idx 669, data shape torch.Size([10, 128, 128, 3]), target shape torch.Size([10, 80])\n",
            "Batch idx 670, data shape torch.Size([10, 128, 128, 3]), target shape torch.Size([10, 80])\n",
            "Batch idx 671, data shape torch.Size([10, 128, 128, 3]), target shape torch.Size([10, 80])\n",
            "Batch idx 672, data shape torch.Size([10, 128, 128, 3]), target shape torch.Size([10, 80])\n",
            "Batch idx 673, data shape torch.Size([10, 128, 128, 3]), target shape torch.Size([10, 80])\n",
            "Batch idx 674, data shape torch.Size([10, 128, 128, 3]), target shape torch.Size([10, 80])\n",
            "Batch idx 675, data shape torch.Size([10, 128, 128, 3]), target shape torch.Size([10, 80])\n",
            "Batch idx 676, data shape torch.Size([10, 128, 128, 3]), target shape torch.Size([10, 80])\n",
            "Batch idx 677, data shape torch.Size([10, 128, 128, 3]), target shape torch.Size([10, 80])\n",
            "Batch idx 678, data shape torch.Size([10, 128, 128, 3]), target shape torch.Size([10, 80])\n",
            "Batch idx 679, data shape torch.Size([10, 128, 128, 3]), target shape torch.Size([10, 80])\n",
            "Batch idx 680, data shape torch.Size([10, 128, 128, 3]), target shape torch.Size([10, 80])\n",
            "Batch idx 681, data shape torch.Size([10, 128, 128, 3]), target shape torch.Size([10, 80])\n",
            "Batch idx 682, data shape torch.Size([10, 128, 128, 3]), target shape torch.Size([10, 80])\n",
            "Batch idx 683, data shape torch.Size([10, 128, 128, 3]), target shape torch.Size([10, 80])\n",
            "Batch idx 684, data shape torch.Size([10, 128, 128, 3]), target shape torch.Size([10, 80])\n",
            "Batch idx 685, data shape torch.Size([10, 128, 128, 3]), target shape torch.Size([10, 80])\n",
            "Batch idx 686, data shape torch.Size([10, 128, 128, 3]), target shape torch.Size([10, 80])\n",
            "Batch idx 687, data shape torch.Size([10, 128, 128, 3]), target shape torch.Size([10, 80])\n",
            "Batch idx 688, data shape torch.Size([10, 128, 128, 3]), target shape torch.Size([10, 80])\n",
            "Batch idx 689, data shape torch.Size([10, 128, 128, 3]), target shape torch.Size([10, 80])\n",
            "Batch idx 690, data shape torch.Size([10, 128, 128, 3]), target shape torch.Size([10, 80])\n",
            "Batch idx 691, data shape torch.Size([10, 128, 128, 3]), target shape torch.Size([10, 80])\n",
            "Batch idx 692, data shape torch.Size([10, 128, 128, 3]), target shape torch.Size([10, 80])\n",
            "Batch idx 693, data shape torch.Size([10, 128, 128, 3]), target shape torch.Size([10, 80])\n",
            "Batch idx 694, data shape torch.Size([10, 128, 128, 3]), target shape torch.Size([10, 80])\n",
            "Batch idx 695, data shape torch.Size([10, 128, 128, 3]), target shape torch.Size([10, 80])\n",
            "Batch idx 696, data shape torch.Size([10, 128, 128, 3]), target shape torch.Size([10, 80])\n",
            "Batch idx 697, data shape torch.Size([10, 128, 128, 3]), target shape torch.Size([10, 80])\n",
            "Batch idx 698, data shape torch.Size([10, 128, 128, 3]), target shape torch.Size([10, 80])\n",
            "Batch idx 699, data shape torch.Size([10, 128, 128, 3]), target shape torch.Size([10, 80])\n",
            "Batch idx 700, data shape torch.Size([10, 128, 128, 3]), target shape torch.Size([10, 80])\n",
            "Batch idx 701, data shape torch.Size([10, 128, 128, 3]), target shape torch.Size([10, 80])\n",
            "Batch idx 702, data shape torch.Size([10, 128, 128, 3]), target shape torch.Size([10, 80])\n",
            "Batch idx 703, data shape torch.Size([10, 128, 128, 3]), target shape torch.Size([10, 80])\n",
            "Batch idx 704, data shape torch.Size([10, 128, 128, 3]), target shape torch.Size([10, 80])\n",
            "Batch idx 705, data shape torch.Size([10, 128, 128, 3]), target shape torch.Size([10, 80])\n",
            "Batch idx 706, data shape torch.Size([10, 128, 128, 3]), target shape torch.Size([10, 80])\n",
            "Batch idx 707, data shape torch.Size([10, 128, 128, 3]), target shape torch.Size([10, 80])\n",
            "Batch idx 708, data shape torch.Size([10, 128, 128, 3]), target shape torch.Size([10, 80])\n",
            "Batch idx 709, data shape torch.Size([10, 128, 128, 3]), target shape torch.Size([10, 80])\n",
            "Batch idx 710, data shape torch.Size([10, 128, 128, 3]), target shape torch.Size([10, 80])\n",
            "Batch idx 711, data shape torch.Size([10, 128, 128, 3]), target shape torch.Size([10, 80])\n",
            "Batch idx 712, data shape torch.Size([10, 128, 128, 3]), target shape torch.Size([10, 80])\n",
            "Batch idx 713, data shape torch.Size([10, 128, 128, 3]), target shape torch.Size([10, 80])\n",
            "Batch idx 714, data shape torch.Size([10, 128, 128, 3]), target shape torch.Size([10, 80])\n",
            "Batch idx 715, data shape torch.Size([10, 128, 128, 3]), target shape torch.Size([10, 80])\n",
            "Batch idx 716, data shape torch.Size([10, 128, 128, 3]), target shape torch.Size([10, 80])\n",
            "Batch idx 717, data shape torch.Size([10, 128, 128, 3]), target shape torch.Size([10, 80])\n",
            "Batch idx 718, data shape torch.Size([10, 128, 128, 3]), target shape torch.Size([10, 80])\n",
            "Batch idx 719, data shape torch.Size([10, 128, 128, 3]), target shape torch.Size([10, 80])\n",
            "Batch idx 720, data shape torch.Size([10, 128, 128, 3]), target shape torch.Size([10, 80])\n",
            "Batch idx 721, data shape torch.Size([10, 128, 128, 3]), target shape torch.Size([10, 80])\n",
            "Batch idx 722, data shape torch.Size([10, 128, 128, 3]), target shape torch.Size([10, 80])\n",
            "Batch idx 723, data shape torch.Size([10, 128, 128, 3]), target shape torch.Size([10, 80])\n",
            "Batch idx 724, data shape torch.Size([10, 128, 128, 3]), target shape torch.Size([10, 80])\n",
            "Batch idx 725, data shape torch.Size([10, 128, 128, 3]), target shape torch.Size([10, 80])\n",
            "Batch idx 726, data shape torch.Size([10, 128, 128, 3]), target shape torch.Size([10, 80])\n",
            "Batch idx 727, data shape torch.Size([10, 128, 128, 3]), target shape torch.Size([10, 80])\n",
            "Batch idx 728, data shape torch.Size([10, 128, 128, 3]), target shape torch.Size([10, 80])\n",
            "Batch idx 729, data shape torch.Size([10, 128, 128, 3]), target shape torch.Size([10, 80])\n",
            "Batch idx 730, data shape torch.Size([10, 128, 128, 3]), target shape torch.Size([10, 80])\n",
            "Batch idx 731, data shape torch.Size([10, 128, 128, 3]), target shape torch.Size([10, 80])\n",
            "Batch idx 732, data shape torch.Size([10, 128, 128, 3]), target shape torch.Size([10, 80])\n",
            "Batch idx 733, data shape torch.Size([10, 128, 128, 3]), target shape torch.Size([10, 80])\n",
            "Batch idx 734, data shape torch.Size([10, 128, 128, 3]), target shape torch.Size([10, 80])\n",
            "Batch idx 735, data shape torch.Size([10, 128, 128, 3]), target shape torch.Size([10, 80])\n",
            "Batch idx 736, data shape torch.Size([10, 128, 128, 3]), target shape torch.Size([10, 80])\n",
            "Batch idx 737, data shape torch.Size([10, 128, 128, 3]), target shape torch.Size([10, 80])\n",
            "Batch idx 738, data shape torch.Size([10, 128, 128, 3]), target shape torch.Size([10, 80])\n",
            "Batch idx 739, data shape torch.Size([10, 128, 128, 3]), target shape torch.Size([10, 80])\n",
            "Batch idx 740, data shape torch.Size([10, 128, 128, 3]), target shape torch.Size([10, 80])\n",
            "Batch idx 741, data shape torch.Size([10, 128, 128, 3]), target shape torch.Size([10, 80])\n",
            "Batch idx 742, data shape torch.Size([10, 128, 128, 3]), target shape torch.Size([10, 80])\n",
            "Batch idx 743, data shape torch.Size([10, 128, 128, 3]), target shape torch.Size([10, 80])\n",
            "Batch idx 744, data shape torch.Size([10, 128, 128, 3]), target shape torch.Size([10, 80])\n",
            "Batch idx 745, data shape torch.Size([10, 128, 128, 3]), target shape torch.Size([10, 80])\n",
            "Batch idx 746, data shape torch.Size([10, 128, 128, 3]), target shape torch.Size([10, 80])\n",
            "Batch idx 747, data shape torch.Size([10, 128, 128, 3]), target shape torch.Size([10, 80])\n",
            "Batch idx 748, data shape torch.Size([10, 128, 128, 3]), target shape torch.Size([10, 80])\n",
            "Batch idx 749, data shape torch.Size([10, 128, 128, 3]), target shape torch.Size([10, 80])\n",
            "Batch idx 750, data shape torch.Size([10, 128, 128, 3]), target shape torch.Size([10, 80])\n",
            "Batch idx 751, data shape torch.Size([10, 128, 128, 3]), target shape torch.Size([10, 80])\n",
            "Batch idx 752, data shape torch.Size([10, 128, 128, 3]), target shape torch.Size([10, 80])\n",
            "Batch idx 753, data shape torch.Size([10, 128, 128, 3]), target shape torch.Size([10, 80])\n",
            "Batch idx 754, data shape torch.Size([10, 128, 128, 3]), target shape torch.Size([10, 80])\n",
            "Batch idx 755, data shape torch.Size([10, 128, 128, 3]), target shape torch.Size([10, 80])\n",
            "Batch idx 756, data shape torch.Size([10, 128, 128, 3]), target shape torch.Size([10, 80])\n",
            "Batch idx 757, data shape torch.Size([10, 128, 128, 3]), target shape torch.Size([10, 80])\n",
            "Batch idx 758, data shape torch.Size([10, 128, 128, 3]), target shape torch.Size([10, 80])\n",
            "Batch idx 759, data shape torch.Size([10, 128, 128, 3]), target shape torch.Size([10, 80])\n",
            "Batch idx 760, data shape torch.Size([10, 128, 128, 3]), target shape torch.Size([10, 80])\n",
            "Batch idx 761, data shape torch.Size([10, 128, 128, 3]), target shape torch.Size([10, 80])\n",
            "Batch idx 762, data shape torch.Size([10, 128, 128, 3]), target shape torch.Size([10, 80])\n",
            "Batch idx 763, data shape torch.Size([10, 128, 128, 3]), target shape torch.Size([10, 80])\n",
            "Batch idx 764, data shape torch.Size([10, 128, 128, 3]), target shape torch.Size([10, 80])\n",
            "Batch idx 765, data shape torch.Size([10, 128, 128, 3]), target shape torch.Size([10, 80])\n",
            "Batch idx 766, data shape torch.Size([10, 128, 128, 3]), target shape torch.Size([10, 80])\n",
            "Batch idx 767, data shape torch.Size([10, 128, 128, 3]), target shape torch.Size([10, 80])\n",
            "Batch idx 768, data shape torch.Size([10, 128, 128, 3]), target shape torch.Size([10, 80])\n",
            "Batch idx 769, data shape torch.Size([10, 128, 128, 3]), target shape torch.Size([10, 80])\n",
            "Batch idx 770, data shape torch.Size([10, 128, 128, 3]), target shape torch.Size([10, 80])\n",
            "Batch idx 771, data shape torch.Size([10, 128, 128, 3]), target shape torch.Size([10, 80])\n",
            "Batch idx 772, data shape torch.Size([10, 128, 128, 3]), target shape torch.Size([10, 80])\n",
            "Batch idx 773, data shape torch.Size([10, 128, 128, 3]), target shape torch.Size([10, 80])\n",
            "Batch idx 774, data shape torch.Size([10, 128, 128, 3]), target shape torch.Size([10, 80])\n",
            "Batch idx 775, data shape torch.Size([10, 128, 128, 3]), target shape torch.Size([10, 80])\n",
            "Batch idx 776, data shape torch.Size([10, 128, 128, 3]), target shape torch.Size([10, 80])\n",
            "Batch idx 777, data shape torch.Size([10, 128, 128, 3]), target shape torch.Size([10, 80])\n",
            "Batch idx 778, data shape torch.Size([10, 128, 128, 3]), target shape torch.Size([10, 80])\n",
            "Batch idx 779, data shape torch.Size([10, 128, 128, 3]), target shape torch.Size([10, 80])\n",
            "Batch idx 780, data shape torch.Size([10, 128, 128, 3]), target shape torch.Size([10, 80])\n",
            "Batch idx 781, data shape torch.Size([10, 128, 128, 3]), target shape torch.Size([10, 80])\n",
            "Batch idx 782, data shape torch.Size([10, 128, 128, 3]), target shape torch.Size([10, 80])\n",
            "Batch idx 783, data shape torch.Size([10, 128, 128, 3]), target shape torch.Size([10, 80])\n",
            "Batch idx 784, data shape torch.Size([10, 128, 128, 3]), target shape torch.Size([10, 80])\n",
            "Batch idx 785, data shape torch.Size([10, 128, 128, 3]), target shape torch.Size([10, 80])\n",
            "Batch idx 786, data shape torch.Size([10, 128, 128, 3]), target shape torch.Size([10, 80])\n",
            "Batch idx 787, data shape torch.Size([10, 128, 128, 3]), target shape torch.Size([10, 80])\n",
            "Batch idx 788, data shape torch.Size([10, 128, 128, 3]), target shape torch.Size([10, 80])\n",
            "Batch idx 789, data shape torch.Size([10, 128, 128, 3]), target shape torch.Size([10, 80])\n",
            "Batch idx 790, data shape torch.Size([10, 128, 128, 3]), target shape torch.Size([10, 80])\n",
            "Batch idx 791, data shape torch.Size([10, 128, 128, 3]), target shape torch.Size([10, 80])\n",
            "Batch idx 792, data shape torch.Size([10, 128, 128, 3]), target shape torch.Size([10, 80])\n",
            "Batch idx 793, data shape torch.Size([10, 128, 128, 3]), target shape torch.Size([10, 80])\n",
            "Batch idx 794, data shape torch.Size([10, 128, 128, 3]), target shape torch.Size([10, 80])\n",
            "Batch idx 795, data shape torch.Size([10, 128, 128, 3]), target shape torch.Size([10, 80])\n",
            "Batch idx 796, data shape torch.Size([10, 128, 128, 3]), target shape torch.Size([10, 80])\n",
            "Batch idx 797, data shape torch.Size([10, 128, 128, 3]), target shape torch.Size([10, 80])\n",
            "Batch idx 798, data shape torch.Size([10, 128, 128, 3]), target shape torch.Size([10, 80])\n",
            "Batch idx 799, data shape torch.Size([10, 128, 128, 3]), target shape torch.Size([10, 80])\n",
            "Batch idx 800, data shape torch.Size([10, 128, 128, 3]), target shape torch.Size([10, 80])\n",
            "Batch idx 801, data shape torch.Size([10, 128, 128, 3]), target shape torch.Size([10, 80])\n",
            "Batch idx 802, data shape torch.Size([10, 128, 128, 3]), target shape torch.Size([10, 80])\n",
            "Batch idx 803, data shape torch.Size([10, 128, 128, 3]), target shape torch.Size([10, 80])\n",
            "Batch idx 804, data shape torch.Size([10, 128, 128, 3]), target shape torch.Size([10, 80])\n",
            "Batch idx 805, data shape torch.Size([10, 128, 128, 3]), target shape torch.Size([10, 80])\n",
            "Batch idx 806, data shape torch.Size([10, 128, 128, 3]), target shape torch.Size([10, 80])\n",
            "Batch idx 807, data shape torch.Size([10, 128, 128, 3]), target shape torch.Size([10, 80])\n",
            "Batch idx 808, data shape torch.Size([10, 128, 128, 3]), target shape torch.Size([10, 80])\n",
            "Batch idx 809, data shape torch.Size([10, 128, 128, 3]), target shape torch.Size([10, 80])\n",
            "Batch idx 810, data shape torch.Size([10, 128, 128, 3]), target shape torch.Size([10, 80])\n",
            "Batch idx 811, data shape torch.Size([10, 128, 128, 3]), target shape torch.Size([10, 80])\n",
            "Batch idx 812, data shape torch.Size([10, 128, 128, 3]), target shape torch.Size([10, 80])\n",
            "Batch idx 813, data shape torch.Size([10, 128, 128, 3]), target shape torch.Size([10, 80])\n",
            "Batch idx 814, data shape torch.Size([10, 128, 128, 3]), target shape torch.Size([10, 80])\n",
            "Batch idx 815, data shape torch.Size([10, 128, 128, 3]), target shape torch.Size([10, 80])\n",
            "Batch idx 816, data shape torch.Size([10, 128, 128, 3]), target shape torch.Size([10, 80])\n",
            "Batch idx 817, data shape torch.Size([10, 128, 128, 3]), target shape torch.Size([10, 80])\n",
            "Batch idx 818, data shape torch.Size([10, 128, 128, 3]), target shape torch.Size([10, 80])\n",
            "Batch idx 819, data shape torch.Size([10, 128, 128, 3]), target shape torch.Size([10, 80])\n",
            "Batch idx 820, data shape torch.Size([10, 128, 128, 3]), target shape torch.Size([10, 80])\n",
            "Batch idx 821, data shape torch.Size([10, 128, 128, 3]), target shape torch.Size([10, 80])\n",
            "Batch idx 822, data shape torch.Size([10, 128, 128, 3]), target shape torch.Size([10, 80])\n",
            "Batch idx 823, data shape torch.Size([10, 128, 128, 3]), target shape torch.Size([10, 80])\n",
            "Batch idx 824, data shape torch.Size([10, 128, 128, 3]), target shape torch.Size([10, 80])\n",
            "Batch idx 825, data shape torch.Size([10, 128, 128, 3]), target shape torch.Size([10, 80])\n",
            "Batch idx 826, data shape torch.Size([10, 128, 128, 3]), target shape torch.Size([10, 80])\n",
            "Batch idx 827, data shape torch.Size([10, 128, 128, 3]), target shape torch.Size([10, 80])\n",
            "Batch idx 828, data shape torch.Size([10, 128, 128, 3]), target shape torch.Size([10, 80])\n",
            "Batch idx 829, data shape torch.Size([10, 128, 128, 3]), target shape torch.Size([10, 80])\n",
            "Batch idx 830, data shape torch.Size([10, 128, 128, 3]), target shape torch.Size([10, 80])\n",
            "Batch idx 831, data shape torch.Size([10, 128, 128, 3]), target shape torch.Size([10, 80])\n",
            "Batch idx 832, data shape torch.Size([10, 128, 128, 3]), target shape torch.Size([10, 80])\n",
            "Batch idx 833, data shape torch.Size([10, 128, 128, 3]), target shape torch.Size([10, 80])\n",
            "Batch idx 834, data shape torch.Size([10, 128, 128, 3]), target shape torch.Size([10, 80])\n",
            "Batch idx 835, data shape torch.Size([10, 128, 128, 3]), target shape torch.Size([10, 80])\n",
            "Batch idx 836, data shape torch.Size([10, 128, 128, 3]), target shape torch.Size([10, 80])\n",
            "Batch idx 837, data shape torch.Size([10, 128, 128, 3]), target shape torch.Size([10, 80])\n",
            "Batch idx 838, data shape torch.Size([10, 128, 128, 3]), target shape torch.Size([10, 80])\n",
            "Batch idx 839, data shape torch.Size([10, 128, 128, 3]), target shape torch.Size([10, 80])\n",
            "Batch idx 840, data shape torch.Size([10, 128, 128, 3]), target shape torch.Size([10, 80])\n",
            "Batch idx 841, data shape torch.Size([10, 128, 128, 3]), target shape torch.Size([10, 80])\n",
            "Batch idx 842, data shape torch.Size([10, 128, 128, 3]), target shape torch.Size([10, 80])\n",
            "Batch idx 843, data shape torch.Size([10, 128, 128, 3]), target shape torch.Size([10, 80])\n",
            "Batch idx 844, data shape torch.Size([10, 128, 128, 3]), target shape torch.Size([10, 80])\n",
            "Batch idx 845, data shape torch.Size([10, 128, 128, 3]), target shape torch.Size([10, 80])\n",
            "Batch idx 846, data shape torch.Size([10, 128, 128, 3]), target shape torch.Size([10, 80])\n",
            "Batch idx 847, data shape torch.Size([10, 128, 128, 3]), target shape torch.Size([10, 80])\n",
            "Batch idx 848, data shape torch.Size([10, 128, 128, 3]), target shape torch.Size([10, 80])\n",
            "Batch idx 849, data shape torch.Size([10, 128, 128, 3]), target shape torch.Size([10, 80])\n",
            "Batch idx 850, data shape torch.Size([10, 128, 128, 3]), target shape torch.Size([10, 80])\n",
            "Batch idx 851, data shape torch.Size([10, 128, 128, 3]), target shape torch.Size([10, 80])\n",
            "Batch idx 852, data shape torch.Size([10, 128, 128, 3]), target shape torch.Size([10, 80])\n",
            "Batch idx 853, data shape torch.Size([10, 128, 128, 3]), target shape torch.Size([10, 80])\n",
            "Batch idx 854, data shape torch.Size([10, 128, 128, 3]), target shape torch.Size([10, 80])\n",
            "Batch idx 855, data shape torch.Size([10, 128, 128, 3]), target shape torch.Size([10, 80])\n",
            "Batch idx 856, data shape torch.Size([10, 128, 128, 3]), target shape torch.Size([10, 80])\n",
            "Batch idx 857, data shape torch.Size([10, 128, 128, 3]), target shape torch.Size([10, 80])\n",
            "Batch idx 858, data shape torch.Size([10, 128, 128, 3]), target shape torch.Size([10, 80])\n",
            "Batch idx 859, data shape torch.Size([10, 128, 128, 3]), target shape torch.Size([10, 80])\n",
            "Batch idx 860, data shape torch.Size([10, 128, 128, 3]), target shape torch.Size([10, 80])\n",
            "Batch idx 861, data shape torch.Size([10, 128, 128, 3]), target shape torch.Size([10, 80])\n",
            "Batch idx 862, data shape torch.Size([10, 128, 128, 3]), target shape torch.Size([10, 80])\n",
            "Batch idx 863, data shape torch.Size([10, 128, 128, 3]), target shape torch.Size([10, 80])\n",
            "Batch idx 864, data shape torch.Size([10, 128, 128, 3]), target shape torch.Size([10, 80])\n",
            "Batch idx 865, data shape torch.Size([10, 128, 128, 3]), target shape torch.Size([10, 80])\n",
            "Batch idx 866, data shape torch.Size([10, 128, 128, 3]), target shape torch.Size([10, 80])\n",
            "Batch idx 867, data shape torch.Size([10, 128, 128, 3]), target shape torch.Size([10, 80])\n",
            "Batch idx 868, data shape torch.Size([10, 128, 128, 3]), target shape torch.Size([10, 80])\n",
            "Batch idx 869, data shape torch.Size([10, 128, 128, 3]), target shape torch.Size([10, 80])\n",
            "Batch idx 870, data shape torch.Size([10, 128, 128, 3]), target shape torch.Size([10, 80])\n",
            "Batch idx 871, data shape torch.Size([10, 128, 128, 3]), target shape torch.Size([10, 80])\n",
            "Batch idx 872, data shape torch.Size([10, 128, 128, 3]), target shape torch.Size([10, 80])\n",
            "Batch idx 873, data shape torch.Size([10, 128, 128, 3]), target shape torch.Size([10, 80])\n",
            "Batch idx 874, data shape torch.Size([10, 128, 128, 3]), target shape torch.Size([10, 80])\n",
            "Batch idx 875, data shape torch.Size([10, 128, 128, 3]), target shape torch.Size([10, 80])\n",
            "Batch idx 876, data shape torch.Size([10, 128, 128, 3]), target shape torch.Size([10, 80])\n",
            "Batch idx 877, data shape torch.Size([10, 128, 128, 3]), target shape torch.Size([10, 80])\n",
            "Batch idx 878, data shape torch.Size([10, 128, 128, 3]), target shape torch.Size([10, 80])\n",
            "Batch idx 879, data shape torch.Size([10, 128, 128, 3]), target shape torch.Size([10, 80])\n",
            "Batch idx 880, data shape torch.Size([10, 128, 128, 3]), target shape torch.Size([10, 80])\n",
            "Batch idx 881, data shape torch.Size([10, 128, 128, 3]), target shape torch.Size([10, 80])\n",
            "Batch idx 882, data shape torch.Size([10, 128, 128, 3]), target shape torch.Size([10, 80])\n",
            "Batch idx 883, data shape torch.Size([10, 128, 128, 3]), target shape torch.Size([10, 80])\n",
            "Batch idx 884, data shape torch.Size([10, 128, 128, 3]), target shape torch.Size([10, 80])\n",
            "Batch idx 885, data shape torch.Size([10, 128, 128, 3]), target shape torch.Size([10, 80])\n",
            "Batch idx 886, data shape torch.Size([10, 128, 128, 3]), target shape torch.Size([10, 80])\n",
            "Batch idx 887, data shape torch.Size([10, 128, 128, 3]), target shape torch.Size([10, 80])\n",
            "Batch idx 888, data shape torch.Size([10, 128, 128, 3]), target shape torch.Size([10, 80])\n",
            "Batch idx 889, data shape torch.Size([10, 128, 128, 3]), target shape torch.Size([10, 80])\n",
            "Batch idx 890, data shape torch.Size([10, 128, 128, 3]), target shape torch.Size([10, 80])\n",
            "Batch idx 891, data shape torch.Size([10, 128, 128, 3]), target shape torch.Size([10, 80])\n",
            "Batch idx 892, data shape torch.Size([10, 128, 128, 3]), target shape torch.Size([10, 80])\n",
            "Batch idx 893, data shape torch.Size([10, 128, 128, 3]), target shape torch.Size([10, 80])\n",
            "Batch idx 894, data shape torch.Size([10, 128, 128, 3]), target shape torch.Size([10, 80])\n",
            "Batch idx 895, data shape torch.Size([10, 128, 128, 3]), target shape torch.Size([10, 80])\n",
            "Batch idx 896, data shape torch.Size([10, 128, 128, 3]), target shape torch.Size([10, 80])\n"
          ],
          "name": "stdout"
        }
      ]
    },
    {
      "cell_type": "code",
      "metadata": {
        "id": "aio9D0YJAxha",
        "colab_type": "code",
        "colab": {}
      },
      "source": [
        "#another version:\n",
        "\n",
        "from sklearn.model_selection import train_test_split\n",
        "import random\n",
        "import os\n",
        "\n",
        "import torch\n",
        "from torch.utils.data import Dataset, DataLoader\n",
        "\n",
        "import numpy as np\n",
        "\n",
        "def seed_everything(seed):\n",
        "    random.seed(seed)\n",
        "    os.environ['PYTHONHASHSEED'] = str(seed)\n",
        "    np.random.seed(seed)\n",
        "    torch.manual_seed(seed)\n",
        "    torch.cuda.manual_seed(seed)\n",
        "    torch.backends.cudnn.deterministic = True\n",
        "\n",
        "SEED = 520\n",
        "seed_everything(SEED)"
      ],
      "execution_count": 0,
      "outputs": []
    },
    {
      "cell_type": "code",
      "metadata": {
        "id": "5Kb7XCAP7_Lm",
        "colab_type": "code",
        "colab": {}
      },
      "source": [
        "\"\"\"\n",
        "Using kernel approach:\n",
        "data into pytorch tensor then applying cnn operation:\n",
        "https://discuss.pytorch.org/t/input-numpy-ndarray-instead-of-images-in-a-cnn/18797\n",
        "\"\"\"\n",
        "\n",
        "from PIL import Image\n",
        "\n",
        "\n",
        "\n",
        "class MyDataset(Dataset):\n",
        "  def __init__(self, data, target, transform=None):\n",
        "    self.data = data\n",
        "    self.target = target\n",
        "    self.transform = transform\n",
        "    \n",
        "  def __getitem__(self, index):\n",
        "    image = Image.fromarray(self.data[index], mode='RGB')\n",
        "    label = self.target[index]\n",
        "    label = torch.from_numpy(label).float()\n",
        "    if self.transform:\n",
        "      image = self.transform(image).div_(255)\n",
        "      \n",
        "    \n",
        "    return image, label\n",
        "  \n",
        "  def __len__(self):\n",
        "    return len(self.data)"
      ],
      "execution_count": 0,
      "outputs": []
    },
    {
      "cell_type": "code",
      "metadata": {
        "id": "GXFmqJrA8fei",
        "colab_type": "code",
        "colab": {}
      },
      "source": [
        "numpy_data = data\n",
        "numpy_target = labels\n",
        "batch_size = 128\n",
        "\n",
        "x_trn, x_val, y_trn, y_val = train_test_split(numpy_data, numpy_target, test_size=0.2, random_state=SEED)"
      ],
      "execution_count": 0,
      "outputs": []
    },
    {
      "cell_type": "code",
      "metadata": {
        "id": "evPvPTTE8hMx",
        "colab_type": "code",
        "colab": {}
      },
      "source": [
        "train_dataset = MyDataset(x_trn, y_trn)\n",
        "valid_dataset = MyDataset(x_val, y_val)"
      ],
      "execution_count": 0,
      "outputs": []
    },
    {
      "cell_type": "code",
      "metadata": {
        "id": "LLjvJ6ta8ix5",
        "colab_type": "code",
        "colab": {}
      },
      "source": [
        "train_loader = DataLoader(train_dataset, batch_size=batch_size, shuffle=True)\n",
        "valid_loader = DataLoader(valid_dataset, batch_size=batch_size, shuffle=False)"
      ],
      "execution_count": 0,
      "outputs": []
    },
    {
      "cell_type": "code",
      "metadata": {
        "id": "dbbcMEzGAzez",
        "colab_type": "code",
        "outputId": "75ed5956-03f3-4b13-8d36-868a7fc12ada",
        "colab": {
          "base_uri": "https://localhost:8080/",
          "height": 326
        }
      },
      "source": [
        "for batch_idx, (data, target) in enumerate(valid_loader):\n",
        "  print('Batch idx {}, data shape {}, target shape {}'.format(\n",
        "      batch_idx, data.shape, target.shape))"
      ],
      "execution_count": 0,
      "outputs": [
        {
          "output_type": "error",
          "ename": "TypeError",
          "evalue": "ignored",
          "traceback": [
            "\u001b[0;31m---------------------------------------------------------------------------\u001b[0m",
            "\u001b[0;31mTypeError\u001b[0m                                 Traceback (most recent call last)",
            "\u001b[0;32m<ipython-input-9-0caac85543ec>\u001b[0m in \u001b[0;36m<module>\u001b[0;34m()\u001b[0m\n\u001b[0;32m----> 1\u001b[0;31m \u001b[0;32mfor\u001b[0m \u001b[0mbatch_idx\u001b[0m\u001b[0;34m,\u001b[0m \u001b[0;34m(\u001b[0m\u001b[0mdata\u001b[0m\u001b[0;34m,\u001b[0m \u001b[0mtarget\u001b[0m\u001b[0;34m)\u001b[0m \u001b[0;32min\u001b[0m \u001b[0menumerate\u001b[0m\u001b[0;34m(\u001b[0m\u001b[0mvalid_loader\u001b[0m\u001b[0;34m)\u001b[0m\u001b[0;34m:\u001b[0m\u001b[0;34m\u001b[0m\u001b[0;34m\u001b[0m\u001b[0m\n\u001b[0m\u001b[1;32m      2\u001b[0m   print('Batch idx {}, data shape {}, target shape {}'.format(\n\u001b[1;32m      3\u001b[0m       batch_idx, data.shape, target.shape))\n",
            "\u001b[0;32m/usr/local/lib/python3.6/dist-packages/torch/utils/data/dataloader.py\u001b[0m in \u001b[0;36m__next__\u001b[0;34m(self)\u001b[0m\n\u001b[1;32m    558\u001b[0m         \u001b[0;32mif\u001b[0m \u001b[0mself\u001b[0m\u001b[0;34m.\u001b[0m\u001b[0mnum_workers\u001b[0m \u001b[0;34m==\u001b[0m \u001b[0;36m0\u001b[0m\u001b[0;34m:\u001b[0m  \u001b[0;31m# same-process loading\u001b[0m\u001b[0;34m\u001b[0m\u001b[0;34m\u001b[0m\u001b[0m\n\u001b[1;32m    559\u001b[0m             \u001b[0mindices\u001b[0m \u001b[0;34m=\u001b[0m \u001b[0mnext\u001b[0m\u001b[0;34m(\u001b[0m\u001b[0mself\u001b[0m\u001b[0;34m.\u001b[0m\u001b[0msample_iter\u001b[0m\u001b[0;34m)\u001b[0m  \u001b[0;31m# may raise StopIteration\u001b[0m\u001b[0;34m\u001b[0m\u001b[0;34m\u001b[0m\u001b[0m\n\u001b[0;32m--> 560\u001b[0;31m             \u001b[0mbatch\u001b[0m \u001b[0;34m=\u001b[0m \u001b[0mself\u001b[0m\u001b[0;34m.\u001b[0m\u001b[0mcollate_fn\u001b[0m\u001b[0;34m(\u001b[0m\u001b[0;34m[\u001b[0m\u001b[0mself\u001b[0m\u001b[0;34m.\u001b[0m\u001b[0mdataset\u001b[0m\u001b[0;34m[\u001b[0m\u001b[0mi\u001b[0m\u001b[0;34m]\u001b[0m \u001b[0;32mfor\u001b[0m \u001b[0mi\u001b[0m \u001b[0;32min\u001b[0m \u001b[0mindices\u001b[0m\u001b[0;34m]\u001b[0m\u001b[0;34m)\u001b[0m\u001b[0;34m\u001b[0m\u001b[0;34m\u001b[0m\u001b[0m\n\u001b[0m\u001b[1;32m    561\u001b[0m             \u001b[0;32mif\u001b[0m \u001b[0mself\u001b[0m\u001b[0;34m.\u001b[0m\u001b[0mpin_memory\u001b[0m\u001b[0;34m:\u001b[0m\u001b[0;34m\u001b[0m\u001b[0;34m\u001b[0m\u001b[0m\n\u001b[1;32m    562\u001b[0m                 \u001b[0mbatch\u001b[0m \u001b[0;34m=\u001b[0m \u001b[0m_utils\u001b[0m\u001b[0;34m.\u001b[0m\u001b[0mpin_memory\u001b[0m\u001b[0;34m.\u001b[0m\u001b[0mpin_memory_batch\u001b[0m\u001b[0;34m(\u001b[0m\u001b[0mbatch\u001b[0m\u001b[0;34m)\u001b[0m\u001b[0;34m\u001b[0m\u001b[0;34m\u001b[0m\u001b[0m\n",
            "\u001b[0;32m/usr/local/lib/python3.6/dist-packages/torch/utils/data/_utils/collate.py\u001b[0m in \u001b[0;36mdefault_collate\u001b[0;34m(batch)\u001b[0m\n\u001b[1;32m     66\u001b[0m     \u001b[0;32melif\u001b[0m \u001b[0misinstance\u001b[0m\u001b[0;34m(\u001b[0m\u001b[0mbatch\u001b[0m\u001b[0;34m[\u001b[0m\u001b[0;36m0\u001b[0m\u001b[0;34m]\u001b[0m\u001b[0;34m,\u001b[0m \u001b[0mcontainer_abcs\u001b[0m\u001b[0;34m.\u001b[0m\u001b[0mSequence\u001b[0m\u001b[0;34m)\u001b[0m\u001b[0;34m:\u001b[0m\u001b[0;34m\u001b[0m\u001b[0;34m\u001b[0m\u001b[0m\n\u001b[1;32m     67\u001b[0m         \u001b[0mtransposed\u001b[0m \u001b[0;34m=\u001b[0m \u001b[0mzip\u001b[0m\u001b[0;34m(\u001b[0m\u001b[0;34m*\u001b[0m\u001b[0mbatch\u001b[0m\u001b[0;34m)\u001b[0m\u001b[0;34m\u001b[0m\u001b[0;34m\u001b[0m\u001b[0m\n\u001b[0;32m---> 68\u001b[0;31m         \u001b[0;32mreturn\u001b[0m \u001b[0;34m[\u001b[0m\u001b[0mdefault_collate\u001b[0m\u001b[0;34m(\u001b[0m\u001b[0msamples\u001b[0m\u001b[0;34m)\u001b[0m \u001b[0;32mfor\u001b[0m \u001b[0msamples\u001b[0m \u001b[0;32min\u001b[0m \u001b[0mtransposed\u001b[0m\u001b[0;34m]\u001b[0m\u001b[0;34m\u001b[0m\u001b[0;34m\u001b[0m\u001b[0m\n\u001b[0m\u001b[1;32m     69\u001b[0m \u001b[0;34m\u001b[0m\u001b[0m\n\u001b[1;32m     70\u001b[0m     \u001b[0;32mraise\u001b[0m \u001b[0mTypeError\u001b[0m\u001b[0;34m(\u001b[0m\u001b[0;34m(\u001b[0m\u001b[0merror_msg_fmt\u001b[0m\u001b[0;34m.\u001b[0m\u001b[0mformat\u001b[0m\u001b[0;34m(\u001b[0m\u001b[0mtype\u001b[0m\u001b[0;34m(\u001b[0m\u001b[0mbatch\u001b[0m\u001b[0;34m[\u001b[0m\u001b[0;36m0\u001b[0m\u001b[0;34m]\u001b[0m\u001b[0;34m)\u001b[0m\u001b[0;34m)\u001b[0m\u001b[0;34m)\u001b[0m\u001b[0;34m)\u001b[0m\u001b[0;34m\u001b[0m\u001b[0;34m\u001b[0m\u001b[0m\n",
            "\u001b[0;32m/usr/local/lib/python3.6/dist-packages/torch/utils/data/_utils/collate.py\u001b[0m in \u001b[0;36m<listcomp>\u001b[0;34m(.0)\u001b[0m\n\u001b[1;32m     66\u001b[0m     \u001b[0;32melif\u001b[0m \u001b[0misinstance\u001b[0m\u001b[0;34m(\u001b[0m\u001b[0mbatch\u001b[0m\u001b[0;34m[\u001b[0m\u001b[0;36m0\u001b[0m\u001b[0;34m]\u001b[0m\u001b[0;34m,\u001b[0m \u001b[0mcontainer_abcs\u001b[0m\u001b[0;34m.\u001b[0m\u001b[0mSequence\u001b[0m\u001b[0;34m)\u001b[0m\u001b[0;34m:\u001b[0m\u001b[0;34m\u001b[0m\u001b[0;34m\u001b[0m\u001b[0m\n\u001b[1;32m     67\u001b[0m         \u001b[0mtransposed\u001b[0m \u001b[0;34m=\u001b[0m \u001b[0mzip\u001b[0m\u001b[0;34m(\u001b[0m\u001b[0;34m*\u001b[0m\u001b[0mbatch\u001b[0m\u001b[0;34m)\u001b[0m\u001b[0;34m\u001b[0m\u001b[0;34m\u001b[0m\u001b[0m\n\u001b[0;32m---> 68\u001b[0;31m         \u001b[0;32mreturn\u001b[0m \u001b[0;34m[\u001b[0m\u001b[0mdefault_collate\u001b[0m\u001b[0;34m(\u001b[0m\u001b[0msamples\u001b[0m\u001b[0;34m)\u001b[0m \u001b[0;32mfor\u001b[0m \u001b[0msamples\u001b[0m \u001b[0;32min\u001b[0m \u001b[0mtransposed\u001b[0m\u001b[0;34m]\u001b[0m\u001b[0;34m\u001b[0m\u001b[0;34m\u001b[0m\u001b[0m\n\u001b[0m\u001b[1;32m     69\u001b[0m \u001b[0;34m\u001b[0m\u001b[0m\n\u001b[1;32m     70\u001b[0m     \u001b[0;32mraise\u001b[0m \u001b[0mTypeError\u001b[0m\u001b[0;34m(\u001b[0m\u001b[0;34m(\u001b[0m\u001b[0merror_msg_fmt\u001b[0m\u001b[0;34m.\u001b[0m\u001b[0mformat\u001b[0m\u001b[0;34m(\u001b[0m\u001b[0mtype\u001b[0m\u001b[0;34m(\u001b[0m\u001b[0mbatch\u001b[0m\u001b[0;34m[\u001b[0m\u001b[0;36m0\u001b[0m\u001b[0;34m]\u001b[0m\u001b[0;34m)\u001b[0m\u001b[0;34m)\u001b[0m\u001b[0;34m)\u001b[0m\u001b[0;34m)\u001b[0m\u001b[0;34m\u001b[0m\u001b[0;34m\u001b[0m\u001b[0m\n",
            "\u001b[0;32m/usr/local/lib/python3.6/dist-packages/torch/utils/data/_utils/collate.py\u001b[0m in \u001b[0;36mdefault_collate\u001b[0;34m(batch)\u001b[0m\n\u001b[1;32m     68\u001b[0m         \u001b[0;32mreturn\u001b[0m \u001b[0;34m[\u001b[0m\u001b[0mdefault_collate\u001b[0m\u001b[0;34m(\u001b[0m\u001b[0msamples\u001b[0m\u001b[0;34m)\u001b[0m \u001b[0;32mfor\u001b[0m \u001b[0msamples\u001b[0m \u001b[0;32min\u001b[0m \u001b[0mtransposed\u001b[0m\u001b[0;34m]\u001b[0m\u001b[0;34m\u001b[0m\u001b[0;34m\u001b[0m\u001b[0m\n\u001b[1;32m     69\u001b[0m \u001b[0;34m\u001b[0m\u001b[0m\n\u001b[0;32m---> 70\u001b[0;31m     \u001b[0;32mraise\u001b[0m \u001b[0mTypeError\u001b[0m\u001b[0;34m(\u001b[0m\u001b[0;34m(\u001b[0m\u001b[0merror_msg_fmt\u001b[0m\u001b[0;34m.\u001b[0m\u001b[0mformat\u001b[0m\u001b[0;34m(\u001b[0m\u001b[0mtype\u001b[0m\u001b[0;34m(\u001b[0m\u001b[0mbatch\u001b[0m\u001b[0;34m[\u001b[0m\u001b[0;36m0\u001b[0m\u001b[0;34m]\u001b[0m\u001b[0;34m)\u001b[0m\u001b[0;34m)\u001b[0m\u001b[0;34m)\u001b[0m\u001b[0;34m)\u001b[0m\u001b[0;34m\u001b[0m\u001b[0;34m\u001b[0m\u001b[0m\n\u001b[0m",
            "\u001b[0;31mTypeError\u001b[0m: batch must contain tensors, numbers, dicts or lists; found <class 'PIL.Image.Image'>"
          ]
        }
      ]
    },
    {
      "cell_type": "code",
      "metadata": {
        "id": "iD7R4ivDw3cP",
        "colab_type": "code",
        "outputId": "a878129f-27f1-4bb5-a6a5-449448c37566",
        "colab": {
          "base_uri": "https://localhost:8080/",
          "height": 136
        }
      },
      "source": [
        "for t, (x, y) in enumerate(train_loader):\n",
        "  print(t, x.shape, y.shape)\n",
        "  if t>5: break"
      ],
      "execution_count": 0,
      "outputs": [
        {
          "output_type": "stream",
          "text": [
            "0 torch.Size([128, 128, 128, 3]) torch.Size([128, 80])\n",
            "1 torch.Size([128, 128, 128, 3]) torch.Size([128, 80])\n",
            "2 torch.Size([128, 128, 128, 3]) torch.Size([128, 80])\n",
            "3 torch.Size([128, 128, 128, 3]) torch.Size([128, 80])\n",
            "4 torch.Size([128, 128, 128, 3]) torch.Size([128, 80])\n",
            "5 torch.Size([128, 128, 128, 3]) torch.Size([128, 80])\n",
            "6 torch.Size([128, 128, 128, 3]) torch.Size([128, 80])\n"
          ],
          "name": "stdout"
        }
      ]
    },
    {
      "cell_type": "code",
      "metadata": {
        "id": "lFVNRhFdCryh",
        "colab_type": "code",
        "colab": {}
      },
      "source": [
        "\"\"\"\n",
        "from the standford pytorch notebook:\n",
        "\"\"\"\n",
        "\n",
        "import timeit\n",
        "import numpy as np\n",
        "from tqdm import tqdm\n",
        "import torch\n",
        "import torch.nn as nn\n",
        "import torch.optim as optim\n",
        "from torch.utils.data import DataLoader\n",
        "from torch.utils.data import sampler\n",
        "\n",
        "import torchvision.datasets as dset\n",
        "import torchvision.transforms as T\n",
        "\n",
        "dtype = torch.FloatTensor # the CPU datatype\n",
        "\n",
        "# Constant to control how frequently we print train loss\n",
        "print_every = 100\n",
        "\n",
        "# This is a little utility that we'll use to reset the model\n",
        "# if we want to re-initialize all our parameters\n",
        "def reset(m):\n",
        "    if hasattr(m, 'reset_parameters'):\n",
        "        m.reset_parameters()"
      ],
      "execution_count": 0,
      "outputs": []
    },
    {
      "cell_type": "code",
      "metadata": {
        "id": "KbbPNW0PC51q",
        "colab_type": "code",
        "colab": {}
      },
      "source": [
        "class Flatten(nn.Module):\n",
        "    def forward(self, x):\n",
        "        N, C, H, W = x.size() # read in N, C, H, W\n",
        "        return x.view(N, -1)  # \"flatten\" the C * H * W values into a single vector per image"
      ],
      "execution_count": 0,
      "outputs": []
    },
    {
      "cell_type": "code",
      "metadata": {
        "id": "HiSES-bOMbyD",
        "colab_type": "code",
        "colab": {}
      },
      "source": [
        "test_model = nn.Sequential(\n",
        "              nn.Conv2d(in_channels, out_channels, 3, 1, 1),\n",
        "              nn.BatchNorm2d(out_channels),\n",
        "              nn.ReLU(),\n",
        ")"
      ],
      "execution_count": 0,
      "outputs": []
    },
    {
      "cell_type": "code",
      "metadata": {
        "id": "3FXxSiOMC7Wa",
        "colab_type": "code",
        "colab": {}
      },
      "source": [
        "# Here's where we define the architecture of the model... \n",
        "simple_model = nn.Sequential(\n",
        "                nn.Conv2d(3, 32, kernel_size=7, stride=2),\n",
        "                nn.ReLU(inplace=True),\n",
        "                Flatten(), # see above for explanation\n",
        "                nn.Linear(5408, 80), # affine layer\n",
        "              )\n",
        "\n",
        "# Set the type of all data in this model to be FloatTensor \n",
        "simple_model.type(dtype)\n",
        "\n",
        "loss_fn = nn.CrossEntropyLoss().type(dtype)\n",
        "optimizer = optim.Adam(simple_model.parameters(), lr=1e-2) # lr sets the learning rate of the optimizer"
      ],
      "execution_count": 0,
      "outputs": []
    },
    {
      "cell_type": "code",
      "metadata": {
        "id": "zO4jOIL6C9OL",
        "colab_type": "code",
        "outputId": "e44d0bad-5ae1-4d44-a6fd-e6f0539775ec",
        "colab": {
          "base_uri": "https://localhost:8080/",
          "height": 119
        }
      },
      "source": [
        "simple_model"
      ],
      "execution_count": 0,
      "outputs": [
        {
          "output_type": "execute_result",
          "data": {
            "text/plain": [
              "Sequential(\n",
              "  (0): Conv2d(3, 32, kernel_size=(7, 7), stride=(2, 2))\n",
              "  (1): ReLU(inplace)\n",
              "  (2): Flatten()\n",
              "  (3): Linear(in_features=5408, out_features=80, bias=True)\n",
              ")"
            ]
          },
          "metadata": {
            "tags": []
          },
          "execution_count": 19
        }
      ]
    },
    {
      "cell_type": "code",
      "metadata": {
        "id": "21uRUa2FDA5p",
        "colab_type": "code",
        "colab": {}
      },
      "source": [
        "fixed_model_base = nn.Sequential( \n",
        "    nn.Conv2d(in_channels=3, out_channels=32, kernel_size=7, stride=1),\n",
        "    nn.ReLU(inplace=True),\n",
        "    nn.BatchNorm2d(num_features=32), # 32 channels, see docs for nn.BatchNorm2d\n",
        "    nn.MaxPool2d(kernel_size=2, stride=2),\n",
        "    Flatten(), # see above for explanation\n",
        "    nn.Linear(in_features=5408, out_features=1024), # affine layer\n",
        "    nn.ReLU(inplace=True),\n",
        "    nn.Linear(in_features=1024, out_features=80) # affine layer\n",
        "            )\n",
        "\n",
        "fixed_model = fixed_model_base.type(dtype)"
      ],
      "execution_count": 0,
      "outputs": []
    },
    {
      "cell_type": "code",
      "metadata": {
        "id": "cOkeiUIyDEAm",
        "colab_type": "code",
        "outputId": "e6a6ad19-e233-494b-957b-ddf976470638",
        "colab": {
          "base_uri": "https://localhost:8080/",
          "height": 394
        }
      },
      "source": [
        "## Now we're going to feed a random batch into the model you defined and make sure the output is the right size\n",
        "x = torch.randn(128, 3, 128, 128).type(dtype)\n",
        "ans = fixed_model(x)        # Feed it through the model! \n",
        "\n",
        "# Check to make sure what comes out of your model\n",
        "# is the right dimensionality... this should be True\n",
        "# if you've done everything correctly\n",
        "np.array_equal(np.array(ans.size()), np.array([64, 80]))"
      ],
      "execution_count": 0,
      "outputs": [
        {
          "output_type": "error",
          "ename": "RuntimeError",
          "evalue": "ignored",
          "traceback": [
            "\u001b[0;31m---------------------------------------------------------------------------\u001b[0m",
            "\u001b[0;31mRuntimeError\u001b[0m                              Traceback (most recent call last)",
            "\u001b[0;32m<ipython-input-23-1091b845636f>\u001b[0m in \u001b[0;36m<module>\u001b[0;34m()\u001b[0m\n\u001b[1;32m      1\u001b[0m \u001b[0mx\u001b[0m \u001b[0;34m=\u001b[0m \u001b[0mtorch\u001b[0m\u001b[0;34m.\u001b[0m\u001b[0mrandn\u001b[0m\u001b[0;34m(\u001b[0m\u001b[0;36m128\u001b[0m\u001b[0;34m,\u001b[0m \u001b[0;36m3\u001b[0m\u001b[0;34m,\u001b[0m \u001b[0;36m128\u001b[0m\u001b[0;34m,\u001b[0m \u001b[0;36m128\u001b[0m\u001b[0;34m)\u001b[0m\u001b[0;34m.\u001b[0m\u001b[0mtype\u001b[0m\u001b[0;34m(\u001b[0m\u001b[0mdtype\u001b[0m\u001b[0;34m)\u001b[0m\u001b[0;34m\u001b[0m\u001b[0;34m\u001b[0m\u001b[0m\n\u001b[0;32m----> 2\u001b[0;31m \u001b[0mans\u001b[0m \u001b[0;34m=\u001b[0m \u001b[0mfixed_model\u001b[0m\u001b[0;34m(\u001b[0m\u001b[0mx\u001b[0m\u001b[0;34m)\u001b[0m        \u001b[0;31m# Feed it through the model!\u001b[0m\u001b[0;34m\u001b[0m\u001b[0;34m\u001b[0m\u001b[0m\n\u001b[0m\u001b[1;32m      3\u001b[0m \u001b[0;34m\u001b[0m\u001b[0m\n\u001b[1;32m      4\u001b[0m \u001b[0;31m# Check to make sure what comes out of your model\u001b[0m\u001b[0;34m\u001b[0m\u001b[0;34m\u001b[0m\u001b[0;34m\u001b[0m\u001b[0m\n\u001b[1;32m      5\u001b[0m \u001b[0;31m# is the right dimensionality... this should be True\u001b[0m\u001b[0;34m\u001b[0m\u001b[0;34m\u001b[0m\u001b[0;34m\u001b[0m\u001b[0m\n",
            "\u001b[0;32m/usr/local/lib/python3.6/dist-packages/torch/nn/modules/module.py\u001b[0m in \u001b[0;36m__call__\u001b[0;34m(self, *input, **kwargs)\u001b[0m\n\u001b[1;32m    491\u001b[0m             \u001b[0mresult\u001b[0m \u001b[0;34m=\u001b[0m \u001b[0mself\u001b[0m\u001b[0;34m.\u001b[0m\u001b[0m_slow_forward\u001b[0m\u001b[0;34m(\u001b[0m\u001b[0;34m*\u001b[0m\u001b[0minput\u001b[0m\u001b[0;34m,\u001b[0m \u001b[0;34m**\u001b[0m\u001b[0mkwargs\u001b[0m\u001b[0;34m)\u001b[0m\u001b[0;34m\u001b[0m\u001b[0;34m\u001b[0m\u001b[0m\n\u001b[1;32m    492\u001b[0m         \u001b[0;32melse\u001b[0m\u001b[0;34m:\u001b[0m\u001b[0;34m\u001b[0m\u001b[0;34m\u001b[0m\u001b[0m\n\u001b[0;32m--> 493\u001b[0;31m             \u001b[0mresult\u001b[0m \u001b[0;34m=\u001b[0m \u001b[0mself\u001b[0m\u001b[0;34m.\u001b[0m\u001b[0mforward\u001b[0m\u001b[0;34m(\u001b[0m\u001b[0;34m*\u001b[0m\u001b[0minput\u001b[0m\u001b[0;34m,\u001b[0m \u001b[0;34m**\u001b[0m\u001b[0mkwargs\u001b[0m\u001b[0;34m)\u001b[0m\u001b[0;34m\u001b[0m\u001b[0;34m\u001b[0m\u001b[0m\n\u001b[0m\u001b[1;32m    494\u001b[0m         \u001b[0;32mfor\u001b[0m \u001b[0mhook\u001b[0m \u001b[0;32min\u001b[0m \u001b[0mself\u001b[0m\u001b[0;34m.\u001b[0m\u001b[0m_forward_hooks\u001b[0m\u001b[0;34m.\u001b[0m\u001b[0mvalues\u001b[0m\u001b[0;34m(\u001b[0m\u001b[0;34m)\u001b[0m\u001b[0;34m:\u001b[0m\u001b[0;34m\u001b[0m\u001b[0;34m\u001b[0m\u001b[0m\n\u001b[1;32m    495\u001b[0m             \u001b[0mhook_result\u001b[0m \u001b[0;34m=\u001b[0m \u001b[0mhook\u001b[0m\u001b[0;34m(\u001b[0m\u001b[0mself\u001b[0m\u001b[0;34m,\u001b[0m \u001b[0minput\u001b[0m\u001b[0;34m,\u001b[0m \u001b[0mresult\u001b[0m\u001b[0;34m)\u001b[0m\u001b[0;34m\u001b[0m\u001b[0;34m\u001b[0m\u001b[0m\n",
            "\u001b[0;32m/usr/local/lib/python3.6/dist-packages/torch/nn/modules/container.py\u001b[0m in \u001b[0;36mforward\u001b[0;34m(self, input)\u001b[0m\n\u001b[1;32m     90\u001b[0m     \u001b[0;32mdef\u001b[0m \u001b[0mforward\u001b[0m\u001b[0;34m(\u001b[0m\u001b[0mself\u001b[0m\u001b[0;34m,\u001b[0m \u001b[0minput\u001b[0m\u001b[0;34m)\u001b[0m\u001b[0;34m:\u001b[0m\u001b[0;34m\u001b[0m\u001b[0;34m\u001b[0m\u001b[0m\n\u001b[1;32m     91\u001b[0m         \u001b[0;32mfor\u001b[0m \u001b[0mmodule\u001b[0m \u001b[0;32min\u001b[0m \u001b[0mself\u001b[0m\u001b[0;34m.\u001b[0m\u001b[0m_modules\u001b[0m\u001b[0;34m.\u001b[0m\u001b[0mvalues\u001b[0m\u001b[0;34m(\u001b[0m\u001b[0;34m)\u001b[0m\u001b[0;34m:\u001b[0m\u001b[0;34m\u001b[0m\u001b[0;34m\u001b[0m\u001b[0m\n\u001b[0;32m---> 92\u001b[0;31m             \u001b[0minput\u001b[0m \u001b[0;34m=\u001b[0m \u001b[0mmodule\u001b[0m\u001b[0;34m(\u001b[0m\u001b[0minput\u001b[0m\u001b[0;34m)\u001b[0m\u001b[0;34m\u001b[0m\u001b[0;34m\u001b[0m\u001b[0m\n\u001b[0m\u001b[1;32m     93\u001b[0m         \u001b[0;32mreturn\u001b[0m \u001b[0minput\u001b[0m\u001b[0;34m\u001b[0m\u001b[0;34m\u001b[0m\u001b[0m\n\u001b[1;32m     94\u001b[0m \u001b[0;34m\u001b[0m\u001b[0m\n",
            "\u001b[0;32m/usr/local/lib/python3.6/dist-packages/torch/nn/modules/module.py\u001b[0m in \u001b[0;36m__call__\u001b[0;34m(self, *input, **kwargs)\u001b[0m\n\u001b[1;32m    491\u001b[0m             \u001b[0mresult\u001b[0m \u001b[0;34m=\u001b[0m \u001b[0mself\u001b[0m\u001b[0;34m.\u001b[0m\u001b[0m_slow_forward\u001b[0m\u001b[0;34m(\u001b[0m\u001b[0;34m*\u001b[0m\u001b[0minput\u001b[0m\u001b[0;34m,\u001b[0m \u001b[0;34m**\u001b[0m\u001b[0mkwargs\u001b[0m\u001b[0;34m)\u001b[0m\u001b[0;34m\u001b[0m\u001b[0;34m\u001b[0m\u001b[0m\n\u001b[1;32m    492\u001b[0m         \u001b[0;32melse\u001b[0m\u001b[0;34m:\u001b[0m\u001b[0;34m\u001b[0m\u001b[0;34m\u001b[0m\u001b[0m\n\u001b[0;32m--> 493\u001b[0;31m             \u001b[0mresult\u001b[0m \u001b[0;34m=\u001b[0m \u001b[0mself\u001b[0m\u001b[0;34m.\u001b[0m\u001b[0mforward\u001b[0m\u001b[0;34m(\u001b[0m\u001b[0;34m*\u001b[0m\u001b[0minput\u001b[0m\u001b[0;34m,\u001b[0m \u001b[0;34m**\u001b[0m\u001b[0mkwargs\u001b[0m\u001b[0;34m)\u001b[0m\u001b[0;34m\u001b[0m\u001b[0;34m\u001b[0m\u001b[0m\n\u001b[0m\u001b[1;32m    494\u001b[0m         \u001b[0;32mfor\u001b[0m \u001b[0mhook\u001b[0m \u001b[0;32min\u001b[0m \u001b[0mself\u001b[0m\u001b[0;34m.\u001b[0m\u001b[0m_forward_hooks\u001b[0m\u001b[0;34m.\u001b[0m\u001b[0mvalues\u001b[0m\u001b[0;34m(\u001b[0m\u001b[0;34m)\u001b[0m\u001b[0;34m:\u001b[0m\u001b[0;34m\u001b[0m\u001b[0;34m\u001b[0m\u001b[0m\n\u001b[1;32m    495\u001b[0m             \u001b[0mhook_result\u001b[0m \u001b[0;34m=\u001b[0m \u001b[0mhook\u001b[0m\u001b[0;34m(\u001b[0m\u001b[0mself\u001b[0m\u001b[0;34m,\u001b[0m \u001b[0minput\u001b[0m\u001b[0;34m,\u001b[0m \u001b[0mresult\u001b[0m\u001b[0;34m)\u001b[0m\u001b[0;34m\u001b[0m\u001b[0;34m\u001b[0m\u001b[0m\n",
            "\u001b[0;32m/usr/local/lib/python3.6/dist-packages/torch/nn/modules/linear.py\u001b[0m in \u001b[0;36mforward\u001b[0;34m(self, input)\u001b[0m\n\u001b[1;32m     90\u001b[0m     \u001b[0;34m@\u001b[0m\u001b[0mweak_script_method\u001b[0m\u001b[0;34m\u001b[0m\u001b[0;34m\u001b[0m\u001b[0m\n\u001b[1;32m     91\u001b[0m     \u001b[0;32mdef\u001b[0m \u001b[0mforward\u001b[0m\u001b[0;34m(\u001b[0m\u001b[0mself\u001b[0m\u001b[0;34m,\u001b[0m \u001b[0minput\u001b[0m\u001b[0;34m)\u001b[0m\u001b[0;34m:\u001b[0m\u001b[0;34m\u001b[0m\u001b[0;34m\u001b[0m\u001b[0m\n\u001b[0;32m---> 92\u001b[0;31m         \u001b[0;32mreturn\u001b[0m \u001b[0mF\u001b[0m\u001b[0;34m.\u001b[0m\u001b[0mlinear\u001b[0m\u001b[0;34m(\u001b[0m\u001b[0minput\u001b[0m\u001b[0;34m,\u001b[0m \u001b[0mself\u001b[0m\u001b[0;34m.\u001b[0m\u001b[0mweight\u001b[0m\u001b[0;34m,\u001b[0m \u001b[0mself\u001b[0m\u001b[0;34m.\u001b[0m\u001b[0mbias\u001b[0m\u001b[0;34m)\u001b[0m\u001b[0;34m\u001b[0m\u001b[0;34m\u001b[0m\u001b[0m\n\u001b[0m\u001b[1;32m     93\u001b[0m \u001b[0;34m\u001b[0m\u001b[0m\n\u001b[1;32m     94\u001b[0m     \u001b[0;32mdef\u001b[0m \u001b[0mextra_repr\u001b[0m\u001b[0;34m(\u001b[0m\u001b[0mself\u001b[0m\u001b[0;34m)\u001b[0m\u001b[0;34m:\u001b[0m\u001b[0;34m\u001b[0m\u001b[0;34m\u001b[0m\u001b[0m\n",
            "\u001b[0;32m/usr/local/lib/python3.6/dist-packages/torch/nn/functional.py\u001b[0m in \u001b[0;36mlinear\u001b[0;34m(input, weight, bias)\u001b[0m\n\u001b[1;32m   1404\u001b[0m     \u001b[0;32mif\u001b[0m \u001b[0minput\u001b[0m\u001b[0;34m.\u001b[0m\u001b[0mdim\u001b[0m\u001b[0;34m(\u001b[0m\u001b[0;34m)\u001b[0m \u001b[0;34m==\u001b[0m \u001b[0;36m2\u001b[0m \u001b[0;32mand\u001b[0m \u001b[0mbias\u001b[0m \u001b[0;32mis\u001b[0m \u001b[0;32mnot\u001b[0m \u001b[0;32mNone\u001b[0m\u001b[0;34m:\u001b[0m\u001b[0;34m\u001b[0m\u001b[0;34m\u001b[0m\u001b[0m\n\u001b[1;32m   1405\u001b[0m         \u001b[0;31m# fused op is marginally faster\u001b[0m\u001b[0;34m\u001b[0m\u001b[0;34m\u001b[0m\u001b[0;34m\u001b[0m\u001b[0m\n\u001b[0;32m-> 1406\u001b[0;31m         \u001b[0mret\u001b[0m \u001b[0;34m=\u001b[0m \u001b[0mtorch\u001b[0m\u001b[0;34m.\u001b[0m\u001b[0maddmm\u001b[0m\u001b[0;34m(\u001b[0m\u001b[0mbias\u001b[0m\u001b[0;34m,\u001b[0m \u001b[0minput\u001b[0m\u001b[0;34m,\u001b[0m \u001b[0mweight\u001b[0m\u001b[0;34m.\u001b[0m\u001b[0mt\u001b[0m\u001b[0;34m(\u001b[0m\u001b[0;34m)\u001b[0m\u001b[0;34m)\u001b[0m\u001b[0;34m\u001b[0m\u001b[0;34m\u001b[0m\u001b[0m\n\u001b[0m\u001b[1;32m   1407\u001b[0m     \u001b[0;32melse\u001b[0m\u001b[0;34m:\u001b[0m\u001b[0;34m\u001b[0m\u001b[0;34m\u001b[0m\u001b[0m\n\u001b[1;32m   1408\u001b[0m         \u001b[0moutput\u001b[0m \u001b[0;34m=\u001b[0m \u001b[0minput\u001b[0m\u001b[0;34m.\u001b[0m\u001b[0mmatmul\u001b[0m\u001b[0;34m(\u001b[0m\u001b[0mweight\u001b[0m\u001b[0;34m.\u001b[0m\u001b[0mt\u001b[0m\u001b[0;34m(\u001b[0m\u001b[0;34m)\u001b[0m\u001b[0;34m)\u001b[0m\u001b[0;34m\u001b[0m\u001b[0;34m\u001b[0m\u001b[0m\n",
            "\u001b[0;31mRuntimeError\u001b[0m: size mismatch, m1: [128 x 119072], m2: [5408 x 1024] at /pytorch/aten/src/TH/generic/THTensorMath.cpp:961"
          ]
        }
      ]
    },
    {
      "cell_type": "code",
      "metadata": {
        "id": "h_hoge5lDPyk",
        "colab_type": "code",
        "colab": {}
      },
      "source": [
        ""
      ],
      "execution_count": 0,
      "outputs": []
    }
  ]
}